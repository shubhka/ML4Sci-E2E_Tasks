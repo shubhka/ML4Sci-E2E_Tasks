{
 "cells": [
  {
   "cell_type": "markdown",
   "id": "8e995078",
   "metadata": {
    "papermill": {
     "duration": 0.004695,
     "end_time": "2023-03-19T14:13:53.158190",
     "exception": false,
     "start_time": "2023-03-19T14:13:53.153495",
     "status": "completed"
    },
    "tags": []
   },
   "source": [
    "# Electron / Photon Classification"
   ]
  },
  {
   "cell_type": "code",
   "execution_count": 1,
   "id": "6e1496c2",
   "metadata": {
    "_cell_guid": "b1076dfc-b9ad-4769-8c92-a6c4dae69d19",
    "_uuid": "8f2839f25d086af736a60e9eeb907d3b93b6e0e5",
    "execution": {
     "iopub.execute_input": "2023-03-19T14:13:53.168052Z",
     "iopub.status.busy": "2023-03-19T14:13:53.167535Z",
     "iopub.status.idle": "2023-03-19T14:13:56.586842Z",
     "shell.execute_reply": "2023-03-19T14:13:56.585501Z"
    },
    "papermill": {
     "duration": 3.42771,
     "end_time": "2023-03-19T14:13:56.589798",
     "exception": false,
     "start_time": "2023-03-19T14:13:53.162088",
     "status": "completed"
    },
    "tags": []
   },
   "outputs": [],
   "source": [
    "# Importing Necessary Libraries\n",
    "\n",
    "import numpy as np\n",
    "import matplotlib.pyplot as plt\n",
    "\n",
    "import torch\n",
    "import torch.nn as nn\n",
    "import torch.optim as optim\n",
    "\n",
    "from torchvision.transforms import CenterCrop\n",
    "from torch.utils.data import Dataset, DataLoader, random_split\n",
    "\n",
    "import h5py\n",
    "\n",
    "from sklearn.metrics import roc_auc_score"
   ]
  },
  {
   "cell_type": "code",
   "execution_count": 2,
   "id": "e297f2ed",
   "metadata": {
    "execution": {
     "iopub.execute_input": "2023-03-19T14:13:56.600512Z",
     "iopub.status.busy": "2023-03-19T14:13:56.600045Z",
     "iopub.status.idle": "2023-03-19T14:13:56.605712Z",
     "shell.execute_reply": "2023-03-19T14:13:56.604702Z"
    },
    "papermill": {
     "duration": 0.013951,
     "end_time": "2023-03-19T14:13:56.608964",
     "exception": false,
     "start_time": "2023-03-19T14:13:56.595013",
     "status": "completed"
    },
    "tags": []
   },
   "outputs": [
    {
     "name": "stdout",
     "output_type": "stream",
     "text": [
      "1.13.0\n"
     ]
    }
   ],
   "source": [
    "print(torch.__version__)"
   ]
  },
  {
   "cell_type": "code",
   "execution_count": 3,
   "id": "60bedd04",
   "metadata": {
    "execution": {
     "iopub.execute_input": "2023-03-19T14:13:56.618251Z",
     "iopub.status.busy": "2023-03-19T14:13:56.617982Z",
     "iopub.status.idle": "2023-03-19T14:13:56.623143Z",
     "shell.execute_reply": "2023-03-19T14:13:56.622119Z"
    },
    "papermill": {
     "duration": 0.011924,
     "end_time": "2023-03-19T14:13:56.625424",
     "exception": false,
     "start_time": "2023-03-19T14:13:56.613500",
     "status": "completed"
    },
    "tags": []
   },
   "outputs": [
    {
     "name": "stdout",
     "output_type": "stream",
     "text": [
      "11.3\n"
     ]
    }
   ],
   "source": [
    "print(torch.version.cuda)"
   ]
  },
  {
   "cell_type": "code",
   "execution_count": 4,
   "id": "5ee3997e",
   "metadata": {
    "execution": {
     "iopub.execute_input": "2023-03-19T14:13:56.634785Z",
     "iopub.status.busy": "2023-03-19T14:13:56.633259Z",
     "iopub.status.idle": "2023-03-19T14:13:56.642790Z",
     "shell.execute_reply": "2023-03-19T14:13:56.641840Z"
    },
    "papermill": {
     "duration": 0.016052,
     "end_time": "2023-03-19T14:13:56.644961",
     "exception": false,
     "start_time": "2023-03-19T14:13:56.628909",
     "status": "completed"
    },
    "tags": []
   },
   "outputs": [],
   "source": [
    "# Setting Seed\n",
    "torch.manual_seed(47)\n",
    "torch.cuda.manual_seed_all(47)\n",
    "torch.cuda.manual_seed(47)\n",
    "torch.backends.cudnn.benchmark = False\n",
    "torch.backends.cudnn.deterministic = True"
   ]
  },
  {
   "cell_type": "code",
   "execution_count": 5,
   "id": "87b61b9a",
   "metadata": {
    "execution": {
     "iopub.execute_input": "2023-03-19T14:13:56.653101Z",
     "iopub.status.busy": "2023-03-19T14:13:56.652831Z",
     "iopub.status.idle": "2023-03-19T14:13:56.712965Z",
     "shell.execute_reply": "2023-03-19T14:13:56.712034Z"
    },
    "papermill": {
     "duration": 0.066422,
     "end_time": "2023-03-19T14:13:56.714923",
     "exception": false,
     "start_time": "2023-03-19T14:13:56.648501",
     "status": "completed"
    },
    "tags": []
   },
   "outputs": [
    {
     "data": {
      "text/plain": [
       "'cuda'"
      ]
     },
     "execution_count": 5,
     "metadata": {},
     "output_type": "execute_result"
    }
   ],
   "source": [
    "# Setting device to GPU\n",
    "device = \"cuda\" if torch.cuda.is_available() else \"cpu\"\n",
    "device"
   ]
  },
  {
   "cell_type": "code",
   "execution_count": 6,
   "id": "6287807d",
   "metadata": {
    "execution": {
     "iopub.execute_input": "2023-03-19T14:13:56.724070Z",
     "iopub.status.busy": "2023-03-19T14:13:56.723503Z",
     "iopub.status.idle": "2023-03-19T14:13:56.732469Z",
     "shell.execute_reply": "2023-03-19T14:13:56.731675Z"
    },
    "papermill": {
     "duration": 0.015963,
     "end_time": "2023-03-19T14:13:56.734706",
     "exception": false,
     "start_time": "2023-03-19T14:13:56.718743",
     "status": "completed"
    },
    "tags": []
   },
   "outputs": [],
   "source": [
    "# Defining the Dataset class\n",
    "\n",
    "class HDF5Dataset(Dataset):\n",
    "    def __init__(self, file_e, file_p):\n",
    "        self.file_e = file_e\n",
    "        self.file_p = file_p\n",
    "        self.data_key = 'X'\n",
    "        self.file_electron = h5py.File(self.file_e, 'r')\n",
    "        self.data_electron = self.file_electron[self.data_key]\n",
    "        self.file_photon = h5py.File(self.file_p, 'r')\n",
    "        self.data_photon = self.file_photon[self.data_key]\n",
    "        self.data = np.concatenate((self.data_electron, self.data_photon), axis=0)\n",
    "        self.labels = np.concatenate((np.ones(self.data_electron.shape[0]), np.zeros(self.data_photon.shape[0])), axis=0)\n",
    "        #print(np.sum(self.labels))\n",
    "        self.labels = np.expand_dims(self.labels, axis=1)\n",
    "        #mean = np.mean(self.data)\n",
    "        #print(mean)\n",
    "        #std = np.std(self.data)\n",
    "        #print(std)\n",
    "        #self.data = (self.data - mean)/std\n",
    "\n",
    "\n",
    "    def __len__(self):\n",
    "        return self.data.shape[0]\n",
    "\n",
    "    def __getitem__(self, idx):\n",
    "        return torch.from_numpy(self.data[idx]), torch.from_numpy(self.labels[idx])\n",
    "\n",
    "    def close(self):\n",
    "        self.file_electrons.close()\n",
    "        self.file_photon.close()"
   ]
  },
  {
   "cell_type": "code",
   "execution_count": 7,
   "id": "66a696db",
   "metadata": {
    "execution": {
     "iopub.execute_input": "2023-03-19T14:13:56.743161Z",
     "iopub.status.busy": "2023-03-19T14:13:56.742884Z",
     "iopub.status.idle": "2023-03-19T14:14:12.708590Z",
     "shell.execute_reply": "2023-03-19T14:14:12.707400Z"
    },
    "papermill": {
     "duration": 15.972482,
     "end_time": "2023-03-19T14:14:12.710779",
     "exception": false,
     "start_time": "2023-03-19T14:13:56.738297",
     "status": "completed"
    },
    "tags": []
   },
   "outputs": [
    {
     "name": "stderr",
     "output_type": "stream",
     "text": [
      "/opt/conda/lib/python3.7/site-packages/torch/utils/data/dataloader.py:557: UserWarning: This DataLoader will create 4 worker processes in total. Our suggested max number of worker in current system is 2, which is smaller than what this DataLoader is going to create. Please be aware that excessive worker creation might get DataLoader running slow or even freeze, lower the worker number to avoid potential slowness/freeze if necessary.\n",
      "  cpuset_checked))\n"
     ]
    }
   ],
   "source": [
    "# Making training, validation and test datasets\n",
    "# train data : 80%, validation data : 10%, testing data : 10%\n",
    "\n",
    "file_e = '/kaggle/input/electrons-and-photons/SingleElectronPt50_IMGCROPS_n249k_RHv1.hdf5'\n",
    "file_p = '/kaggle/input/electrons-and-photons/SinglePhotonPt50_IMGCROPS_n249k_RHv1.hdf5'\n",
    "dataset = HDF5Dataset(file_e, file_p)\n",
    "\n",
    "train_size = np.int32(0.8 * len(dataset))\n",
    "test_size = np.int32(0.1 * len(dataset))\n",
    "val_size = len(dataset) - train_size - test_size\n",
    "\n",
    "train_data, test_data, val_data = random_split(dataset, [train_size, test_size, val_size])\n",
    "\n",
    "train_loader = DataLoader(train_data, batch_size=200, shuffle=True, num_workers=4)\n",
    "test_loader = DataLoader(test_data, batch_size=200, shuffle=True, num_workers=4)\n",
    "val_loader = DataLoader(val_data, batch_size=200, shuffle=True, num_workers=4)"
   ]
  },
  {
   "cell_type": "code",
   "execution_count": 8,
   "id": "262028dc",
   "metadata": {
    "execution": {
     "iopub.execute_input": "2023-03-19T14:14:12.720095Z",
     "iopub.status.busy": "2023-03-19T14:14:12.719802Z",
     "iopub.status.idle": "2023-03-19T14:14:12.737785Z",
     "shell.execute_reply": "2023-03-19T14:14:12.736664Z"
    },
    "papermill": {
     "duration": 0.025222,
     "end_time": "2023-03-19T14:14:12.740045",
     "exception": false,
     "start_time": "2023-03-19T14:14:12.714823",
     "status": "completed"
    },
    "tags": []
   },
   "outputs": [],
   "source": [
    "# Defining the model architecture\n",
    "\n",
    "class Net (nn.Module):\n",
    "    def __init__(self):\n",
    "        super(Net, self).__init__()\n",
    "        \n",
    "        self.conv1 = nn.Conv2d(2, 32, kernel_size=1)\n",
    "        self.bn1 = nn.BatchNorm2d(32)\n",
    "        self.conv2 = nn.Conv2d(32, 32, kernel_size=3, padding=1)\n",
    "        self.bn2 = nn.BatchNorm2d(32)\n",
    "        self.pool1 = nn.MaxPool2d(kernel_size=2)\n",
    "        self.conv3 = nn.Conv2d(32, 64, kernel_size=1)\n",
    "        self.bn3 = nn.BatchNorm2d(64)\n",
    "        self.conv4 = nn.Conv2d(64, 64, kernel_size=3, padding=1)\n",
    "        self.bn4 = nn.BatchNorm2d(64)\n",
    "        self.pool2 = nn.MaxPool2d(kernel_size=2)\n",
    "        self.conv5 = nn.Conv2d(64, 128, kernel_size=1)\n",
    "        self.bn5 = nn.BatchNorm2d(128)\n",
    "        self.conv6 = nn.Conv2d(128, 128, kernel_size=3, padding=1)\n",
    "        self.bn6 = nn.BatchNorm2d(128)\n",
    "        self.pool3 = nn.MaxPool2d(kernel_size=2)\n",
    "        self.fc1 = nn.Linear(128 * 4 * 4, 64)\n",
    "        self.dropout = nn.Dropout(0.5)\n",
    "        self.fc2 = nn.Linear(64, 1)\n",
    "\n",
    "    def forward(self, x):\n",
    "        x = x.permute(0, 3, 1, 2)\n",
    "        #xmax, xmin = x.min(), x.max()\n",
    "        #x = (x - xmin)/(xmax - xmin)\n",
    "        \n",
    "        x = self.conv1(x)\n",
    "        x = self.bn1(x)\n",
    "        x = torch.relu(x)\n",
    "        x = self.conv2(x)\n",
    "        x = self.bn2(x)\n",
    "        x = torch.relu(x)\n",
    "        x = torch.nn.functional.dropout(x, 0.2)\n",
    "        x = self.pool1(x)\n",
    "        x = self.conv3(x)\n",
    "        x = self.bn3(x)\n",
    "        x = torch.relu(x)\n",
    "        x = self.conv4(x)\n",
    "        x = self.bn4(x)\n",
    "        x = torch.relu(x)\n",
    "        x = torch.nn.functional.dropout(x, 0.2)\n",
    "        x = self.pool2(x)\n",
    "        x = self.conv5(x)\n",
    "        x = self.bn5(x)\n",
    "        x = torch.relu(x)\n",
    "        x = self.conv6(x)\n",
    "        x = self.bn6(x)\n",
    "        x = torch.relu(x)\n",
    "        x = torch.nn.functional.dropout(x, 0.2)\n",
    "        x = self.pool3(x)\n",
    "        x = torch.flatten(x, 1)\n",
    "        x = self.fc1(x)\n",
    "        x = torch.relu(x)\n",
    "        x = self.dropout(x)\n",
    "        x = self.fc2(x)\n",
    "        x = torch.sigmoid(x)\n",
    "        \n",
    "        return x"
   ]
  },
  {
   "cell_type": "code",
   "execution_count": 9,
   "id": "d5da3dfa",
   "metadata": {
    "execution": {
     "iopub.execute_input": "2023-03-19T14:14:12.748682Z",
     "iopub.status.busy": "2023-03-19T14:14:12.748310Z",
     "iopub.status.idle": "2023-03-19T14:14:15.233672Z",
     "shell.execute_reply": "2023-03-19T14:14:15.232480Z"
    },
    "papermill": {
     "duration": 2.492435,
     "end_time": "2023-03-19T14:14:15.236284",
     "exception": false,
     "start_time": "2023-03-19T14:14:12.743849",
     "status": "completed"
    },
    "tags": []
   },
   "outputs": [],
   "source": [
    "# model loss and optimizer\n",
    "model = Net().to(device)\n",
    "criterion = nn.BCELoss()\n",
    "optimizer = optim.SGD(model.parameters(), lr=0.001, momentum=0.8)"
   ]
  },
  {
   "cell_type": "code",
   "execution_count": 10,
   "id": "30ea862a",
   "metadata": {
    "execution": {
     "iopub.execute_input": "2023-03-19T14:14:15.245724Z",
     "iopub.status.busy": "2023-03-19T14:14:15.245396Z",
     "iopub.status.idle": "2023-03-19T16:53:06.408949Z",
     "shell.execute_reply": "2023-03-19T16:53:06.406741Z"
    },
    "papermill": {
     "duration": 9531.170905,
     "end_time": "2023-03-19T16:53:06.411203",
     "exception": false,
     "start_time": "2023-03-19T14:14:15.240298",
     "status": "completed"
    },
    "tags": []
   },
   "outputs": [
    {
     "name": "stdout",
     "output_type": "stream",
     "text": [
      "[Epoch 1, Batch 100] Loss: 0.692 Accuracy: 0.551\n",
      "[Epoch 1, Batch 200] Loss: 0.684 Accuracy: 0.577\n",
      "[Epoch 1, Batch 300] Loss: 0.680 Accuracy: 0.594\n",
      "[Epoch 1, Batch 400] Loss: 0.676 Accuracy: 0.606\n",
      "[Epoch 1, Batch 500] Loss: 0.673 Accuracy: 0.616\n",
      "[Epoch 1, Batch 600] Loss: 0.673 Accuracy: 0.614\n",
      "[Epoch 1, Batch 700] Loss: 0.672 Accuracy: 0.617\n",
      "[Epoch 1, Batch 800] Loss: 0.670 Accuracy: 0.619\n",
      "[Epoch 1, Batch 900] Loss: 0.670 Accuracy: 0.616\n",
      "[Epoch 1, Batch 1000] Loss: 0.666 Accuracy: 0.629\n",
      "[Epoch 1, Batch 1100] Loss: 0.668 Accuracy: 0.626\n",
      "[Epoch 1, Batch 1200] Loss: 0.661 Accuracy: 0.643\n",
      "[Epoch 1, Batch 1300] Loss: 0.665 Accuracy: 0.631\n",
      "[Epoch 1, Batch 1400] Loss: 0.668 Accuracy: 0.624\n",
      "[Epoch 1, Batch 1500] Loss: 0.663 Accuracy: 0.637\n",
      "[Epoch 1, Batch 1600] Loss: 0.664 Accuracy: 0.635\n",
      "[Epoch 1, Batch 1700] Loss: 0.661 Accuracy: 0.641\n",
      "[Epoch 1, Batch 1800] Loss: 0.663 Accuracy: 0.635\n",
      "[Epoch 1, Batch 1900] Loss: 0.664 Accuracy: 0.634\n"
     ]
    },
    {
     "name": "stderr",
     "output_type": "stream",
     "text": [
      "/opt/conda/lib/python3.7/site-packages/torch/utils/data/dataloader.py:557: UserWarning: This DataLoader will create 4 worker processes in total. Our suggested max number of worker in current system is 2, which is smaller than what this DataLoader is going to create. Please be aware that excessive worker creation might get DataLoader running slow or even freeze, lower the worker number to avoid potential slowness/freeze if necessary.\n",
      "  cpuset_checked))\n"
     ]
    },
    {
     "name": "stdout",
     "output_type": "stream",
     "text": [
      "Epoch 1 Val Loss: 0.6589579417044857 \t\t Val Accuracy: 0.6441760544039072\n",
      "Validation Loss Decreased(inf--->164.080527) \t Saving The Model\n"
     ]
    },
    {
     "name": "stderr",
     "output_type": "stream",
     "text": [
      "/opt/conda/lib/python3.7/site-packages/torch/utils/data/dataloader.py:557: UserWarning: This DataLoader will create 4 worker processes in total. Our suggested max number of worker in current system is 2, which is smaller than what this DataLoader is going to create. Please be aware that excessive worker creation might get DataLoader running slow or even freeze, lower the worker number to avoid potential slowness/freeze if necessary.\n",
      "  cpuset_checked))\n"
     ]
    },
    {
     "name": "stdout",
     "output_type": "stream",
     "text": [
      "[Epoch 2, Batch 100] Loss: 0.659 Accuracy: 0.646\n",
      "[Epoch 2, Batch 200] Loss: 0.656 Accuracy: 0.650\n",
      "[Epoch 2, Batch 300] Loss: 0.654 Accuracy: 0.653\n",
      "[Epoch 2, Batch 400] Loss: 0.657 Accuracy: 0.648\n",
      "[Epoch 2, Batch 500] Loss: 0.656 Accuracy: 0.648\n",
      "[Epoch 2, Batch 600] Loss: 0.655 Accuracy: 0.653\n",
      "[Epoch 2, Batch 700] Loss: 0.657 Accuracy: 0.648\n",
      "[Epoch 2, Batch 800] Loss: 0.656 Accuracy: 0.649\n",
      "[Epoch 2, Batch 900] Loss: 0.651 Accuracy: 0.660\n",
      "[Epoch 2, Batch 1000] Loss: 0.653 Accuracy: 0.657\n",
      "[Epoch 2, Batch 1100] Loss: 0.657 Accuracy: 0.648\n",
      "[Epoch 2, Batch 1200] Loss: 0.651 Accuracy: 0.660\n",
      "[Epoch 2, Batch 1300] Loss: 0.649 Accuracy: 0.662\n",
      "[Epoch 2, Batch 1400] Loss: 0.650 Accuracy: 0.661\n",
      "[Epoch 2, Batch 1500] Loss: 0.651 Accuracy: 0.658\n",
      "[Epoch 2, Batch 1600] Loss: 0.652 Accuracy: 0.657\n",
      "[Epoch 2, Batch 1700] Loss: 0.648 Accuracy: 0.662\n",
      "[Epoch 2, Batch 1800] Loss: 0.649 Accuracy: 0.661\n",
      "[Epoch 2, Batch 1900] Loss: 0.647 Accuracy: 0.665\n"
     ]
    },
    {
     "name": "stderr",
     "output_type": "stream",
     "text": [
      "/opt/conda/lib/python3.7/site-packages/torch/utils/data/dataloader.py:557: UserWarning: This DataLoader will create 4 worker processes in total. Our suggested max number of worker in current system is 2, which is smaller than what this DataLoader is going to create. Please be aware that excessive worker creation might get DataLoader running slow or even freeze, lower the worker number to avoid potential slowness/freeze if necessary.\n",
      "  cpuset_checked))\n"
     ]
    },
    {
     "name": "stdout",
     "output_type": "stream",
     "text": [
      "Epoch 2 Val Loss: 0.6489498517120699 \t\t Val Accuracy: 0.662579106479534\n",
      "Validation Loss Decreased(164.080527--->161.588513) \t Saving The Model\n"
     ]
    },
    {
     "name": "stderr",
     "output_type": "stream",
     "text": [
      "/opt/conda/lib/python3.7/site-packages/torch/utils/data/dataloader.py:557: UserWarning: This DataLoader will create 4 worker processes in total. Our suggested max number of worker in current system is 2, which is smaller than what this DataLoader is going to create. Please be aware that excessive worker creation might get DataLoader running slow or even freeze, lower the worker number to avoid potential slowness/freeze if necessary.\n",
      "  cpuset_checked))\n"
     ]
    },
    {
     "name": "stdout",
     "output_type": "stream",
     "text": [
      "[Epoch 3, Batch 100] Loss: 0.652 Accuracy: 0.658\n",
      "[Epoch 3, Batch 200] Loss: 0.649 Accuracy: 0.663\n",
      "[Epoch 3, Batch 300] Loss: 0.648 Accuracy: 0.665\n",
      "[Epoch 3, Batch 400] Loss: 0.647 Accuracy: 0.667\n",
      "[Epoch 3, Batch 500] Loss: 0.645 Accuracy: 0.670\n",
      "[Epoch 3, Batch 600] Loss: 0.646 Accuracy: 0.670\n",
      "[Epoch 3, Batch 700] Loss: 0.645 Accuracy: 0.673\n",
      "[Epoch 3, Batch 800] Loss: 0.644 Accuracy: 0.671\n",
      "[Epoch 3, Batch 900] Loss: 0.644 Accuracy: 0.673\n",
      "[Epoch 3, Batch 1000] Loss: 0.643 Accuracy: 0.676\n",
      "[Epoch 3, Batch 1100] Loss: 0.641 Accuracy: 0.678\n",
      "[Epoch 3, Batch 1200] Loss: 0.645 Accuracy: 0.671\n",
      "[Epoch 3, Batch 1300] Loss: 0.638 Accuracy: 0.680\n",
      "[Epoch 3, Batch 1400] Loss: 0.642 Accuracy: 0.677\n",
      "[Epoch 3, Batch 1500] Loss: 0.640 Accuracy: 0.682\n",
      "[Epoch 3, Batch 1600] Loss: 0.637 Accuracy: 0.688\n",
      "[Epoch 3, Batch 1700] Loss: 0.643 Accuracy: 0.676\n",
      "[Epoch 3, Batch 1800] Loss: 0.637 Accuracy: 0.687\n",
      "[Epoch 3, Batch 1900] Loss: 0.639 Accuracy: 0.683\n"
     ]
    },
    {
     "name": "stderr",
     "output_type": "stream",
     "text": [
      "/opt/conda/lib/python3.7/site-packages/torch/utils/data/dataloader.py:557: UserWarning: This DataLoader will create 4 worker processes in total. Our suggested max number of worker in current system is 2, which is smaller than what this DataLoader is going to create. Please be aware that excessive worker creation might get DataLoader running slow or even freeze, lower the worker number to avoid potential slowness/freeze if necessary.\n",
      "  cpuset_checked))\n"
     ]
    },
    {
     "name": "stdout",
     "output_type": "stream",
     "text": [
      "Epoch 3 Val Loss: 0.6379088474564762 \t\t Val Accuracy: 0.6854709681898223\n",
      "Validation Loss Decreased(161.588513--->158.839303) \t Saving The Model\n"
     ]
    },
    {
     "name": "stderr",
     "output_type": "stream",
     "text": [
      "/opt/conda/lib/python3.7/site-packages/torch/utils/data/dataloader.py:557: UserWarning: This DataLoader will create 4 worker processes in total. Our suggested max number of worker in current system is 2, which is smaller than what this DataLoader is going to create. Please be aware that excessive worker creation might get DataLoader running slow or even freeze, lower the worker number to avoid potential slowness/freeze if necessary.\n",
      "  cpuset_checked))\n"
     ]
    },
    {
     "name": "stdout",
     "output_type": "stream",
     "text": [
      "[Epoch 4, Batch 100] Loss: 0.634 Accuracy: 0.690\n",
      "[Epoch 4, Batch 200] Loss: 0.635 Accuracy: 0.692\n",
      "[Epoch 4, Batch 300] Loss: 0.631 Accuracy: 0.696\n",
      "[Epoch 4, Batch 400] Loss: 0.636 Accuracy: 0.690\n",
      "[Epoch 4, Batch 500] Loss: 0.635 Accuracy: 0.691\n",
      "[Epoch 4, Batch 600] Loss: 0.633 Accuracy: 0.693\n",
      "[Epoch 4, Batch 700] Loss: 0.628 Accuracy: 0.703\n",
      "[Epoch 4, Batch 800] Loss: 0.634 Accuracy: 0.697\n",
      "[Epoch 4, Batch 900] Loss: 0.628 Accuracy: 0.702\n",
      "[Epoch 4, Batch 1000] Loss: 0.625 Accuracy: 0.708\n",
      "[Epoch 4, Batch 1100] Loss: 0.627 Accuracy: 0.704\n",
      "[Epoch 4, Batch 1200] Loss: 0.626 Accuracy: 0.706\n",
      "[Epoch 4, Batch 1300] Loss: 0.624 Accuracy: 0.707\n",
      "[Epoch 4, Batch 1400] Loss: 0.628 Accuracy: 0.703\n",
      "[Epoch 4, Batch 1500] Loss: 0.624 Accuracy: 0.710\n",
      "[Epoch 4, Batch 1600] Loss: 0.626 Accuracy: 0.705\n",
      "[Epoch 4, Batch 1700] Loss: 0.625 Accuracy: 0.713\n",
      "[Epoch 4, Batch 1800] Loss: 0.623 Accuracy: 0.713\n",
      "[Epoch 4, Batch 1900] Loss: 0.624 Accuracy: 0.711\n"
     ]
    },
    {
     "name": "stderr",
     "output_type": "stream",
     "text": [
      "/opt/conda/lib/python3.7/site-packages/torch/utils/data/dataloader.py:557: UserWarning: This DataLoader will create 4 worker processes in total. Our suggested max number of worker in current system is 2, which is smaller than what this DataLoader is going to create. Please be aware that excessive worker creation might get DataLoader running slow or even freeze, lower the worker number to avoid potential slowness/freeze if necessary.\n",
      "  cpuset_checked))\n"
     ]
    },
    {
     "name": "stdout",
     "output_type": "stream",
     "text": [
      "Epoch 4 Val Loss: 0.62624514701376 \t\t Val Accuracy: 0.7141135008450115\n",
      "Validation Loss Decreased(158.839303--->155.935042) \t Saving The Model\n"
     ]
    },
    {
     "name": "stderr",
     "output_type": "stream",
     "text": [
      "/opt/conda/lib/python3.7/site-packages/torch/utils/data/dataloader.py:557: UserWarning: This DataLoader will create 4 worker processes in total. Our suggested max number of worker in current system is 2, which is smaller than what this DataLoader is going to create. Please be aware that excessive worker creation might get DataLoader running slow or even freeze, lower the worker number to avoid potential slowness/freeze if necessary.\n",
      "  cpuset_checked))\n"
     ]
    },
    {
     "name": "stdout",
     "output_type": "stream",
     "text": [
      "[Epoch 5, Batch 100] Loss: 0.623 Accuracy: 0.712\n",
      "[Epoch 5, Batch 200] Loss: 0.617 Accuracy: 0.718\n",
      "[Epoch 5, Batch 300] Loss: 0.624 Accuracy: 0.708\n",
      "[Epoch 5, Batch 400] Loss: 0.616 Accuracy: 0.722\n",
      "[Epoch 5, Batch 500] Loss: 0.618 Accuracy: 0.717\n",
      "[Epoch 5, Batch 600] Loss: 0.617 Accuracy: 0.718\n",
      "[Epoch 5, Batch 700] Loss: 0.615 Accuracy: 0.722\n",
      "[Epoch 5, Batch 800] Loss: 0.614 Accuracy: 0.725\n",
      "[Epoch 5, Batch 900] Loss: 0.618 Accuracy: 0.718\n",
      "[Epoch 5, Batch 1000] Loss: 0.615 Accuracy: 0.724\n",
      "[Epoch 5, Batch 1100] Loss: 0.616 Accuracy: 0.722\n",
      "[Epoch 5, Batch 1200] Loss: 0.618 Accuracy: 0.717\n",
      "[Epoch 5, Batch 1300] Loss: 0.611 Accuracy: 0.726\n",
      "[Epoch 5, Batch 1400] Loss: 0.614 Accuracy: 0.724\n",
      "[Epoch 5, Batch 1500] Loss: 0.613 Accuracy: 0.725\n",
      "[Epoch 5, Batch 1600] Loss: 0.614 Accuracy: 0.725\n",
      "[Epoch 5, Batch 1700] Loss: 0.611 Accuracy: 0.727\n",
      "[Epoch 5, Batch 1800] Loss: 0.617 Accuracy: 0.722\n",
      "[Epoch 5, Batch 1900] Loss: 0.611 Accuracy: 0.728\n"
     ]
    },
    {
     "name": "stderr",
     "output_type": "stream",
     "text": [
      "/opt/conda/lib/python3.7/site-packages/torch/utils/data/dataloader.py:557: UserWarning: This DataLoader will create 4 worker processes in total. Our suggested max number of worker in current system is 2, which is smaller than what this DataLoader is going to create. Please be aware that excessive worker creation might get DataLoader running slow or even freeze, lower the worker number to avoid potential slowness/freeze if necessary.\n",
      "  cpuset_checked))\n"
     ]
    },
    {
     "name": "stdout",
     "output_type": "stream",
     "text": [
      "Epoch 5 Val Loss: 0.6089124605358844 \t\t Val Accuracy: 0.7295749764528171\n",
      "Validation Loss Decreased(155.935042--->151.619203) \t Saving The Model\n"
     ]
    },
    {
     "name": "stderr",
     "output_type": "stream",
     "text": [
      "/opt/conda/lib/python3.7/site-packages/torch/utils/data/dataloader.py:557: UserWarning: This DataLoader will create 4 worker processes in total. Our suggested max number of worker in current system is 2, which is smaller than what this DataLoader is going to create. Please be aware that excessive worker creation might get DataLoader running slow or even freeze, lower the worker number to avoid potential slowness/freeze if necessary.\n",
      "  cpuset_checked))\n"
     ]
    },
    {
     "name": "stdout",
     "output_type": "stream",
     "text": [
      "[Epoch 6, Batch 100] Loss: 0.611 Accuracy: 0.727\n",
      "[Epoch 6, Batch 200] Loss: 0.611 Accuracy: 0.729\n",
      "[Epoch 6, Batch 300] Loss: 0.612 Accuracy: 0.729\n",
      "[Epoch 6, Batch 400] Loss: 0.612 Accuracy: 0.728\n",
      "[Epoch 6, Batch 500] Loss: 0.609 Accuracy: 0.731\n",
      "[Epoch 6, Batch 600] Loss: 0.606 Accuracy: 0.733\n",
      "[Epoch 6, Batch 700] Loss: 0.608 Accuracy: 0.731\n",
      "[Epoch 6, Batch 800] Loss: 0.614 Accuracy: 0.723\n",
      "[Epoch 6, Batch 900] Loss: 0.608 Accuracy: 0.732\n",
      "[Epoch 6, Batch 1000] Loss: 0.604 Accuracy: 0.738\n",
      "[Epoch 6, Batch 1100] Loss: 0.605 Accuracy: 0.736\n",
      "[Epoch 6, Batch 1200] Loss: 0.609 Accuracy: 0.731\n",
      "[Epoch 6, Batch 1300] Loss: 0.604 Accuracy: 0.736\n",
      "[Epoch 6, Batch 1400] Loss: 0.609 Accuracy: 0.729\n",
      "[Epoch 6, Batch 1500] Loss: 0.601 Accuracy: 0.739\n",
      "[Epoch 6, Batch 1600] Loss: 0.605 Accuracy: 0.737\n",
      "[Epoch 6, Batch 1700] Loss: 0.603 Accuracy: 0.739\n",
      "[Epoch 6, Batch 1800] Loss: 0.598 Accuracy: 0.746\n",
      "[Epoch 6, Batch 1900] Loss: 0.610 Accuracy: 0.731\n"
     ]
    },
    {
     "name": "stderr",
     "output_type": "stream",
     "text": [
      "/opt/conda/lib/python3.7/site-packages/torch/utils/data/dataloader.py:557: UserWarning: This DataLoader will create 4 worker processes in total. Our suggested max number of worker in current system is 2, which is smaller than what this DataLoader is going to create. Please be aware that excessive worker creation might get DataLoader running slow or even freeze, lower the worker number to avoid potential slowness/freeze if necessary.\n",
      "  cpuset_checked))\n"
     ]
    },
    {
     "name": "stdout",
     "output_type": "stream",
     "text": [
      "Epoch 6 Val Loss: 0.6002638421384207 \t\t Val Accuracy: 0.739959989005357\n",
      "Validation Loss Decreased(151.619203--->149.465697) \t Saving The Model\n"
     ]
    },
    {
     "name": "stderr",
     "output_type": "stream",
     "text": [
      "/opt/conda/lib/python3.7/site-packages/torch/utils/data/dataloader.py:557: UserWarning: This DataLoader will create 4 worker processes in total. Our suggested max number of worker in current system is 2, which is smaller than what this DataLoader is going to create. Please be aware that excessive worker creation might get DataLoader running slow or even freeze, lower the worker number to avoid potential slowness/freeze if necessary.\n",
      "  cpuset_checked))\n"
     ]
    },
    {
     "name": "stdout",
     "output_type": "stream",
     "text": [
      "[Epoch 7, Batch 100] Loss: 0.605 Accuracy: 0.735\n",
      "[Epoch 7, Batch 200] Loss: 0.601 Accuracy: 0.742\n",
      "[Epoch 7, Batch 300] Loss: 0.607 Accuracy: 0.735\n",
      "[Epoch 7, Batch 400] Loss: 0.602 Accuracy: 0.739\n",
      "[Epoch 7, Batch 500] Loss: 0.602 Accuracy: 0.739\n",
      "[Epoch 7, Batch 600] Loss: 0.599 Accuracy: 0.743\n",
      "[Epoch 7, Batch 700] Loss: 0.603 Accuracy: 0.739\n",
      "[Epoch 7, Batch 800] Loss: 0.604 Accuracy: 0.737\n",
      "[Epoch 7, Batch 900] Loss: 0.598 Accuracy: 0.745\n",
      "[Epoch 7, Batch 1000] Loss: 0.598 Accuracy: 0.743\n",
      "[Epoch 7, Batch 1100] Loss: 0.597 Accuracy: 0.747\n",
      "[Epoch 7, Batch 1200] Loss: 0.603 Accuracy: 0.740\n",
      "[Epoch 7, Batch 1300] Loss: 0.600 Accuracy: 0.745\n",
      "[Epoch 7, Batch 1400] Loss: 0.601 Accuracy: 0.742\n",
      "[Epoch 7, Batch 1500] Loss: 0.596 Accuracy: 0.745\n",
      "[Epoch 7, Batch 1600] Loss: 0.598 Accuracy: 0.744\n",
      "[Epoch 7, Batch 1700] Loss: 0.600 Accuracy: 0.744\n",
      "[Epoch 7, Batch 1800] Loss: 0.599 Accuracy: 0.743\n",
      "[Epoch 7, Batch 1900] Loss: 0.598 Accuracy: 0.746\n"
     ]
    },
    {
     "name": "stderr",
     "output_type": "stream",
     "text": [
      "/opt/conda/lib/python3.7/site-packages/torch/utils/data/dataloader.py:557: UserWarning: This DataLoader will create 4 worker processes in total. Our suggested max number of worker in current system is 2, which is smaller than what this DataLoader is going to create. Please be aware that excessive worker creation might get DataLoader running slow or even freeze, lower the worker number to avoid potential slowness/freeze if necessary.\n",
      "  cpuset_checked))\n"
     ]
    },
    {
     "name": "stdout",
     "output_type": "stream",
     "text": [
      "Epoch 7 Val Loss: 0.5966339286072666 \t\t Val Accuracy: 0.7471618905456336\n",
      "Validation Loss Decreased(149.465697--->148.561848) \t Saving The Model\n"
     ]
    },
    {
     "name": "stderr",
     "output_type": "stream",
     "text": [
      "/opt/conda/lib/python3.7/site-packages/torch/utils/data/dataloader.py:557: UserWarning: This DataLoader will create 4 worker processes in total. Our suggested max number of worker in current system is 2, which is smaller than what this DataLoader is going to create. Please be aware that excessive worker creation might get DataLoader running slow or even freeze, lower the worker number to avoid potential slowness/freeze if necessary.\n",
      "  cpuset_checked))\n"
     ]
    },
    {
     "name": "stdout",
     "output_type": "stream",
     "text": [
      "[Epoch 8, Batch 100] Loss: 0.600 Accuracy: 0.744\n",
      "[Epoch 8, Batch 200] Loss: 0.596 Accuracy: 0.747\n",
      "[Epoch 8, Batch 300] Loss: 0.600 Accuracy: 0.743\n",
      "[Epoch 8, Batch 400] Loss: 0.596 Accuracy: 0.746\n",
      "[Epoch 8, Batch 500] Loss: 0.597 Accuracy: 0.744\n",
      "[Epoch 8, Batch 600] Loss: 0.600 Accuracy: 0.742\n",
      "[Epoch 8, Batch 700] Loss: 0.595 Accuracy: 0.750\n",
      "[Epoch 8, Batch 800] Loss: 0.595 Accuracy: 0.748\n",
      "[Epoch 8, Batch 900] Loss: 0.594 Accuracy: 0.751\n",
      "[Epoch 8, Batch 1000] Loss: 0.598 Accuracy: 0.745\n",
      "[Epoch 8, Batch 1100] Loss: 0.594 Accuracy: 0.749\n",
      "[Epoch 8, Batch 1200] Loss: 0.593 Accuracy: 0.750\n",
      "[Epoch 8, Batch 1300] Loss: 0.598 Accuracy: 0.746\n",
      "[Epoch 8, Batch 1400] Loss: 0.594 Accuracy: 0.751\n",
      "[Epoch 8, Batch 1500] Loss: 0.596 Accuracy: 0.748\n",
      "[Epoch 8, Batch 1600] Loss: 0.589 Accuracy: 0.756\n",
      "[Epoch 8, Batch 1700] Loss: 0.598 Accuracy: 0.744\n",
      "[Epoch 8, Batch 1800] Loss: 0.588 Accuracy: 0.755\n",
      "[Epoch 8, Batch 1900] Loss: 0.602 Accuracy: 0.741\n"
     ]
    },
    {
     "name": "stderr",
     "output_type": "stream",
     "text": [
      "/opt/conda/lib/python3.7/site-packages/torch/utils/data/dataloader.py:557: UserWarning: This DataLoader will create 4 worker processes in total. Our suggested max number of worker in current system is 2, which is smaller than what this DataLoader is going to create. Please be aware that excessive worker creation might get DataLoader running slow or even freeze, lower the worker number to avoid potential slowness/freeze if necessary.\n",
      "  cpuset_checked))\n"
     ]
    },
    {
     "name": "stdout",
     "output_type": "stream",
     "text": [
      "Epoch 8 Val Loss: 0.5962948361075068 \t\t Val Accuracy: 0.7533846318053394\n",
      "Validation Loss Decreased(148.561848--->148.477414) \t Saving The Model\n"
     ]
    },
    {
     "name": "stderr",
     "output_type": "stream",
     "text": [
      "/opt/conda/lib/python3.7/site-packages/torch/utils/data/dataloader.py:557: UserWarning: This DataLoader will create 4 worker processes in total. Our suggested max number of worker in current system is 2, which is smaller than what this DataLoader is going to create. Please be aware that excessive worker creation might get DataLoader running slow or even freeze, lower the worker number to avoid potential slowness/freeze if necessary.\n",
      "  cpuset_checked))\n"
     ]
    },
    {
     "name": "stdout",
     "output_type": "stream",
     "text": [
      "[Epoch 9, Batch 100] Loss: 0.598 Accuracy: 0.747\n",
      "[Epoch 9, Batch 200] Loss: 0.592 Accuracy: 0.751\n",
      "[Epoch 9, Batch 300] Loss: 0.591 Accuracy: 0.749\n",
      "[Epoch 9, Batch 400] Loss: 0.592 Accuracy: 0.752\n",
      "[Epoch 9, Batch 500] Loss: 0.595 Accuracy: 0.750\n",
      "[Epoch 9, Batch 600] Loss: 0.594 Accuracy: 0.749\n",
      "[Epoch 9, Batch 700] Loss: 0.591 Accuracy: 0.753\n",
      "[Epoch 9, Batch 800] Loss: 0.596 Accuracy: 0.747\n",
      "[Epoch 9, Batch 900] Loss: 0.589 Accuracy: 0.758\n",
      "[Epoch 9, Batch 1000] Loss: 0.588 Accuracy: 0.755\n",
      "[Epoch 9, Batch 1100] Loss: 0.593 Accuracy: 0.750\n",
      "[Epoch 9, Batch 1200] Loss: 0.588 Accuracy: 0.757\n",
      "[Epoch 9, Batch 1300] Loss: 0.588 Accuracy: 0.757\n",
      "[Epoch 9, Batch 1400] Loss: 0.591 Accuracy: 0.753\n",
      "[Epoch 9, Batch 1500] Loss: 0.589 Accuracy: 0.755\n",
      "[Epoch 9, Batch 1600] Loss: 0.589 Accuracy: 0.757\n",
      "[Epoch 9, Batch 1700] Loss: 0.590 Accuracy: 0.756\n",
      "[Epoch 9, Batch 1800] Loss: 0.589 Accuracy: 0.756\n",
      "[Epoch 9, Batch 1900] Loss: 0.594 Accuracy: 0.753\n"
     ]
    },
    {
     "name": "stderr",
     "output_type": "stream",
     "text": [
      "/opt/conda/lib/python3.7/site-packages/torch/utils/data/dataloader.py:557: UserWarning: This DataLoader will create 4 worker processes in total. Our suggested max number of worker in current system is 2, which is smaller than what this DataLoader is going to create. Please be aware that excessive worker creation might get DataLoader running slow or even freeze, lower the worker number to avoid potential slowness/freeze if necessary.\n",
      "  cpuset_checked))\n"
     ]
    },
    {
     "name": "stdout",
     "output_type": "stream",
     "text": [
      "Epoch 9 Val Loss: 0.585188879545434 \t\t Val Accuracy: 0.7573072281657083\n",
      "Validation Loss Decreased(148.477414--->145.712031) \t Saving The Model\n"
     ]
    },
    {
     "name": "stderr",
     "output_type": "stream",
     "text": [
      "/opt/conda/lib/python3.7/site-packages/torch/utils/data/dataloader.py:557: UserWarning: This DataLoader will create 4 worker processes in total. Our suggested max number of worker in current system is 2, which is smaller than what this DataLoader is going to create. Please be aware that excessive worker creation might get DataLoader running slow or even freeze, lower the worker number to avoid potential slowness/freeze if necessary.\n",
      "  cpuset_checked))\n"
     ]
    },
    {
     "name": "stdout",
     "output_type": "stream",
     "text": [
      "[Epoch 10, Batch 100] Loss: 0.590 Accuracy: 0.753\n",
      "[Epoch 10, Batch 200] Loss: 0.592 Accuracy: 0.751\n",
      "[Epoch 10, Batch 300] Loss: 0.587 Accuracy: 0.759\n",
      "[Epoch 10, Batch 400] Loss: 0.592 Accuracy: 0.751\n",
      "[Epoch 10, Batch 500] Loss: 0.584 Accuracy: 0.760\n",
      "[Epoch 10, Batch 600] Loss: 0.591 Accuracy: 0.753\n",
      "[Epoch 10, Batch 700] Loss: 0.588 Accuracy: 0.755\n",
      "[Epoch 10, Batch 800] Loss: 0.586 Accuracy: 0.759\n",
      "[Epoch 10, Batch 900] Loss: 0.584 Accuracy: 0.761\n",
      "[Epoch 10, Batch 1000] Loss: 0.585 Accuracy: 0.760\n",
      "[Epoch 10, Batch 1100] Loss: 0.586 Accuracy: 0.759\n",
      "[Epoch 10, Batch 1200] Loss: 0.582 Accuracy: 0.764\n",
      "[Epoch 10, Batch 1300] Loss: 0.592 Accuracy: 0.754\n",
      "[Epoch 10, Batch 1400] Loss: 0.588 Accuracy: 0.757\n",
      "[Epoch 10, Batch 1500] Loss: 0.589 Accuracy: 0.757\n",
      "[Epoch 10, Batch 1600] Loss: 0.583 Accuracy: 0.762\n",
      "[Epoch 10, Batch 1700] Loss: 0.586 Accuracy: 0.760\n",
      "[Epoch 10, Batch 1800] Loss: 0.588 Accuracy: 0.757\n",
      "[Epoch 10, Batch 1900] Loss: 0.588 Accuracy: 0.756\n"
     ]
    },
    {
     "name": "stderr",
     "output_type": "stream",
     "text": [
      "/opt/conda/lib/python3.7/site-packages/torch/utils/data/dataloader.py:557: UserWarning: This DataLoader will create 4 worker processes in total. Our suggested max number of worker in current system is 2, which is smaller than what this DataLoader is going to create. Please be aware that excessive worker creation might get DataLoader running slow or even freeze, lower the worker number to avoid potential slowness/freeze if necessary.\n",
      "  cpuset_checked))\n"
     ]
    },
    {
     "name": "stdout",
     "output_type": "stream",
     "text": [
      "Epoch 10 Val Loss: 0.5839592672016726 \t\t Val Accuracy: 0.762831299576064\n",
      "Validation Loss Decreased(145.712031--->145.405858) \t Saving The Model\n"
     ]
    },
    {
     "name": "stderr",
     "output_type": "stream",
     "text": [
      "/opt/conda/lib/python3.7/site-packages/torch/utils/data/dataloader.py:557: UserWarning: This DataLoader will create 4 worker processes in total. Our suggested max number of worker in current system is 2, which is smaller than what this DataLoader is going to create. Please be aware that excessive worker creation might get DataLoader running slow or even freeze, lower the worker number to avoid potential slowness/freeze if necessary.\n",
      "  cpuset_checked))\n"
     ]
    },
    {
     "name": "stdout",
     "output_type": "stream",
     "text": [
      "[Epoch 11, Batch 100] Loss: 0.586 Accuracy: 0.759\n",
      "[Epoch 11, Batch 200] Loss: 0.584 Accuracy: 0.763\n",
      "[Epoch 11, Batch 300] Loss: 0.583 Accuracy: 0.761\n",
      "[Epoch 11, Batch 400] Loss: 0.585 Accuracy: 0.760\n",
      "[Epoch 11, Batch 500] Loss: 0.587 Accuracy: 0.757\n",
      "[Epoch 11, Batch 600] Loss: 0.586 Accuracy: 0.760\n",
      "[Epoch 11, Batch 700] Loss: 0.580 Accuracy: 0.765\n",
      "[Epoch 11, Batch 800] Loss: 0.582 Accuracy: 0.764\n",
      "[Epoch 11, Batch 900] Loss: 0.581 Accuracy: 0.765\n",
      "[Epoch 11, Batch 1000] Loss: 0.584 Accuracy: 0.760\n",
      "[Epoch 11, Batch 1100] Loss: 0.586 Accuracy: 0.759\n",
      "[Epoch 11, Batch 1200] Loss: 0.587 Accuracy: 0.758\n",
      "[Epoch 11, Batch 1300] Loss: 0.587 Accuracy: 0.758\n",
      "[Epoch 11, Batch 1400] Loss: 0.584 Accuracy: 0.761\n",
      "[Epoch 11, Batch 1500] Loss: 0.581 Accuracy: 0.765\n",
      "[Epoch 11, Batch 1600] Loss: 0.582 Accuracy: 0.763\n",
      "[Epoch 11, Batch 1700] Loss: 0.583 Accuracy: 0.762\n",
      "[Epoch 11, Batch 1800] Loss: 0.584 Accuracy: 0.760\n",
      "[Epoch 11, Batch 1900] Loss: 0.590 Accuracy: 0.754\n"
     ]
    },
    {
     "name": "stderr",
     "output_type": "stream",
     "text": [
      "/opt/conda/lib/python3.7/site-packages/torch/utils/data/dataloader.py:557: UserWarning: This DataLoader will create 4 worker processes in total. Our suggested max number of worker in current system is 2, which is smaller than what this DataLoader is going to create. Please be aware that excessive worker creation might get DataLoader running slow or even freeze, lower the worker number to avoid potential slowness/freeze if necessary.\n",
      "  cpuset_checked))\n"
     ]
    },
    {
     "name": "stdout",
     "output_type": "stream",
     "text": [
      "Epoch 11 Val Loss: 0.5845445195833842 \t\t Val Accuracy: 0.7587648713596022\n"
     ]
    },
    {
     "name": "stderr",
     "output_type": "stream",
     "text": [
      "/opt/conda/lib/python3.7/site-packages/torch/utils/data/dataloader.py:557: UserWarning: This DataLoader will create 4 worker processes in total. Our suggested max number of worker in current system is 2, which is smaller than what this DataLoader is going to create. Please be aware that excessive worker creation might get DataLoader running slow or even freeze, lower the worker number to avoid potential slowness/freeze if necessary.\n",
      "  cpuset_checked))\n"
     ]
    },
    {
     "name": "stdout",
     "output_type": "stream",
     "text": [
      "[Epoch 12, Batch 100] Loss: 0.585 Accuracy: 0.760\n",
      "[Epoch 12, Batch 200] Loss: 0.585 Accuracy: 0.761\n",
      "[Epoch 12, Batch 300] Loss: 0.584 Accuracy: 0.762\n",
      "[Epoch 12, Batch 400] Loss: 0.579 Accuracy: 0.765\n",
      "[Epoch 12, Batch 500] Loss: 0.583 Accuracy: 0.764\n",
      "[Epoch 12, Batch 600] Loss: 0.581 Accuracy: 0.765\n",
      "[Epoch 12, Batch 700] Loss: 0.581 Accuracy: 0.764\n",
      "[Epoch 12, Batch 800] Loss: 0.584 Accuracy: 0.763\n",
      "[Epoch 12, Batch 900] Loss: 0.587 Accuracy: 0.758\n",
      "[Epoch 12, Batch 1000] Loss: 0.584 Accuracy: 0.762\n",
      "[Epoch 12, Batch 1100] Loss: 0.580 Accuracy: 0.766\n",
      "[Epoch 12, Batch 1200] Loss: 0.584 Accuracy: 0.761\n",
      "[Epoch 12, Batch 1300] Loss: 0.582 Accuracy: 0.761\n",
      "[Epoch 12, Batch 1400] Loss: 0.574 Accuracy: 0.772\n",
      "[Epoch 12, Batch 1500] Loss: 0.578 Accuracy: 0.767\n",
      "[Epoch 12, Batch 1600] Loss: 0.588 Accuracy: 0.756\n",
      "[Epoch 12, Batch 1700] Loss: 0.584 Accuracy: 0.761\n",
      "[Epoch 12, Batch 1800] Loss: 0.580 Accuracy: 0.764\n",
      "[Epoch 12, Batch 1900] Loss: 0.578 Accuracy: 0.767\n"
     ]
    },
    {
     "name": "stderr",
     "output_type": "stream",
     "text": [
      "/opt/conda/lib/python3.7/site-packages/torch/utils/data/dataloader.py:557: UserWarning: This DataLoader will create 4 worker processes in total. Our suggested max number of worker in current system is 2, which is smaller than what this DataLoader is going to create. Please be aware that excessive worker creation might get DataLoader running slow or even freeze, lower the worker number to avoid potential slowness/freeze if necessary.\n",
      "  cpuset_checked))\n"
     ]
    },
    {
     "name": "stdout",
     "output_type": "stream",
     "text": [
      "Epoch 12 Val Loss: 0.5813739263867758 \t\t Val Accuracy: 0.764893158536025\n",
      "Validation Loss Decreased(145.405858--->144.762108) \t Saving The Model\n"
     ]
    },
    {
     "name": "stderr",
     "output_type": "stream",
     "text": [
      "/opt/conda/lib/python3.7/site-packages/torch/utils/data/dataloader.py:557: UserWarning: This DataLoader will create 4 worker processes in total. Our suggested max number of worker in current system is 2, which is smaller than what this DataLoader is going to create. Please be aware that excessive worker creation might get DataLoader running slow or even freeze, lower the worker number to avoid potential slowness/freeze if necessary.\n",
      "  cpuset_checked))\n"
     ]
    },
    {
     "name": "stdout",
     "output_type": "stream",
     "text": [
      "[Epoch 13, Batch 100] Loss: 0.580 Accuracy: 0.764\n",
      "[Epoch 13, Batch 200] Loss: 0.582 Accuracy: 0.761\n",
      "[Epoch 13, Batch 300] Loss: 0.577 Accuracy: 0.768\n",
      "[Epoch 13, Batch 400] Loss: 0.574 Accuracy: 0.773\n",
      "[Epoch 13, Batch 500] Loss: 0.582 Accuracy: 0.762\n",
      "[Epoch 13, Batch 600] Loss: 0.574 Accuracy: 0.772\n",
      "[Epoch 13, Batch 700] Loss: 0.580 Accuracy: 0.764\n",
      "[Epoch 13, Batch 800] Loss: 0.580 Accuracy: 0.766\n",
      "[Epoch 13, Batch 900] Loss: 0.578 Accuracy: 0.769\n",
      "[Epoch 13, Batch 1000] Loss: 0.583 Accuracy: 0.761\n",
      "[Epoch 13, Batch 1100] Loss: 0.579 Accuracy: 0.769\n",
      "[Epoch 13, Batch 1200] Loss: 0.577 Accuracy: 0.769\n",
      "[Epoch 13, Batch 1300] Loss: 0.583 Accuracy: 0.761\n",
      "[Epoch 13, Batch 1400] Loss: 0.584 Accuracy: 0.759\n",
      "[Epoch 13, Batch 1500] Loss: 0.582 Accuracy: 0.764\n",
      "[Epoch 13, Batch 1600] Loss: 0.582 Accuracy: 0.765\n",
      "[Epoch 13, Batch 1700] Loss: 0.582 Accuracy: 0.764\n",
      "[Epoch 13, Batch 1800] Loss: 0.579 Accuracy: 0.767\n",
      "[Epoch 13, Batch 1900] Loss: 0.574 Accuracy: 0.772\n"
     ]
    },
    {
     "name": "stderr",
     "output_type": "stream",
     "text": [
      "/opt/conda/lib/python3.7/site-packages/torch/utils/data/dataloader.py:557: UserWarning: This DataLoader will create 4 worker processes in total. Our suggested max number of worker in current system is 2, which is smaller than what this DataLoader is going to create. Please be aware that excessive worker creation might get DataLoader running slow or even freeze, lower the worker number to avoid potential slowness/freeze if necessary.\n",
      "  cpuset_checked))\n"
     ]
    },
    {
     "name": "stdout",
     "output_type": "stream",
     "text": [
      "Epoch 13 Val Loss: 0.5733006955629372 \t\t Val Accuracy: 0.7707352553690444\n",
      "Validation Loss Decreased(144.762108--->142.751873) \t Saving The Model\n"
     ]
    },
    {
     "name": "stderr",
     "output_type": "stream",
     "text": [
      "/opt/conda/lib/python3.7/site-packages/torch/utils/data/dataloader.py:557: UserWarning: This DataLoader will create 4 worker processes in total. Our suggested max number of worker in current system is 2, which is smaller than what this DataLoader is going to create. Please be aware that excessive worker creation might get DataLoader running slow or even freeze, lower the worker number to avoid potential slowness/freeze if necessary.\n",
      "  cpuset_checked))\n"
     ]
    },
    {
     "name": "stdout",
     "output_type": "stream",
     "text": [
      "[Epoch 14, Batch 100] Loss: 0.583 Accuracy: 0.762\n",
      "[Epoch 14, Batch 200] Loss: 0.580 Accuracy: 0.765\n",
      "[Epoch 14, Batch 300] Loss: 0.576 Accuracy: 0.768\n",
      "[Epoch 14, Batch 400] Loss: 0.576 Accuracy: 0.768\n",
      "[Epoch 14, Batch 500] Loss: 0.578 Accuracy: 0.767\n",
      "[Epoch 14, Batch 600] Loss: 0.575 Accuracy: 0.770\n",
      "[Epoch 14, Batch 700] Loss: 0.576 Accuracy: 0.769\n",
      "[Epoch 14, Batch 800] Loss: 0.578 Accuracy: 0.767\n",
      "[Epoch 14, Batch 900] Loss: 0.580 Accuracy: 0.765\n",
      "[Epoch 14, Batch 1000] Loss: 0.578 Accuracy: 0.768\n",
      "[Epoch 14, Batch 1100] Loss: 0.581 Accuracy: 0.763\n",
      "[Epoch 14, Batch 1200] Loss: 0.583 Accuracy: 0.760\n",
      "[Epoch 14, Batch 1300] Loss: 0.584 Accuracy: 0.761\n",
      "[Epoch 14, Batch 1400] Loss: 0.577 Accuracy: 0.769\n",
      "[Epoch 14, Batch 1500] Loss: 0.577 Accuracy: 0.768\n",
      "[Epoch 14, Batch 1600] Loss: 0.575 Accuracy: 0.769\n",
      "[Epoch 14, Batch 1700] Loss: 0.571 Accuracy: 0.775\n",
      "[Epoch 14, Batch 1800] Loss: 0.577 Accuracy: 0.769\n",
      "[Epoch 14, Batch 1900] Loss: 0.585 Accuracy: 0.762\n"
     ]
    },
    {
     "name": "stderr",
     "output_type": "stream",
     "text": [
      "/opt/conda/lib/python3.7/site-packages/torch/utils/data/dataloader.py:557: UserWarning: This DataLoader will create 4 worker processes in total. Our suggested max number of worker in current system is 2, which is smaller than what this DataLoader is going to create. Please be aware that excessive worker creation might get DataLoader running slow or even freeze, lower the worker number to avoid potential slowness/freeze if necessary.\n",
      "  cpuset_checked))\n"
     ]
    },
    {
     "name": "stdout",
     "output_type": "stream",
     "text": [
      "Epoch 14 Val Loss: 0.5963551440392153 \t\t Val Accuracy: 0.7573092278453037\n"
     ]
    },
    {
     "name": "stderr",
     "output_type": "stream",
     "text": [
      "/opt/conda/lib/python3.7/site-packages/torch/utils/data/dataloader.py:557: UserWarning: This DataLoader will create 4 worker processes in total. Our suggested max number of worker in current system is 2, which is smaller than what this DataLoader is going to create. Please be aware that excessive worker creation might get DataLoader running slow or even freeze, lower the worker number to avoid potential slowness/freeze if necessary.\n",
      "  cpuset_checked))\n"
     ]
    },
    {
     "name": "stdout",
     "output_type": "stream",
     "text": [
      "[Epoch 15, Batch 100] Loss: 0.578 Accuracy: 0.768\n",
      "[Epoch 15, Batch 200] Loss: 0.575 Accuracy: 0.770\n",
      "[Epoch 15, Batch 300] Loss: 0.576 Accuracy: 0.770\n",
      "[Epoch 15, Batch 400] Loss: 0.578 Accuracy: 0.768\n",
      "[Epoch 15, Batch 500] Loss: 0.574 Accuracy: 0.772\n",
      "[Epoch 15, Batch 600] Loss: 0.571 Accuracy: 0.774\n",
      "[Epoch 15, Batch 700] Loss: 0.575 Accuracy: 0.769\n",
      "[Epoch 15, Batch 800] Loss: 0.572 Accuracy: 0.773\n",
      "[Epoch 15, Batch 900] Loss: 0.575 Accuracy: 0.771\n",
      "[Epoch 15, Batch 1000] Loss: 0.578 Accuracy: 0.768\n",
      "[Epoch 15, Batch 1100] Loss: 0.580 Accuracy: 0.765\n",
      "[Epoch 15, Batch 1200] Loss: 0.578 Accuracy: 0.768\n",
      "[Epoch 15, Batch 1300] Loss: 0.579 Accuracy: 0.767\n",
      "[Epoch 15, Batch 1400] Loss: 0.571 Accuracy: 0.774\n",
      "[Epoch 15, Batch 1500] Loss: 0.579 Accuracy: 0.765\n",
      "[Epoch 15, Batch 1600] Loss: 0.575 Accuracy: 0.771\n",
      "[Epoch 15, Batch 1700] Loss: 0.576 Accuracy: 0.769\n",
      "[Epoch 15, Batch 1800] Loss: 0.574 Accuracy: 0.771\n",
      "[Epoch 15, Batch 1900] Loss: 0.581 Accuracy: 0.765\n"
     ]
    },
    {
     "name": "stderr",
     "output_type": "stream",
     "text": [
      "/opt/conda/lib/python3.7/site-packages/torch/utils/data/dataloader.py:557: UserWarning: This DataLoader will create 4 worker processes in total. Our suggested max number of worker in current system is 2, which is smaller than what this DataLoader is going to create. Please be aware that excessive worker creation might get DataLoader running slow or even freeze, lower the worker number to avoid potential slowness/freeze if necessary.\n",
      "  cpuset_checked))\n"
     ]
    },
    {
     "name": "stdout",
     "output_type": "stream",
     "text": [
      "Epoch 15 Val Loss: 0.577983787739612 \t\t Val Accuracy: 0.7698914148856512\n"
     ]
    },
    {
     "name": "stderr",
     "output_type": "stream",
     "text": [
      "/opt/conda/lib/python3.7/site-packages/torch/utils/data/dataloader.py:557: UserWarning: This DataLoader will create 4 worker processes in total. Our suggested max number of worker in current system is 2, which is smaller than what this DataLoader is going to create. Please be aware that excessive worker creation might get DataLoader running slow or even freeze, lower the worker number to avoid potential slowness/freeze if necessary.\n",
      "  cpuset_checked))\n"
     ]
    },
    {
     "name": "stdout",
     "output_type": "stream",
     "text": [
      "[Epoch 16, Batch 100] Loss: 0.580 Accuracy: 0.767\n",
      "[Epoch 16, Batch 200] Loss: 0.570 Accuracy: 0.775\n",
      "[Epoch 16, Batch 300] Loss: 0.577 Accuracy: 0.769\n",
      "[Epoch 16, Batch 400] Loss: 0.573 Accuracy: 0.774\n",
      "[Epoch 16, Batch 500] Loss: 0.576 Accuracy: 0.771\n",
      "[Epoch 16, Batch 600] Loss: 0.581 Accuracy: 0.766\n",
      "[Epoch 16, Batch 700] Loss: 0.575 Accuracy: 0.770\n",
      "[Epoch 16, Batch 800] Loss: 0.573 Accuracy: 0.772\n",
      "[Epoch 16, Batch 900] Loss: 0.572 Accuracy: 0.773\n",
      "[Epoch 16, Batch 1000] Loss: 0.577 Accuracy: 0.768\n",
      "[Epoch 16, Batch 1100] Loss: 0.575 Accuracy: 0.770\n",
      "[Epoch 16, Batch 1200] Loss: 0.576 Accuracy: 0.768\n",
      "[Epoch 16, Batch 1300] Loss: 0.573 Accuracy: 0.772\n",
      "[Epoch 16, Batch 1400] Loss: 0.572 Accuracy: 0.774\n",
      "[Epoch 16, Batch 1500] Loss: 0.574 Accuracy: 0.772\n",
      "[Epoch 16, Batch 1600] Loss: 0.577 Accuracy: 0.769\n",
      "[Epoch 16, Batch 1700] Loss: 0.576 Accuracy: 0.770\n",
      "[Epoch 16, Batch 1800] Loss: 0.578 Accuracy: 0.769\n",
      "[Epoch 16, Batch 1900] Loss: 0.573 Accuracy: 0.773\n"
     ]
    },
    {
     "name": "stderr",
     "output_type": "stream",
     "text": [
      "/opt/conda/lib/python3.7/site-packages/torch/utils/data/dataloader.py:557: UserWarning: This DataLoader will create 4 worker processes in total. Our suggested max number of worker in current system is 2, which is smaller than what this DataLoader is going to create. Please be aware that excessive worker creation might get DataLoader running slow or even freeze, lower the worker number to avoid potential slowness/freeze if necessary.\n",
      "  cpuset_checked))\n"
     ]
    },
    {
     "name": "stdout",
     "output_type": "stream",
     "text": [
      "Epoch 16 Val Loss: 0.5685219428386076 \t\t Val Accuracy: 0.7754687476379487\n",
      "Validation Loss Decreased(142.751873--->141.561964) \t Saving The Model\n"
     ]
    },
    {
     "name": "stderr",
     "output_type": "stream",
     "text": [
      "/opt/conda/lib/python3.7/site-packages/torch/utils/data/dataloader.py:557: UserWarning: This DataLoader will create 4 worker processes in total. Our suggested max number of worker in current system is 2, which is smaller than what this DataLoader is going to create. Please be aware that excessive worker creation might get DataLoader running slow or even freeze, lower the worker number to avoid potential slowness/freeze if necessary.\n",
      "  cpuset_checked))\n"
     ]
    },
    {
     "name": "stdout",
     "output_type": "stream",
     "text": [
      "[Epoch 17, Batch 100] Loss: 0.574 Accuracy: 0.772\n",
      "[Epoch 17, Batch 200] Loss: 0.575 Accuracy: 0.770\n",
      "[Epoch 17, Batch 300] Loss: 0.571 Accuracy: 0.774\n",
      "[Epoch 17, Batch 400] Loss: 0.573 Accuracy: 0.771\n",
      "[Epoch 17, Batch 500] Loss: 0.572 Accuracy: 0.773\n",
      "[Epoch 17, Batch 600] Loss: 0.581 Accuracy: 0.764\n",
      "[Epoch 17, Batch 700] Loss: 0.569 Accuracy: 0.776\n",
      "[Epoch 17, Batch 800] Loss: 0.572 Accuracy: 0.773\n",
      "[Epoch 17, Batch 900] Loss: 0.569 Accuracy: 0.775\n",
      "[Epoch 17, Batch 1000] Loss: 0.572 Accuracy: 0.773\n",
      "[Epoch 17, Batch 1100] Loss: 0.572 Accuracy: 0.775\n",
      "[Epoch 17, Batch 1200] Loss: 0.572 Accuracy: 0.772\n",
      "[Epoch 17, Batch 1300] Loss: 0.576 Accuracy: 0.770\n",
      "[Epoch 17, Batch 1400] Loss: 0.573 Accuracy: 0.772\n",
      "[Epoch 17, Batch 1500] Loss: 0.578 Accuracy: 0.768\n",
      "[Epoch 17, Batch 1600] Loss: 0.574 Accuracy: 0.770\n",
      "[Epoch 17, Batch 1700] Loss: 0.568 Accuracy: 0.778\n",
      "[Epoch 17, Batch 1800] Loss: 0.574 Accuracy: 0.771\n",
      "[Epoch 17, Batch 1900] Loss: 0.569 Accuracy: 0.778\n"
     ]
    },
    {
     "name": "stderr",
     "output_type": "stream",
     "text": [
      "/opt/conda/lib/python3.7/site-packages/torch/utils/data/dataloader.py:557: UserWarning: This DataLoader will create 4 worker processes in total. Our suggested max number of worker in current system is 2, which is smaller than what this DataLoader is going to create. Please be aware that excessive worker creation might get DataLoader running slow or even freeze, lower the worker number to avoid potential slowness/freeze if necessary.\n",
      "  cpuset_checked))\n"
     ]
    },
    {
     "name": "stdout",
     "output_type": "stream",
     "text": [
      "Epoch 17 Val Loss: 0.5741721069717024 \t\t Val Accuracy: 0.7724972238949849\n"
     ]
    },
    {
     "name": "stderr",
     "output_type": "stream",
     "text": [
      "/opt/conda/lib/python3.7/site-packages/torch/utils/data/dataloader.py:557: UserWarning: This DataLoader will create 4 worker processes in total. Our suggested max number of worker in current system is 2, which is smaller than what this DataLoader is going to create. Please be aware that excessive worker creation might get DataLoader running slow or even freeze, lower the worker number to avoid potential slowness/freeze if necessary.\n",
      "  cpuset_checked))\n"
     ]
    },
    {
     "name": "stdout",
     "output_type": "stream",
     "text": [
      "[Epoch 18, Batch 100] Loss: 0.573 Accuracy: 0.771\n",
      "[Epoch 18, Batch 200] Loss: 0.570 Accuracy: 0.774\n",
      "[Epoch 18, Batch 300] Loss: 0.573 Accuracy: 0.771\n",
      "[Epoch 18, Batch 400] Loss: 0.572 Accuracy: 0.773\n",
      "[Epoch 18, Batch 500] Loss: 0.574 Accuracy: 0.772\n",
      "[Epoch 18, Batch 600] Loss: 0.572 Accuracy: 0.774\n",
      "[Epoch 18, Batch 700] Loss: 0.573 Accuracy: 0.773\n",
      "[Epoch 18, Batch 800] Loss: 0.574 Accuracy: 0.771\n",
      "[Epoch 18, Batch 900] Loss: 0.576 Accuracy: 0.770\n",
      "[Epoch 18, Batch 1000] Loss: 0.567 Accuracy: 0.779\n",
      "[Epoch 18, Batch 1100] Loss: 0.572 Accuracy: 0.773\n",
      "[Epoch 18, Batch 1200] Loss: 0.570 Accuracy: 0.777\n",
      "[Epoch 18, Batch 1300] Loss: 0.574 Accuracy: 0.772\n",
      "[Epoch 18, Batch 1400] Loss: 0.573 Accuracy: 0.772\n",
      "[Epoch 18, Batch 1500] Loss: 0.567 Accuracy: 0.779\n",
      "[Epoch 18, Batch 1600] Loss: 0.568 Accuracy: 0.778\n",
      "[Epoch 18, Batch 1700] Loss: 0.570 Accuracy: 0.774\n",
      "[Epoch 18, Batch 1800] Loss: 0.579 Accuracy: 0.767\n",
      "[Epoch 18, Batch 1900] Loss: 0.578 Accuracy: 0.767\n"
     ]
    },
    {
     "name": "stderr",
     "output_type": "stream",
     "text": [
      "/opt/conda/lib/python3.7/site-packages/torch/utils/data/dataloader.py:557: UserWarning: This DataLoader will create 4 worker processes in total. Our suggested max number of worker in current system is 2, which is smaller than what this DataLoader is going to create. Please be aware that excessive worker creation might get DataLoader running slow or even freeze, lower the worker number to avoid potential slowness/freeze if necessary.\n",
      "  cpuset_checked))\n"
     ]
    },
    {
     "name": "stdout",
     "output_type": "stream",
     "text": [
      "Epoch 18 Val Loss: 0.574543546840369 \t\t Val Accuracy: 0.7705562749564816\n"
     ]
    },
    {
     "name": "stderr",
     "output_type": "stream",
     "text": [
      "/opt/conda/lib/python3.7/site-packages/torch/utils/data/dataloader.py:557: UserWarning: This DataLoader will create 4 worker processes in total. Our suggested max number of worker in current system is 2, which is smaller than what this DataLoader is going to create. Please be aware that excessive worker creation might get DataLoader running slow or even freeze, lower the worker number to avoid potential slowness/freeze if necessary.\n",
      "  cpuset_checked))\n"
     ]
    },
    {
     "name": "stdout",
     "output_type": "stream",
     "text": [
      "[Epoch 19, Batch 100] Loss: 0.572 Accuracy: 0.774\n",
      "[Epoch 19, Batch 200] Loss: 0.570 Accuracy: 0.776\n",
      "[Epoch 19, Batch 300] Loss: 0.571 Accuracy: 0.773\n",
      "[Epoch 19, Batch 400] Loss: 0.574 Accuracy: 0.771\n",
      "[Epoch 19, Batch 500] Loss: 0.570 Accuracy: 0.774\n",
      "[Epoch 19, Batch 600] Loss: 0.574 Accuracy: 0.771\n",
      "[Epoch 19, Batch 700] Loss: 0.575 Accuracy: 0.771\n",
      "[Epoch 19, Batch 800] Loss: 0.573 Accuracy: 0.772\n",
      "[Epoch 19, Batch 900] Loss: 0.566 Accuracy: 0.779\n",
      "[Epoch 19, Batch 1000] Loss: 0.571 Accuracy: 0.774\n",
      "[Epoch 19, Batch 1100] Loss: 0.567 Accuracy: 0.779\n",
      "[Epoch 19, Batch 1200] Loss: 0.573 Accuracy: 0.773\n",
      "[Epoch 19, Batch 1300] Loss: 0.569 Accuracy: 0.777\n",
      "[Epoch 19, Batch 1400] Loss: 0.572 Accuracy: 0.773\n",
      "[Epoch 19, Batch 1500] Loss: 0.567 Accuracy: 0.780\n",
      "[Epoch 19, Batch 1600] Loss: 0.575 Accuracy: 0.770\n",
      "[Epoch 19, Batch 1700] Loss: 0.572 Accuracy: 0.774\n",
      "[Epoch 19, Batch 1800] Loss: 0.565 Accuracy: 0.782\n",
      "[Epoch 19, Batch 1900] Loss: 0.574 Accuracy: 0.772\n"
     ]
    },
    {
     "name": "stderr",
     "output_type": "stream",
     "text": [
      "/opt/conda/lib/python3.7/site-packages/torch/utils/data/dataloader.py:557: UserWarning: This DataLoader will create 4 worker processes in total. Our suggested max number of worker in current system is 2, which is smaller than what this DataLoader is going to create. Please be aware that excessive worker creation might get DataLoader running slow or even freeze, lower the worker number to avoid potential slowness/freeze if necessary.\n",
      "  cpuset_checked))\n"
     ]
    },
    {
     "name": "stdout",
     "output_type": "stream",
     "text": [
      "Epoch 19 Val Loss: 0.5680468518092451 \t\t Val Accuracy: 0.7774388152624849\n",
      "Validation Loss Decreased(141.561964--->141.443666) \t Saving The Model\n"
     ]
    },
    {
     "name": "stderr",
     "output_type": "stream",
     "text": [
      "/opt/conda/lib/python3.7/site-packages/torch/utils/data/dataloader.py:557: UserWarning: This DataLoader will create 4 worker processes in total. Our suggested max number of worker in current system is 2, which is smaller than what this DataLoader is going to create. Please be aware that excessive worker creation might get DataLoader running slow or even freeze, lower the worker number to avoid potential slowness/freeze if necessary.\n",
      "  cpuset_checked))\n"
     ]
    },
    {
     "name": "stdout",
     "output_type": "stream",
     "text": [
      "[Epoch 20, Batch 100] Loss: 0.574 Accuracy: 0.775\n",
      "[Epoch 20, Batch 200] Loss: 0.570 Accuracy: 0.774\n",
      "[Epoch 20, Batch 300] Loss: 0.575 Accuracy: 0.770\n",
      "[Epoch 20, Batch 400] Loss: 0.575 Accuracy: 0.771\n",
      "[Epoch 20, Batch 500] Loss: 0.574 Accuracy: 0.771\n",
      "[Epoch 20, Batch 600] Loss: 0.574 Accuracy: 0.772\n",
      "[Epoch 20, Batch 700] Loss: 0.570 Accuracy: 0.775\n",
      "[Epoch 20, Batch 800] Loss: 0.574 Accuracy: 0.771\n",
      "[Epoch 20, Batch 900] Loss: 0.574 Accuracy: 0.771\n",
      "[Epoch 20, Batch 1000] Loss: 0.565 Accuracy: 0.780\n",
      "[Epoch 20, Batch 1100] Loss: 0.566 Accuracy: 0.780\n",
      "[Epoch 20, Batch 1200] Loss: 0.563 Accuracy: 0.782\n",
      "[Epoch 20, Batch 1300] Loss: 0.565 Accuracy: 0.780\n",
      "[Epoch 20, Batch 1400] Loss: 0.574 Accuracy: 0.772\n",
      "[Epoch 20, Batch 1500] Loss: 0.565 Accuracy: 0.781\n",
      "[Epoch 20, Batch 1600] Loss: 0.572 Accuracy: 0.775\n",
      "[Epoch 20, Batch 1700] Loss: 0.571 Accuracy: 0.773\n",
      "[Epoch 20, Batch 1800] Loss: 0.567 Accuracy: 0.778\n",
      "[Epoch 20, Batch 1900] Loss: 0.565 Accuracy: 0.781\n"
     ]
    },
    {
     "name": "stderr",
     "output_type": "stream",
     "text": [
      "/opt/conda/lib/python3.7/site-packages/torch/utils/data/dataloader.py:557: UserWarning: This DataLoader will create 4 worker processes in total. Our suggested max number of worker in current system is 2, which is smaller than what this DataLoader is going to create. Please be aware that excessive worker creation might get DataLoader running slow or even freeze, lower the worker number to avoid potential slowness/freeze if necessary.\n",
      "  cpuset_checked))\n"
     ]
    },
    {
     "name": "stdout",
     "output_type": "stream",
     "text": [
      "Epoch 20 Val Loss: 0.5772234555707878 \t\t Val Accuracy: 0.7661578343530587\n"
     ]
    },
    {
     "name": "stderr",
     "output_type": "stream",
     "text": [
      "/opt/conda/lib/python3.7/site-packages/torch/utils/data/dataloader.py:557: UserWarning: This DataLoader will create 4 worker processes in total. Our suggested max number of worker in current system is 2, which is smaller than what this DataLoader is going to create. Please be aware that excessive worker creation might get DataLoader running slow or even freeze, lower the worker number to avoid potential slowness/freeze if necessary.\n",
      "  cpuset_checked))\n"
     ]
    },
    {
     "name": "stdout",
     "output_type": "stream",
     "text": [
      "[Epoch 21, Batch 100] Loss: 0.569 Accuracy: 0.776\n",
      "[Epoch 21, Batch 200] Loss: 0.569 Accuracy: 0.777\n",
      "[Epoch 21, Batch 300] Loss: 0.570 Accuracy: 0.776\n",
      "[Epoch 21, Batch 400] Loss: 0.572 Accuracy: 0.773\n",
      "[Epoch 21, Batch 500] Loss: 0.563 Accuracy: 0.783\n",
      "[Epoch 21, Batch 600] Loss: 0.567 Accuracy: 0.779\n",
      "[Epoch 21, Batch 700] Loss: 0.572 Accuracy: 0.773\n",
      "[Epoch 21, Batch 800] Loss: 0.572 Accuracy: 0.774\n",
      "[Epoch 21, Batch 900] Loss: 0.569 Accuracy: 0.776\n",
      "[Epoch 21, Batch 1000] Loss: 0.567 Accuracy: 0.779\n",
      "[Epoch 21, Batch 1100] Loss: 0.571 Accuracy: 0.775\n",
      "[Epoch 21, Batch 1200] Loss: 0.566 Accuracy: 0.779\n",
      "[Epoch 21, Batch 1300] Loss: 0.570 Accuracy: 0.776\n",
      "[Epoch 21, Batch 1400] Loss: 0.565 Accuracy: 0.781\n",
      "[Epoch 21, Batch 1500] Loss: 0.572 Accuracy: 0.773\n",
      "[Epoch 21, Batch 1600] Loss: 0.564 Accuracy: 0.782\n",
      "[Epoch 21, Batch 1700] Loss: 0.567 Accuracy: 0.779\n",
      "[Epoch 21, Batch 1800] Loss: 0.574 Accuracy: 0.773\n",
      "[Epoch 21, Batch 1900] Loss: 0.569 Accuracy: 0.778\n"
     ]
    },
    {
     "name": "stderr",
     "output_type": "stream",
     "text": [
      "/opt/conda/lib/python3.7/site-packages/torch/utils/data/dataloader.py:557: UserWarning: This DataLoader will create 4 worker processes in total. Our suggested max number of worker in current system is 2, which is smaller than what this DataLoader is going to create. Please be aware that excessive worker creation might get DataLoader running slow or even freeze, lower the worker number to avoid potential slowness/freeze if necessary.\n",
      "  cpuset_checked))\n"
     ]
    },
    {
     "name": "stdout",
     "output_type": "stream",
     "text": [
      "Epoch 21 Val Loss: 0.5662596188635233 \t\t Val Accuracy: 0.7795277402305191\n",
      "Validation Loss Decreased(141.443666--->140.998645) \t Saving The Model\n"
     ]
    },
    {
     "name": "stderr",
     "output_type": "stream",
     "text": [
      "/opt/conda/lib/python3.7/site-packages/torch/utils/data/dataloader.py:557: UserWarning: This DataLoader will create 4 worker processes in total. Our suggested max number of worker in current system is 2, which is smaller than what this DataLoader is going to create. Please be aware that excessive worker creation might get DataLoader running slow or even freeze, lower the worker number to avoid potential slowness/freeze if necessary.\n",
      "  cpuset_checked))\n"
     ]
    },
    {
     "name": "stdout",
     "output_type": "stream",
     "text": [
      "[Epoch 22, Batch 100] Loss: 0.571 Accuracy: 0.774\n",
      "[Epoch 22, Batch 200] Loss: 0.576 Accuracy: 0.769\n",
      "[Epoch 22, Batch 300] Loss: 0.570 Accuracy: 0.777\n",
      "[Epoch 22, Batch 400] Loss: 0.569 Accuracy: 0.777\n",
      "[Epoch 22, Batch 500] Loss: 0.562 Accuracy: 0.784\n",
      "[Epoch 22, Batch 600] Loss: 0.574 Accuracy: 0.771\n",
      "[Epoch 22, Batch 700] Loss: 0.563 Accuracy: 0.784\n",
      "[Epoch 22, Batch 800] Loss: 0.571 Accuracy: 0.774\n",
      "[Epoch 22, Batch 900] Loss: 0.570 Accuracy: 0.776\n",
      "[Epoch 22, Batch 1000] Loss: 0.565 Accuracy: 0.781\n",
      "[Epoch 22, Batch 1100] Loss: 0.566 Accuracy: 0.778\n",
      "[Epoch 22, Batch 1200] Loss: 0.566 Accuracy: 0.779\n",
      "[Epoch 22, Batch 1300] Loss: 0.568 Accuracy: 0.777\n",
      "[Epoch 22, Batch 1400] Loss: 0.567 Accuracy: 0.777\n",
      "[Epoch 22, Batch 1500] Loss: 0.566 Accuracy: 0.779\n",
      "[Epoch 22, Batch 1600] Loss: 0.567 Accuracy: 0.777\n",
      "[Epoch 22, Batch 1700] Loss: 0.567 Accuracy: 0.778\n",
      "[Epoch 22, Batch 1800] Loss: 0.565 Accuracy: 0.781\n",
      "[Epoch 22, Batch 1900] Loss: 0.569 Accuracy: 0.777\n"
     ]
    },
    {
     "name": "stderr",
     "output_type": "stream",
     "text": [
      "/opt/conda/lib/python3.7/site-packages/torch/utils/data/dataloader.py:557: UserWarning: This DataLoader will create 4 worker processes in total. Our suggested max number of worker in current system is 2, which is smaller than what this DataLoader is going to create. Please be aware that excessive worker creation might get DataLoader running slow or even freeze, lower the worker number to avoid potential slowness/freeze if necessary.\n",
      "  cpuset_checked))\n"
     ]
    },
    {
     "name": "stdout",
     "output_type": "stream",
     "text": [
      "Epoch 22 Val Loss: 0.5628253058736105 \t\t Val Accuracy: 0.7814310408924109\n",
      "Validation Loss Decreased(140.998645--->140.143501) \t Saving The Model\n"
     ]
    },
    {
     "name": "stderr",
     "output_type": "stream",
     "text": [
      "/opt/conda/lib/python3.7/site-packages/torch/utils/data/dataloader.py:557: UserWarning: This DataLoader will create 4 worker processes in total. Our suggested max number of worker in current system is 2, which is smaller than what this DataLoader is going to create. Please be aware that excessive worker creation might get DataLoader running slow or even freeze, lower the worker number to avoid potential slowness/freeze if necessary.\n",
      "  cpuset_checked))\n"
     ]
    },
    {
     "name": "stdout",
     "output_type": "stream",
     "text": [
      "[Epoch 23, Batch 100] Loss: 0.566 Accuracy: 0.779\n",
      "[Epoch 23, Batch 200] Loss: 0.567 Accuracy: 0.778\n",
      "[Epoch 23, Batch 300] Loss: 0.568 Accuracy: 0.777\n",
      "[Epoch 23, Batch 400] Loss: 0.571 Accuracy: 0.776\n",
      "[Epoch 23, Batch 500] Loss: 0.565 Accuracy: 0.780\n",
      "[Epoch 23, Batch 600] Loss: 0.571 Accuracy: 0.775\n",
      "[Epoch 23, Batch 700] Loss: 0.574 Accuracy: 0.771\n",
      "[Epoch 23, Batch 800] Loss: 0.562 Accuracy: 0.784\n",
      "[Epoch 23, Batch 900] Loss: 0.561 Accuracy: 0.784\n",
      "[Epoch 23, Batch 1000] Loss: 0.559 Accuracy: 0.786\n",
      "[Epoch 23, Batch 1100] Loss: 0.562 Accuracy: 0.782\n",
      "[Epoch 23, Batch 1200] Loss: 0.565 Accuracy: 0.781\n",
      "[Epoch 23, Batch 1300] Loss: 0.573 Accuracy: 0.772\n",
      "[Epoch 23, Batch 1400] Loss: 0.568 Accuracy: 0.777\n",
      "[Epoch 23, Batch 1500] Loss: 0.566 Accuracy: 0.779\n",
      "[Epoch 23, Batch 1600] Loss: 0.568 Accuracy: 0.777\n",
      "[Epoch 23, Batch 1700] Loss: 0.570 Accuracy: 0.775\n",
      "[Epoch 23, Batch 1800] Loss: 0.570 Accuracy: 0.776\n",
      "[Epoch 23, Batch 1900] Loss: 0.566 Accuracy: 0.781\n"
     ]
    },
    {
     "name": "stderr",
     "output_type": "stream",
     "text": [
      "/opt/conda/lib/python3.7/site-packages/torch/utils/data/dataloader.py:557: UserWarning: This DataLoader will create 4 worker processes in total. Our suggested max number of worker in current system is 2, which is smaller than what this DataLoader is going to create. Please be aware that excessive worker creation might get DataLoader running slow or even freeze, lower the worker number to avoid potential slowness/freeze if necessary.\n",
      "  cpuset_checked))\n"
     ]
    },
    {
     "name": "stdout",
     "output_type": "stream",
     "text": [
      "Epoch 23 Val Loss: 0.5620801478744032 \t\t Val Accuracy: 0.7824308544779418\n",
      "Validation Loss Decreased(140.143501--->139.957957) \t Saving The Model\n"
     ]
    },
    {
     "name": "stderr",
     "output_type": "stream",
     "text": [
      "/opt/conda/lib/python3.7/site-packages/torch/utils/data/dataloader.py:557: UserWarning: This DataLoader will create 4 worker processes in total. Our suggested max number of worker in current system is 2, which is smaller than what this DataLoader is going to create. Please be aware that excessive worker creation might get DataLoader running slow or even freeze, lower the worker number to avoid potential slowness/freeze if necessary.\n",
      "  cpuset_checked))\n"
     ]
    },
    {
     "name": "stdout",
     "output_type": "stream",
     "text": [
      "[Epoch 24, Batch 100] Loss: 0.564 Accuracy: 0.782\n",
      "[Epoch 24, Batch 200] Loss: 0.560 Accuracy: 0.787\n",
      "[Epoch 24, Batch 300] Loss: 0.572 Accuracy: 0.774\n",
      "[Epoch 24, Batch 400] Loss: 0.567 Accuracy: 0.779\n",
      "[Epoch 24, Batch 500] Loss: 0.562 Accuracy: 0.783\n",
      "[Epoch 24, Batch 600] Loss: 0.564 Accuracy: 0.781\n",
      "[Epoch 24, Batch 700] Loss: 0.564 Accuracy: 0.780\n",
      "[Epoch 24, Batch 800] Loss: 0.564 Accuracy: 0.780\n",
      "[Epoch 24, Batch 900] Loss: 0.568 Accuracy: 0.778\n",
      "[Epoch 24, Batch 1000] Loss: 0.571 Accuracy: 0.774\n",
      "[Epoch 24, Batch 1100] Loss: 0.569 Accuracy: 0.776\n",
      "[Epoch 24, Batch 1200] Loss: 0.566 Accuracy: 0.781\n",
      "[Epoch 24, Batch 1300] Loss: 0.565 Accuracy: 0.781\n",
      "[Epoch 24, Batch 1400] Loss: 0.569 Accuracy: 0.777\n",
      "[Epoch 24, Batch 1500] Loss: 0.563 Accuracy: 0.782\n",
      "[Epoch 24, Batch 1600] Loss: 0.567 Accuracy: 0.779\n",
      "[Epoch 24, Batch 1700] Loss: 0.563 Accuracy: 0.782\n",
      "[Epoch 24, Batch 1800] Loss: 0.565 Accuracy: 0.779\n",
      "[Epoch 24, Batch 1900] Loss: 0.571 Accuracy: 0.776\n"
     ]
    },
    {
     "name": "stderr",
     "output_type": "stream",
     "text": [
      "/opt/conda/lib/python3.7/site-packages/torch/utils/data/dataloader.py:557: UserWarning: This DataLoader will create 4 worker processes in total. Our suggested max number of worker in current system is 2, which is smaller than what this DataLoader is going to create. Please be aware that excessive worker creation might get DataLoader running slow or even freeze, lower the worker number to avoid potential slowness/freeze if necessary.\n",
      "  cpuset_checked))\n"
     ]
    },
    {
     "name": "stdout",
     "output_type": "stream",
     "text": [
      "Epoch 24 Val Loss: 0.5661579989285833 \t\t Val Accuracy: 0.7784219995277442\n"
     ]
    },
    {
     "name": "stderr",
     "output_type": "stream",
     "text": [
      "/opt/conda/lib/python3.7/site-packages/torch/utils/data/dataloader.py:557: UserWarning: This DataLoader will create 4 worker processes in total. Our suggested max number of worker in current system is 2, which is smaller than what this DataLoader is going to create. Please be aware that excessive worker creation might get DataLoader running slow or even freeze, lower the worker number to avoid potential slowness/freeze if necessary.\n",
      "  cpuset_checked))\n"
     ]
    },
    {
     "name": "stdout",
     "output_type": "stream",
     "text": [
      "[Epoch 25, Batch 100] Loss: 0.572 Accuracy: 0.773\n",
      "[Epoch 25, Batch 200] Loss: 0.567 Accuracy: 0.778\n",
      "[Epoch 25, Batch 300] Loss: 0.565 Accuracy: 0.780\n",
      "[Epoch 25, Batch 400] Loss: 0.567 Accuracy: 0.779\n",
      "[Epoch 25, Batch 500] Loss: 0.567 Accuracy: 0.779\n",
      "[Epoch 25, Batch 600] Loss: 0.561 Accuracy: 0.783\n",
      "[Epoch 25, Batch 700] Loss: 0.565 Accuracy: 0.781\n",
      "[Epoch 25, Batch 800] Loss: 0.565 Accuracy: 0.780\n",
      "[Epoch 25, Batch 900] Loss: 0.568 Accuracy: 0.778\n",
      "[Epoch 25, Batch 1000] Loss: 0.567 Accuracy: 0.777\n",
      "[Epoch 25, Batch 1100] Loss: 0.568 Accuracy: 0.776\n",
      "[Epoch 25, Batch 1200] Loss: 0.561 Accuracy: 0.785\n",
      "[Epoch 25, Batch 1300] Loss: 0.568 Accuracy: 0.778\n",
      "[Epoch 25, Batch 1400] Loss: 0.564 Accuracy: 0.782\n",
      "[Epoch 25, Batch 1500] Loss: 0.564 Accuracy: 0.782\n",
      "[Epoch 25, Batch 1600] Loss: 0.564 Accuracy: 0.780\n",
      "[Epoch 25, Batch 1700] Loss: 0.561 Accuracy: 0.785\n",
      "[Epoch 25, Batch 1800] Loss: 0.565 Accuracy: 0.781\n",
      "[Epoch 25, Batch 1900] Loss: 0.564 Accuracy: 0.782\n"
     ]
    },
    {
     "name": "stderr",
     "output_type": "stream",
     "text": [
      "/opt/conda/lib/python3.7/site-packages/torch/utils/data/dataloader.py:557: UserWarning: This DataLoader will create 4 worker processes in total. Our suggested max number of worker in current system is 2, which is smaller than what this DataLoader is going to create. Please be aware that excessive worker creation might get DataLoader running slow or even freeze, lower the worker number to avoid potential slowness/freeze if necessary.\n",
      "  cpuset_checked))\n"
     ]
    },
    {
     "name": "stdout",
     "output_type": "stream",
     "text": [
      "Epoch 25 Val Loss: 0.56642147288265 \t\t Val Accuracy: 0.7820471372490443\n"
     ]
    },
    {
     "name": "stderr",
     "output_type": "stream",
     "text": [
      "/opt/conda/lib/python3.7/site-packages/torch/utils/data/dataloader.py:557: UserWarning: This DataLoader will create 4 worker processes in total. Our suggested max number of worker in current system is 2, which is smaller than what this DataLoader is going to create. Please be aware that excessive worker creation might get DataLoader running slow or even freeze, lower the worker number to avoid potential slowness/freeze if necessary.\n",
      "  cpuset_checked))\n"
     ]
    },
    {
     "name": "stdout",
     "output_type": "stream",
     "text": [
      "[Epoch 26, Batch 100] Loss: 0.560 Accuracy: 0.786\n",
      "[Epoch 26, Batch 200] Loss: 0.569 Accuracy: 0.776\n",
      "[Epoch 26, Batch 300] Loss: 0.562 Accuracy: 0.783\n",
      "[Epoch 26, Batch 400] Loss: 0.559 Accuracy: 0.786\n",
      "[Epoch 26, Batch 500] Loss: 0.561 Accuracy: 0.784\n",
      "[Epoch 26, Batch 600] Loss: 0.567 Accuracy: 0.780\n",
      "[Epoch 26, Batch 700] Loss: 0.561 Accuracy: 0.784\n",
      "[Epoch 26, Batch 800] Loss: 0.563 Accuracy: 0.782\n",
      "[Epoch 26, Batch 900] Loss: 0.566 Accuracy: 0.778\n",
      "[Epoch 26, Batch 1000] Loss: 0.563 Accuracy: 0.781\n",
      "[Epoch 26, Batch 1100] Loss: 0.570 Accuracy: 0.776\n",
      "[Epoch 26, Batch 1200] Loss: 0.563 Accuracy: 0.782\n",
      "[Epoch 26, Batch 1300] Loss: 0.570 Accuracy: 0.777\n",
      "[Epoch 26, Batch 1400] Loss: 0.569 Accuracy: 0.776\n",
      "[Epoch 26, Batch 1500] Loss: 0.567 Accuracy: 0.778\n",
      "[Epoch 26, Batch 1600] Loss: 0.568 Accuracy: 0.777\n",
      "[Epoch 26, Batch 1700] Loss: 0.561 Accuracy: 0.785\n",
      "[Epoch 26, Batch 1800] Loss: 0.568 Accuracy: 0.778\n",
      "[Epoch 26, Batch 1900] Loss: 0.562 Accuracy: 0.784\n"
     ]
    },
    {
     "name": "stderr",
     "output_type": "stream",
     "text": [
      "/opt/conda/lib/python3.7/site-packages/torch/utils/data/dataloader.py:557: UserWarning: This DataLoader will create 4 worker processes in total. Our suggested max number of worker in current system is 2, which is smaller than what this DataLoader is going to create. Please be aware that excessive worker creation might get DataLoader running slow or even freeze, lower the worker number to avoid potential slowness/freeze if necessary.\n",
      "  cpuset_checked))\n"
     ]
    },
    {
     "name": "stdout",
     "output_type": "stream",
     "text": [
      "Epoch 26 Val Loss: 0.5639486491201393 \t\t Val Accuracy: 0.780452556303853\n"
     ]
    },
    {
     "name": "stderr",
     "output_type": "stream",
     "text": [
      "/opt/conda/lib/python3.7/site-packages/torch/utils/data/dataloader.py:557: UserWarning: This DataLoader will create 4 worker processes in total. Our suggested max number of worker in current system is 2, which is smaller than what this DataLoader is going to create. Please be aware that excessive worker creation might get DataLoader running slow or even freeze, lower the worker number to avoid potential slowness/freeze if necessary.\n",
      "  cpuset_checked))\n"
     ]
    },
    {
     "name": "stdout",
     "output_type": "stream",
     "text": [
      "[Epoch 27, Batch 100] Loss: 0.567 Accuracy: 0.779\n",
      "[Epoch 27, Batch 200] Loss: 0.566 Accuracy: 0.781\n",
      "[Epoch 27, Batch 300] Loss: 0.563 Accuracy: 0.782\n",
      "[Epoch 27, Batch 400] Loss: 0.570 Accuracy: 0.775\n",
      "[Epoch 27, Batch 500] Loss: 0.564 Accuracy: 0.782\n",
      "[Epoch 27, Batch 600] Loss: 0.561 Accuracy: 0.784\n",
      "[Epoch 27, Batch 700] Loss: 0.561 Accuracy: 0.785\n",
      "[Epoch 27, Batch 800] Loss: 0.564 Accuracy: 0.781\n",
      "[Epoch 27, Batch 900] Loss: 0.568 Accuracy: 0.779\n",
      "[Epoch 27, Batch 1000] Loss: 0.568 Accuracy: 0.779\n",
      "[Epoch 27, Batch 1100] Loss: 0.565 Accuracy: 0.780\n",
      "[Epoch 27, Batch 1200] Loss: 0.567 Accuracy: 0.779\n",
      "[Epoch 27, Batch 1300] Loss: 0.565 Accuracy: 0.780\n",
      "[Epoch 27, Batch 1400] Loss: 0.565 Accuracy: 0.780\n",
      "[Epoch 27, Batch 1500] Loss: 0.564 Accuracy: 0.781\n",
      "[Epoch 27, Batch 1600] Loss: 0.558 Accuracy: 0.788\n",
      "[Epoch 27, Batch 1700] Loss: 0.562 Accuracy: 0.782\n",
      "[Epoch 27, Batch 1800] Loss: 0.565 Accuracy: 0.780\n",
      "[Epoch 27, Batch 1900] Loss: 0.560 Accuracy: 0.786\n"
     ]
    },
    {
     "name": "stderr",
     "output_type": "stream",
     "text": [
      "/opt/conda/lib/python3.7/site-packages/torch/utils/data/dataloader.py:557: UserWarning: This DataLoader will create 4 worker processes in total. Our suggested max number of worker in current system is 2, which is smaller than what this DataLoader is going to create. Please be aware that excessive worker creation might get DataLoader running slow or even freeze, lower the worker number to avoid potential slowness/freeze if necessary.\n",
      "  cpuset_checked))\n"
     ]
    },
    {
     "name": "stdout",
     "output_type": "stream",
     "text": [
      "Epoch 27 Val Loss: 0.5618839138243572 \t\t Val Accuracy: 0.7843072039617078\n",
      "Validation Loss Decreased(139.957957--->139.909095) \t Saving The Model\n"
     ]
    },
    {
     "name": "stderr",
     "output_type": "stream",
     "text": [
      "/opt/conda/lib/python3.7/site-packages/torch/utils/data/dataloader.py:557: UserWarning: This DataLoader will create 4 worker processes in total. Our suggested max number of worker in current system is 2, which is smaller than what this DataLoader is going to create. Please be aware that excessive worker creation might get DataLoader running slow or even freeze, lower the worker number to avoid potential slowness/freeze if necessary.\n",
      "  cpuset_checked))\n"
     ]
    },
    {
     "name": "stdout",
     "output_type": "stream",
     "text": [
      "[Epoch 28, Batch 100] Loss: 0.561 Accuracy: 0.784\n",
      "[Epoch 28, Batch 200] Loss: 0.564 Accuracy: 0.781\n",
      "[Epoch 28, Batch 300] Loss: 0.566 Accuracy: 0.779\n",
      "[Epoch 28, Batch 400] Loss: 0.559 Accuracy: 0.785\n",
      "[Epoch 28, Batch 500] Loss: 0.563 Accuracy: 0.783\n",
      "[Epoch 28, Batch 600] Loss: 0.566 Accuracy: 0.779\n",
      "[Epoch 28, Batch 700] Loss: 0.565 Accuracy: 0.781\n",
      "[Epoch 28, Batch 800] Loss: 0.567 Accuracy: 0.778\n",
      "[Epoch 28, Batch 900] Loss: 0.565 Accuracy: 0.780\n",
      "[Epoch 28, Batch 1000] Loss: 0.560 Accuracy: 0.784\n",
      "[Epoch 28, Batch 1100] Loss: 0.559 Accuracy: 0.786\n",
      "[Epoch 28, Batch 1200] Loss: 0.565 Accuracy: 0.782\n",
      "[Epoch 28, Batch 1300] Loss: 0.561 Accuracy: 0.784\n",
      "[Epoch 28, Batch 1400] Loss: 0.565 Accuracy: 0.781\n",
      "[Epoch 28, Batch 1500] Loss: 0.560 Accuracy: 0.785\n",
      "[Epoch 28, Batch 1600] Loss: 0.565 Accuracy: 0.780\n",
      "[Epoch 28, Batch 1700] Loss: 0.564 Accuracy: 0.783\n",
      "[Epoch 28, Batch 1800] Loss: 0.561 Accuracy: 0.784\n",
      "[Epoch 28, Batch 1900] Loss: 0.564 Accuracy: 0.781\n"
     ]
    },
    {
     "name": "stderr",
     "output_type": "stream",
     "text": [
      "/opt/conda/lib/python3.7/site-packages/torch/utils/data/dataloader.py:557: UserWarning: This DataLoader will create 4 worker processes in total. Our suggested max number of worker in current system is 2, which is smaller than what this DataLoader is going to create. Please be aware that excessive worker creation might get DataLoader running slow or even freeze, lower the worker number to avoid potential slowness/freeze if necessary.\n",
      "  cpuset_checked))\n"
     ]
    },
    {
     "name": "stdout",
     "output_type": "stream",
     "text": [
      "Epoch 28 Val Loss: 0.5594341091841579 \t\t Val Accuracy: 0.7860672285949821\n",
      "Validation Loss Decreased(139.909095--->139.299093) \t Saving The Model\n"
     ]
    },
    {
     "name": "stderr",
     "output_type": "stream",
     "text": [
      "/opt/conda/lib/python3.7/site-packages/torch/utils/data/dataloader.py:557: UserWarning: This DataLoader will create 4 worker processes in total. Our suggested max number of worker in current system is 2, which is smaller than what this DataLoader is going to create. Please be aware that excessive worker creation might get DataLoader running slow or even freeze, lower the worker number to avoid potential slowness/freeze if necessary.\n",
      "  cpuset_checked))\n"
     ]
    },
    {
     "name": "stdout",
     "output_type": "stream",
     "text": [
      "[Epoch 29, Batch 100] Loss: 0.567 Accuracy: 0.779\n",
      "[Epoch 29, Batch 200] Loss: 0.566 Accuracy: 0.780\n",
      "[Epoch 29, Batch 300] Loss: 0.567 Accuracy: 0.778\n",
      "[Epoch 29, Batch 400] Loss: 0.564 Accuracy: 0.780\n",
      "[Epoch 29, Batch 500] Loss: 0.561 Accuracy: 0.785\n",
      "[Epoch 29, Batch 600] Loss: 0.561 Accuracy: 0.785\n",
      "[Epoch 29, Batch 700] Loss: 0.564 Accuracy: 0.781\n",
      "[Epoch 29, Batch 800] Loss: 0.562 Accuracy: 0.782\n",
      "[Epoch 29, Batch 900] Loss: 0.560 Accuracy: 0.786\n",
      "[Epoch 29, Batch 1000] Loss: 0.563 Accuracy: 0.782\n",
      "[Epoch 29, Batch 1100] Loss: 0.558 Accuracy: 0.789\n",
      "[Epoch 29, Batch 1200] Loss: 0.563 Accuracy: 0.782\n",
      "[Epoch 29, Batch 1300] Loss: 0.562 Accuracy: 0.783\n",
      "[Epoch 29, Batch 1400] Loss: 0.567 Accuracy: 0.777\n",
      "[Epoch 29, Batch 1500] Loss: 0.551 Accuracy: 0.794\n",
      "[Epoch 29, Batch 1600] Loss: 0.560 Accuracy: 0.785\n",
      "[Epoch 29, Batch 1700] Loss: 0.562 Accuracy: 0.782\n",
      "[Epoch 29, Batch 1800] Loss: 0.558 Accuracy: 0.787\n",
      "[Epoch 29, Batch 1900] Loss: 0.563 Accuracy: 0.783\n"
     ]
    },
    {
     "name": "stderr",
     "output_type": "stream",
     "text": [
      "/opt/conda/lib/python3.7/site-packages/torch/utils/data/dataloader.py:557: UserWarning: This DataLoader will create 4 worker processes in total. Our suggested max number of worker in current system is 2, which is smaller than what this DataLoader is going to create. Please be aware that excessive worker creation might get DataLoader running slow or even freeze, lower the worker number to avoid potential slowness/freeze if necessary.\n",
      "  cpuset_checked))\n"
     ]
    },
    {
     "name": "stdout",
     "output_type": "stream",
     "text": [
      "Epoch 29 Val Loss: 0.5632490875969929 \t\t Val Accuracy: 0.7811475733007818\n"
     ]
    },
    {
     "name": "stderr",
     "output_type": "stream",
     "text": [
      "/opt/conda/lib/python3.7/site-packages/torch/utils/data/dataloader.py:557: UserWarning: This DataLoader will create 4 worker processes in total. Our suggested max number of worker in current system is 2, which is smaller than what this DataLoader is going to create. Please be aware that excessive worker creation might get DataLoader running slow or even freeze, lower the worker number to avoid potential slowness/freeze if necessary.\n",
      "  cpuset_checked))\n"
     ]
    },
    {
     "name": "stdout",
     "output_type": "stream",
     "text": [
      "[Epoch 30, Batch 100] Loss: 0.558 Accuracy: 0.787\n",
      "[Epoch 30, Batch 200] Loss: 0.562 Accuracy: 0.783\n",
      "[Epoch 30, Batch 300] Loss: 0.559 Accuracy: 0.787\n",
      "[Epoch 30, Batch 400] Loss: 0.550 Accuracy: 0.795\n",
      "[Epoch 30, Batch 500] Loss: 0.557 Accuracy: 0.789\n",
      "[Epoch 30, Batch 600] Loss: 0.561 Accuracy: 0.784\n",
      "[Epoch 30, Batch 700] Loss: 0.561 Accuracy: 0.783\n",
      "[Epoch 30, Batch 800] Loss: 0.563 Accuracy: 0.781\n",
      "[Epoch 30, Batch 900] Loss: 0.560 Accuracy: 0.785\n",
      "[Epoch 30, Batch 1000] Loss: 0.564 Accuracy: 0.781\n",
      "[Epoch 30, Batch 1100] Loss: 0.571 Accuracy: 0.775\n",
      "[Epoch 30, Batch 1200] Loss: 0.563 Accuracy: 0.784\n",
      "[Epoch 30, Batch 1300] Loss: 0.562 Accuracy: 0.784\n",
      "[Epoch 30, Batch 1400] Loss: 0.565 Accuracy: 0.781\n",
      "[Epoch 30, Batch 1500] Loss: 0.562 Accuracy: 0.784\n",
      "[Epoch 30, Batch 1600] Loss: 0.561 Accuracy: 0.785\n",
      "[Epoch 30, Batch 1700] Loss: 0.566 Accuracy: 0.780\n",
      "[Epoch 30, Batch 1800] Loss: 0.564 Accuracy: 0.782\n",
      "[Epoch 30, Batch 1900] Loss: 0.566 Accuracy: 0.779\n"
     ]
    },
    {
     "name": "stderr",
     "output_type": "stream",
     "text": [
      "/opt/conda/lib/python3.7/site-packages/torch/utils/data/dataloader.py:557: UserWarning: This DataLoader will create 4 worker processes in total. Our suggested max number of worker in current system is 2, which is smaller than what this DataLoader is going to create. Please be aware that excessive worker creation might get DataLoader running slow or even freeze, lower the worker number to avoid potential slowness/freeze if necessary.\n",
      "  cpuset_checked))\n"
     ]
    },
    {
     "name": "stdout",
     "output_type": "stream",
     "text": [
      "Epoch 30 Val Loss: 0.5591949800171526 \t\t Val Accuracy: 0.7853416701992285\n",
      "Validation Loss Decreased(139.299093--->139.239550) \t Saving The Model\n"
     ]
    },
    {
     "name": "stderr",
     "output_type": "stream",
     "text": [
      "/opt/conda/lib/python3.7/site-packages/torch/utils/data/dataloader.py:557: UserWarning: This DataLoader will create 4 worker processes in total. Our suggested max number of worker in current system is 2, which is smaller than what this DataLoader is going to create. Please be aware that excessive worker creation might get DataLoader running slow or even freeze, lower the worker number to avoid potential slowness/freeze if necessary.\n",
      "  cpuset_checked))\n"
     ]
    },
    {
     "name": "stdout",
     "output_type": "stream",
     "text": [
      "[Epoch 31, Batch 100] Loss: 0.564 Accuracy: 0.780\n",
      "[Epoch 31, Batch 200] Loss: 0.562 Accuracy: 0.784\n",
      "[Epoch 31, Batch 300] Loss: 0.563 Accuracy: 0.783\n",
      "[Epoch 31, Batch 400] Loss: 0.563 Accuracy: 0.781\n",
      "[Epoch 31, Batch 500] Loss: 0.559 Accuracy: 0.788\n",
      "[Epoch 31, Batch 600] Loss: 0.566 Accuracy: 0.780\n",
      "[Epoch 31, Batch 700] Loss: 0.556 Accuracy: 0.790\n",
      "[Epoch 31, Batch 800] Loss: 0.558 Accuracy: 0.787\n",
      "[Epoch 31, Batch 900] Loss: 0.559 Accuracy: 0.787\n",
      "[Epoch 31, Batch 1000] Loss: 0.565 Accuracy: 0.781\n",
      "[Epoch 31, Batch 1100] Loss: 0.565 Accuracy: 0.781\n",
      "[Epoch 31, Batch 1200] Loss: 0.564 Accuracy: 0.782\n",
      "[Epoch 31, Batch 1300] Loss: 0.564 Accuracy: 0.780\n",
      "[Epoch 31, Batch 1400] Loss: 0.565 Accuracy: 0.780\n",
      "[Epoch 31, Batch 1500] Loss: 0.556 Accuracy: 0.789\n",
      "[Epoch 31, Batch 1600] Loss: 0.560 Accuracy: 0.786\n",
      "[Epoch 31, Batch 1700] Loss: 0.564 Accuracy: 0.780\n",
      "[Epoch 31, Batch 1800] Loss: 0.557 Accuracy: 0.788\n",
      "[Epoch 31, Batch 1900] Loss: 0.563 Accuracy: 0.783\n"
     ]
    },
    {
     "name": "stderr",
     "output_type": "stream",
     "text": [
      "/opt/conda/lib/python3.7/site-packages/torch/utils/data/dataloader.py:557: UserWarning: This DataLoader will create 4 worker processes in total. Our suggested max number of worker in current system is 2, which is smaller than what this DataLoader is going to create. Please be aware that excessive worker creation might get DataLoader running slow or even freeze, lower the worker number to avoid potential slowness/freeze if necessary.\n",
      "  cpuset_checked))\n"
     ]
    },
    {
     "name": "stdout",
     "output_type": "stream",
     "text": [
      "Epoch 31 Val Loss: 0.569794539107855 \t\t Val Accuracy: 0.7820986678182764\n"
     ]
    },
    {
     "name": "stderr",
     "output_type": "stream",
     "text": [
      "/opt/conda/lib/python3.7/site-packages/torch/utils/data/dataloader.py:557: UserWarning: This DataLoader will create 4 worker processes in total. Our suggested max number of worker in current system is 2, which is smaller than what this DataLoader is going to create. Please be aware that excessive worker creation might get DataLoader running slow or even freeze, lower the worker number to avoid potential slowness/freeze if necessary.\n",
      "  cpuset_checked))\n"
     ]
    },
    {
     "name": "stdout",
     "output_type": "stream",
     "text": [
      "[Epoch 32, Batch 100] Loss: 0.556 Accuracy: 0.788\n",
      "[Epoch 32, Batch 200] Loss: 0.559 Accuracy: 0.786\n",
      "[Epoch 32, Batch 300] Loss: 0.559 Accuracy: 0.785\n",
      "[Epoch 32, Batch 400] Loss: 0.558 Accuracy: 0.786\n",
      "[Epoch 32, Batch 500] Loss: 0.566 Accuracy: 0.780\n",
      "[Epoch 32, Batch 600] Loss: 0.568 Accuracy: 0.778\n",
      "[Epoch 32, Batch 700] Loss: 0.559 Accuracy: 0.787\n",
      "[Epoch 32, Batch 800] Loss: 0.564 Accuracy: 0.781\n",
      "[Epoch 32, Batch 900] Loss: 0.562 Accuracy: 0.783\n",
      "[Epoch 32, Batch 1000] Loss: 0.566 Accuracy: 0.781\n",
      "[Epoch 32, Batch 1100] Loss: 0.557 Accuracy: 0.789\n",
      "[Epoch 32, Batch 1200] Loss: 0.563 Accuracy: 0.782\n",
      "[Epoch 32, Batch 1300] Loss: 0.559 Accuracy: 0.787\n",
      "[Epoch 32, Batch 1400] Loss: 0.558 Accuracy: 0.787\n",
      "[Epoch 32, Batch 1500] Loss: 0.559 Accuracy: 0.785\n",
      "[Epoch 32, Batch 1600] Loss: 0.562 Accuracy: 0.783\n",
      "[Epoch 32, Batch 1700] Loss: 0.560 Accuracy: 0.783\n",
      "[Epoch 32, Batch 1800] Loss: 0.569 Accuracy: 0.777\n",
      "[Epoch 32, Batch 1900] Loss: 0.558 Accuracy: 0.787\n"
     ]
    },
    {
     "name": "stderr",
     "output_type": "stream",
     "text": [
      "/opt/conda/lib/python3.7/site-packages/torch/utils/data/dataloader.py:557: UserWarning: This DataLoader will create 4 worker processes in total. Our suggested max number of worker in current system is 2, which is smaller than what this DataLoader is going to create. Please be aware that excessive worker creation might get DataLoader running slow or even freeze, lower the worker number to avoid potential slowness/freeze if necessary.\n",
      "  cpuset_checked))\n"
     ]
    },
    {
     "name": "stdout",
     "output_type": "stream",
     "text": [
      "Epoch 32 Val Loss: 0.5608336458723229 \t\t Val Accuracy: 0.7872083483119456\n"
     ]
    },
    {
     "name": "stderr",
     "output_type": "stream",
     "text": [
      "/opt/conda/lib/python3.7/site-packages/torch/utils/data/dataloader.py:557: UserWarning: This DataLoader will create 4 worker processes in total. Our suggested max number of worker in current system is 2, which is smaller than what this DataLoader is going to create. Please be aware that excessive worker creation might get DataLoader running slow or even freeze, lower the worker number to avoid potential slowness/freeze if necessary.\n",
      "  cpuset_checked))\n"
     ]
    },
    {
     "name": "stdout",
     "output_type": "stream",
     "text": [
      "[Epoch 33, Batch 100] Loss: 0.567 Accuracy: 0.779\n",
      "[Epoch 33, Batch 200] Loss: 0.564 Accuracy: 0.782\n",
      "[Epoch 33, Batch 300] Loss: 0.562 Accuracy: 0.784\n",
      "[Epoch 33, Batch 400] Loss: 0.559 Accuracy: 0.787\n",
      "[Epoch 33, Batch 500] Loss: 0.559 Accuracy: 0.785\n",
      "[Epoch 33, Batch 600] Loss: 0.558 Accuracy: 0.786\n",
      "[Epoch 33, Batch 700] Loss: 0.565 Accuracy: 0.781\n",
      "[Epoch 33, Batch 800] Loss: 0.558 Accuracy: 0.787\n",
      "[Epoch 33, Batch 900] Loss: 0.559 Accuracy: 0.786\n",
      "[Epoch 33, Batch 1000] Loss: 0.558 Accuracy: 0.787\n",
      "[Epoch 33, Batch 1100] Loss: 0.557 Accuracy: 0.788\n",
      "[Epoch 33, Batch 1200] Loss: 0.560 Accuracy: 0.785\n",
      "[Epoch 33, Batch 1300] Loss: 0.563 Accuracy: 0.784\n",
      "[Epoch 33, Batch 1400] Loss: 0.560 Accuracy: 0.784\n",
      "[Epoch 33, Batch 1500] Loss: 0.568 Accuracy: 0.776\n",
      "[Epoch 33, Batch 1600] Loss: 0.560 Accuracy: 0.785\n",
      "[Epoch 33, Batch 1700] Loss: 0.559 Accuracy: 0.788\n",
      "[Epoch 33, Batch 1800] Loss: 0.555 Accuracy: 0.790\n",
      "[Epoch 33, Batch 1900] Loss: 0.555 Accuracy: 0.791\n"
     ]
    },
    {
     "name": "stderr",
     "output_type": "stream",
     "text": [
      "/opt/conda/lib/python3.7/site-packages/torch/utils/data/dataloader.py:557: UserWarning: This DataLoader will create 4 worker processes in total. Our suggested max number of worker in current system is 2, which is smaller than what this DataLoader is going to create. Please be aware that excessive worker creation might get DataLoader running slow or even freeze, lower the worker number to avoid potential slowness/freeze if necessary.\n",
      "  cpuset_checked))\n"
     ]
    },
    {
     "name": "stdout",
     "output_type": "stream",
     "text": [
      "Epoch 33 Val Loss: 0.5597239243218219 \t\t Val Accuracy: 0.7853826461212099\n"
     ]
    },
    {
     "name": "stderr",
     "output_type": "stream",
     "text": [
      "/opt/conda/lib/python3.7/site-packages/torch/utils/data/dataloader.py:557: UserWarning: This DataLoader will create 4 worker processes in total. Our suggested max number of worker in current system is 2, which is smaller than what this DataLoader is going to create. Please be aware that excessive worker creation might get DataLoader running slow or even freeze, lower the worker number to avoid potential slowness/freeze if necessary.\n",
      "  cpuset_checked))\n"
     ]
    },
    {
     "name": "stdout",
     "output_type": "stream",
     "text": [
      "[Epoch 34, Batch 100] Loss: 0.560 Accuracy: 0.785\n",
      "[Epoch 34, Batch 200] Loss: 0.557 Accuracy: 0.788\n",
      "[Epoch 34, Batch 300] Loss: 0.562 Accuracy: 0.783\n",
      "[Epoch 34, Batch 400] Loss: 0.560 Accuracy: 0.786\n",
      "[Epoch 34, Batch 500] Loss: 0.561 Accuracy: 0.783\n",
      "[Epoch 34, Batch 600] Loss: 0.566 Accuracy: 0.780\n",
      "[Epoch 34, Batch 700] Loss: 0.556 Accuracy: 0.790\n",
      "[Epoch 34, Batch 800] Loss: 0.561 Accuracy: 0.783\n",
      "[Epoch 34, Batch 900] Loss: 0.555 Accuracy: 0.790\n",
      "[Epoch 34, Batch 1000] Loss: 0.561 Accuracy: 0.784\n",
      "[Epoch 34, Batch 1100] Loss: 0.561 Accuracy: 0.784\n",
      "[Epoch 34, Batch 1200] Loss: 0.557 Accuracy: 0.787\n",
      "[Epoch 34, Batch 1300] Loss: 0.563 Accuracy: 0.783\n",
      "[Epoch 34, Batch 1400] Loss: 0.562 Accuracy: 0.785\n",
      "[Epoch 34, Batch 1500] Loss: 0.556 Accuracy: 0.790\n",
      "[Epoch 34, Batch 1600] Loss: 0.557 Accuracy: 0.788\n",
      "[Epoch 34, Batch 1700] Loss: 0.563 Accuracy: 0.782\n",
      "[Epoch 34, Batch 1800] Loss: 0.555 Accuracy: 0.791\n",
      "[Epoch 34, Batch 1900] Loss: 0.560 Accuracy: 0.785\n"
     ]
    },
    {
     "name": "stderr",
     "output_type": "stream",
     "text": [
      "/opt/conda/lib/python3.7/site-packages/torch/utils/data/dataloader.py:557: UserWarning: This DataLoader will create 4 worker processes in total. Our suggested max number of worker in current system is 2, which is smaller than what this DataLoader is going to create. Please be aware that excessive worker creation might get DataLoader running slow or even freeze, lower the worker number to avoid potential slowness/freeze if necessary.\n",
      "  cpuset_checked))\n"
     ]
    },
    {
     "name": "stdout",
     "output_type": "stream",
     "text": [
      "Epoch 34 Val Loss: 0.5562234355742672 \t\t Val Accuracy: 0.7887028352529476\n",
      "Validation Loss Decreased(139.239550--->138.499635) \t Saving The Model\n"
     ]
    },
    {
     "name": "stderr",
     "output_type": "stream",
     "text": [
      "/opt/conda/lib/python3.7/site-packages/torch/utils/data/dataloader.py:557: UserWarning: This DataLoader will create 4 worker processes in total. Our suggested max number of worker in current system is 2, which is smaller than what this DataLoader is going to create. Please be aware that excessive worker creation might get DataLoader running slow or even freeze, lower the worker number to avoid potential slowness/freeze if necessary.\n",
      "  cpuset_checked))\n"
     ]
    },
    {
     "name": "stdout",
     "output_type": "stream",
     "text": [
      "[Epoch 35, Batch 100] Loss: 0.559 Accuracy: 0.787\n",
      "[Epoch 35, Batch 200] Loss: 0.561 Accuracy: 0.784\n",
      "[Epoch 35, Batch 300] Loss: 0.558 Accuracy: 0.786\n",
      "[Epoch 35, Batch 400] Loss: 0.558 Accuracy: 0.787\n",
      "[Epoch 35, Batch 500] Loss: 0.560 Accuracy: 0.786\n",
      "[Epoch 35, Batch 600] Loss: 0.565 Accuracy: 0.781\n",
      "[Epoch 35, Batch 700] Loss: 0.561 Accuracy: 0.785\n",
      "[Epoch 35, Batch 800] Loss: 0.559 Accuracy: 0.786\n",
      "[Epoch 35, Batch 900] Loss: 0.561 Accuracy: 0.785\n",
      "[Epoch 35, Batch 1000] Loss: 0.560 Accuracy: 0.785\n",
      "[Epoch 35, Batch 1100] Loss: 0.558 Accuracy: 0.786\n",
      "[Epoch 35, Batch 1200] Loss: 0.559 Accuracy: 0.787\n",
      "[Epoch 35, Batch 1300] Loss: 0.555 Accuracy: 0.789\n",
      "[Epoch 35, Batch 1400] Loss: 0.558 Accuracy: 0.786\n",
      "[Epoch 35, Batch 1500] Loss: 0.558 Accuracy: 0.786\n",
      "[Epoch 35, Batch 1600] Loss: 0.555 Accuracy: 0.790\n",
      "[Epoch 35, Batch 1700] Loss: 0.563 Accuracy: 0.782\n",
      "[Epoch 35, Batch 1800] Loss: 0.555 Accuracy: 0.789\n",
      "[Epoch 35, Batch 1900] Loss: 0.561 Accuracy: 0.784\n"
     ]
    },
    {
     "name": "stderr",
     "output_type": "stream",
     "text": [
      "/opt/conda/lib/python3.7/site-packages/torch/utils/data/dataloader.py:557: UserWarning: This DataLoader will create 4 worker processes in total. Our suggested max number of worker in current system is 2, which is smaller than what this DataLoader is going to create. Please be aware that excessive worker creation might get DataLoader running slow or even freeze, lower the worker number to avoid potential slowness/freeze if necessary.\n",
      "  cpuset_checked))\n"
     ]
    },
    {
     "name": "stdout",
     "output_type": "stream",
     "text": [
      "Epoch 35 Val Loss: 0.5606602989286783 \t\t Val Accuracy: 0.7861161654696961\n"
     ]
    },
    {
     "name": "stderr",
     "output_type": "stream",
     "text": [
      "/opt/conda/lib/python3.7/site-packages/torch/utils/data/dataloader.py:557: UserWarning: This DataLoader will create 4 worker processes in total. Our suggested max number of worker in current system is 2, which is smaller than what this DataLoader is going to create. Please be aware that excessive worker creation might get DataLoader running slow or even freeze, lower the worker number to avoid potential slowness/freeze if necessary.\n",
      "  cpuset_checked))\n"
     ]
    },
    {
     "name": "stdout",
     "output_type": "stream",
     "text": [
      "[Epoch 36, Batch 100] Loss: 0.558 Accuracy: 0.789\n",
      "[Epoch 36, Batch 200] Loss: 0.558 Accuracy: 0.787\n",
      "[Epoch 36, Batch 300] Loss: 0.556 Accuracy: 0.789\n",
      "[Epoch 36, Batch 400] Loss: 0.564 Accuracy: 0.781\n",
      "[Epoch 36, Batch 500] Loss: 0.553 Accuracy: 0.792\n",
      "[Epoch 36, Batch 600] Loss: 0.554 Accuracy: 0.790\n",
      "[Epoch 36, Batch 700] Loss: 0.561 Accuracy: 0.784\n",
      "[Epoch 36, Batch 800] Loss: 0.563 Accuracy: 0.782\n",
      "[Epoch 36, Batch 900] Loss: 0.559 Accuracy: 0.786\n",
      "[Epoch 36, Batch 1000] Loss: 0.556 Accuracy: 0.790\n",
      "[Epoch 36, Batch 1100] Loss: 0.556 Accuracy: 0.789\n",
      "[Epoch 36, Batch 1200] Loss: 0.555 Accuracy: 0.789\n",
      "[Epoch 36, Batch 1300] Loss: 0.559 Accuracy: 0.787\n",
      "[Epoch 36, Batch 1400] Loss: 0.557 Accuracy: 0.788\n",
      "[Epoch 36, Batch 1500] Loss: 0.559 Accuracy: 0.787\n",
      "[Epoch 36, Batch 1600] Loss: 0.557 Accuracy: 0.787\n",
      "[Epoch 36, Batch 1700] Loss: 0.563 Accuracy: 0.783\n",
      "[Epoch 36, Batch 1800] Loss: 0.555 Accuracy: 0.790\n",
      "[Epoch 36, Batch 1900] Loss: 0.563 Accuracy: 0.781\n"
     ]
    },
    {
     "name": "stderr",
     "output_type": "stream",
     "text": [
      "/opt/conda/lib/python3.7/site-packages/torch/utils/data/dataloader.py:557: UserWarning: This DataLoader will create 4 worker processes in total. Our suggested max number of worker in current system is 2, which is smaller than what this DataLoader is going to create. Please be aware that excessive worker creation might get DataLoader running slow or even freeze, lower the worker number to avoid potential slowness/freeze if necessary.\n",
      "  cpuset_checked))\n"
     ]
    },
    {
     "name": "stdout",
     "output_type": "stream",
     "text": [
      "Epoch 36 Val Loss: 0.5582438509866415 \t\t Val Accuracy: 0.7887509035122956\n"
     ]
    },
    {
     "name": "stderr",
     "output_type": "stream",
     "text": [
      "/opt/conda/lib/python3.7/site-packages/torch/utils/data/dataloader.py:557: UserWarning: This DataLoader will create 4 worker processes in total. Our suggested max number of worker in current system is 2, which is smaller than what this DataLoader is going to create. Please be aware that excessive worker creation might get DataLoader running slow or even freeze, lower the worker number to avoid potential slowness/freeze if necessary.\n",
      "  cpuset_checked))\n"
     ]
    },
    {
     "name": "stdout",
     "output_type": "stream",
     "text": [
      "[Epoch 37, Batch 100] Loss: 0.561 Accuracy: 0.783\n",
      "[Epoch 37, Batch 200] Loss: 0.558 Accuracy: 0.787\n",
      "[Epoch 37, Batch 300] Loss: 0.560 Accuracy: 0.786\n",
      "[Epoch 37, Batch 400] Loss: 0.559 Accuracy: 0.785\n",
      "[Epoch 37, Batch 500] Loss: 0.559 Accuracy: 0.786\n",
      "[Epoch 37, Batch 600] Loss: 0.562 Accuracy: 0.784\n",
      "[Epoch 37, Batch 700] Loss: 0.561 Accuracy: 0.783\n",
      "[Epoch 37, Batch 800] Loss: 0.552 Accuracy: 0.793\n",
      "[Epoch 37, Batch 900] Loss: 0.559 Accuracy: 0.786\n",
      "[Epoch 37, Batch 1000] Loss: 0.555 Accuracy: 0.790\n",
      "[Epoch 37, Batch 1100] Loss: 0.562 Accuracy: 0.782\n",
      "[Epoch 37, Batch 1200] Loss: 0.560 Accuracy: 0.785\n",
      "[Epoch 37, Batch 1300] Loss: 0.559 Accuracy: 0.787\n",
      "[Epoch 37, Batch 1400] Loss: 0.562 Accuracy: 0.783\n",
      "[Epoch 37, Batch 1500] Loss: 0.554 Accuracy: 0.790\n",
      "[Epoch 37, Batch 1600] Loss: 0.559 Accuracy: 0.785\n",
      "[Epoch 37, Batch 1700] Loss: 0.557 Accuracy: 0.787\n",
      "[Epoch 37, Batch 1800] Loss: 0.553 Accuracy: 0.792\n",
      "[Epoch 37, Batch 1900] Loss: 0.554 Accuracy: 0.791\n"
     ]
    },
    {
     "name": "stderr",
     "output_type": "stream",
     "text": [
      "/opt/conda/lib/python3.7/site-packages/torch/utils/data/dataloader.py:557: UserWarning: This DataLoader will create 4 worker processes in total. Our suggested max number of worker in current system is 2, which is smaller than what this DataLoader is going to create. Please be aware that excessive worker creation might get DataLoader running slow or even freeze, lower the worker number to avoid potential slowness/freeze if necessary.\n",
      "  cpuset_checked))\n"
     ]
    },
    {
     "name": "stdout",
     "output_type": "stream",
     "text": [
      "Epoch 37 Val Loss: 0.5556232869385715 \t\t Val Accuracy: 0.7887996731792605\n",
      "Validation Loss Decreased(138.499635--->138.350198) \t Saving The Model\n"
     ]
    },
    {
     "name": "stderr",
     "output_type": "stream",
     "text": [
      "/opt/conda/lib/python3.7/site-packages/torch/utils/data/dataloader.py:557: UserWarning: This DataLoader will create 4 worker processes in total. Our suggested max number of worker in current system is 2, which is smaller than what this DataLoader is going to create. Please be aware that excessive worker creation might get DataLoader running slow or even freeze, lower the worker number to avoid potential slowness/freeze if necessary.\n",
      "  cpuset_checked))\n"
     ]
    },
    {
     "name": "stdout",
     "output_type": "stream",
     "text": [
      "[Epoch 38, Batch 100] Loss: 0.559 Accuracy: 0.785\n",
      "[Epoch 38, Batch 200] Loss: 0.561 Accuracy: 0.784\n",
      "[Epoch 38, Batch 300] Loss: 0.556 Accuracy: 0.789\n",
      "[Epoch 38, Batch 400] Loss: 0.564 Accuracy: 0.782\n",
      "[Epoch 38, Batch 500] Loss: 0.556 Accuracy: 0.789\n",
      "[Epoch 38, Batch 600] Loss: 0.560 Accuracy: 0.785\n",
      "[Epoch 38, Batch 700] Loss: 0.555 Accuracy: 0.791\n",
      "[Epoch 38, Batch 800] Loss: 0.552 Accuracy: 0.793\n",
      "[Epoch 38, Batch 900] Loss: 0.556 Accuracy: 0.789\n",
      "[Epoch 38, Batch 1000] Loss: 0.554 Accuracy: 0.791\n",
      "[Epoch 38, Batch 1100] Loss: 0.558 Accuracy: 0.788\n",
      "[Epoch 38, Batch 1200] Loss: 0.551 Accuracy: 0.793\n",
      "[Epoch 38, Batch 1300] Loss: 0.561 Accuracy: 0.785\n",
      "[Epoch 38, Batch 1400] Loss: 0.555 Accuracy: 0.790\n",
      "[Epoch 38, Batch 1500] Loss: 0.553 Accuracy: 0.791\n",
      "[Epoch 38, Batch 1600] Loss: 0.561 Accuracy: 0.783\n",
      "[Epoch 38, Batch 1700] Loss: 0.562 Accuracy: 0.784\n",
      "[Epoch 38, Batch 1800] Loss: 0.559 Accuracy: 0.786\n",
      "[Epoch 38, Batch 1900] Loss: 0.562 Accuracy: 0.782\n"
     ]
    },
    {
     "name": "stderr",
     "output_type": "stream",
     "text": [
      "/opt/conda/lib/python3.7/site-packages/torch/utils/data/dataloader.py:557: UserWarning: This DataLoader will create 4 worker processes in total. Our suggested max number of worker in current system is 2, which is smaller than what this DataLoader is going to create. Please be aware that excessive worker creation might get DataLoader running slow or even freeze, lower the worker number to avoid potential slowness/freeze if necessary.\n",
      "  cpuset_checked))\n"
     ]
    },
    {
     "name": "stdout",
     "output_type": "stream",
     "text": [
      "Epoch 38 Val Loss: 0.5598436802266592 \t\t Val Accuracy: 0.7842789107903472\n"
     ]
    },
    {
     "name": "stderr",
     "output_type": "stream",
     "text": [
      "/opt/conda/lib/python3.7/site-packages/torch/utils/data/dataloader.py:557: UserWarning: This DataLoader will create 4 worker processes in total. Our suggested max number of worker in current system is 2, which is smaller than what this DataLoader is going to create. Please be aware that excessive worker creation might get DataLoader running slow or even freeze, lower the worker number to avoid potential slowness/freeze if necessary.\n",
      "  cpuset_checked))\n"
     ]
    },
    {
     "name": "stdout",
     "output_type": "stream",
     "text": [
      "[Epoch 39, Batch 100] Loss: 0.554 Accuracy: 0.790\n",
      "[Epoch 39, Batch 200] Loss: 0.562 Accuracy: 0.783\n",
      "[Epoch 39, Batch 300] Loss: 0.558 Accuracy: 0.787\n",
      "[Epoch 39, Batch 400] Loss: 0.562 Accuracy: 0.784\n",
      "[Epoch 39, Batch 500] Loss: 0.559 Accuracy: 0.786\n",
      "[Epoch 39, Batch 600] Loss: 0.559 Accuracy: 0.785\n",
      "[Epoch 39, Batch 700] Loss: 0.555 Accuracy: 0.790\n",
      "[Epoch 39, Batch 800] Loss: 0.557 Accuracy: 0.788\n",
      "[Epoch 39, Batch 900] Loss: 0.554 Accuracy: 0.791\n",
      "[Epoch 39, Batch 1000] Loss: 0.555 Accuracy: 0.791\n",
      "[Epoch 39, Batch 1100] Loss: 0.557 Accuracy: 0.788\n",
      "[Epoch 39, Batch 1200] Loss: 0.554 Accuracy: 0.792\n",
      "[Epoch 39, Batch 1300] Loss: 0.560 Accuracy: 0.785\n",
      "[Epoch 39, Batch 1400] Loss: 0.552 Accuracy: 0.793\n",
      "[Epoch 39, Batch 1500] Loss: 0.560 Accuracy: 0.785\n",
      "[Epoch 39, Batch 1600] Loss: 0.562 Accuracy: 0.784\n",
      "[Epoch 39, Batch 1700] Loss: 0.558 Accuracy: 0.789\n",
      "[Epoch 39, Batch 1800] Loss: 0.554 Accuracy: 0.792\n",
      "[Epoch 39, Batch 1900] Loss: 0.555 Accuracy: 0.791\n"
     ]
    },
    {
     "name": "stderr",
     "output_type": "stream",
     "text": [
      "/opt/conda/lib/python3.7/site-packages/torch/utils/data/dataloader.py:557: UserWarning: This DataLoader will create 4 worker processes in total. Our suggested max number of worker in current system is 2, which is smaller than what this DataLoader is going to create. Please be aware that excessive worker creation might get DataLoader running slow or even freeze, lower the worker number to avoid potential slowness/freeze if necessary.\n",
      "  cpuset_checked))\n"
     ]
    },
    {
     "name": "stdout",
     "output_type": "stream",
     "text": [
      "Epoch 39 Val Loss: 0.554508841660128 \t\t Val Accuracy: 0.7901728573041493\n",
      "Validation Loss Decreased(138.350198--->138.072702) \t Saving The Model\n"
     ]
    },
    {
     "name": "stderr",
     "output_type": "stream",
     "text": [
      "/opt/conda/lib/python3.7/site-packages/torch/utils/data/dataloader.py:557: UserWarning: This DataLoader will create 4 worker processes in total. Our suggested max number of worker in current system is 2, which is smaller than what this DataLoader is going to create. Please be aware that excessive worker creation might get DataLoader running slow or even freeze, lower the worker number to avoid potential slowness/freeze if necessary.\n",
      "  cpuset_checked))\n"
     ]
    },
    {
     "name": "stdout",
     "output_type": "stream",
     "text": [
      "[Epoch 40, Batch 100] Loss: 0.557 Accuracy: 0.788\n",
      "[Epoch 40, Batch 200] Loss: 0.556 Accuracy: 0.788\n",
      "[Epoch 40, Batch 300] Loss: 0.561 Accuracy: 0.784\n",
      "[Epoch 40, Batch 400] Loss: 0.555 Accuracy: 0.790\n",
      "[Epoch 40, Batch 500] Loss: 0.556 Accuracy: 0.789\n",
      "[Epoch 40, Batch 600] Loss: 0.551 Accuracy: 0.794\n",
      "[Epoch 40, Batch 700] Loss: 0.556 Accuracy: 0.788\n",
      "[Epoch 40, Batch 800] Loss: 0.557 Accuracy: 0.788\n",
      "[Epoch 40, Batch 900] Loss: 0.554 Accuracy: 0.790\n",
      "[Epoch 40, Batch 1000] Loss: 0.556 Accuracy: 0.788\n",
      "[Epoch 40, Batch 1100] Loss: 0.560 Accuracy: 0.786\n",
      "[Epoch 40, Batch 1200] Loss: 0.558 Accuracy: 0.787\n",
      "[Epoch 40, Batch 1300] Loss: 0.558 Accuracy: 0.788\n",
      "[Epoch 40, Batch 1400] Loss: 0.553 Accuracy: 0.792\n",
      "[Epoch 40, Batch 1500] Loss: 0.556 Accuracy: 0.788\n",
      "[Epoch 40, Batch 1600] Loss: 0.560 Accuracy: 0.783\n",
      "[Epoch 40, Batch 1700] Loss: 0.557 Accuracy: 0.787\n",
      "[Epoch 40, Batch 1800] Loss: 0.557 Accuracy: 0.789\n",
      "[Epoch 40, Batch 1900] Loss: 0.552 Accuracy: 0.791\n"
     ]
    },
    {
     "name": "stderr",
     "output_type": "stream",
     "text": [
      "/opt/conda/lib/python3.7/site-packages/torch/utils/data/dataloader.py:557: UserWarning: This DataLoader will create 4 worker processes in total. Our suggested max number of worker in current system is 2, which is smaller than what this DataLoader is going to create. Please be aware that excessive worker creation might get DataLoader running slow or even freeze, lower the worker number to avoid potential slowness/freeze if necessary.\n",
      "  cpuset_checked))\n"
     ]
    },
    {
     "name": "stdout",
     "output_type": "stream",
     "text": [
      "Epoch 40 Val Loss: 0.5619693627079807 \t\t Val Accuracy: 0.7863005428990002\n"
     ]
    },
    {
     "name": "stderr",
     "output_type": "stream",
     "text": [
      "/opt/conda/lib/python3.7/site-packages/torch/utils/data/dataloader.py:557: UserWarning: This DataLoader will create 4 worker processes in total. Our suggested max number of worker in current system is 2, which is smaller than what this DataLoader is going to create. Please be aware that excessive worker creation might get DataLoader running slow or even freeze, lower the worker number to avoid potential slowness/freeze if necessary.\n",
      "  cpuset_checked))\n"
     ]
    },
    {
     "name": "stdout",
     "output_type": "stream",
     "text": [
      "[Epoch 41, Batch 100] Loss: 0.553 Accuracy: 0.793\n",
      "[Epoch 41, Batch 200] Loss: 0.558 Accuracy: 0.786\n",
      "[Epoch 41, Batch 300] Loss: 0.555 Accuracy: 0.789\n",
      "[Epoch 41, Batch 400] Loss: 0.559 Accuracy: 0.786\n",
      "[Epoch 41, Batch 500] Loss: 0.555 Accuracy: 0.791\n",
      "[Epoch 41, Batch 600] Loss: 0.549 Accuracy: 0.795\n",
      "[Epoch 41, Batch 700] Loss: 0.553 Accuracy: 0.792\n",
      "[Epoch 41, Batch 800] Loss: 0.560 Accuracy: 0.786\n",
      "[Epoch 41, Batch 900] Loss: 0.555 Accuracy: 0.791\n",
      "[Epoch 41, Batch 1000] Loss: 0.557 Accuracy: 0.788\n",
      "[Epoch 41, Batch 1100] Loss: 0.556 Accuracy: 0.789\n",
      "[Epoch 41, Batch 1200] Loss: 0.554 Accuracy: 0.790\n",
      "[Epoch 41, Batch 1300] Loss: 0.561 Accuracy: 0.784\n",
      "[Epoch 41, Batch 1400] Loss: 0.557 Accuracy: 0.787\n",
      "[Epoch 41, Batch 1500] Loss: 0.560 Accuracy: 0.785\n",
      "[Epoch 41, Batch 1600] Loss: 0.560 Accuracy: 0.784\n",
      "[Epoch 41, Batch 1700] Loss: 0.554 Accuracy: 0.791\n",
      "[Epoch 41, Batch 1800] Loss: 0.554 Accuracy: 0.790\n",
      "[Epoch 41, Batch 1900] Loss: 0.561 Accuracy: 0.784\n"
     ]
    },
    {
     "name": "stderr",
     "output_type": "stream",
     "text": [
      "/opt/conda/lib/python3.7/site-packages/torch/utils/data/dataloader.py:557: UserWarning: This DataLoader will create 4 worker processes in total. Our suggested max number of worker in current system is 2, which is smaller than what this DataLoader is going to create. Please be aware that excessive worker creation might get DataLoader running slow or even freeze, lower the worker number to avoid potential slowness/freeze if necessary.\n",
      "  cpuset_checked))\n"
     ]
    },
    {
     "name": "stdout",
     "output_type": "stream",
     "text": [
      "Epoch 41 Val Loss: 0.5604971303757893 \t\t Val Accuracy: 0.7847298100095487\n"
     ]
    },
    {
     "name": "stderr",
     "output_type": "stream",
     "text": [
      "/opt/conda/lib/python3.7/site-packages/torch/utils/data/dataloader.py:557: UserWarning: This DataLoader will create 4 worker processes in total. Our suggested max number of worker in current system is 2, which is smaller than what this DataLoader is going to create. Please be aware that excessive worker creation might get DataLoader running slow or even freeze, lower the worker number to avoid potential slowness/freeze if necessary.\n",
      "  cpuset_checked))\n"
     ]
    },
    {
     "name": "stdout",
     "output_type": "stream",
     "text": [
      "[Epoch 42, Batch 100] Loss: 0.553 Accuracy: 0.791\n",
      "[Epoch 42, Batch 200] Loss: 0.552 Accuracy: 0.793\n",
      "[Epoch 42, Batch 300] Loss: 0.558 Accuracy: 0.787\n",
      "[Epoch 42, Batch 400] Loss: 0.559 Accuracy: 0.786\n",
      "[Epoch 42, Batch 500] Loss: 0.558 Accuracy: 0.787\n",
      "[Epoch 42, Batch 600] Loss: 0.559 Accuracy: 0.787\n",
      "[Epoch 42, Batch 700] Loss: 0.551 Accuracy: 0.793\n",
      "[Epoch 42, Batch 800] Loss: 0.556 Accuracy: 0.789\n",
      "[Epoch 42, Batch 900] Loss: 0.559 Accuracy: 0.787\n",
      "[Epoch 42, Batch 1000] Loss: 0.558 Accuracy: 0.788\n",
      "[Epoch 42, Batch 1100] Loss: 0.558 Accuracy: 0.787\n",
      "[Epoch 42, Batch 1200] Loss: 0.557 Accuracy: 0.789\n",
      "[Epoch 42, Batch 1300] Loss: 0.559 Accuracy: 0.786\n",
      "[Epoch 42, Batch 1400] Loss: 0.556 Accuracy: 0.789\n",
      "[Epoch 42, Batch 1500] Loss: 0.555 Accuracy: 0.790\n",
      "[Epoch 42, Batch 1600] Loss: 0.553 Accuracy: 0.791\n",
      "[Epoch 42, Batch 1700] Loss: 0.553 Accuracy: 0.792\n",
      "[Epoch 42, Batch 1800] Loss: 0.554 Accuracy: 0.791\n",
      "[Epoch 42, Batch 1900] Loss: 0.552 Accuracy: 0.793\n"
     ]
    },
    {
     "name": "stderr",
     "output_type": "stream",
     "text": [
      "/opt/conda/lib/python3.7/site-packages/torch/utils/data/dataloader.py:557: UserWarning: This DataLoader will create 4 worker processes in total. Our suggested max number of worker in current system is 2, which is smaller than what this DataLoader is going to create. Please be aware that excessive worker creation might get DataLoader running slow or even freeze, lower the worker number to avoid potential slowness/freeze if necessary.\n",
      "  cpuset_checked))\n"
     ]
    },
    {
     "name": "stdout",
     "output_type": "stream",
     "text": [
      "Epoch 42 Val Loss: 0.5539807247588913 \t\t Val Accuracy: 0.791106451936108\n",
      "Validation Loss Decreased(138.072702--->137.941200) \t Saving The Model\n"
     ]
    },
    {
     "name": "stderr",
     "output_type": "stream",
     "text": [
      "/opt/conda/lib/python3.7/site-packages/torch/utils/data/dataloader.py:557: UserWarning: This DataLoader will create 4 worker processes in total. Our suggested max number of worker in current system is 2, which is smaller than what this DataLoader is going to create. Please be aware that excessive worker creation might get DataLoader running slow or even freeze, lower the worker number to avoid potential slowness/freeze if necessary.\n",
      "  cpuset_checked))\n"
     ]
    },
    {
     "name": "stdout",
     "output_type": "stream",
     "text": [
      "[Epoch 43, Batch 100] Loss: 0.555 Accuracy: 0.791\n",
      "[Epoch 43, Batch 200] Loss: 0.555 Accuracy: 0.790\n",
      "[Epoch 43, Batch 300] Loss: 0.563 Accuracy: 0.781\n",
      "[Epoch 43, Batch 400] Loss: 0.558 Accuracy: 0.786\n",
      "[Epoch 43, Batch 500] Loss: 0.553 Accuracy: 0.790\n",
      "[Epoch 43, Batch 600] Loss: 0.557 Accuracy: 0.788\n",
      "[Epoch 43, Batch 700] Loss: 0.554 Accuracy: 0.791\n",
      "[Epoch 43, Batch 800] Loss: 0.555 Accuracy: 0.790\n",
      "[Epoch 43, Batch 900] Loss: 0.552 Accuracy: 0.792\n",
      "[Epoch 43, Batch 1000] Loss: 0.556 Accuracy: 0.788\n",
      "[Epoch 43, Batch 1100] Loss: 0.556 Accuracy: 0.789\n",
      "[Epoch 43, Batch 1200] Loss: 0.559 Accuracy: 0.786\n",
      "[Epoch 43, Batch 1300] Loss: 0.557 Accuracy: 0.788\n",
      "[Epoch 43, Batch 1400] Loss: 0.551 Accuracy: 0.792\n",
      "[Epoch 43, Batch 1500] Loss: 0.557 Accuracy: 0.788\n",
      "[Epoch 43, Batch 1600] Loss: 0.556 Accuracy: 0.789\n",
      "[Epoch 43, Batch 1700] Loss: 0.553 Accuracy: 0.792\n",
      "[Epoch 43, Batch 1800] Loss: 0.555 Accuracy: 0.791\n",
      "[Epoch 43, Batch 1900] Loss: 0.548 Accuracy: 0.797\n"
     ]
    },
    {
     "name": "stderr",
     "output_type": "stream",
     "text": [
      "/opt/conda/lib/python3.7/site-packages/torch/utils/data/dataloader.py:557: UserWarning: This DataLoader will create 4 worker processes in total. Our suggested max number of worker in current system is 2, which is smaller than what this DataLoader is going to create. Please be aware that excessive worker creation might get DataLoader running slow or even freeze, lower the worker number to avoid potential slowness/freeze if necessary.\n",
      "  cpuset_checked))\n"
     ]
    },
    {
     "name": "stdout",
     "output_type": "stream",
     "text": [
      "Epoch 43 Val Loss: 0.5534378187244676 \t\t Val Accuracy: 0.7913385490746223\n",
      "Validation Loss Decreased(137.941200--->137.806017) \t Saving The Model\n"
     ]
    },
    {
     "name": "stderr",
     "output_type": "stream",
     "text": [
      "/opt/conda/lib/python3.7/site-packages/torch/utils/data/dataloader.py:557: UserWarning: This DataLoader will create 4 worker processes in total. Our suggested max number of worker in current system is 2, which is smaller than what this DataLoader is going to create. Please be aware that excessive worker creation might get DataLoader running slow or even freeze, lower the worker number to avoid potential slowness/freeze if necessary.\n",
      "  cpuset_checked))\n"
     ]
    },
    {
     "name": "stdout",
     "output_type": "stream",
     "text": [
      "[Epoch 44, Batch 100] Loss: 0.554 Accuracy: 0.791\n",
      "[Epoch 44, Batch 200] Loss: 0.558 Accuracy: 0.787\n",
      "[Epoch 44, Batch 300] Loss: 0.555 Accuracy: 0.790\n",
      "[Epoch 44, Batch 400] Loss: 0.548 Accuracy: 0.797\n",
      "[Epoch 44, Batch 500] Loss: 0.549 Accuracy: 0.794\n",
      "[Epoch 44, Batch 600] Loss: 0.556 Accuracy: 0.789\n",
      "[Epoch 44, Batch 700] Loss: 0.560 Accuracy: 0.783\n",
      "[Epoch 44, Batch 800] Loss: 0.555 Accuracy: 0.788\n",
      "[Epoch 44, Batch 900] Loss: 0.556 Accuracy: 0.790\n",
      "[Epoch 44, Batch 1000] Loss: 0.551 Accuracy: 0.795\n",
      "[Epoch 44, Batch 1100] Loss: 0.553 Accuracy: 0.791\n",
      "[Epoch 44, Batch 1200] Loss: 0.553 Accuracy: 0.792\n",
      "[Epoch 44, Batch 1300] Loss: 0.554 Accuracy: 0.791\n",
      "[Epoch 44, Batch 1400] Loss: 0.559 Accuracy: 0.786\n",
      "[Epoch 44, Batch 1500] Loss: 0.556 Accuracy: 0.789\n",
      "[Epoch 44, Batch 1600] Loss: 0.559 Accuracy: 0.788\n",
      "[Epoch 44, Batch 1700] Loss: 0.558 Accuracy: 0.786\n",
      "[Epoch 44, Batch 1800] Loss: 0.553 Accuracy: 0.792\n",
      "[Epoch 44, Batch 1900] Loss: 0.553 Accuracy: 0.792\n"
     ]
    },
    {
     "name": "stderr",
     "output_type": "stream",
     "text": [
      "/opt/conda/lib/python3.7/site-packages/torch/utils/data/dataloader.py:557: UserWarning: This DataLoader will create 4 worker processes in total. Our suggested max number of worker in current system is 2, which is smaller than what this DataLoader is going to create. Please be aware that excessive worker creation might get DataLoader running slow or even freeze, lower the worker number to avoid potential slowness/freeze if necessary.\n",
      "  cpuset_checked))\n"
     ]
    },
    {
     "name": "stdout",
     "output_type": "stream",
     "text": [
      "Epoch 44 Val Loss: 0.5548295847862121 \t\t Val Accuracy: 0.7919156307999691\n"
     ]
    },
    {
     "name": "stderr",
     "output_type": "stream",
     "text": [
      "/opt/conda/lib/python3.7/site-packages/torch/utils/data/dataloader.py:557: UserWarning: This DataLoader will create 4 worker processes in total. Our suggested max number of worker in current system is 2, which is smaller than what this DataLoader is going to create. Please be aware that excessive worker creation might get DataLoader running slow or even freeze, lower the worker number to avoid potential slowness/freeze if necessary.\n",
      "  cpuset_checked))\n"
     ]
    },
    {
     "name": "stdout",
     "output_type": "stream",
     "text": [
      "[Epoch 45, Batch 100] Loss: 0.553 Accuracy: 0.793\n",
      "[Epoch 45, Batch 200] Loss: 0.553 Accuracy: 0.792\n",
      "[Epoch 45, Batch 300] Loss: 0.554 Accuracy: 0.792\n",
      "[Epoch 45, Batch 400] Loss: 0.555 Accuracy: 0.789\n",
      "[Epoch 45, Batch 500] Loss: 0.554 Accuracy: 0.791\n",
      "[Epoch 45, Batch 600] Loss: 0.551 Accuracy: 0.793\n",
      "[Epoch 45, Batch 700] Loss: 0.553 Accuracy: 0.793\n",
      "[Epoch 45, Batch 800] Loss: 0.560 Accuracy: 0.785\n",
      "[Epoch 45, Batch 900] Loss: 0.557 Accuracy: 0.788\n",
      "[Epoch 45, Batch 1000] Loss: 0.558 Accuracy: 0.787\n",
      "[Epoch 45, Batch 1100] Loss: 0.554 Accuracy: 0.790\n",
      "[Epoch 45, Batch 1200] Loss: 0.556 Accuracy: 0.789\n",
      "[Epoch 45, Batch 1300] Loss: 0.553 Accuracy: 0.792\n",
      "[Epoch 45, Batch 1400] Loss: 0.554 Accuracy: 0.790\n",
      "[Epoch 45, Batch 1500] Loss: 0.556 Accuracy: 0.788\n",
      "[Epoch 45, Batch 1600] Loss: 0.551 Accuracy: 0.794\n",
      "[Epoch 45, Batch 1700] Loss: 0.550 Accuracy: 0.794\n",
      "[Epoch 45, Batch 1800] Loss: 0.556 Accuracy: 0.789\n",
      "[Epoch 45, Batch 1900] Loss: 0.548 Accuracy: 0.796\n"
     ]
    },
    {
     "name": "stderr",
     "output_type": "stream",
     "text": [
      "/opt/conda/lib/python3.7/site-packages/torch/utils/data/dataloader.py:557: UserWarning: This DataLoader will create 4 worker processes in total. Our suggested max number of worker in current system is 2, which is smaller than what this DataLoader is going to create. Please be aware that excessive worker creation might get DataLoader running slow or even freeze, lower the worker number to avoid potential slowness/freeze if necessary.\n",
      "  cpuset_checked))\n"
     ]
    },
    {
     "name": "stdout",
     "output_type": "stream",
     "text": [
      "Epoch 45 Val Loss: 0.551592465983816 \t\t Val Accuracy: 0.7926041267573036\n",
      "Validation Loss Decreased(137.806017--->137.346524) \t Saving The Model\n"
     ]
    },
    {
     "name": "stderr",
     "output_type": "stream",
     "text": [
      "/opt/conda/lib/python3.7/site-packages/torch/utils/data/dataloader.py:557: UserWarning: This DataLoader will create 4 worker processes in total. Our suggested max number of worker in current system is 2, which is smaller than what this DataLoader is going to create. Please be aware that excessive worker creation might get DataLoader running slow or even freeze, lower the worker number to avoid potential slowness/freeze if necessary.\n",
      "  cpuset_checked))\n"
     ]
    },
    {
     "name": "stdout",
     "output_type": "stream",
     "text": [
      "[Epoch 46, Batch 100] Loss: 0.551 Accuracy: 0.795\n",
      "[Epoch 46, Batch 200] Loss: 0.549 Accuracy: 0.795\n",
      "[Epoch 46, Batch 300] Loss: 0.557 Accuracy: 0.790\n",
      "[Epoch 46, Batch 400] Loss: 0.549 Accuracy: 0.796\n",
      "[Epoch 46, Batch 500] Loss: 0.557 Accuracy: 0.788\n",
      "[Epoch 46, Batch 600] Loss: 0.554 Accuracy: 0.791\n",
      "[Epoch 46, Batch 700] Loss: 0.550 Accuracy: 0.795\n",
      "[Epoch 46, Batch 800] Loss: 0.554 Accuracy: 0.790\n",
      "[Epoch 46, Batch 900] Loss: 0.556 Accuracy: 0.789\n",
      "[Epoch 46, Batch 1000] Loss: 0.554 Accuracy: 0.791\n",
      "[Epoch 46, Batch 1100] Loss: 0.557 Accuracy: 0.787\n",
      "[Epoch 46, Batch 1200] Loss: 0.554 Accuracy: 0.791\n",
      "[Epoch 46, Batch 1300] Loss: 0.556 Accuracy: 0.789\n",
      "[Epoch 46, Batch 1400] Loss: 0.556 Accuracy: 0.789\n",
      "[Epoch 46, Batch 1500] Loss: 0.562 Accuracy: 0.782\n",
      "[Epoch 46, Batch 1600] Loss: 0.551 Accuracy: 0.794\n",
      "[Epoch 46, Batch 1700] Loss: 0.553 Accuracy: 0.791\n",
      "[Epoch 46, Batch 1800] Loss: 0.554 Accuracy: 0.791\n",
      "[Epoch 46, Batch 1900] Loss: 0.556 Accuracy: 0.789\n"
     ]
    },
    {
     "name": "stderr",
     "output_type": "stream",
     "text": [
      "/opt/conda/lib/python3.7/site-packages/torch/utils/data/dataloader.py:557: UserWarning: This DataLoader will create 4 worker processes in total. Our suggested max number of worker in current system is 2, which is smaller than what this DataLoader is going to create. Please be aware that excessive worker creation might get DataLoader running slow or even freeze, lower the worker number to avoid potential slowness/freeze if necessary.\n",
      "  cpuset_checked))\n"
     ]
    },
    {
     "name": "stdout",
     "output_type": "stream",
     "text": [
      "Epoch 46 Val Loss: 0.5518559914037405 \t\t Val Accuracy: 0.792241586482578\n"
     ]
    },
    {
     "name": "stderr",
     "output_type": "stream",
     "text": [
      "/opt/conda/lib/python3.7/site-packages/torch/utils/data/dataloader.py:557: UserWarning: This DataLoader will create 4 worker processes in total. Our suggested max number of worker in current system is 2, which is smaller than what this DataLoader is going to create. Please be aware that excessive worker creation might get DataLoader running slow or even freeze, lower the worker number to avoid potential slowness/freeze if necessary.\n",
      "  cpuset_checked))\n"
     ]
    },
    {
     "name": "stdout",
     "output_type": "stream",
     "text": [
      "[Epoch 47, Batch 100] Loss: 0.550 Accuracy: 0.795\n",
      "[Epoch 47, Batch 200] Loss: 0.555 Accuracy: 0.789\n",
      "[Epoch 47, Batch 300] Loss: 0.555 Accuracy: 0.790\n",
      "[Epoch 47, Batch 400] Loss: 0.552 Accuracy: 0.792\n",
      "[Epoch 47, Batch 500] Loss: 0.553 Accuracy: 0.790\n",
      "[Epoch 47, Batch 600] Loss: 0.557 Accuracy: 0.789\n",
      "[Epoch 47, Batch 700] Loss: 0.551 Accuracy: 0.794\n",
      "[Epoch 47, Batch 800] Loss: 0.546 Accuracy: 0.799\n",
      "[Epoch 47, Batch 900] Loss: 0.556 Accuracy: 0.790\n",
      "[Epoch 47, Batch 1000] Loss: 0.555 Accuracy: 0.789\n",
      "[Epoch 47, Batch 1100] Loss: 0.558 Accuracy: 0.786\n",
      "[Epoch 47, Batch 1200] Loss: 0.552 Accuracy: 0.794\n",
      "[Epoch 47, Batch 1300] Loss: 0.554 Accuracy: 0.790\n",
      "[Epoch 47, Batch 1400] Loss: 0.555 Accuracy: 0.789\n",
      "[Epoch 47, Batch 1500] Loss: 0.562 Accuracy: 0.783\n",
      "[Epoch 47, Batch 1600] Loss: 0.554 Accuracy: 0.790\n",
      "[Epoch 47, Batch 1700] Loss: 0.555 Accuracy: 0.790\n",
      "[Epoch 47, Batch 1800] Loss: 0.549 Accuracy: 0.796\n",
      "[Epoch 47, Batch 1900] Loss: 0.550 Accuracy: 0.794\n"
     ]
    },
    {
     "name": "stderr",
     "output_type": "stream",
     "text": [
      "/opt/conda/lib/python3.7/site-packages/torch/utils/data/dataloader.py:557: UserWarning: This DataLoader will create 4 worker processes in total. Our suggested max number of worker in current system is 2, which is smaller than what this DataLoader is going to create. Please be aware that excessive worker creation might get DataLoader running slow or even freeze, lower the worker number to avoid potential slowness/freeze if necessary.\n",
      "  cpuset_checked))\n"
     ]
    },
    {
     "name": "stdout",
     "output_type": "stream",
     "text": [
      "Epoch 47 Val Loss: 0.5575692802069178 \t\t Val Accuracy: 0.7899291980286812\n"
     ]
    },
    {
     "name": "stderr",
     "output_type": "stream",
     "text": [
      "/opt/conda/lib/python3.7/site-packages/torch/utils/data/dataloader.py:557: UserWarning: This DataLoader will create 4 worker processes in total. Our suggested max number of worker in current system is 2, which is smaller than what this DataLoader is going to create. Please be aware that excessive worker creation might get DataLoader running slow or even freeze, lower the worker number to avoid potential slowness/freeze if necessary.\n",
      "  cpuset_checked))\n"
     ]
    },
    {
     "name": "stdout",
     "output_type": "stream",
     "text": [
      "[Epoch 48, Batch 100] Loss: 0.551 Accuracy: 0.792\n",
      "[Epoch 48, Batch 200] Loss: 0.552 Accuracy: 0.794\n",
      "[Epoch 48, Batch 300] Loss: 0.554 Accuracy: 0.791\n",
      "[Epoch 48, Batch 400] Loss: 0.550 Accuracy: 0.795\n",
      "[Epoch 48, Batch 500] Loss: 0.558 Accuracy: 0.788\n",
      "[Epoch 48, Batch 600] Loss: 0.554 Accuracy: 0.792\n",
      "[Epoch 48, Batch 700] Loss: 0.556 Accuracy: 0.790\n",
      "[Epoch 48, Batch 800] Loss: 0.547 Accuracy: 0.797\n",
      "[Epoch 48, Batch 900] Loss: 0.551 Accuracy: 0.793\n",
      "[Epoch 48, Batch 1000] Loss: 0.556 Accuracy: 0.789\n",
      "[Epoch 48, Batch 1100] Loss: 0.552 Accuracy: 0.792\n",
      "[Epoch 48, Batch 1200] Loss: 0.551 Accuracy: 0.794\n",
      "[Epoch 48, Batch 1300] Loss: 0.562 Accuracy: 0.783\n",
      "[Epoch 48, Batch 1400] Loss: 0.552 Accuracy: 0.792\n",
      "[Epoch 48, Batch 1500] Loss: 0.551 Accuracy: 0.794\n",
      "[Epoch 48, Batch 1600] Loss: 0.561 Accuracy: 0.784\n",
      "[Epoch 48, Batch 1700] Loss: 0.551 Accuracy: 0.794\n",
      "[Epoch 48, Batch 1800] Loss: 0.557 Accuracy: 0.788\n",
      "[Epoch 48, Batch 1900] Loss: 0.551 Accuracy: 0.793\n"
     ]
    },
    {
     "name": "stderr",
     "output_type": "stream",
     "text": [
      "/opt/conda/lib/python3.7/site-packages/torch/utils/data/dataloader.py:557: UserWarning: This DataLoader will create 4 worker processes in total. Our suggested max number of worker in current system is 2, which is smaller than what this DataLoader is going to create. Please be aware that excessive worker creation might get DataLoader running slow or even freeze, lower the worker number to avoid potential slowness/freeze if necessary.\n",
      "  cpuset_checked))\n"
     ]
    },
    {
     "name": "stdout",
     "output_type": "stream",
     "text": [
      "Epoch 48 Val Loss: 0.5519464240974212 \t\t Val Accuracy: 0.7923237409423041\n"
     ]
    },
    {
     "name": "stderr",
     "output_type": "stream",
     "text": [
      "/opt/conda/lib/python3.7/site-packages/torch/utils/data/dataloader.py:557: UserWarning: This DataLoader will create 4 worker processes in total. Our suggested max number of worker in current system is 2, which is smaller than what this DataLoader is going to create. Please be aware that excessive worker creation might get DataLoader running slow or even freeze, lower the worker number to avoid potential slowness/freeze if necessary.\n",
      "  cpuset_checked))\n"
     ]
    },
    {
     "name": "stdout",
     "output_type": "stream",
     "text": [
      "[Epoch 49, Batch 100] Loss: 0.554 Accuracy: 0.790\n",
      "[Epoch 49, Batch 200] Loss: 0.549 Accuracy: 0.796\n",
      "[Epoch 49, Batch 300] Loss: 0.547 Accuracy: 0.797\n",
      "[Epoch 49, Batch 400] Loss: 0.555 Accuracy: 0.789\n",
      "[Epoch 49, Batch 500] Loss: 0.554 Accuracy: 0.791\n",
      "[Epoch 49, Batch 600] Loss: 0.551 Accuracy: 0.792\n",
      "[Epoch 49, Batch 700] Loss: 0.553 Accuracy: 0.791\n",
      "[Epoch 49, Batch 800] Loss: 0.551 Accuracy: 0.793\n",
      "[Epoch 49, Batch 900] Loss: 0.553 Accuracy: 0.792\n",
      "[Epoch 49, Batch 1000] Loss: 0.554 Accuracy: 0.791\n",
      "[Epoch 49, Batch 1100] Loss: 0.558 Accuracy: 0.787\n",
      "[Epoch 49, Batch 1200] Loss: 0.555 Accuracy: 0.789\n",
      "[Epoch 49, Batch 1300] Loss: 0.555 Accuracy: 0.789\n",
      "[Epoch 49, Batch 1400] Loss: 0.551 Accuracy: 0.795\n",
      "[Epoch 49, Batch 1500] Loss: 0.554 Accuracy: 0.791\n",
      "[Epoch 49, Batch 1600] Loss: 0.547 Accuracy: 0.797\n",
      "[Epoch 49, Batch 1700] Loss: 0.551 Accuracy: 0.794\n",
      "[Epoch 49, Batch 1800] Loss: 0.545 Accuracy: 0.800\n",
      "[Epoch 49, Batch 1900] Loss: 0.555 Accuracy: 0.790\n"
     ]
    },
    {
     "name": "stderr",
     "output_type": "stream",
     "text": [
      "/opt/conda/lib/python3.7/site-packages/torch/utils/data/dataloader.py:557: UserWarning: This DataLoader will create 4 worker processes in total. Our suggested max number of worker in current system is 2, which is smaller than what this DataLoader is going to create. Please be aware that excessive worker creation might get DataLoader running slow or even freeze, lower the worker number to avoid potential slowness/freeze if necessary.\n",
      "  cpuset_checked))\n"
     ]
    },
    {
     "name": "stdout",
     "output_type": "stream",
     "text": [
      "Epoch 49 Val Loss: 0.5536185388105461 \t\t Val Accuracy: 0.7913319607717424\n"
     ]
    },
    {
     "name": "stderr",
     "output_type": "stream",
     "text": [
      "/opt/conda/lib/python3.7/site-packages/torch/utils/data/dataloader.py:557: UserWarning: This DataLoader will create 4 worker processes in total. Our suggested max number of worker in current system is 2, which is smaller than what this DataLoader is going to create. Please be aware that excessive worker creation might get DataLoader running slow or even freeze, lower the worker number to avoid potential slowness/freeze if necessary.\n",
      "  cpuset_checked))\n"
     ]
    },
    {
     "name": "stdout",
     "output_type": "stream",
     "text": [
      "[Epoch 50, Batch 100] Loss: 0.546 Accuracy: 0.798\n",
      "[Epoch 50, Batch 200] Loss: 0.553 Accuracy: 0.792\n",
      "[Epoch 50, Batch 300] Loss: 0.552 Accuracy: 0.793\n",
      "[Epoch 50, Batch 400] Loss: 0.557 Accuracy: 0.788\n",
      "[Epoch 50, Batch 500] Loss: 0.550 Accuracy: 0.796\n",
      "[Epoch 50, Batch 600] Loss: 0.552 Accuracy: 0.792\n",
      "[Epoch 50, Batch 700] Loss: 0.550 Accuracy: 0.794\n",
      "[Epoch 50, Batch 800] Loss: 0.553 Accuracy: 0.792\n",
      "[Epoch 50, Batch 900] Loss: 0.553 Accuracy: 0.793\n",
      "[Epoch 50, Batch 1000] Loss: 0.556 Accuracy: 0.789\n",
      "[Epoch 50, Batch 1100] Loss: 0.552 Accuracy: 0.791\n",
      "[Epoch 50, Batch 1200] Loss: 0.556 Accuracy: 0.789\n",
      "[Epoch 50, Batch 1300] Loss: 0.551 Accuracy: 0.793\n",
      "[Epoch 50, Batch 1400] Loss: 0.553 Accuracy: 0.792\n",
      "[Epoch 50, Batch 1500] Loss: 0.557 Accuracy: 0.787\n",
      "[Epoch 50, Batch 1600] Loss: 0.552 Accuracy: 0.793\n",
      "[Epoch 50, Batch 1700] Loss: 0.555 Accuracy: 0.789\n",
      "[Epoch 50, Batch 1800] Loss: 0.547 Accuracy: 0.797\n",
      "[Epoch 50, Batch 1900] Loss: 0.554 Accuracy: 0.790\n"
     ]
    },
    {
     "name": "stderr",
     "output_type": "stream",
     "text": [
      "/opt/conda/lib/python3.7/site-packages/torch/utils/data/dataloader.py:557: UserWarning: This DataLoader will create 4 worker processes in total. Our suggested max number of worker in current system is 2, which is smaller than what this DataLoader is going to create. Please be aware that excessive worker creation might get DataLoader running slow or even freeze, lower the worker number to avoid potential slowness/freeze if necessary.\n",
      "  cpuset_checked))\n"
     ]
    },
    {
     "name": "stdout",
     "output_type": "stream",
     "text": [
      "Epoch 50 Val Loss: 0.5503361877428001 \t\t Val Accuracy: 0.7936288293601556\n",
      "Validation Loss Decreased(137.346524--->137.033711) \t Saving The Model\n"
     ]
    },
    {
     "name": "stderr",
     "output_type": "stream",
     "text": [
      "/opt/conda/lib/python3.7/site-packages/torch/utils/data/dataloader.py:557: UserWarning: This DataLoader will create 4 worker processes in total. Our suggested max number of worker in current system is 2, which is smaller than what this DataLoader is going to create. Please be aware that excessive worker creation might get DataLoader running slow or even freeze, lower the worker number to avoid potential slowness/freeze if necessary.\n",
      "  cpuset_checked))\n"
     ]
    },
    {
     "name": "stdout",
     "output_type": "stream",
     "text": [
      "[Epoch 51, Batch 100] Loss: 0.552 Accuracy: 0.793\n",
      "[Epoch 51, Batch 200] Loss: 0.553 Accuracy: 0.791\n",
      "[Epoch 51, Batch 300] Loss: 0.550 Accuracy: 0.795\n",
      "[Epoch 51, Batch 400] Loss: 0.555 Accuracy: 0.790\n",
      "[Epoch 51, Batch 500] Loss: 0.546 Accuracy: 0.797\n",
      "[Epoch 51, Batch 600] Loss: 0.554 Accuracy: 0.791\n",
      "[Epoch 51, Batch 700] Loss: 0.550 Accuracy: 0.794\n",
      "[Epoch 51, Batch 800] Loss: 0.549 Accuracy: 0.795\n",
      "[Epoch 51, Batch 900] Loss: 0.554 Accuracy: 0.790\n",
      "[Epoch 51, Batch 1000] Loss: 0.548 Accuracy: 0.796\n",
      "[Epoch 51, Batch 1100] Loss: 0.557 Accuracy: 0.787\n",
      "[Epoch 51, Batch 1200] Loss: 0.549 Accuracy: 0.796\n",
      "[Epoch 51, Batch 1300] Loss: 0.552 Accuracy: 0.792\n",
      "[Epoch 51, Batch 1400] Loss: 0.553 Accuracy: 0.791\n",
      "[Epoch 51, Batch 1500] Loss: 0.548 Accuracy: 0.796\n",
      "[Epoch 51, Batch 1600] Loss: 0.557 Accuracy: 0.788\n",
      "[Epoch 51, Batch 1700] Loss: 0.551 Accuracy: 0.793\n",
      "[Epoch 51, Batch 1800] Loss: 0.551 Accuracy: 0.794\n",
      "[Epoch 51, Batch 1900] Loss: 0.556 Accuracy: 0.789\n"
     ]
    },
    {
     "name": "stderr",
     "output_type": "stream",
     "text": [
      "/opt/conda/lib/python3.7/site-packages/torch/utils/data/dataloader.py:557: UserWarning: This DataLoader will create 4 worker processes in total. Our suggested max number of worker in current system is 2, which is smaller than what this DataLoader is going to create. Please be aware that excessive worker creation might get DataLoader running slow or even freeze, lower the worker number to avoid potential slowness/freeze if necessary.\n",
      "  cpuset_checked))\n"
     ]
    },
    {
     "name": "stdout",
     "output_type": "stream",
     "text": [
      "Epoch 51 Val Loss: 0.5557553918964891 \t\t Val Accuracy: 0.7890196842992201\n"
     ]
    },
    {
     "name": "stderr",
     "output_type": "stream",
     "text": [
      "/opt/conda/lib/python3.7/site-packages/torch/utils/data/dataloader.py:557: UserWarning: This DataLoader will create 4 worker processes in total. Our suggested max number of worker in current system is 2, which is smaller than what this DataLoader is going to create. Please be aware that excessive worker creation might get DataLoader running slow or even freeze, lower the worker number to avoid potential slowness/freeze if necessary.\n",
      "  cpuset_checked))\n"
     ]
    },
    {
     "name": "stdout",
     "output_type": "stream",
     "text": [
      "[Epoch 52, Batch 100] Loss: 0.551 Accuracy: 0.794\n",
      "[Epoch 52, Batch 200] Loss: 0.554 Accuracy: 0.790\n",
      "[Epoch 52, Batch 300] Loss: 0.554 Accuracy: 0.790\n",
      "[Epoch 52, Batch 400] Loss: 0.551 Accuracy: 0.795\n",
      "[Epoch 52, Batch 500] Loss: 0.554 Accuracy: 0.791\n",
      "[Epoch 52, Batch 600] Loss: 0.551 Accuracy: 0.793\n",
      "[Epoch 52, Batch 700] Loss: 0.556 Accuracy: 0.790\n",
      "[Epoch 52, Batch 800] Loss: 0.551 Accuracy: 0.793\n",
      "[Epoch 52, Batch 900] Loss: 0.549 Accuracy: 0.795\n",
      "[Epoch 52, Batch 1000] Loss: 0.548 Accuracy: 0.795\n",
      "[Epoch 52, Batch 1100] Loss: 0.551 Accuracy: 0.793\n",
      "[Epoch 52, Batch 1200] Loss: 0.546 Accuracy: 0.798\n",
      "[Epoch 52, Batch 1300] Loss: 0.556 Accuracy: 0.789\n",
      "[Epoch 52, Batch 1400] Loss: 0.550 Accuracy: 0.793\n",
      "[Epoch 52, Batch 1500] Loss: 0.549 Accuracy: 0.796\n",
      "[Epoch 52, Batch 1600] Loss: 0.556 Accuracy: 0.789\n",
      "[Epoch 52, Batch 1700] Loss: 0.550 Accuracy: 0.795\n",
      "[Epoch 52, Batch 1800] Loss: 0.559 Accuracy: 0.787\n",
      "[Epoch 52, Batch 1900] Loss: 0.551 Accuracy: 0.793\n"
     ]
    },
    {
     "name": "stderr",
     "output_type": "stream",
     "text": [
      "/opt/conda/lib/python3.7/site-packages/torch/utils/data/dataloader.py:557: UserWarning: This DataLoader will create 4 worker processes in total. Our suggested max number of worker in current system is 2, which is smaller than what this DataLoader is going to create. Please be aware that excessive worker creation might get DataLoader running slow or even freeze, lower the worker number to avoid potential slowness/freeze if necessary.\n",
      "  cpuset_checked))\n"
     ]
    },
    {
     "name": "stdout",
     "output_type": "stream",
     "text": [
      "Epoch 52 Val Loss: 0.547102072870875 \t\t Val Accuracy: 0.7973018827268707\n",
      "Validation Loss Decreased(137.033711--->136.228416) \t Saving The Model\n"
     ]
    },
    {
     "name": "stderr",
     "output_type": "stream",
     "text": [
      "/opt/conda/lib/python3.7/site-packages/torch/utils/data/dataloader.py:557: UserWarning: This DataLoader will create 4 worker processes in total. Our suggested max number of worker in current system is 2, which is smaller than what this DataLoader is going to create. Please be aware that excessive worker creation might get DataLoader running slow or even freeze, lower the worker number to avoid potential slowness/freeze if necessary.\n",
      "  cpuset_checked))\n"
     ]
    },
    {
     "name": "stdout",
     "output_type": "stream",
     "text": [
      "[Epoch 53, Batch 100] Loss: 0.553 Accuracy: 0.792\n",
      "[Epoch 53, Batch 200] Loss: 0.550 Accuracy: 0.794\n",
      "[Epoch 53, Batch 300] Loss: 0.550 Accuracy: 0.795\n",
      "[Epoch 53, Batch 400] Loss: 0.552 Accuracy: 0.792\n",
      "[Epoch 53, Batch 500] Loss: 0.554 Accuracy: 0.791\n",
      "[Epoch 53, Batch 600] Loss: 0.557 Accuracy: 0.787\n",
      "[Epoch 53, Batch 700] Loss: 0.549 Accuracy: 0.796\n",
      "[Epoch 53, Batch 800] Loss: 0.553 Accuracy: 0.791\n",
      "[Epoch 53, Batch 900] Loss: 0.550 Accuracy: 0.794\n",
      "[Epoch 53, Batch 1000] Loss: 0.550 Accuracy: 0.795\n",
      "[Epoch 53, Batch 1100] Loss: 0.554 Accuracy: 0.792\n",
      "[Epoch 53, Batch 1200] Loss: 0.549 Accuracy: 0.795\n",
      "[Epoch 53, Batch 1300] Loss: 0.555 Accuracy: 0.790\n",
      "[Epoch 53, Batch 1400] Loss: 0.557 Accuracy: 0.789\n",
      "[Epoch 53, Batch 1500] Loss: 0.550 Accuracy: 0.795\n",
      "[Epoch 53, Batch 1600] Loss: 0.555 Accuracy: 0.790\n",
      "[Epoch 53, Batch 1700] Loss: 0.550 Accuracy: 0.794\n",
      "[Epoch 53, Batch 1800] Loss: 0.553 Accuracy: 0.791\n",
      "[Epoch 53, Batch 1900] Loss: 0.547 Accuracy: 0.797\n"
     ]
    },
    {
     "name": "stderr",
     "output_type": "stream",
     "text": [
      "/opt/conda/lib/python3.7/site-packages/torch/utils/data/dataloader.py:557: UserWarning: This DataLoader will create 4 worker processes in total. Our suggested max number of worker in current system is 2, which is smaller than what this DataLoader is going to create. Please be aware that excessive worker creation might get DataLoader running slow or even freeze, lower the worker number to avoid potential slowness/freeze if necessary.\n",
      "  cpuset_checked))\n"
     ]
    },
    {
     "name": "stdout",
     "output_type": "stream",
     "text": [
      "Epoch 53 Val Loss: 0.5510337807567244 \t\t Val Accuracy: 0.7930278228154027\n"
     ]
    },
    {
     "name": "stderr",
     "output_type": "stream",
     "text": [
      "/opt/conda/lib/python3.7/site-packages/torch/utils/data/dataloader.py:557: UserWarning: This DataLoader will create 4 worker processes in total. Our suggested max number of worker in current system is 2, which is smaller than what this DataLoader is going to create. Please be aware that excessive worker creation might get DataLoader running slow or even freeze, lower the worker number to avoid potential slowness/freeze if necessary.\n",
      "  cpuset_checked))\n"
     ]
    },
    {
     "name": "stdout",
     "output_type": "stream",
     "text": [
      "[Epoch 54, Batch 100] Loss: 0.546 Accuracy: 0.797\n",
      "[Epoch 54, Batch 200] Loss: 0.556 Accuracy: 0.790\n",
      "[Epoch 54, Batch 300] Loss: 0.554 Accuracy: 0.790\n",
      "[Epoch 54, Batch 400] Loss: 0.545 Accuracy: 0.799\n",
      "[Epoch 54, Batch 500] Loss: 0.558 Accuracy: 0.787\n",
      "[Epoch 54, Batch 600] Loss: 0.552 Accuracy: 0.793\n",
      "[Epoch 54, Batch 700] Loss: 0.551 Accuracy: 0.792\n",
      "[Epoch 54, Batch 800] Loss: 0.549 Accuracy: 0.797\n",
      "[Epoch 54, Batch 900] Loss: 0.555 Accuracy: 0.790\n",
      "[Epoch 54, Batch 1000] Loss: 0.548 Accuracy: 0.798\n",
      "[Epoch 54, Batch 1100] Loss: 0.550 Accuracy: 0.794\n",
      "[Epoch 54, Batch 1200] Loss: 0.552 Accuracy: 0.792\n",
      "[Epoch 54, Batch 1300] Loss: 0.551 Accuracy: 0.795\n",
      "[Epoch 54, Batch 1400] Loss: 0.550 Accuracy: 0.795\n",
      "[Epoch 54, Batch 1500] Loss: 0.545 Accuracy: 0.799\n",
      "[Epoch 54, Batch 1600] Loss: 0.547 Accuracy: 0.797\n",
      "[Epoch 54, Batch 1700] Loss: 0.556 Accuracy: 0.789\n",
      "[Epoch 54, Batch 1800] Loss: 0.557 Accuracy: 0.787\n",
      "[Epoch 54, Batch 1900] Loss: 0.552 Accuracy: 0.791\n"
     ]
    },
    {
     "name": "stderr",
     "output_type": "stream",
     "text": [
      "/opt/conda/lib/python3.7/site-packages/torch/utils/data/dataloader.py:557: UserWarning: This DataLoader will create 4 worker processes in total. Our suggested max number of worker in current system is 2, which is smaller than what this DataLoader is going to create. Please be aware that excessive worker creation might get DataLoader running slow or even freeze, lower the worker number to avoid potential slowness/freeze if necessary.\n",
      "  cpuset_checked))\n"
     ]
    },
    {
     "name": "stdout",
     "output_type": "stream",
     "text": [
      "Epoch 54 Val Loss: 0.553669919211223 \t\t Val Accuracy: 0.7920775024002282\n"
     ]
    },
    {
     "name": "stderr",
     "output_type": "stream",
     "text": [
      "/opt/conda/lib/python3.7/site-packages/torch/utils/data/dataloader.py:557: UserWarning: This DataLoader will create 4 worker processes in total. Our suggested max number of worker in current system is 2, which is smaller than what this DataLoader is going to create. Please be aware that excessive worker creation might get DataLoader running slow or even freeze, lower the worker number to avoid potential slowness/freeze if necessary.\n",
      "  cpuset_checked))\n"
     ]
    },
    {
     "name": "stdout",
     "output_type": "stream",
     "text": [
      "[Epoch 55, Batch 100] Loss: 0.554 Accuracy: 0.791\n",
      "[Epoch 55, Batch 200] Loss: 0.550 Accuracy: 0.794\n",
      "[Epoch 55, Batch 300] Loss: 0.552 Accuracy: 0.792\n",
      "[Epoch 55, Batch 400] Loss: 0.550 Accuracy: 0.796\n",
      "[Epoch 55, Batch 500] Loss: 0.551 Accuracy: 0.794\n",
      "[Epoch 55, Batch 600] Loss: 0.553 Accuracy: 0.792\n",
      "[Epoch 55, Batch 700] Loss: 0.546 Accuracy: 0.798\n",
      "[Epoch 55, Batch 800] Loss: 0.548 Accuracy: 0.796\n",
      "[Epoch 55, Batch 900] Loss: 0.545 Accuracy: 0.800\n",
      "[Epoch 55, Batch 1000] Loss: 0.549 Accuracy: 0.795\n",
      "[Epoch 55, Batch 1100] Loss: 0.550 Accuracy: 0.794\n",
      "[Epoch 55, Batch 1200] Loss: 0.553 Accuracy: 0.791\n",
      "[Epoch 55, Batch 1300] Loss: 0.558 Accuracy: 0.788\n",
      "[Epoch 55, Batch 1400] Loss: 0.551 Accuracy: 0.795\n",
      "[Epoch 55, Batch 1500] Loss: 0.551 Accuracy: 0.793\n",
      "[Epoch 55, Batch 1600] Loss: 0.550 Accuracy: 0.796\n",
      "[Epoch 55, Batch 1700] Loss: 0.554 Accuracy: 0.790\n",
      "[Epoch 55, Batch 1800] Loss: 0.553 Accuracy: 0.792\n",
      "[Epoch 55, Batch 1900] Loss: 0.552 Accuracy: 0.792\n"
     ]
    },
    {
     "name": "stderr",
     "output_type": "stream",
     "text": [
      "/opt/conda/lib/python3.7/site-packages/torch/utils/data/dataloader.py:557: UserWarning: This DataLoader will create 4 worker processes in total. Our suggested max number of worker in current system is 2, which is smaller than what this DataLoader is going to create. Please be aware that excessive worker creation might get DataLoader running slow or even freeze, lower the worker number to avoid potential slowness/freeze if necessary.\n",
      "  cpuset_checked))\n"
     ]
    },
    {
     "name": "stdout",
     "output_type": "stream",
     "text": [
      "Epoch 55 Val Loss: 0.5486155447950325 \t\t Val Accuracy: 0.7956294635882698\n"
     ]
    },
    {
     "name": "stderr",
     "output_type": "stream",
     "text": [
      "/opt/conda/lib/python3.7/site-packages/torch/utils/data/dataloader.py:557: UserWarning: This DataLoader will create 4 worker processes in total. Our suggested max number of worker in current system is 2, which is smaller than what this DataLoader is going to create. Please be aware that excessive worker creation might get DataLoader running slow or even freeze, lower the worker number to avoid potential slowness/freeze if necessary.\n",
      "  cpuset_checked))\n"
     ]
    },
    {
     "name": "stdout",
     "output_type": "stream",
     "text": [
      "[Epoch 56, Batch 100] Loss: 0.550 Accuracy: 0.794\n",
      "[Epoch 56, Batch 200] Loss: 0.551 Accuracy: 0.793\n",
      "[Epoch 56, Batch 300] Loss: 0.547 Accuracy: 0.797\n",
      "[Epoch 56, Batch 400] Loss: 0.549 Accuracy: 0.795\n",
      "[Epoch 56, Batch 500] Loss: 0.556 Accuracy: 0.789\n",
      "[Epoch 56, Batch 600] Loss: 0.549 Accuracy: 0.795\n",
      "[Epoch 56, Batch 700] Loss: 0.546 Accuracy: 0.798\n",
      "[Epoch 56, Batch 800] Loss: 0.554 Accuracy: 0.790\n",
      "[Epoch 56, Batch 900] Loss: 0.552 Accuracy: 0.793\n",
      "[Epoch 56, Batch 1000] Loss: 0.551 Accuracy: 0.793\n",
      "[Epoch 56, Batch 1100] Loss: 0.549 Accuracy: 0.796\n",
      "[Epoch 56, Batch 1200] Loss: 0.553 Accuracy: 0.793\n",
      "[Epoch 56, Batch 1300] Loss: 0.550 Accuracy: 0.794\n",
      "[Epoch 56, Batch 1400] Loss: 0.552 Accuracy: 0.793\n",
      "[Epoch 56, Batch 1500] Loss: 0.555 Accuracy: 0.791\n",
      "[Epoch 56, Batch 1600] Loss: 0.549 Accuracy: 0.795\n",
      "[Epoch 56, Batch 1700] Loss: 0.548 Accuracy: 0.797\n",
      "[Epoch 56, Batch 1800] Loss: 0.555 Accuracy: 0.790\n",
      "[Epoch 56, Batch 1900] Loss: 0.559 Accuracy: 0.786\n"
     ]
    },
    {
     "name": "stderr",
     "output_type": "stream",
     "text": [
      "/opt/conda/lib/python3.7/site-packages/torch/utils/data/dataloader.py:557: UserWarning: This DataLoader will create 4 worker processes in total. Our suggested max number of worker in current system is 2, which is smaller than what this DataLoader is going to create. Please be aware that excessive worker creation might get DataLoader running slow or even freeze, lower the worker number to avoid potential slowness/freeze if necessary.\n",
      "  cpuset_checked))\n"
     ]
    },
    {
     "name": "stdout",
     "output_type": "stream",
     "text": [
      "Epoch 56 Val Loss: 0.5484720584618519 \t\t Val Accuracy: 0.7949863591768922\n"
     ]
    },
    {
     "name": "stderr",
     "output_type": "stream",
     "text": [
      "/opt/conda/lib/python3.7/site-packages/torch/utils/data/dataloader.py:557: UserWarning: This DataLoader will create 4 worker processes in total. Our suggested max number of worker in current system is 2, which is smaller than what this DataLoader is going to create. Please be aware that excessive worker creation might get DataLoader running slow or even freeze, lower the worker number to avoid potential slowness/freeze if necessary.\n",
      "  cpuset_checked))\n"
     ]
    },
    {
     "name": "stdout",
     "output_type": "stream",
     "text": [
      "[Epoch 57, Batch 100] Loss: 0.555 Accuracy: 0.791\n",
      "[Epoch 57, Batch 200] Loss: 0.547 Accuracy: 0.796\n",
      "[Epoch 57, Batch 300] Loss: 0.546 Accuracy: 0.797\n",
      "[Epoch 57, Batch 400] Loss: 0.553 Accuracy: 0.792\n",
      "[Epoch 57, Batch 500] Loss: 0.554 Accuracy: 0.792\n",
      "[Epoch 57, Batch 600] Loss: 0.552 Accuracy: 0.793\n",
      "[Epoch 57, Batch 700] Loss: 0.544 Accuracy: 0.800\n",
      "[Epoch 57, Batch 800] Loss: 0.551 Accuracy: 0.794\n",
      "[Epoch 57, Batch 900] Loss: 0.549 Accuracy: 0.796\n",
      "[Epoch 57, Batch 1000] Loss: 0.551 Accuracy: 0.793\n",
      "[Epoch 57, Batch 1100] Loss: 0.554 Accuracy: 0.791\n",
      "[Epoch 57, Batch 1200] Loss: 0.550 Accuracy: 0.793\n",
      "[Epoch 57, Batch 1300] Loss: 0.544 Accuracy: 0.798\n",
      "[Epoch 57, Batch 1400] Loss: 0.550 Accuracy: 0.794\n",
      "[Epoch 57, Batch 1500] Loss: 0.553 Accuracy: 0.792\n",
      "[Epoch 57, Batch 1600] Loss: 0.551 Accuracy: 0.794\n",
      "[Epoch 57, Batch 1700] Loss: 0.554 Accuracy: 0.791\n",
      "[Epoch 57, Batch 1800] Loss: 0.549 Accuracy: 0.795\n",
      "[Epoch 57, Batch 1900] Loss: 0.551 Accuracy: 0.793\n"
     ]
    },
    {
     "name": "stderr",
     "output_type": "stream",
     "text": [
      "/opt/conda/lib/python3.7/site-packages/torch/utils/data/dataloader.py:557: UserWarning: This DataLoader will create 4 worker processes in total. Our suggested max number of worker in current system is 2, which is smaller than what this DataLoader is going to create. Please be aware that excessive worker creation might get DataLoader running slow or even freeze, lower the worker number to avoid potential slowness/freeze if necessary.\n",
      "  cpuset_checked))\n"
     ]
    },
    {
     "name": "stdout",
     "output_type": "stream",
     "text": [
      "Epoch 57 Val Loss: 0.5482108123809937 \t\t Val Accuracy: 0.7953820698741464\n"
     ]
    },
    {
     "name": "stderr",
     "output_type": "stream",
     "text": [
      "/opt/conda/lib/python3.7/site-packages/torch/utils/data/dataloader.py:557: UserWarning: This DataLoader will create 4 worker processes in total. Our suggested max number of worker in current system is 2, which is smaller than what this DataLoader is going to create. Please be aware that excessive worker creation might get DataLoader running slow or even freeze, lower the worker number to avoid potential slowness/freeze if necessary.\n",
      "  cpuset_checked))\n"
     ]
    },
    {
     "name": "stdout",
     "output_type": "stream",
     "text": [
      "[Epoch 58, Batch 100] Loss: 0.547 Accuracy: 0.797\n",
      "[Epoch 58, Batch 200] Loss: 0.547 Accuracy: 0.797\n",
      "[Epoch 58, Batch 300] Loss: 0.546 Accuracy: 0.798\n",
      "[Epoch 58, Batch 400] Loss: 0.545 Accuracy: 0.799\n",
      "[Epoch 58, Batch 500] Loss: 0.554 Accuracy: 0.791\n",
      "[Epoch 58, Batch 600] Loss: 0.547 Accuracy: 0.797\n",
      "[Epoch 58, Batch 700] Loss: 0.551 Accuracy: 0.793\n",
      "[Epoch 58, Batch 800] Loss: 0.553 Accuracy: 0.791\n",
      "[Epoch 58, Batch 900] Loss: 0.548 Accuracy: 0.796\n",
      "[Epoch 58, Batch 1000] Loss: 0.553 Accuracy: 0.790\n",
      "[Epoch 58, Batch 1100] Loss: 0.550 Accuracy: 0.794\n",
      "[Epoch 58, Batch 1200] Loss: 0.548 Accuracy: 0.796\n",
      "[Epoch 58, Batch 1300] Loss: 0.549 Accuracy: 0.796\n",
      "[Epoch 58, Batch 1400] Loss: 0.552 Accuracy: 0.792\n",
      "[Epoch 58, Batch 1500] Loss: 0.554 Accuracy: 0.789\n",
      "[Epoch 58, Batch 1600] Loss: 0.550 Accuracy: 0.794\n",
      "[Epoch 58, Batch 1700] Loss: 0.552 Accuracy: 0.794\n",
      "[Epoch 58, Batch 1800] Loss: 0.549 Accuracy: 0.796\n",
      "[Epoch 58, Batch 1900] Loss: 0.551 Accuracy: 0.792\n"
     ]
    },
    {
     "name": "stderr",
     "output_type": "stream",
     "text": [
      "/opt/conda/lib/python3.7/site-packages/torch/utils/data/dataloader.py:557: UserWarning: This DataLoader will create 4 worker processes in total. Our suggested max number of worker in current system is 2, which is smaller than what this DataLoader is going to create. Please be aware that excessive worker creation might get DataLoader running slow or even freeze, lower the worker number to avoid potential slowness/freeze if necessary.\n",
      "  cpuset_checked))\n"
     ]
    },
    {
     "name": "stdout",
     "output_type": "stream",
     "text": [
      "Epoch 58 Val Loss: 0.5477569546086721 \t\t Val Accuracy: 0.7959180566170883\n"
     ]
    },
    {
     "name": "stderr",
     "output_type": "stream",
     "text": [
      "/opt/conda/lib/python3.7/site-packages/torch/utils/data/dataloader.py:557: UserWarning: This DataLoader will create 4 worker processes in total. Our suggested max number of worker in current system is 2, which is smaller than what this DataLoader is going to create. Please be aware that excessive worker creation might get DataLoader running slow or even freeze, lower the worker number to avoid potential slowness/freeze if necessary.\n",
      "  cpuset_checked))\n"
     ]
    },
    {
     "name": "stdout",
     "output_type": "stream",
     "text": [
      "[Epoch 59, Batch 100] Loss: 0.551 Accuracy: 0.794\n",
      "[Epoch 59, Batch 200] Loss: 0.549 Accuracy: 0.796\n",
      "[Epoch 59, Batch 300] Loss: 0.551 Accuracy: 0.794\n",
      "[Epoch 59, Batch 400] Loss: 0.550 Accuracy: 0.795\n",
      "[Epoch 59, Batch 500] Loss: 0.551 Accuracy: 0.793\n",
      "[Epoch 59, Batch 600] Loss: 0.546 Accuracy: 0.799\n",
      "[Epoch 59, Batch 700] Loss: 0.552 Accuracy: 0.793\n",
      "[Epoch 59, Batch 800] Loss: 0.552 Accuracy: 0.793\n",
      "[Epoch 59, Batch 900] Loss: 0.551 Accuracy: 0.793\n",
      "[Epoch 59, Batch 1000] Loss: 0.554 Accuracy: 0.790\n",
      "[Epoch 59, Batch 1100] Loss: 0.552 Accuracy: 0.792\n",
      "[Epoch 59, Batch 1200] Loss: 0.546 Accuracy: 0.798\n",
      "[Epoch 59, Batch 1300] Loss: 0.548 Accuracy: 0.797\n",
      "[Epoch 59, Batch 1400] Loss: 0.547 Accuracy: 0.798\n",
      "[Epoch 59, Batch 1500] Loss: 0.548 Accuracy: 0.796\n",
      "[Epoch 59, Batch 1600] Loss: 0.548 Accuracy: 0.796\n",
      "[Epoch 59, Batch 1700] Loss: 0.546 Accuracy: 0.798\n",
      "[Epoch 59, Batch 1800] Loss: 0.553 Accuracy: 0.793\n",
      "[Epoch 59, Batch 1900] Loss: 0.557 Accuracy: 0.789\n"
     ]
    },
    {
     "name": "stderr",
     "output_type": "stream",
     "text": [
      "/opt/conda/lib/python3.7/site-packages/torch/utils/data/dataloader.py:557: UserWarning: This DataLoader will create 4 worker processes in total. Our suggested max number of worker in current system is 2, which is smaller than what this DataLoader is going to create. Please be aware that excessive worker creation might get DataLoader running slow or even freeze, lower the worker number to avoid potential slowness/freeze if necessary.\n",
      "  cpuset_checked))\n"
     ]
    },
    {
     "name": "stdout",
     "output_type": "stream",
     "text": [
      "Epoch 59 Val Loss: 0.5483956923446502 \t\t Val Accuracy: 0.7960428343262379\n"
     ]
    },
    {
     "name": "stderr",
     "output_type": "stream",
     "text": [
      "/opt/conda/lib/python3.7/site-packages/torch/utils/data/dataloader.py:557: UserWarning: This DataLoader will create 4 worker processes in total. Our suggested max number of worker in current system is 2, which is smaller than what this DataLoader is going to create. Please be aware that excessive worker creation might get DataLoader running slow or even freeze, lower the worker number to avoid potential slowness/freeze if necessary.\n",
      "  cpuset_checked))\n"
     ]
    },
    {
     "name": "stdout",
     "output_type": "stream",
     "text": [
      "[Epoch 60, Batch 100] Loss: 0.548 Accuracy: 0.796\n",
      "[Epoch 60, Batch 200] Loss: 0.551 Accuracy: 0.794\n",
      "[Epoch 60, Batch 300] Loss: 0.550 Accuracy: 0.795\n",
      "[Epoch 60, Batch 400] Loss: 0.546 Accuracy: 0.798\n",
      "[Epoch 60, Batch 500] Loss: 0.551 Accuracy: 0.794\n",
      "[Epoch 60, Batch 600] Loss: 0.549 Accuracy: 0.796\n",
      "[Epoch 60, Batch 700] Loss: 0.544 Accuracy: 0.799\n",
      "[Epoch 60, Batch 800] Loss: 0.552 Accuracy: 0.793\n",
      "[Epoch 60, Batch 900] Loss: 0.553 Accuracy: 0.791\n",
      "[Epoch 60, Batch 1000] Loss: 0.550 Accuracy: 0.794\n",
      "[Epoch 60, Batch 1100] Loss: 0.558 Accuracy: 0.787\n",
      "[Epoch 60, Batch 1200] Loss: 0.548 Accuracy: 0.796\n",
      "[Epoch 60, Batch 1300] Loss: 0.552 Accuracy: 0.793\n",
      "[Epoch 60, Batch 1400] Loss: 0.549 Accuracy: 0.795\n",
      "[Epoch 60, Batch 1500] Loss: 0.547 Accuracy: 0.798\n",
      "[Epoch 60, Batch 1600] Loss: 0.549 Accuracy: 0.795\n",
      "[Epoch 60, Batch 1700] Loss: 0.550 Accuracy: 0.795\n",
      "[Epoch 60, Batch 1800] Loss: 0.554 Accuracy: 0.792\n",
      "[Epoch 60, Batch 1900] Loss: 0.550 Accuracy: 0.795\n"
     ]
    },
    {
     "name": "stderr",
     "output_type": "stream",
     "text": [
      "/opt/conda/lib/python3.7/site-packages/torch/utils/data/dataloader.py:557: UserWarning: This DataLoader will create 4 worker processes in total. Our suggested max number of worker in current system is 2, which is smaller than what this DataLoader is going to create. Please be aware that excessive worker creation might get DataLoader running slow or even freeze, lower the worker number to avoid potential slowness/freeze if necessary.\n",
      "  cpuset_checked))\n"
     ]
    },
    {
     "name": "stdout",
     "output_type": "stream",
     "text": [
      "Epoch 60 Val Loss: 0.5469251046458401 \t\t Val Accuracy: 0.79666474804114\n",
      "Validation Loss Decreased(136.228416--->136.184351) \t Saving The Model\n"
     ]
    },
    {
     "name": "stderr",
     "output_type": "stream",
     "text": [
      "/opt/conda/lib/python3.7/site-packages/torch/utils/data/dataloader.py:557: UserWarning: This DataLoader will create 4 worker processes in total. Our suggested max number of worker in current system is 2, which is smaller than what this DataLoader is going to create. Please be aware that excessive worker creation might get DataLoader running slow or even freeze, lower the worker number to avoid potential slowness/freeze if necessary.\n",
      "  cpuset_checked))\n"
     ]
    },
    {
     "name": "stdout",
     "output_type": "stream",
     "text": [
      "[Epoch 61, Batch 100] Loss: 0.549 Accuracy: 0.796\n",
      "[Epoch 61, Batch 200] Loss: 0.553 Accuracy: 0.792\n",
      "[Epoch 61, Batch 300] Loss: 0.559 Accuracy: 0.786\n",
      "[Epoch 61, Batch 400] Loss: 0.552 Accuracy: 0.792\n",
      "[Epoch 61, Batch 500] Loss: 0.548 Accuracy: 0.797\n",
      "[Epoch 61, Batch 600] Loss: 0.553 Accuracy: 0.791\n",
      "[Epoch 61, Batch 700] Loss: 0.550 Accuracy: 0.796\n",
      "[Epoch 61, Batch 800] Loss: 0.545 Accuracy: 0.800\n",
      "[Epoch 61, Batch 900] Loss: 0.545 Accuracy: 0.801\n",
      "[Epoch 61, Batch 1000] Loss: 0.546 Accuracy: 0.799\n",
      "[Epoch 61, Batch 1100] Loss: 0.552 Accuracy: 0.792\n",
      "[Epoch 61, Batch 1200] Loss: 0.545 Accuracy: 0.799\n",
      "[Epoch 61, Batch 1300] Loss: 0.545 Accuracy: 0.798\n",
      "[Epoch 61, Batch 1400] Loss: 0.546 Accuracy: 0.799\n",
      "[Epoch 61, Batch 1500] Loss: 0.554 Accuracy: 0.791\n",
      "[Epoch 61, Batch 1600] Loss: 0.549 Accuracy: 0.796\n",
      "[Epoch 61, Batch 1700] Loss: 0.550 Accuracy: 0.793\n",
      "[Epoch 61, Batch 1800] Loss: 0.550 Accuracy: 0.794\n",
      "[Epoch 61, Batch 1900] Loss: 0.549 Accuracy: 0.796\n"
     ]
    },
    {
     "name": "stderr",
     "output_type": "stream",
     "text": [
      "/opt/conda/lib/python3.7/site-packages/torch/utils/data/dataloader.py:557: UserWarning: This DataLoader will create 4 worker processes in total. Our suggested max number of worker in current system is 2, which is smaller than what this DataLoader is going to create. Please be aware that excessive worker creation might get DataLoader running slow or even freeze, lower the worker number to avoid potential slowness/freeze if necessary.\n",
      "  cpuset_checked))\n"
     ]
    },
    {
     "name": "stdout",
     "output_type": "stream",
     "text": [
      "Epoch 61 Val Loss: 0.5523660710777145 \t\t Val Accuracy: 0.79401786018679\n"
     ]
    },
    {
     "name": "stderr",
     "output_type": "stream",
     "text": [
      "/opt/conda/lib/python3.7/site-packages/torch/utils/data/dataloader.py:557: UserWarning: This DataLoader will create 4 worker processes in total. Our suggested max number of worker in current system is 2, which is smaller than what this DataLoader is going to create. Please be aware that excessive worker creation might get DataLoader running slow or even freeze, lower the worker number to avoid potential slowness/freeze if necessary.\n",
      "  cpuset_checked))\n"
     ]
    },
    {
     "name": "stdout",
     "output_type": "stream",
     "text": [
      "[Epoch 62, Batch 100] Loss: 0.542 Accuracy: 0.801\n",
      "[Epoch 62, Batch 200] Loss: 0.545 Accuracy: 0.799\n",
      "[Epoch 62, Batch 300] Loss: 0.551 Accuracy: 0.794\n",
      "[Epoch 62, Batch 400] Loss: 0.553 Accuracy: 0.791\n",
      "[Epoch 62, Batch 500] Loss: 0.547 Accuracy: 0.796\n",
      "[Epoch 62, Batch 600] Loss: 0.551 Accuracy: 0.794\n",
      "[Epoch 62, Batch 700] Loss: 0.555 Accuracy: 0.790\n",
      "[Epoch 62, Batch 800] Loss: 0.550 Accuracy: 0.794\n",
      "[Epoch 62, Batch 900] Loss: 0.550 Accuracy: 0.794\n",
      "[Epoch 62, Batch 1000] Loss: 0.552 Accuracy: 0.793\n",
      "[Epoch 62, Batch 1100] Loss: 0.552 Accuracy: 0.793\n",
      "[Epoch 62, Batch 1200] Loss: 0.550 Accuracy: 0.795\n",
      "[Epoch 62, Batch 1300] Loss: 0.549 Accuracy: 0.797\n",
      "[Epoch 62, Batch 1400] Loss: 0.545 Accuracy: 0.799\n",
      "[Epoch 62, Batch 1500] Loss: 0.547 Accuracy: 0.796\n",
      "[Epoch 62, Batch 1600] Loss: 0.554 Accuracy: 0.791\n",
      "[Epoch 62, Batch 1700] Loss: 0.551 Accuracy: 0.792\n",
      "[Epoch 62, Batch 1800] Loss: 0.544 Accuracy: 0.800\n",
      "[Epoch 62, Batch 1900] Loss: 0.546 Accuracy: 0.798\n"
     ]
    },
    {
     "name": "stderr",
     "output_type": "stream",
     "text": [
      "/opt/conda/lib/python3.7/site-packages/torch/utils/data/dataloader.py:557: UserWarning: This DataLoader will create 4 worker processes in total. Our suggested max number of worker in current system is 2, which is smaller than what this DataLoader is going to create. Please be aware that excessive worker creation might get DataLoader running slow or even freeze, lower the worker number to avoid potential slowness/freeze if necessary.\n",
      "  cpuset_checked))\n"
     ]
    },
    {
     "name": "stdout",
     "output_type": "stream",
     "text": [
      "Epoch 62 Val Loss: 0.5515593386079413 \t\t Val Accuracy: 0.7938635387482954\n"
     ]
    },
    {
     "name": "stderr",
     "output_type": "stream",
     "text": [
      "/opt/conda/lib/python3.7/site-packages/torch/utils/data/dataloader.py:557: UserWarning: This DataLoader will create 4 worker processes in total. Our suggested max number of worker in current system is 2, which is smaller than what this DataLoader is going to create. Please be aware that excessive worker creation might get DataLoader running slow or even freeze, lower the worker number to avoid potential slowness/freeze if necessary.\n",
      "  cpuset_checked))\n"
     ]
    },
    {
     "name": "stdout",
     "output_type": "stream",
     "text": [
      "[Epoch 63, Batch 100] Loss: 0.546 Accuracy: 0.797\n",
      "[Epoch 63, Batch 200] Loss: 0.554 Accuracy: 0.790\n",
      "[Epoch 63, Batch 300] Loss: 0.549 Accuracy: 0.795\n",
      "[Epoch 63, Batch 400] Loss: 0.546 Accuracy: 0.798\n",
      "[Epoch 63, Batch 500] Loss: 0.549 Accuracy: 0.795\n",
      "[Epoch 63, Batch 600] Loss: 0.553 Accuracy: 0.792\n",
      "[Epoch 63, Batch 700] Loss: 0.548 Accuracy: 0.797\n",
      "[Epoch 63, Batch 800] Loss: 0.550 Accuracy: 0.793\n",
      "[Epoch 63, Batch 900] Loss: 0.549 Accuracy: 0.795\n",
      "[Epoch 63, Batch 1000] Loss: 0.549 Accuracy: 0.795\n",
      "[Epoch 63, Batch 1100] Loss: 0.548 Accuracy: 0.796\n",
      "[Epoch 63, Batch 1200] Loss: 0.548 Accuracy: 0.796\n",
      "[Epoch 63, Batch 1300] Loss: 0.548 Accuracy: 0.796\n",
      "[Epoch 63, Batch 1400] Loss: 0.548 Accuracy: 0.795\n",
      "[Epoch 63, Batch 1500] Loss: 0.549 Accuracy: 0.794\n",
      "[Epoch 63, Batch 1600] Loss: 0.550 Accuracy: 0.795\n",
      "[Epoch 63, Batch 1700] Loss: 0.544 Accuracy: 0.799\n",
      "[Epoch 63, Batch 1800] Loss: 0.549 Accuracy: 0.796\n",
      "[Epoch 63, Batch 1900] Loss: 0.554 Accuracy: 0.791\n"
     ]
    },
    {
     "name": "stderr",
     "output_type": "stream",
     "text": [
      "/opt/conda/lib/python3.7/site-packages/torch/utils/data/dataloader.py:557: UserWarning: This DataLoader will create 4 worker processes in total. Our suggested max number of worker in current system is 2, which is smaller than what this DataLoader is going to create. Please be aware that excessive worker creation might get DataLoader running slow or even freeze, lower the worker number to avoid potential slowness/freeze if necessary.\n",
      "  cpuset_checked))\n"
     ]
    },
    {
     "name": "stdout",
     "output_type": "stream",
     "text": [
      "Epoch 63 Val Loss: 0.5504803622822206 \t\t Val Accuracy: 0.7951114926825532\n"
     ]
    },
    {
     "name": "stderr",
     "output_type": "stream",
     "text": [
      "/opt/conda/lib/python3.7/site-packages/torch/utils/data/dataloader.py:557: UserWarning: This DataLoader will create 4 worker processes in total. Our suggested max number of worker in current system is 2, which is smaller than what this DataLoader is going to create. Please be aware that excessive worker creation might get DataLoader running slow or even freeze, lower the worker number to avoid potential slowness/freeze if necessary.\n",
      "  cpuset_checked))\n"
     ]
    },
    {
     "name": "stdout",
     "output_type": "stream",
     "text": [
      "[Epoch 64, Batch 100] Loss: 0.547 Accuracy: 0.796\n",
      "[Epoch 64, Batch 200] Loss: 0.546 Accuracy: 0.798\n",
      "[Epoch 64, Batch 300] Loss: 0.552 Accuracy: 0.792\n",
      "[Epoch 64, Batch 400] Loss: 0.553 Accuracy: 0.791\n",
      "[Epoch 64, Batch 500] Loss: 0.545 Accuracy: 0.800\n",
      "[Epoch 64, Batch 600] Loss: 0.544 Accuracy: 0.800\n",
      "[Epoch 64, Batch 700] Loss: 0.550 Accuracy: 0.795\n",
      "[Epoch 64, Batch 800] Loss: 0.543 Accuracy: 0.802\n",
      "[Epoch 64, Batch 900] Loss: 0.543 Accuracy: 0.801\n",
      "[Epoch 64, Batch 1000] Loss: 0.548 Accuracy: 0.796\n",
      "[Epoch 64, Batch 1100] Loss: 0.550 Accuracy: 0.793\n",
      "[Epoch 64, Batch 1200] Loss: 0.549 Accuracy: 0.795\n",
      "[Epoch 64, Batch 1300] Loss: 0.553 Accuracy: 0.792\n",
      "[Epoch 64, Batch 1400] Loss: 0.556 Accuracy: 0.790\n",
      "[Epoch 64, Batch 1500] Loss: 0.550 Accuracy: 0.794\n",
      "[Epoch 64, Batch 1600] Loss: 0.549 Accuracy: 0.795\n",
      "[Epoch 64, Batch 1700] Loss: 0.549 Accuracy: 0.796\n",
      "[Epoch 64, Batch 1800] Loss: 0.547 Accuracy: 0.796\n",
      "[Epoch 64, Batch 1900] Loss: 0.552 Accuracy: 0.792\n"
     ]
    },
    {
     "name": "stderr",
     "output_type": "stream",
     "text": [
      "/opt/conda/lib/python3.7/site-packages/torch/utils/data/dataloader.py:557: UserWarning: This DataLoader will create 4 worker processes in total. Our suggested max number of worker in current system is 2, which is smaller than what this DataLoader is going to create. Please be aware that excessive worker creation might get DataLoader running slow or even freeze, lower the worker number to avoid potential slowness/freeze if necessary.\n",
      "  cpuset_checked))\n"
     ]
    },
    {
     "name": "stdout",
     "output_type": "stream",
     "text": [
      "Epoch 64 Val Loss: 0.5480867222131017 \t\t Val Accuracy: 0.7968295257077025\n"
     ]
    },
    {
     "name": "stderr",
     "output_type": "stream",
     "text": [
      "/opt/conda/lib/python3.7/site-packages/torch/utils/data/dataloader.py:557: UserWarning: This DataLoader will create 4 worker processes in total. Our suggested max number of worker in current system is 2, which is smaller than what this DataLoader is going to create. Please be aware that excessive worker creation might get DataLoader running slow or even freeze, lower the worker number to avoid potential slowness/freeze if necessary.\n",
      "  cpuset_checked))\n"
     ]
    },
    {
     "name": "stdout",
     "output_type": "stream",
     "text": [
      "[Epoch 65, Batch 100] Loss: 0.545 Accuracy: 0.799\n",
      "[Epoch 65, Batch 200] Loss: 0.546 Accuracy: 0.799\n",
      "[Epoch 65, Batch 300] Loss: 0.546 Accuracy: 0.798\n",
      "[Epoch 65, Batch 400] Loss: 0.547 Accuracy: 0.798\n",
      "[Epoch 65, Batch 500] Loss: 0.548 Accuracy: 0.797\n",
      "[Epoch 65, Batch 600] Loss: 0.552 Accuracy: 0.792\n",
      "[Epoch 65, Batch 700] Loss: 0.549 Accuracy: 0.796\n",
      "[Epoch 65, Batch 800] Loss: 0.548 Accuracy: 0.795\n",
      "[Epoch 65, Batch 900] Loss: 0.548 Accuracy: 0.797\n",
      "[Epoch 65, Batch 1000] Loss: 0.550 Accuracy: 0.794\n",
      "[Epoch 65, Batch 1100] Loss: 0.548 Accuracy: 0.796\n",
      "[Epoch 65, Batch 1200] Loss: 0.549 Accuracy: 0.795\n",
      "[Epoch 65, Batch 1300] Loss: 0.551 Accuracy: 0.793\n",
      "[Epoch 65, Batch 1400] Loss: 0.553 Accuracy: 0.792\n",
      "[Epoch 65, Batch 1500] Loss: 0.547 Accuracy: 0.797\n",
      "[Epoch 65, Batch 1600] Loss: 0.548 Accuracy: 0.795\n",
      "[Epoch 65, Batch 1700] Loss: 0.544 Accuracy: 0.800\n",
      "[Epoch 65, Batch 1800] Loss: 0.550 Accuracy: 0.795\n",
      "[Epoch 65, Batch 1900] Loss: 0.552 Accuracy: 0.793\n"
     ]
    },
    {
     "name": "stderr",
     "output_type": "stream",
     "text": [
      "/opt/conda/lib/python3.7/site-packages/torch/utils/data/dataloader.py:557: UserWarning: This DataLoader will create 4 worker processes in total. Our suggested max number of worker in current system is 2, which is smaller than what this DataLoader is going to create. Please be aware that excessive worker creation might get DataLoader running slow or even freeze, lower the worker number to avoid potential slowness/freeze if necessary.\n",
      "  cpuset_checked))\n"
     ]
    },
    {
     "name": "stdout",
     "output_type": "stream",
     "text": [
      "Epoch 65 Val Loss: 0.5495290276276539 \t\t Val Accuracy: 0.7940941641547582\n"
     ]
    },
    {
     "name": "stderr",
     "output_type": "stream",
     "text": [
      "/opt/conda/lib/python3.7/site-packages/torch/utils/data/dataloader.py:557: UserWarning: This DataLoader will create 4 worker processes in total. Our suggested max number of worker in current system is 2, which is smaller than what this DataLoader is going to create. Please be aware that excessive worker creation might get DataLoader running slow or even freeze, lower the worker number to avoid potential slowness/freeze if necessary.\n",
      "  cpuset_checked))\n"
     ]
    },
    {
     "name": "stdout",
     "output_type": "stream",
     "text": [
      "[Epoch 66, Batch 100] Loss: 0.548 Accuracy: 0.796\n",
      "[Epoch 66, Batch 200] Loss: 0.553 Accuracy: 0.792\n",
      "[Epoch 66, Batch 300] Loss: 0.544 Accuracy: 0.799\n",
      "[Epoch 66, Batch 400] Loss: 0.549 Accuracy: 0.795\n",
      "[Epoch 66, Batch 500] Loss: 0.551 Accuracy: 0.794\n",
      "[Epoch 66, Batch 600] Loss: 0.551 Accuracy: 0.794\n",
      "[Epoch 66, Batch 700] Loss: 0.544 Accuracy: 0.800\n",
      "[Epoch 66, Batch 800] Loss: 0.546 Accuracy: 0.798\n",
      "[Epoch 66, Batch 900] Loss: 0.545 Accuracy: 0.799\n",
      "[Epoch 66, Batch 1000] Loss: 0.556 Accuracy: 0.789\n",
      "[Epoch 66, Batch 1100] Loss: 0.546 Accuracy: 0.798\n",
      "[Epoch 66, Batch 1200] Loss: 0.543 Accuracy: 0.800\n",
      "[Epoch 66, Batch 1300] Loss: 0.550 Accuracy: 0.794\n",
      "[Epoch 66, Batch 1400] Loss: 0.553 Accuracy: 0.792\n",
      "[Epoch 66, Batch 1500] Loss: 0.551 Accuracy: 0.793\n",
      "[Epoch 66, Batch 1600] Loss: 0.550 Accuracy: 0.795\n",
      "[Epoch 66, Batch 1700] Loss: 0.551 Accuracy: 0.794\n",
      "[Epoch 66, Batch 1800] Loss: 0.549 Accuracy: 0.794\n",
      "[Epoch 66, Batch 1900] Loss: 0.541 Accuracy: 0.803\n"
     ]
    },
    {
     "name": "stderr",
     "output_type": "stream",
     "text": [
      "/opt/conda/lib/python3.7/site-packages/torch/utils/data/dataloader.py:557: UserWarning: This DataLoader will create 4 worker processes in total. Our suggested max number of worker in current system is 2, which is smaller than what this DataLoader is going to create. Please be aware that excessive worker creation might get DataLoader running slow or even freeze, lower the worker number to avoid potential slowness/freeze if necessary.\n",
      "  cpuset_checked))\n"
     ]
    },
    {
     "name": "stdout",
     "output_type": "stream",
     "text": [
      "Epoch 66 Val Loss: 0.5469580255598429 \t\t Val Accuracy: 0.7974793010311394\n"
     ]
    },
    {
     "name": "stderr",
     "output_type": "stream",
     "text": [
      "/opt/conda/lib/python3.7/site-packages/torch/utils/data/dataloader.py:557: UserWarning: This DataLoader will create 4 worker processes in total. Our suggested max number of worker in current system is 2, which is smaller than what this DataLoader is going to create. Please be aware that excessive worker creation might get DataLoader running slow or even freeze, lower the worker number to avoid potential slowness/freeze if necessary.\n",
      "  cpuset_checked))\n"
     ]
    },
    {
     "name": "stdout",
     "output_type": "stream",
     "text": [
      "[Epoch 67, Batch 100] Loss: 0.547 Accuracy: 0.797\n",
      "[Epoch 67, Batch 200] Loss: 0.551 Accuracy: 0.795\n",
      "[Epoch 67, Batch 300] Loss: 0.543 Accuracy: 0.800\n",
      "[Epoch 67, Batch 400] Loss: 0.543 Accuracy: 0.801\n",
      "[Epoch 67, Batch 500] Loss: 0.551 Accuracy: 0.794\n",
      "[Epoch 67, Batch 600] Loss: 0.547 Accuracy: 0.796\n",
      "[Epoch 67, Batch 700] Loss: 0.553 Accuracy: 0.792\n",
      "[Epoch 67, Batch 800] Loss: 0.552 Accuracy: 0.793\n",
      "[Epoch 67, Batch 900] Loss: 0.550 Accuracy: 0.795\n",
      "[Epoch 67, Batch 1000] Loss: 0.545 Accuracy: 0.800\n",
      "[Epoch 67, Batch 1100] Loss: 0.550 Accuracy: 0.794\n",
      "[Epoch 67, Batch 1200] Loss: 0.548 Accuracy: 0.796\n",
      "[Epoch 67, Batch 1300] Loss: 0.548 Accuracy: 0.796\n",
      "[Epoch 67, Batch 1400] Loss: 0.549 Accuracy: 0.796\n",
      "[Epoch 67, Batch 1500] Loss: 0.542 Accuracy: 0.801\n",
      "[Epoch 67, Batch 1600] Loss: 0.544 Accuracy: 0.800\n",
      "[Epoch 67, Batch 1700] Loss: 0.547 Accuracy: 0.797\n",
      "[Epoch 67, Batch 1800] Loss: 0.553 Accuracy: 0.793\n",
      "[Epoch 67, Batch 1900] Loss: 0.546 Accuracy: 0.798\n"
     ]
    },
    {
     "name": "stderr",
     "output_type": "stream",
     "text": [
      "/opt/conda/lib/python3.7/site-packages/torch/utils/data/dataloader.py:557: UserWarning: This DataLoader will create 4 worker processes in total. Our suggested max number of worker in current system is 2, which is smaller than what this DataLoader is going to create. Please be aware that excessive worker creation might get DataLoader running slow or even freeze, lower the worker number to avoid potential slowness/freeze if necessary.\n",
      "  cpuset_checked))\n"
     ]
    },
    {
     "name": "stdout",
     "output_type": "stream",
     "text": [
      "Epoch 67 Val Loss: 0.5474501222252367 \t\t Val Accuracy: 0.7974662095752298\n"
     ]
    },
    {
     "name": "stderr",
     "output_type": "stream",
     "text": [
      "/opt/conda/lib/python3.7/site-packages/torch/utils/data/dataloader.py:557: UserWarning: This DataLoader will create 4 worker processes in total. Our suggested max number of worker in current system is 2, which is smaller than what this DataLoader is going to create. Please be aware that excessive worker creation might get DataLoader running slow or even freeze, lower the worker number to avoid potential slowness/freeze if necessary.\n",
      "  cpuset_checked))\n"
     ]
    },
    {
     "name": "stdout",
     "output_type": "stream",
     "text": [
      "[Epoch 68, Batch 100] Loss: 0.544 Accuracy: 0.801\n",
      "[Epoch 68, Batch 200] Loss: 0.551 Accuracy: 0.793\n",
      "[Epoch 68, Batch 300] Loss: 0.552 Accuracy: 0.792\n",
      "[Epoch 68, Batch 400] Loss: 0.550 Accuracy: 0.795\n",
      "[Epoch 68, Batch 500] Loss: 0.558 Accuracy: 0.787\n",
      "[Epoch 68, Batch 600] Loss: 0.547 Accuracy: 0.797\n",
      "[Epoch 68, Batch 700] Loss: 0.547 Accuracy: 0.798\n",
      "[Epoch 68, Batch 800] Loss: 0.543 Accuracy: 0.800\n",
      "[Epoch 68, Batch 900] Loss: 0.544 Accuracy: 0.801\n",
      "[Epoch 68, Batch 1000] Loss: 0.550 Accuracy: 0.795\n",
      "[Epoch 68, Batch 1100] Loss: 0.549 Accuracy: 0.796\n",
      "[Epoch 68, Batch 1200] Loss: 0.547 Accuracy: 0.798\n",
      "[Epoch 68, Batch 1300] Loss: 0.544 Accuracy: 0.800\n",
      "[Epoch 68, Batch 1400] Loss: 0.548 Accuracy: 0.797\n",
      "[Epoch 68, Batch 1500] Loss: 0.547 Accuracy: 0.798\n",
      "[Epoch 68, Batch 1600] Loss: 0.551 Accuracy: 0.792\n",
      "[Epoch 68, Batch 1700] Loss: 0.545 Accuracy: 0.799\n",
      "[Epoch 68, Batch 1800] Loss: 0.547 Accuracy: 0.798\n",
      "[Epoch 68, Batch 1900] Loss: 0.541 Accuracy: 0.803\n"
     ]
    },
    {
     "name": "stderr",
     "output_type": "stream",
     "text": [
      "/opt/conda/lib/python3.7/site-packages/torch/utils/data/dataloader.py:557: UserWarning: This DataLoader will create 4 worker processes in total. Our suggested max number of worker in current system is 2, which is smaller than what this DataLoader is going to create. Please be aware that excessive worker creation might get DataLoader running slow or even freeze, lower the worker number to avoid potential slowness/freeze if necessary.\n",
      "  cpuset_checked))\n"
     ]
    },
    {
     "name": "stdout",
     "output_type": "stream",
     "text": [
      "Epoch 68 Val Loss: 0.5453641905363305 \t\t Val Accuracy: 0.7985755879677616\n",
      "Validation Loss Decreased(136.184351--->135.795683) \t Saving The Model\n"
     ]
    },
    {
     "name": "stderr",
     "output_type": "stream",
     "text": [
      "/opt/conda/lib/python3.7/site-packages/torch/utils/data/dataloader.py:557: UserWarning: This DataLoader will create 4 worker processes in total. Our suggested max number of worker in current system is 2, which is smaller than what this DataLoader is going to create. Please be aware that excessive worker creation might get DataLoader running slow or even freeze, lower the worker number to avoid potential slowness/freeze if necessary.\n",
      "  cpuset_checked))\n"
     ]
    },
    {
     "name": "stdout",
     "output_type": "stream",
     "text": [
      "[Epoch 69, Batch 100] Loss: 0.546 Accuracy: 0.797\n",
      "[Epoch 69, Batch 200] Loss: 0.549 Accuracy: 0.794\n",
      "[Epoch 69, Batch 300] Loss: 0.545 Accuracy: 0.800\n",
      "[Epoch 69, Batch 400] Loss: 0.543 Accuracy: 0.800\n",
      "[Epoch 69, Batch 500] Loss: 0.553 Accuracy: 0.792\n",
      "[Epoch 69, Batch 600] Loss: 0.544 Accuracy: 0.799\n",
      "[Epoch 69, Batch 700] Loss: 0.553 Accuracy: 0.793\n",
      "[Epoch 69, Batch 800] Loss: 0.552 Accuracy: 0.791\n",
      "[Epoch 69, Batch 900] Loss: 0.552 Accuracy: 0.793\n",
      "[Epoch 69, Batch 1000] Loss: 0.543 Accuracy: 0.800\n",
      "[Epoch 69, Batch 1100] Loss: 0.549 Accuracy: 0.797\n",
      "[Epoch 69, Batch 1200] Loss: 0.544 Accuracy: 0.800\n",
      "[Epoch 69, Batch 1300] Loss: 0.548 Accuracy: 0.796\n",
      "[Epoch 69, Batch 1400] Loss: 0.548 Accuracy: 0.796\n",
      "[Epoch 69, Batch 1500] Loss: 0.544 Accuracy: 0.799\n",
      "[Epoch 69, Batch 1600] Loss: 0.546 Accuracy: 0.798\n",
      "[Epoch 69, Batch 1700] Loss: 0.547 Accuracy: 0.798\n",
      "[Epoch 69, Batch 1800] Loss: 0.544 Accuracy: 0.798\n",
      "[Epoch 69, Batch 1900] Loss: 0.551 Accuracy: 0.794\n"
     ]
    },
    {
     "name": "stderr",
     "output_type": "stream",
     "text": [
      "/opt/conda/lib/python3.7/site-packages/torch/utils/data/dataloader.py:557: UserWarning: This DataLoader will create 4 worker processes in total. Our suggested max number of worker in current system is 2, which is smaller than what this DataLoader is going to create. Please be aware that excessive worker creation might get DataLoader running slow or even freeze, lower the worker number to avoid potential slowness/freeze if necessary.\n",
      "  cpuset_checked))\n"
     ]
    },
    {
     "name": "stdout",
     "output_type": "stream",
     "text": [
      "Epoch 69 Val Loss: 0.5476928605851399 \t\t Val Accuracy: 0.7961598797577514\n"
     ]
    },
    {
     "name": "stderr",
     "output_type": "stream",
     "text": [
      "/opt/conda/lib/python3.7/site-packages/torch/utils/data/dataloader.py:557: UserWarning: This DataLoader will create 4 worker processes in total. Our suggested max number of worker in current system is 2, which is smaller than what this DataLoader is going to create. Please be aware that excessive worker creation might get DataLoader running slow or even freeze, lower the worker number to avoid potential slowness/freeze if necessary.\n",
      "  cpuset_checked))\n"
     ]
    },
    {
     "name": "stdout",
     "output_type": "stream",
     "text": [
      "[Epoch 70, Batch 100] Loss: 0.552 Accuracy: 0.792\n",
      "[Epoch 70, Batch 200] Loss: 0.546 Accuracy: 0.798\n",
      "[Epoch 70, Batch 300] Loss: 0.548 Accuracy: 0.796\n",
      "[Epoch 70, Batch 400] Loss: 0.543 Accuracy: 0.801\n",
      "[Epoch 70, Batch 500] Loss: 0.544 Accuracy: 0.800\n",
      "[Epoch 70, Batch 600] Loss: 0.548 Accuracy: 0.797\n",
      "[Epoch 70, Batch 700] Loss: 0.548 Accuracy: 0.796\n",
      "[Epoch 70, Batch 800] Loss: 0.550 Accuracy: 0.794\n",
      "[Epoch 70, Batch 900] Loss: 0.542 Accuracy: 0.803\n",
      "[Epoch 70, Batch 1000] Loss: 0.548 Accuracy: 0.797\n",
      "[Epoch 70, Batch 1100] Loss: 0.545 Accuracy: 0.799\n",
      "[Epoch 70, Batch 1200] Loss: 0.549 Accuracy: 0.795\n",
      "[Epoch 70, Batch 1300] Loss: 0.553 Accuracy: 0.791\n",
      "[Epoch 70, Batch 1400] Loss: 0.546 Accuracy: 0.798\n",
      "[Epoch 70, Batch 1500] Loss: 0.548 Accuracy: 0.796\n",
      "[Epoch 70, Batch 1600] Loss: 0.545 Accuracy: 0.799\n",
      "[Epoch 70, Batch 1700] Loss: 0.543 Accuracy: 0.801\n",
      "[Epoch 70, Batch 1800] Loss: 0.543 Accuracy: 0.802\n",
      "[Epoch 70, Batch 1900] Loss: 0.548 Accuracy: 0.796\n"
     ]
    },
    {
     "name": "stderr",
     "output_type": "stream",
     "text": [
      "/opt/conda/lib/python3.7/site-packages/torch/utils/data/dataloader.py:557: UserWarning: This DataLoader will create 4 worker processes in total. Our suggested max number of worker in current system is 2, which is smaller than what this DataLoader is going to create. Please be aware that excessive worker creation might get DataLoader running slow or even freeze, lower the worker number to avoid potential slowness/freeze if necessary.\n",
      "  cpuset_checked))\n"
     ]
    },
    {
     "name": "stdout",
     "output_type": "stream",
     "text": [
      "Epoch 70 Val Loss: 0.5470157269253788 \t\t Val Accuracy: 0.7965955358712881\n"
     ]
    },
    {
     "name": "stderr",
     "output_type": "stream",
     "text": [
      "/opt/conda/lib/python3.7/site-packages/torch/utils/data/dataloader.py:557: UserWarning: This DataLoader will create 4 worker processes in total. Our suggested max number of worker in current system is 2, which is smaller than what this DataLoader is going to create. Please be aware that excessive worker creation might get DataLoader running slow or even freeze, lower the worker number to avoid potential slowness/freeze if necessary.\n",
      "  cpuset_checked))\n"
     ]
    },
    {
     "name": "stdout",
     "output_type": "stream",
     "text": [
      "[Epoch 71, Batch 100] Loss: 0.549 Accuracy: 0.796\n",
      "[Epoch 71, Batch 200] Loss: 0.550 Accuracy: 0.795\n",
      "[Epoch 71, Batch 300] Loss: 0.546 Accuracy: 0.797\n",
      "[Epoch 71, Batch 400] Loss: 0.541 Accuracy: 0.802\n",
      "[Epoch 71, Batch 500] Loss: 0.546 Accuracy: 0.797\n",
      "[Epoch 71, Batch 600] Loss: 0.546 Accuracy: 0.798\n",
      "[Epoch 71, Batch 700] Loss: 0.547 Accuracy: 0.798\n",
      "[Epoch 71, Batch 800] Loss: 0.546 Accuracy: 0.798\n",
      "[Epoch 71, Batch 900] Loss: 0.551 Accuracy: 0.793\n",
      "[Epoch 71, Batch 1000] Loss: 0.544 Accuracy: 0.801\n",
      "[Epoch 71, Batch 1100] Loss: 0.545 Accuracy: 0.799\n",
      "[Epoch 71, Batch 1200] Loss: 0.548 Accuracy: 0.796\n",
      "[Epoch 71, Batch 1300] Loss: 0.544 Accuracy: 0.800\n",
      "[Epoch 71, Batch 1400] Loss: 0.544 Accuracy: 0.798\n",
      "[Epoch 71, Batch 1500] Loss: 0.542 Accuracy: 0.802\n",
      "[Epoch 71, Batch 1600] Loss: 0.553 Accuracy: 0.791\n",
      "[Epoch 71, Batch 1700] Loss: 0.554 Accuracy: 0.791\n",
      "[Epoch 71, Batch 1800] Loss: 0.543 Accuracy: 0.802\n",
      "[Epoch 71, Batch 1900] Loss: 0.550 Accuracy: 0.795\n"
     ]
    },
    {
     "name": "stderr",
     "output_type": "stream",
     "text": [
      "/opt/conda/lib/python3.7/site-packages/torch/utils/data/dataloader.py:557: UserWarning: This DataLoader will create 4 worker processes in total. Our suggested max number of worker in current system is 2, which is smaller than what this DataLoader is going to create. Please be aware that excessive worker creation might get DataLoader running slow or even freeze, lower the worker number to avoid potential slowness/freeze if necessary.\n",
      "  cpuset_checked))\n"
     ]
    },
    {
     "name": "stdout",
     "output_type": "stream",
     "text": [
      "Epoch 71 Val Loss: 0.545416514198464 \t\t Val Accuracy: 0.7979341181332037\n"
     ]
    },
    {
     "name": "stderr",
     "output_type": "stream",
     "text": [
      "/opt/conda/lib/python3.7/site-packages/torch/utils/data/dataloader.py:557: UserWarning: This DataLoader will create 4 worker processes in total. Our suggested max number of worker in current system is 2, which is smaller than what this DataLoader is going to create. Please be aware that excessive worker creation might get DataLoader running slow or even freeze, lower the worker number to avoid potential slowness/freeze if necessary.\n",
      "  cpuset_checked))\n"
     ]
    },
    {
     "name": "stdout",
     "output_type": "stream",
     "text": [
      "[Epoch 72, Batch 100] Loss: 0.545 Accuracy: 0.800\n",
      "[Epoch 72, Batch 200] Loss: 0.549 Accuracy: 0.796\n",
      "[Epoch 72, Batch 300] Loss: 0.548 Accuracy: 0.796\n",
      "[Epoch 72, Batch 400] Loss: 0.548 Accuracy: 0.796\n",
      "[Epoch 72, Batch 500] Loss: 0.546 Accuracy: 0.798\n",
      "[Epoch 72, Batch 600] Loss: 0.550 Accuracy: 0.794\n",
      "[Epoch 72, Batch 700] Loss: 0.544 Accuracy: 0.800\n",
      "[Epoch 72, Batch 800] Loss: 0.549 Accuracy: 0.793\n",
      "[Epoch 72, Batch 900] Loss: 0.543 Accuracy: 0.802\n",
      "[Epoch 72, Batch 1000] Loss: 0.554 Accuracy: 0.790\n",
      "[Epoch 72, Batch 1100] Loss: 0.546 Accuracy: 0.798\n",
      "[Epoch 72, Batch 1200] Loss: 0.544 Accuracy: 0.801\n",
      "[Epoch 72, Batch 1300] Loss: 0.551 Accuracy: 0.795\n",
      "[Epoch 72, Batch 1400] Loss: 0.547 Accuracy: 0.797\n",
      "[Epoch 72, Batch 1500] Loss: 0.542 Accuracy: 0.802\n",
      "[Epoch 72, Batch 1600] Loss: 0.545 Accuracy: 0.799\n",
      "[Epoch 72, Batch 1700] Loss: 0.546 Accuracy: 0.799\n",
      "[Epoch 72, Batch 1800] Loss: 0.551 Accuracy: 0.793\n",
      "[Epoch 72, Batch 1900] Loss: 0.546 Accuracy: 0.799\n"
     ]
    },
    {
     "name": "stderr",
     "output_type": "stream",
     "text": [
      "/opt/conda/lib/python3.7/site-packages/torch/utils/data/dataloader.py:557: UserWarning: This DataLoader will create 4 worker processes in total. Our suggested max number of worker in current system is 2, which is smaller than what this DataLoader is going to create. Please be aware that excessive worker creation might get DataLoader running slow or even freeze, lower the worker number to avoid potential slowness/freeze if necessary.\n",
      "  cpuset_checked))\n"
     ]
    },
    {
     "name": "stdout",
     "output_type": "stream",
     "text": [
      "Epoch 72 Val Loss: 0.5467524015041719 \t\t Val Accuracy: 0.7979964254360894\n"
     ]
    },
    {
     "name": "stderr",
     "output_type": "stream",
     "text": [
      "/opt/conda/lib/python3.7/site-packages/torch/utils/data/dataloader.py:557: UserWarning: This DataLoader will create 4 worker processes in total. Our suggested max number of worker in current system is 2, which is smaller than what this DataLoader is going to create. Please be aware that excessive worker creation might get DataLoader running slow or even freeze, lower the worker number to avoid potential slowness/freeze if necessary.\n",
      "  cpuset_checked))\n"
     ]
    },
    {
     "name": "stdout",
     "output_type": "stream",
     "text": [
      "[Epoch 73, Batch 100] Loss: 0.543 Accuracy: 0.800\n",
      "[Epoch 73, Batch 200] Loss: 0.545 Accuracy: 0.798\n",
      "[Epoch 73, Batch 300] Loss: 0.547 Accuracy: 0.797\n",
      "[Epoch 73, Batch 400] Loss: 0.548 Accuracy: 0.795\n",
      "[Epoch 73, Batch 500] Loss: 0.551 Accuracy: 0.794\n",
      "[Epoch 73, Batch 600] Loss: 0.551 Accuracy: 0.794\n",
      "[Epoch 73, Batch 700] Loss: 0.545 Accuracy: 0.799\n",
      "[Epoch 73, Batch 800] Loss: 0.549 Accuracy: 0.796\n",
      "[Epoch 73, Batch 900] Loss: 0.544 Accuracy: 0.801\n",
      "[Epoch 73, Batch 1000] Loss: 0.547 Accuracy: 0.796\n",
      "[Epoch 73, Batch 1100] Loss: 0.548 Accuracy: 0.796\n",
      "[Epoch 73, Batch 1200] Loss: 0.547 Accuracy: 0.798\n",
      "[Epoch 73, Batch 1300] Loss: 0.547 Accuracy: 0.798\n",
      "[Epoch 73, Batch 1400] Loss: 0.546 Accuracy: 0.798\n",
      "[Epoch 73, Batch 1500] Loss: 0.546 Accuracy: 0.798\n",
      "[Epoch 73, Batch 1600] Loss: 0.542 Accuracy: 0.802\n",
      "[Epoch 73, Batch 1700] Loss: 0.542 Accuracy: 0.801\n",
      "[Epoch 73, Batch 1800] Loss: 0.546 Accuracy: 0.799\n",
      "[Epoch 73, Batch 1900] Loss: 0.542 Accuracy: 0.802\n"
     ]
    },
    {
     "name": "stderr",
     "output_type": "stream",
     "text": [
      "/opt/conda/lib/python3.7/site-packages/torch/utils/data/dataloader.py:557: UserWarning: This DataLoader will create 4 worker processes in total. Our suggested max number of worker in current system is 2, which is smaller than what this DataLoader is going to create. Please be aware that excessive worker creation might get DataLoader running slow or even freeze, lower the worker number to avoid potential slowness/freeze if necessary.\n",
      "  cpuset_checked))\n"
     ]
    },
    {
     "name": "stdout",
     "output_type": "stream",
     "text": [
      "Epoch 73 Val Loss: 0.5486028888618132 \t\t Val Accuracy: 0.7955567292910322\n"
     ]
    },
    {
     "name": "stderr",
     "output_type": "stream",
     "text": [
      "/opt/conda/lib/python3.7/site-packages/torch/utils/data/dataloader.py:557: UserWarning: This DataLoader will create 4 worker processes in total. Our suggested max number of worker in current system is 2, which is smaller than what this DataLoader is going to create. Please be aware that excessive worker creation might get DataLoader running slow or even freeze, lower the worker number to avoid potential slowness/freeze if necessary.\n",
      "  cpuset_checked))\n"
     ]
    },
    {
     "name": "stdout",
     "output_type": "stream",
     "text": [
      "[Epoch 74, Batch 100] Loss: 0.555 Accuracy: 0.790\n",
      "[Epoch 74, Batch 200] Loss: 0.545 Accuracy: 0.801\n",
      "[Epoch 74, Batch 300] Loss: 0.544 Accuracy: 0.800\n",
      "[Epoch 74, Batch 400] Loss: 0.548 Accuracy: 0.796\n",
      "[Epoch 74, Batch 500] Loss: 0.542 Accuracy: 0.802\n",
      "[Epoch 74, Batch 600] Loss: 0.550 Accuracy: 0.794\n",
      "[Epoch 74, Batch 700] Loss: 0.542 Accuracy: 0.801\n",
      "[Epoch 74, Batch 800] Loss: 0.548 Accuracy: 0.796\n",
      "[Epoch 74, Batch 900] Loss: 0.546 Accuracy: 0.797\n",
      "[Epoch 74, Batch 1000] Loss: 0.541 Accuracy: 0.802\n",
      "[Epoch 74, Batch 1100] Loss: 0.545 Accuracy: 0.800\n",
      "[Epoch 74, Batch 1200] Loss: 0.544 Accuracy: 0.800\n",
      "[Epoch 74, Batch 1300] Loss: 0.544 Accuracy: 0.799\n",
      "[Epoch 74, Batch 1400] Loss: 0.546 Accuracy: 0.797\n",
      "[Epoch 74, Batch 1500] Loss: 0.543 Accuracy: 0.800\n",
      "[Epoch 74, Batch 1600] Loss: 0.544 Accuracy: 0.800\n",
      "[Epoch 74, Batch 1700] Loss: 0.549 Accuracy: 0.795\n",
      "[Epoch 74, Batch 1800] Loss: 0.546 Accuracy: 0.799\n",
      "[Epoch 74, Batch 1900] Loss: 0.546 Accuracy: 0.799\n"
     ]
    },
    {
     "name": "stderr",
     "output_type": "stream",
     "text": [
      "/opt/conda/lib/python3.7/site-packages/torch/utils/data/dataloader.py:557: UserWarning: This DataLoader will create 4 worker processes in total. Our suggested max number of worker in current system is 2, which is smaller than what this DataLoader is going to create. Please be aware that excessive worker creation might get DataLoader running slow or even freeze, lower the worker number to avoid potential slowness/freeze if necessary.\n",
      "  cpuset_checked))\n"
     ]
    },
    {
     "name": "stdout",
     "output_type": "stream",
     "text": [
      "Epoch 74 Val Loss: 0.5472753926453341 \t\t Val Accuracy: 0.7975666165955977\n"
     ]
    },
    {
     "name": "stderr",
     "output_type": "stream",
     "text": [
      "/opt/conda/lib/python3.7/site-packages/torch/utils/data/dataloader.py:557: UserWarning: This DataLoader will create 4 worker processes in total. Our suggested max number of worker in current system is 2, which is smaller than what this DataLoader is going to create. Please be aware that excessive worker creation might get DataLoader running slow or even freeze, lower the worker number to avoid potential slowness/freeze if necessary.\n",
      "  cpuset_checked))\n"
     ]
    },
    {
     "name": "stdout",
     "output_type": "stream",
     "text": [
      "[Epoch 75, Batch 100] Loss: 0.547 Accuracy: 0.797\n",
      "[Epoch 75, Batch 200] Loss: 0.544 Accuracy: 0.800\n",
      "[Epoch 75, Batch 300] Loss: 0.548 Accuracy: 0.795\n",
      "[Epoch 75, Batch 400] Loss: 0.546 Accuracy: 0.797\n",
      "[Epoch 75, Batch 500] Loss: 0.548 Accuracy: 0.795\n",
      "[Epoch 75, Batch 600] Loss: 0.549 Accuracy: 0.796\n",
      "[Epoch 75, Batch 700] Loss: 0.537 Accuracy: 0.805\n",
      "[Epoch 75, Batch 800] Loss: 0.544 Accuracy: 0.801\n",
      "[Epoch 75, Batch 900] Loss: 0.549 Accuracy: 0.796\n",
      "[Epoch 75, Batch 1000] Loss: 0.541 Accuracy: 0.802\n",
      "[Epoch 75, Batch 1100] Loss: 0.544 Accuracy: 0.801\n",
      "[Epoch 75, Batch 1200] Loss: 0.553 Accuracy: 0.792\n",
      "[Epoch 75, Batch 1300] Loss: 0.551 Accuracy: 0.794\n",
      "[Epoch 75, Batch 1400] Loss: 0.545 Accuracy: 0.799\n",
      "[Epoch 75, Batch 1500] Loss: 0.543 Accuracy: 0.800\n",
      "[Epoch 75, Batch 1600] Loss: 0.548 Accuracy: 0.794\n",
      "[Epoch 75, Batch 1700] Loss: 0.549 Accuracy: 0.795\n",
      "[Epoch 75, Batch 1800] Loss: 0.544 Accuracy: 0.800\n",
      "[Epoch 75, Batch 1900] Loss: 0.552 Accuracy: 0.794\n"
     ]
    },
    {
     "name": "stderr",
     "output_type": "stream",
     "text": [
      "/opt/conda/lib/python3.7/site-packages/torch/utils/data/dataloader.py:557: UserWarning: This DataLoader will create 4 worker processes in total. Our suggested max number of worker in current system is 2, which is smaller than what this DataLoader is going to create. Please be aware that excessive worker creation might get DataLoader running slow or even freeze, lower the worker number to avoid potential slowness/freeze if necessary.\n",
      "  cpuset_checked))\n"
     ]
    },
    {
     "name": "stdout",
     "output_type": "stream",
     "text": [
      "Epoch 75 Val Loss: 0.5501413424331022 \t\t Val Accuracy: 0.7936489504207493\n"
     ]
    },
    {
     "name": "stderr",
     "output_type": "stream",
     "text": [
      "/opt/conda/lib/python3.7/site-packages/torch/utils/data/dataloader.py:557: UserWarning: This DataLoader will create 4 worker processes in total. Our suggested max number of worker in current system is 2, which is smaller than what this DataLoader is going to create. Please be aware that excessive worker creation might get DataLoader running slow or even freeze, lower the worker number to avoid potential slowness/freeze if necessary.\n",
      "  cpuset_checked))\n"
     ]
    },
    {
     "name": "stdout",
     "output_type": "stream",
     "text": [
      "[Epoch 76, Batch 100] Loss: 0.543 Accuracy: 0.800\n",
      "[Epoch 76, Batch 200] Loss: 0.550 Accuracy: 0.794\n",
      "[Epoch 76, Batch 300] Loss: 0.547 Accuracy: 0.796\n",
      "[Epoch 76, Batch 400] Loss: 0.545 Accuracy: 0.799\n",
      "[Epoch 76, Batch 500] Loss: 0.543 Accuracy: 0.802\n",
      "[Epoch 76, Batch 600] Loss: 0.549 Accuracy: 0.796\n",
      "[Epoch 76, Batch 700] Loss: 0.543 Accuracy: 0.800\n",
      "[Epoch 76, Batch 800] Loss: 0.539 Accuracy: 0.805\n",
      "[Epoch 76, Batch 900] Loss: 0.551 Accuracy: 0.794\n",
      "[Epoch 76, Batch 1000] Loss: 0.544 Accuracy: 0.800\n",
      "[Epoch 76, Batch 1100] Loss: 0.550 Accuracy: 0.795\n",
      "[Epoch 76, Batch 1200] Loss: 0.543 Accuracy: 0.801\n",
      "[Epoch 76, Batch 1300] Loss: 0.547 Accuracy: 0.797\n",
      "[Epoch 76, Batch 1400] Loss: 0.550 Accuracy: 0.795\n",
      "[Epoch 76, Batch 1500] Loss: 0.553 Accuracy: 0.791\n",
      "[Epoch 76, Batch 1600] Loss: 0.544 Accuracy: 0.799\n",
      "[Epoch 76, Batch 1700] Loss: 0.542 Accuracy: 0.802\n",
      "[Epoch 76, Batch 1800] Loss: 0.546 Accuracy: 0.799\n",
      "[Epoch 76, Batch 1900] Loss: 0.551 Accuracy: 0.794\n"
     ]
    },
    {
     "name": "stderr",
     "output_type": "stream",
     "text": [
      "/opt/conda/lib/python3.7/site-packages/torch/utils/data/dataloader.py:557: UserWarning: This DataLoader will create 4 worker processes in total. Our suggested max number of worker in current system is 2, which is smaller than what this DataLoader is going to create. Please be aware that excessive worker creation might get DataLoader running slow or even freeze, lower the worker number to avoid potential slowness/freeze if necessary.\n",
      "  cpuset_checked))\n"
     ]
    },
    {
     "name": "stdout",
     "output_type": "stream",
     "text": [
      "Epoch 76 Val Loss: 0.5449988071219509 \t\t Val Accuracy: 0.7983611887430023\n",
      "Validation Loss Decreased(135.795683--->135.704703) \t Saving The Model\n"
     ]
    },
    {
     "name": "stderr",
     "output_type": "stream",
     "text": [
      "/opt/conda/lib/python3.7/site-packages/torch/utils/data/dataloader.py:557: UserWarning: This DataLoader will create 4 worker processes in total. Our suggested max number of worker in current system is 2, which is smaller than what this DataLoader is going to create. Please be aware that excessive worker creation might get DataLoader running slow or even freeze, lower the worker number to avoid potential slowness/freeze if necessary.\n",
      "  cpuset_checked))\n"
     ]
    },
    {
     "name": "stdout",
     "output_type": "stream",
     "text": [
      "[Epoch 77, Batch 100] Loss: 0.542 Accuracy: 0.802\n",
      "[Epoch 77, Batch 200] Loss: 0.541 Accuracy: 0.803\n",
      "[Epoch 77, Batch 300] Loss: 0.544 Accuracy: 0.800\n",
      "[Epoch 77, Batch 400] Loss: 0.542 Accuracy: 0.801\n",
      "[Epoch 77, Batch 500] Loss: 0.547 Accuracy: 0.796\n",
      "[Epoch 77, Batch 600] Loss: 0.545 Accuracy: 0.799\n",
      "[Epoch 77, Batch 700] Loss: 0.550 Accuracy: 0.795\n",
      "[Epoch 77, Batch 800] Loss: 0.550 Accuracy: 0.794\n",
      "[Epoch 77, Batch 900] Loss: 0.546 Accuracy: 0.797\n",
      "[Epoch 77, Batch 1000] Loss: 0.548 Accuracy: 0.795\n",
      "[Epoch 77, Batch 1100] Loss: 0.547 Accuracy: 0.797\n",
      "[Epoch 77, Batch 1200] Loss: 0.546 Accuracy: 0.798\n",
      "[Epoch 77, Batch 1300] Loss: 0.545 Accuracy: 0.799\n",
      "[Epoch 77, Batch 1400] Loss: 0.545 Accuracy: 0.800\n",
      "[Epoch 77, Batch 1500] Loss: 0.550 Accuracy: 0.795\n",
      "[Epoch 77, Batch 1600] Loss: 0.543 Accuracy: 0.801\n",
      "[Epoch 77, Batch 1700] Loss: 0.546 Accuracy: 0.797\n",
      "[Epoch 77, Batch 1800] Loss: 0.548 Accuracy: 0.795\n",
      "[Epoch 77, Batch 1900] Loss: 0.544 Accuracy: 0.800\n"
     ]
    },
    {
     "name": "stderr",
     "output_type": "stream",
     "text": [
      "/opt/conda/lib/python3.7/site-packages/torch/utils/data/dataloader.py:557: UserWarning: This DataLoader will create 4 worker processes in total. Our suggested max number of worker in current system is 2, which is smaller than what this DataLoader is going to create. Please be aware that excessive worker creation might get DataLoader running slow or even freeze, lower the worker number to avoid potential slowness/freeze if necessary.\n",
      "  cpuset_checked))\n"
     ]
    },
    {
     "name": "stdout",
     "output_type": "stream",
     "text": [
      "Epoch 77 Val Loss: 0.5457410231890928 \t\t Val Accuracy: 0.798407397703607\n"
     ]
    },
    {
     "name": "stderr",
     "output_type": "stream",
     "text": [
      "/opt/conda/lib/python3.7/site-packages/torch/utils/data/dataloader.py:557: UserWarning: This DataLoader will create 4 worker processes in total. Our suggested max number of worker in current system is 2, which is smaller than what this DataLoader is going to create. Please be aware that excessive worker creation might get DataLoader running slow or even freeze, lower the worker number to avoid potential slowness/freeze if necessary.\n",
      "  cpuset_checked))\n"
     ]
    },
    {
     "name": "stdout",
     "output_type": "stream",
     "text": [
      "[Epoch 78, Batch 100] Loss: 0.548 Accuracy: 0.796\n",
      "[Epoch 78, Batch 200] Loss: 0.545 Accuracy: 0.799\n",
      "[Epoch 78, Batch 300] Loss: 0.551 Accuracy: 0.793\n",
      "[Epoch 78, Batch 400] Loss: 0.544 Accuracy: 0.799\n",
      "[Epoch 78, Batch 500] Loss: 0.545 Accuracy: 0.799\n",
      "[Epoch 78, Batch 600] Loss: 0.549 Accuracy: 0.795\n",
      "[Epoch 78, Batch 700] Loss: 0.546 Accuracy: 0.799\n",
      "[Epoch 78, Batch 800] Loss: 0.548 Accuracy: 0.796\n",
      "[Epoch 78, Batch 900] Loss: 0.541 Accuracy: 0.803\n",
      "[Epoch 78, Batch 1000] Loss: 0.546 Accuracy: 0.797\n",
      "[Epoch 78, Batch 1100] Loss: 0.547 Accuracy: 0.798\n",
      "[Epoch 78, Batch 1200] Loss: 0.548 Accuracy: 0.796\n",
      "[Epoch 78, Batch 1300] Loss: 0.542 Accuracy: 0.801\n",
      "[Epoch 78, Batch 1400] Loss: 0.542 Accuracy: 0.802\n",
      "[Epoch 78, Batch 1500] Loss: 0.544 Accuracy: 0.800\n",
      "[Epoch 78, Batch 1600] Loss: 0.540 Accuracy: 0.803\n",
      "[Epoch 78, Batch 1700] Loss: 0.542 Accuracy: 0.802\n",
      "[Epoch 78, Batch 1800] Loss: 0.546 Accuracy: 0.798\n",
      "[Epoch 78, Batch 1900] Loss: 0.547 Accuracy: 0.798\n"
     ]
    },
    {
     "name": "stderr",
     "output_type": "stream",
     "text": [
      "/opt/conda/lib/python3.7/site-packages/torch/utils/data/dataloader.py:557: UserWarning: This DataLoader will create 4 worker processes in total. Our suggested max number of worker in current system is 2, which is smaller than what this DataLoader is going to create. Please be aware that excessive worker creation might get DataLoader running slow or even freeze, lower the worker number to avoid potential slowness/freeze if necessary.\n",
      "  cpuset_checked))\n"
     ]
    },
    {
     "name": "stdout",
     "output_type": "stream",
     "text": [
      "Epoch 78 Val Loss: 0.5468446930728285 \t\t Val Accuracy: 0.7985678040818125\n"
     ]
    },
    {
     "name": "stderr",
     "output_type": "stream",
     "text": [
      "/opt/conda/lib/python3.7/site-packages/torch/utils/data/dataloader.py:557: UserWarning: This DataLoader will create 4 worker processes in total. Our suggested max number of worker in current system is 2, which is smaller than what this DataLoader is going to create. Please be aware that excessive worker creation might get DataLoader running slow or even freeze, lower the worker number to avoid potential slowness/freeze if necessary.\n",
      "  cpuset_checked))\n"
     ]
    },
    {
     "name": "stdout",
     "output_type": "stream",
     "text": [
      "[Epoch 79, Batch 100] Loss: 0.547 Accuracy: 0.797\n",
      "[Epoch 79, Batch 200] Loss: 0.540 Accuracy: 0.803\n",
      "[Epoch 79, Batch 300] Loss: 0.543 Accuracy: 0.800\n",
      "[Epoch 79, Batch 400] Loss: 0.537 Accuracy: 0.806\n",
      "[Epoch 79, Batch 500] Loss: 0.548 Accuracy: 0.795\n",
      "[Epoch 79, Batch 600] Loss: 0.548 Accuracy: 0.797\n",
      "[Epoch 79, Batch 700] Loss: 0.548 Accuracy: 0.795\n",
      "[Epoch 79, Batch 800] Loss: 0.549 Accuracy: 0.795\n",
      "[Epoch 79, Batch 900] Loss: 0.546 Accuracy: 0.798\n",
      "[Epoch 79, Batch 1000] Loss: 0.550 Accuracy: 0.795\n",
      "[Epoch 79, Batch 1100] Loss: 0.547 Accuracy: 0.797\n",
      "[Epoch 79, Batch 1200] Loss: 0.543 Accuracy: 0.798\n",
      "[Epoch 79, Batch 1300] Loss: 0.544 Accuracy: 0.801\n",
      "[Epoch 79, Batch 1400] Loss: 0.551 Accuracy: 0.795\n",
      "[Epoch 79, Batch 1500] Loss: 0.545 Accuracy: 0.798\n",
      "[Epoch 79, Batch 1600] Loss: 0.547 Accuracy: 0.798\n",
      "[Epoch 79, Batch 1700] Loss: 0.545 Accuracy: 0.799\n",
      "[Epoch 79, Batch 1800] Loss: 0.540 Accuracy: 0.803\n",
      "[Epoch 79, Batch 1900] Loss: 0.551 Accuracy: 0.794\n"
     ]
    },
    {
     "name": "stderr",
     "output_type": "stream",
     "text": [
      "/opt/conda/lib/python3.7/site-packages/torch/utils/data/dataloader.py:557: UserWarning: This DataLoader will create 4 worker processes in total. Our suggested max number of worker in current system is 2, which is smaller than what this DataLoader is going to create. Please be aware that excessive worker creation might get DataLoader running slow or even freeze, lower the worker number to avoid potential slowness/freeze if necessary.\n",
      "  cpuset_checked))\n"
     ]
    },
    {
     "name": "stdout",
     "output_type": "stream",
     "text": [
      "Epoch 79 Val Loss: 0.5446454365569425 \t\t Val Accuracy: 0.7990005240442752\n",
      "Validation Loss Decreased(135.704703--->135.616714) \t Saving The Model\n"
     ]
    },
    {
     "name": "stderr",
     "output_type": "stream",
     "text": [
      "/opt/conda/lib/python3.7/site-packages/torch/utils/data/dataloader.py:557: UserWarning: This DataLoader will create 4 worker processes in total. Our suggested max number of worker in current system is 2, which is smaller than what this DataLoader is going to create. Please be aware that excessive worker creation might get DataLoader running slow or even freeze, lower the worker number to avoid potential slowness/freeze if necessary.\n",
      "  cpuset_checked))\n"
     ]
    },
    {
     "name": "stdout",
     "output_type": "stream",
     "text": [
      "[Epoch 80, Batch 100] Loss: 0.546 Accuracy: 0.798\n",
      "[Epoch 80, Batch 200] Loss: 0.547 Accuracy: 0.798\n",
      "[Epoch 80, Batch 300] Loss: 0.549 Accuracy: 0.795\n",
      "[Epoch 80, Batch 400] Loss: 0.545 Accuracy: 0.798\n",
      "[Epoch 80, Batch 500] Loss: 0.545 Accuracy: 0.798\n",
      "[Epoch 80, Batch 600] Loss: 0.543 Accuracy: 0.801\n",
      "[Epoch 80, Batch 700] Loss: 0.545 Accuracy: 0.798\n",
      "[Epoch 80, Batch 800] Loss: 0.544 Accuracy: 0.801\n",
      "[Epoch 80, Batch 900] Loss: 0.544 Accuracy: 0.801\n",
      "[Epoch 80, Batch 1000] Loss: 0.543 Accuracy: 0.800\n",
      "[Epoch 80, Batch 1100] Loss: 0.541 Accuracy: 0.802\n",
      "[Epoch 80, Batch 1200] Loss: 0.546 Accuracy: 0.798\n",
      "[Epoch 80, Batch 1300] Loss: 0.547 Accuracy: 0.797\n",
      "[Epoch 80, Batch 1400] Loss: 0.542 Accuracy: 0.801\n",
      "[Epoch 80, Batch 1500] Loss: 0.546 Accuracy: 0.797\n",
      "[Epoch 80, Batch 1600] Loss: 0.536 Accuracy: 0.807\n",
      "[Epoch 80, Batch 1700] Loss: 0.551 Accuracy: 0.794\n",
      "[Epoch 80, Batch 1800] Loss: 0.541 Accuracy: 0.801\n",
      "[Epoch 80, Batch 1900] Loss: 0.555 Accuracy: 0.790\n"
     ]
    },
    {
     "name": "stderr",
     "output_type": "stream",
     "text": [
      "/opt/conda/lib/python3.7/site-packages/torch/utils/data/dataloader.py:557: UserWarning: This DataLoader will create 4 worker processes in total. Our suggested max number of worker in current system is 2, which is smaller than what this DataLoader is going to create. Please be aware that excessive worker creation might get DataLoader running slow or even freeze, lower the worker number to avoid potential slowness/freeze if necessary.\n",
      "  cpuset_checked))\n"
     ]
    },
    {
     "name": "stdout",
     "output_type": "stream",
     "text": [
      "Epoch 80 Val Loss: 0.5470557898642069 \t\t Val Accuracy: 0.796913800950429\n"
     ]
    },
    {
     "name": "stderr",
     "output_type": "stream",
     "text": [
      "/opt/conda/lib/python3.7/site-packages/torch/utils/data/dataloader.py:557: UserWarning: This DataLoader will create 4 worker processes in total. Our suggested max number of worker in current system is 2, which is smaller than what this DataLoader is going to create. Please be aware that excessive worker creation might get DataLoader running slow or even freeze, lower the worker number to avoid potential slowness/freeze if necessary.\n",
      "  cpuset_checked))\n"
     ]
    },
    {
     "name": "stdout",
     "output_type": "stream",
     "text": [
      "[Epoch 81, Batch 100] Loss: 0.552 Accuracy: 0.793\n",
      "[Epoch 81, Batch 200] Loss: 0.538 Accuracy: 0.804\n",
      "[Epoch 81, Batch 300] Loss: 0.543 Accuracy: 0.802\n",
      "[Epoch 81, Batch 400] Loss: 0.546 Accuracy: 0.798\n",
      "[Epoch 81, Batch 500] Loss: 0.545 Accuracy: 0.799\n",
      "[Epoch 81, Batch 600] Loss: 0.548 Accuracy: 0.797\n",
      "[Epoch 81, Batch 700] Loss: 0.542 Accuracy: 0.801\n",
      "[Epoch 81, Batch 800] Loss: 0.546 Accuracy: 0.799\n",
      "[Epoch 81, Batch 900] Loss: 0.546 Accuracy: 0.797\n",
      "[Epoch 81, Batch 1000] Loss: 0.549 Accuracy: 0.795\n",
      "[Epoch 81, Batch 1100] Loss: 0.542 Accuracy: 0.802\n",
      "[Epoch 81, Batch 1200] Loss: 0.550 Accuracy: 0.795\n",
      "[Epoch 81, Batch 1300] Loss: 0.545 Accuracy: 0.800\n",
      "[Epoch 81, Batch 1400] Loss: 0.545 Accuracy: 0.799\n",
      "[Epoch 81, Batch 1500] Loss: 0.545 Accuracy: 0.799\n",
      "[Epoch 81, Batch 1600] Loss: 0.543 Accuracy: 0.801\n",
      "[Epoch 81, Batch 1700] Loss: 0.543 Accuracy: 0.801\n",
      "[Epoch 81, Batch 1800] Loss: 0.547 Accuracy: 0.797\n",
      "[Epoch 81, Batch 1900] Loss: 0.540 Accuracy: 0.803\n"
     ]
    },
    {
     "name": "stderr",
     "output_type": "stream",
     "text": [
      "/opt/conda/lib/python3.7/site-packages/torch/utils/data/dataloader.py:557: UserWarning: This DataLoader will create 4 worker processes in total. Our suggested max number of worker in current system is 2, which is smaller than what this DataLoader is going to create. Please be aware that excessive worker creation might get DataLoader running slow or even freeze, lower the worker number to avoid potential slowness/freeze if necessary.\n",
      "  cpuset_checked))\n"
     ]
    },
    {
     "name": "stdout",
     "output_type": "stream",
     "text": [
      "Epoch 81 Val Loss: 0.5494161998651114 \t\t Val Accuracy: 0.7953496874673912\n"
     ]
    },
    {
     "name": "stderr",
     "output_type": "stream",
     "text": [
      "/opt/conda/lib/python3.7/site-packages/torch/utils/data/dataloader.py:557: UserWarning: This DataLoader will create 4 worker processes in total. Our suggested max number of worker in current system is 2, which is smaller than what this DataLoader is going to create. Please be aware that excessive worker creation might get DataLoader running slow or even freeze, lower the worker number to avoid potential slowness/freeze if necessary.\n",
      "  cpuset_checked))\n"
     ]
    },
    {
     "name": "stdout",
     "output_type": "stream",
     "text": [
      "[Epoch 82, Batch 100] Loss: 0.546 Accuracy: 0.798\n",
      "[Epoch 82, Batch 200] Loss: 0.547 Accuracy: 0.797\n",
      "[Epoch 82, Batch 300] Loss: 0.551 Accuracy: 0.793\n",
      "[Epoch 82, Batch 400] Loss: 0.545 Accuracy: 0.798\n",
      "[Epoch 82, Batch 500] Loss: 0.542 Accuracy: 0.802\n",
      "[Epoch 82, Batch 600] Loss: 0.549 Accuracy: 0.795\n",
      "[Epoch 82, Batch 700] Loss: 0.548 Accuracy: 0.797\n",
      "[Epoch 82, Batch 800] Loss: 0.548 Accuracy: 0.797\n",
      "[Epoch 82, Batch 900] Loss: 0.549 Accuracy: 0.796\n",
      "[Epoch 82, Batch 1000] Loss: 0.547 Accuracy: 0.799\n",
      "[Epoch 82, Batch 1100] Loss: 0.543 Accuracy: 0.801\n",
      "[Epoch 82, Batch 1200] Loss: 0.543 Accuracy: 0.800\n",
      "[Epoch 82, Batch 1300] Loss: 0.545 Accuracy: 0.799\n",
      "[Epoch 82, Batch 1400] Loss: 0.543 Accuracy: 0.801\n",
      "[Epoch 82, Batch 1500] Loss: 0.542 Accuracy: 0.801\n",
      "[Epoch 82, Batch 1600] Loss: 0.540 Accuracy: 0.804\n",
      "[Epoch 82, Batch 1700] Loss: 0.549 Accuracy: 0.795\n",
      "[Epoch 82, Batch 1800] Loss: 0.548 Accuracy: 0.797\n",
      "[Epoch 82, Batch 1900] Loss: 0.544 Accuracy: 0.799\n"
     ]
    },
    {
     "name": "stderr",
     "output_type": "stream",
     "text": [
      "/opt/conda/lib/python3.7/site-packages/torch/utils/data/dataloader.py:557: UserWarning: This DataLoader will create 4 worker processes in total. Our suggested max number of worker in current system is 2, which is smaller than what this DataLoader is going to create. Please be aware that excessive worker creation might get DataLoader running slow or even freeze, lower the worker number to avoid potential slowness/freeze if necessary.\n",
      "  cpuset_checked))\n"
     ]
    },
    {
     "name": "stdout",
     "output_type": "stream",
     "text": [
      "Epoch 82 Val Loss: 0.5469523123708595 \t\t Val Accuracy: 0.7975755429715428\n"
     ]
    },
    {
     "name": "stderr",
     "output_type": "stream",
     "text": [
      "/opt/conda/lib/python3.7/site-packages/torch/utils/data/dataloader.py:557: UserWarning: This DataLoader will create 4 worker processes in total. Our suggested max number of worker in current system is 2, which is smaller than what this DataLoader is going to create. Please be aware that excessive worker creation might get DataLoader running slow or even freeze, lower the worker number to avoid potential slowness/freeze if necessary.\n",
      "  cpuset_checked))\n"
     ]
    },
    {
     "name": "stdout",
     "output_type": "stream",
     "text": [
      "[Epoch 83, Batch 100] Loss: 0.544 Accuracy: 0.800\n",
      "[Epoch 83, Batch 200] Loss: 0.549 Accuracy: 0.795\n",
      "[Epoch 83, Batch 300] Loss: 0.541 Accuracy: 0.802\n",
      "[Epoch 83, Batch 400] Loss: 0.538 Accuracy: 0.804\n",
      "[Epoch 83, Batch 500] Loss: 0.547 Accuracy: 0.796\n",
      "[Epoch 83, Batch 600] Loss: 0.547 Accuracy: 0.798\n",
      "[Epoch 83, Batch 700] Loss: 0.543 Accuracy: 0.800\n",
      "[Epoch 83, Batch 800] Loss: 0.544 Accuracy: 0.800\n",
      "[Epoch 83, Batch 900] Loss: 0.542 Accuracy: 0.802\n",
      "[Epoch 83, Batch 1000] Loss: 0.541 Accuracy: 0.802\n",
      "[Epoch 83, Batch 1100] Loss: 0.550 Accuracy: 0.792\n",
      "[Epoch 83, Batch 1200] Loss: 0.543 Accuracy: 0.802\n",
      "[Epoch 83, Batch 1300] Loss: 0.545 Accuracy: 0.798\n",
      "[Epoch 83, Batch 1400] Loss: 0.540 Accuracy: 0.803\n",
      "[Epoch 83, Batch 1500] Loss: 0.546 Accuracy: 0.798\n",
      "[Epoch 83, Batch 1600] Loss: 0.543 Accuracy: 0.800\n",
      "[Epoch 83, Batch 1700] Loss: 0.549 Accuracy: 0.795\n",
      "[Epoch 83, Batch 1800] Loss: 0.541 Accuracy: 0.802\n",
      "[Epoch 83, Batch 1900] Loss: 0.547 Accuracy: 0.797\n"
     ]
    },
    {
     "name": "stderr",
     "output_type": "stream",
     "text": [
      "/opt/conda/lib/python3.7/site-packages/torch/utils/data/dataloader.py:557: UserWarning: This DataLoader will create 4 worker processes in total. Our suggested max number of worker in current system is 2, which is smaller than what this DataLoader is going to create. Please be aware that excessive worker creation might get DataLoader running slow or even freeze, lower the worker number to avoid potential slowness/freeze if necessary.\n",
      "  cpuset_checked))\n"
     ]
    },
    {
     "name": "stdout",
     "output_type": "stream",
     "text": [
      "Epoch 83 Val Loss: 0.5482093799545105 \t\t Val Accuracy: 0.7983686485793449\n"
     ]
    },
    {
     "name": "stderr",
     "output_type": "stream",
     "text": [
      "/opt/conda/lib/python3.7/site-packages/torch/utils/data/dataloader.py:557: UserWarning: This DataLoader will create 4 worker processes in total. Our suggested max number of worker in current system is 2, which is smaller than what this DataLoader is going to create. Please be aware that excessive worker creation might get DataLoader running slow or even freeze, lower the worker number to avoid potential slowness/freeze if necessary.\n",
      "  cpuset_checked))\n"
     ]
    },
    {
     "name": "stdout",
     "output_type": "stream",
     "text": [
      "[Epoch 84, Batch 100] Loss: 0.548 Accuracy: 0.796\n",
      "[Epoch 84, Batch 200] Loss: 0.551 Accuracy: 0.794\n",
      "[Epoch 84, Batch 300] Loss: 0.541 Accuracy: 0.803\n",
      "[Epoch 84, Batch 400] Loss: 0.548 Accuracy: 0.796\n",
      "[Epoch 84, Batch 500] Loss: 0.542 Accuracy: 0.802\n",
      "[Epoch 84, Batch 600] Loss: 0.548 Accuracy: 0.798\n",
      "[Epoch 84, Batch 700] Loss: 0.540 Accuracy: 0.804\n",
      "[Epoch 84, Batch 800] Loss: 0.545 Accuracy: 0.799\n",
      "[Epoch 84, Batch 900] Loss: 0.545 Accuracy: 0.798\n",
      "[Epoch 84, Batch 1000] Loss: 0.549 Accuracy: 0.796\n",
      "[Epoch 84, Batch 1100] Loss: 0.541 Accuracy: 0.803\n",
      "[Epoch 84, Batch 1200] Loss: 0.544 Accuracy: 0.800\n",
      "[Epoch 84, Batch 1300] Loss: 0.547 Accuracy: 0.797\n",
      "[Epoch 84, Batch 1400] Loss: 0.543 Accuracy: 0.800\n",
      "[Epoch 84, Batch 1500] Loss: 0.547 Accuracy: 0.797\n",
      "[Epoch 84, Batch 1600] Loss: 0.542 Accuracy: 0.800\n",
      "[Epoch 84, Batch 1700] Loss: 0.545 Accuracy: 0.799\n",
      "[Epoch 84, Batch 1800] Loss: 0.547 Accuracy: 0.797\n",
      "[Epoch 84, Batch 1900] Loss: 0.535 Accuracy: 0.808\n"
     ]
    },
    {
     "name": "stderr",
     "output_type": "stream",
     "text": [
      "/opt/conda/lib/python3.7/site-packages/torch/utils/data/dataloader.py:557: UserWarning: This DataLoader will create 4 worker processes in total. Our suggested max number of worker in current system is 2, which is smaller than what this DataLoader is going to create. Please be aware that excessive worker creation might get DataLoader running slow or even freeze, lower the worker number to avoid potential slowness/freeze if necessary.\n",
      "  cpuset_checked))\n"
     ]
    },
    {
     "name": "stdout",
     "output_type": "stream",
     "text": [
      "Epoch 84 Val Loss: 0.5470271752062572 \t\t Val Accuracy: 0.7963042683205337\n"
     ]
    },
    {
     "name": "stderr",
     "output_type": "stream",
     "text": [
      "/opt/conda/lib/python3.7/site-packages/torch/utils/data/dataloader.py:557: UserWarning: This DataLoader will create 4 worker processes in total. Our suggested max number of worker in current system is 2, which is smaller than what this DataLoader is going to create. Please be aware that excessive worker creation might get DataLoader running slow or even freeze, lower the worker number to avoid potential slowness/freeze if necessary.\n",
      "  cpuset_checked))\n"
     ]
    },
    {
     "name": "stdout",
     "output_type": "stream",
     "text": [
      "[Epoch 85, Batch 100] Loss: 0.544 Accuracy: 0.800\n",
      "[Epoch 85, Batch 200] Loss: 0.544 Accuracy: 0.802\n",
      "[Epoch 85, Batch 300] Loss: 0.539 Accuracy: 0.805\n",
      "[Epoch 85, Batch 400] Loss: 0.549 Accuracy: 0.795\n",
      "[Epoch 85, Batch 500] Loss: 0.548 Accuracy: 0.795\n",
      "[Epoch 85, Batch 600] Loss: 0.549 Accuracy: 0.796\n",
      "[Epoch 85, Batch 700] Loss: 0.548 Accuracy: 0.796\n",
      "[Epoch 85, Batch 800] Loss: 0.546 Accuracy: 0.798\n",
      "[Epoch 85, Batch 900] Loss: 0.543 Accuracy: 0.801\n",
      "[Epoch 85, Batch 1000] Loss: 0.546 Accuracy: 0.798\n",
      "[Epoch 85, Batch 1100] Loss: 0.543 Accuracy: 0.801\n",
      "[Epoch 85, Batch 1200] Loss: 0.549 Accuracy: 0.795\n",
      "[Epoch 85, Batch 1300] Loss: 0.542 Accuracy: 0.801\n",
      "[Epoch 85, Batch 1400] Loss: 0.545 Accuracy: 0.798\n",
      "[Epoch 85, Batch 1500] Loss: 0.544 Accuracy: 0.801\n",
      "[Epoch 85, Batch 1600] Loss: 0.546 Accuracy: 0.798\n",
      "[Epoch 85, Batch 1700] Loss: 0.544 Accuracy: 0.800\n",
      "[Epoch 85, Batch 1800] Loss: 0.541 Accuracy: 0.803\n",
      "[Epoch 85, Batch 1900] Loss: 0.540 Accuracy: 0.804\n"
     ]
    },
    {
     "name": "stderr",
     "output_type": "stream",
     "text": [
      "/opt/conda/lib/python3.7/site-packages/torch/utils/data/dataloader.py:557: UserWarning: This DataLoader will create 4 worker processes in total. Our suggested max number of worker in current system is 2, which is smaller than what this DataLoader is going to create. Please be aware that excessive worker creation might get DataLoader running slow or even freeze, lower the worker number to avoid potential slowness/freeze if necessary.\n",
      "  cpuset_checked))\n"
     ]
    },
    {
     "name": "stdout",
     "output_type": "stream",
     "text": [
      "Epoch 85 Val Loss: 0.5551037359907924 \t\t Val Accuracy: 0.7916973179532008\n"
     ]
    },
    {
     "name": "stderr",
     "output_type": "stream",
     "text": [
      "/opt/conda/lib/python3.7/site-packages/torch/utils/data/dataloader.py:557: UserWarning: This DataLoader will create 4 worker processes in total. Our suggested max number of worker in current system is 2, which is smaller than what this DataLoader is going to create. Please be aware that excessive worker creation might get DataLoader running slow or even freeze, lower the worker number to avoid potential slowness/freeze if necessary.\n",
      "  cpuset_checked))\n"
     ]
    },
    {
     "name": "stdout",
     "output_type": "stream",
     "text": [
      "[Epoch 86, Batch 100] Loss: 0.547 Accuracy: 0.796\n",
      "[Epoch 86, Batch 200] Loss: 0.551 Accuracy: 0.795\n",
      "[Epoch 86, Batch 300] Loss: 0.546 Accuracy: 0.799\n",
      "[Epoch 86, Batch 400] Loss: 0.542 Accuracy: 0.801\n",
      "[Epoch 86, Batch 500] Loss: 0.543 Accuracy: 0.800\n",
      "[Epoch 86, Batch 600] Loss: 0.548 Accuracy: 0.798\n",
      "[Epoch 86, Batch 700] Loss: 0.541 Accuracy: 0.802\n",
      "[Epoch 86, Batch 800] Loss: 0.544 Accuracy: 0.800\n",
      "[Epoch 86, Batch 900] Loss: 0.542 Accuracy: 0.802\n",
      "[Epoch 86, Batch 1000] Loss: 0.545 Accuracy: 0.799\n",
      "[Epoch 86, Batch 1100] Loss: 0.542 Accuracy: 0.801\n",
      "[Epoch 86, Batch 1200] Loss: 0.544 Accuracy: 0.801\n",
      "[Epoch 86, Batch 1300] Loss: 0.536 Accuracy: 0.807\n",
      "[Epoch 86, Batch 1400] Loss: 0.548 Accuracy: 0.795\n",
      "[Epoch 86, Batch 1500] Loss: 0.543 Accuracy: 0.801\n",
      "[Epoch 86, Batch 1600] Loss: 0.541 Accuracy: 0.803\n",
      "[Epoch 86, Batch 1700] Loss: 0.546 Accuracy: 0.798\n",
      "[Epoch 86, Batch 1800] Loss: 0.546 Accuracy: 0.798\n",
      "[Epoch 86, Batch 1900] Loss: 0.544 Accuracy: 0.800\n"
     ]
    },
    {
     "name": "stderr",
     "output_type": "stream",
     "text": [
      "/opt/conda/lib/python3.7/site-packages/torch/utils/data/dataloader.py:557: UserWarning: This DataLoader will create 4 worker processes in total. Our suggested max number of worker in current system is 2, which is smaller than what this DataLoader is going to create. Please be aware that excessive worker creation might get DataLoader running slow or even freeze, lower the worker number to avoid potential slowness/freeze if necessary.\n",
      "  cpuset_checked))\n"
     ]
    },
    {
     "name": "stdout",
     "output_type": "stream",
     "text": [
      "Epoch 86 Val Loss: 0.5459123056337057 \t\t Val Accuracy: 0.7973495940699226\n"
     ]
    },
    {
     "name": "stderr",
     "output_type": "stream",
     "text": [
      "/opt/conda/lib/python3.7/site-packages/torch/utils/data/dataloader.py:557: UserWarning: This DataLoader will create 4 worker processes in total. Our suggested max number of worker in current system is 2, which is smaller than what this DataLoader is going to create. Please be aware that excessive worker creation might get DataLoader running slow or even freeze, lower the worker number to avoid potential slowness/freeze if necessary.\n",
      "  cpuset_checked))\n"
     ]
    },
    {
     "name": "stdout",
     "output_type": "stream",
     "text": [
      "[Epoch 87, Batch 100] Loss: 0.541 Accuracy: 0.802\n",
      "[Epoch 87, Batch 200] Loss: 0.550 Accuracy: 0.795\n",
      "[Epoch 87, Batch 300] Loss: 0.544 Accuracy: 0.800\n",
      "[Epoch 87, Batch 400] Loss: 0.541 Accuracy: 0.803\n",
      "[Epoch 87, Batch 500] Loss: 0.545 Accuracy: 0.799\n",
      "[Epoch 87, Batch 600] Loss: 0.546 Accuracy: 0.799\n",
      "[Epoch 87, Batch 700] Loss: 0.544 Accuracy: 0.799\n",
      "[Epoch 87, Batch 800] Loss: 0.544 Accuracy: 0.799\n",
      "[Epoch 87, Batch 900] Loss: 0.547 Accuracy: 0.798\n",
      "[Epoch 87, Batch 1000] Loss: 0.544 Accuracy: 0.801\n",
      "[Epoch 87, Batch 1100] Loss: 0.542 Accuracy: 0.801\n",
      "[Epoch 87, Batch 1200] Loss: 0.547 Accuracy: 0.797\n",
      "[Epoch 87, Batch 1300] Loss: 0.545 Accuracy: 0.798\n",
      "[Epoch 87, Batch 1400] Loss: 0.544 Accuracy: 0.800\n",
      "[Epoch 87, Batch 1500] Loss: 0.544 Accuracy: 0.799\n",
      "[Epoch 87, Batch 1600] Loss: 0.541 Accuracy: 0.803\n",
      "[Epoch 87, Batch 1700] Loss: 0.542 Accuracy: 0.802\n",
      "[Epoch 87, Batch 1800] Loss: 0.547 Accuracy: 0.796\n",
      "[Epoch 87, Batch 1900] Loss: 0.542 Accuracy: 0.801\n"
     ]
    },
    {
     "name": "stderr",
     "output_type": "stream",
     "text": [
      "/opt/conda/lib/python3.7/site-packages/torch/utils/data/dataloader.py:557: UserWarning: This DataLoader will create 4 worker processes in total. Our suggested max number of worker in current system is 2, which is smaller than what this DataLoader is going to create. Please be aware that excessive worker creation might get DataLoader running slow or even freeze, lower the worker number to avoid potential slowness/freeze if necessary.\n",
      "  cpuset_checked))\n"
     ]
    },
    {
     "name": "stdout",
     "output_type": "stream",
     "text": [
      "Epoch 87 Val Loss: 0.5488281390035009 \t\t Val Accuracy: 0.7986848546012193\n"
     ]
    },
    {
     "name": "stderr",
     "output_type": "stream",
     "text": [
      "/opt/conda/lib/python3.7/site-packages/torch/utils/data/dataloader.py:557: UserWarning: This DataLoader will create 4 worker processes in total. Our suggested max number of worker in current system is 2, which is smaller than what this DataLoader is going to create. Please be aware that excessive worker creation might get DataLoader running slow or even freeze, lower the worker number to avoid potential slowness/freeze if necessary.\n",
      "  cpuset_checked))\n"
     ]
    },
    {
     "name": "stdout",
     "output_type": "stream",
     "text": [
      "[Epoch 88, Batch 100] Loss: 0.546 Accuracy: 0.797\n",
      "[Epoch 88, Batch 200] Loss: 0.545 Accuracy: 0.799\n",
      "[Epoch 88, Batch 300] Loss: 0.545 Accuracy: 0.800\n",
      "[Epoch 88, Batch 400] Loss: 0.544 Accuracy: 0.800\n",
      "[Epoch 88, Batch 500] Loss: 0.553 Accuracy: 0.792\n",
      "[Epoch 88, Batch 600] Loss: 0.542 Accuracy: 0.802\n",
      "[Epoch 88, Batch 700] Loss: 0.545 Accuracy: 0.799\n",
      "[Epoch 88, Batch 800] Loss: 0.541 Accuracy: 0.802\n",
      "[Epoch 88, Batch 900] Loss: 0.541 Accuracy: 0.803\n",
      "[Epoch 88, Batch 1000] Loss: 0.546 Accuracy: 0.797\n",
      "[Epoch 88, Batch 1100] Loss: 0.540 Accuracy: 0.804\n",
      "[Epoch 88, Batch 1200] Loss: 0.545 Accuracy: 0.798\n",
      "[Epoch 88, Batch 1300] Loss: 0.544 Accuracy: 0.800\n",
      "[Epoch 88, Batch 1400] Loss: 0.539 Accuracy: 0.806\n",
      "[Epoch 88, Batch 1500] Loss: 0.542 Accuracy: 0.801\n",
      "[Epoch 88, Batch 1600] Loss: 0.540 Accuracy: 0.803\n",
      "[Epoch 88, Batch 1700] Loss: 0.548 Accuracy: 0.796\n",
      "[Epoch 88, Batch 1800] Loss: 0.543 Accuracy: 0.800\n",
      "[Epoch 88, Batch 1900] Loss: 0.542 Accuracy: 0.802\n"
     ]
    },
    {
     "name": "stderr",
     "output_type": "stream",
     "text": [
      "/opt/conda/lib/python3.7/site-packages/torch/utils/data/dataloader.py:557: UserWarning: This DataLoader will create 4 worker processes in total. Our suggested max number of worker in current system is 2, which is smaller than what this DataLoader is going to create. Please be aware that excessive worker creation might get DataLoader running slow or even freeze, lower the worker number to avoid potential slowness/freeze if necessary.\n",
      "  cpuset_checked))\n"
     ]
    },
    {
     "name": "stdout",
     "output_type": "stream",
     "text": [
      "Epoch 88 Val Loss: 0.5461700999114408 \t\t Val Accuracy: 0.7972630563314567\n"
     ]
    },
    {
     "name": "stderr",
     "output_type": "stream",
     "text": [
      "/opt/conda/lib/python3.7/site-packages/torch/utils/data/dataloader.py:557: UserWarning: This DataLoader will create 4 worker processes in total. Our suggested max number of worker in current system is 2, which is smaller than what this DataLoader is going to create. Please be aware that excessive worker creation might get DataLoader running slow or even freeze, lower the worker number to avoid potential slowness/freeze if necessary.\n",
      "  cpuset_checked))\n"
     ]
    },
    {
     "name": "stdout",
     "output_type": "stream",
     "text": [
      "[Epoch 89, Batch 100] Loss: 0.549 Accuracy: 0.796\n",
      "[Epoch 89, Batch 200] Loss: 0.550 Accuracy: 0.795\n",
      "[Epoch 89, Batch 300] Loss: 0.541 Accuracy: 0.803\n",
      "[Epoch 89, Batch 400] Loss: 0.542 Accuracy: 0.801\n",
      "[Epoch 89, Batch 500] Loss: 0.541 Accuracy: 0.802\n",
      "[Epoch 89, Batch 600] Loss: 0.541 Accuracy: 0.802\n",
      "[Epoch 89, Batch 700] Loss: 0.548 Accuracy: 0.797\n",
      "[Epoch 89, Batch 800] Loss: 0.541 Accuracy: 0.802\n",
      "[Epoch 89, Batch 900] Loss: 0.548 Accuracy: 0.796\n",
      "[Epoch 89, Batch 1000] Loss: 0.541 Accuracy: 0.803\n",
      "[Epoch 89, Batch 1100] Loss: 0.545 Accuracy: 0.799\n",
      "[Epoch 89, Batch 1200] Loss: 0.540 Accuracy: 0.803\n",
      "[Epoch 89, Batch 1300] Loss: 0.544 Accuracy: 0.800\n",
      "[Epoch 89, Batch 1400] Loss: 0.540 Accuracy: 0.804\n",
      "[Epoch 89, Batch 1500] Loss: 0.546 Accuracy: 0.799\n",
      "[Epoch 89, Batch 1600] Loss: 0.545 Accuracy: 0.800\n",
      "[Epoch 89, Batch 1700] Loss: 0.541 Accuracy: 0.802\n",
      "[Epoch 89, Batch 1800] Loss: 0.540 Accuracy: 0.804\n",
      "[Epoch 89, Batch 1900] Loss: 0.537 Accuracy: 0.806\n"
     ]
    },
    {
     "name": "stderr",
     "output_type": "stream",
     "text": [
      "/opt/conda/lib/python3.7/site-packages/torch/utils/data/dataloader.py:557: UserWarning: This DataLoader will create 4 worker processes in total. Our suggested max number of worker in current system is 2, which is smaller than what this DataLoader is going to create. Please be aware that excessive worker creation might get DataLoader running slow or even freeze, lower the worker number to avoid potential slowness/freeze if necessary.\n",
      "  cpuset_checked))\n"
     ]
    },
    {
     "name": "stdout",
     "output_type": "stream",
     "text": [
      "Epoch 89 Val Loss: 0.5425407402965439 \t\t Val Accuracy: 0.8004578654750268\n",
      "Validation Loss Decreased(135.616714--->135.092644) \t Saving The Model\n"
     ]
    },
    {
     "name": "stderr",
     "output_type": "stream",
     "text": [
      "/opt/conda/lib/python3.7/site-packages/torch/utils/data/dataloader.py:557: UserWarning: This DataLoader will create 4 worker processes in total. Our suggested max number of worker in current system is 2, which is smaller than what this DataLoader is going to create. Please be aware that excessive worker creation might get DataLoader running slow or even freeze, lower the worker number to avoid potential slowness/freeze if necessary.\n",
      "  cpuset_checked))\n"
     ]
    },
    {
     "name": "stdout",
     "output_type": "stream",
     "text": [
      "[Epoch 90, Batch 100] Loss: 0.539 Accuracy: 0.804\n",
      "[Epoch 90, Batch 200] Loss: 0.545 Accuracy: 0.800\n",
      "[Epoch 90, Batch 300] Loss: 0.539 Accuracy: 0.805\n",
      "[Epoch 90, Batch 400] Loss: 0.550 Accuracy: 0.796\n",
      "[Epoch 90, Batch 500] Loss: 0.544 Accuracy: 0.800\n",
      "[Epoch 90, Batch 600] Loss: 0.542 Accuracy: 0.801\n",
      "[Epoch 90, Batch 700] Loss: 0.539 Accuracy: 0.804\n",
      "[Epoch 90, Batch 800] Loss: 0.538 Accuracy: 0.804\n",
      "[Epoch 90, Batch 900] Loss: 0.549 Accuracy: 0.794\n",
      "[Epoch 90, Batch 1000] Loss: 0.543 Accuracy: 0.801\n",
      "[Epoch 90, Batch 1100] Loss: 0.546 Accuracy: 0.799\n",
      "[Epoch 90, Batch 1200] Loss: 0.549 Accuracy: 0.794\n",
      "[Epoch 90, Batch 1300] Loss: 0.538 Accuracy: 0.805\n",
      "[Epoch 90, Batch 1400] Loss: 0.550 Accuracy: 0.795\n",
      "[Epoch 90, Batch 1500] Loss: 0.545 Accuracy: 0.799\n",
      "[Epoch 90, Batch 1600] Loss: 0.541 Accuracy: 0.802\n",
      "[Epoch 90, Batch 1700] Loss: 0.545 Accuracy: 0.799\n",
      "[Epoch 90, Batch 1800] Loss: 0.543 Accuracy: 0.801\n",
      "[Epoch 90, Batch 1900] Loss: 0.543 Accuracy: 0.802\n"
     ]
    },
    {
     "name": "stderr",
     "output_type": "stream",
     "text": [
      "/opt/conda/lib/python3.7/site-packages/torch/utils/data/dataloader.py:557: UserWarning: This DataLoader will create 4 worker processes in total. Our suggested max number of worker in current system is 2, which is smaller than what this DataLoader is going to create. Please be aware that excessive worker creation might get DataLoader running slow or even freeze, lower the worker number to avoid potential slowness/freeze if necessary.\n",
      "  cpuset_checked))\n"
     ]
    },
    {
     "name": "stdout",
     "output_type": "stream",
     "text": [
      "Epoch 90 Val Loss: 0.5420435018328777 \t\t Val Accuracy: 0.8013837751793208\n",
      "Validation Loss Decreased(135.092644--->134.968832) \t Saving The Model\n"
     ]
    },
    {
     "name": "stderr",
     "output_type": "stream",
     "text": [
      "/opt/conda/lib/python3.7/site-packages/torch/utils/data/dataloader.py:557: UserWarning: This DataLoader will create 4 worker processes in total. Our suggested max number of worker in current system is 2, which is smaller than what this DataLoader is going to create. Please be aware that excessive worker creation might get DataLoader running slow or even freeze, lower the worker number to avoid potential slowness/freeze if necessary.\n",
      "  cpuset_checked))\n"
     ]
    },
    {
     "name": "stdout",
     "output_type": "stream",
     "text": [
      "[Epoch 91, Batch 100] Loss: 0.550 Accuracy: 0.794\n",
      "[Epoch 91, Batch 200] Loss: 0.539 Accuracy: 0.804\n",
      "[Epoch 91, Batch 300] Loss: 0.547 Accuracy: 0.798\n",
      "[Epoch 91, Batch 400] Loss: 0.543 Accuracy: 0.801\n",
      "[Epoch 91, Batch 500] Loss: 0.544 Accuracy: 0.800\n",
      "[Epoch 91, Batch 600] Loss: 0.548 Accuracy: 0.796\n",
      "[Epoch 91, Batch 700] Loss: 0.541 Accuracy: 0.803\n",
      "[Epoch 91, Batch 800] Loss: 0.545 Accuracy: 0.800\n",
      "[Epoch 91, Batch 900] Loss: 0.543 Accuracy: 0.801\n",
      "[Epoch 91, Batch 1000] Loss: 0.547 Accuracy: 0.797\n",
      "[Epoch 91, Batch 1100] Loss: 0.544 Accuracy: 0.800\n",
      "[Epoch 91, Batch 1200] Loss: 0.542 Accuracy: 0.801\n",
      "[Epoch 91, Batch 1300] Loss: 0.542 Accuracy: 0.802\n",
      "[Epoch 91, Batch 1400] Loss: 0.543 Accuracy: 0.801\n",
      "[Epoch 91, Batch 1500] Loss: 0.545 Accuracy: 0.799\n",
      "[Epoch 91, Batch 1600] Loss: 0.537 Accuracy: 0.806\n",
      "[Epoch 91, Batch 1700] Loss: 0.543 Accuracy: 0.801\n",
      "[Epoch 91, Batch 1800] Loss: 0.544 Accuracy: 0.799\n",
      "[Epoch 91, Batch 1900] Loss: 0.540 Accuracy: 0.805\n"
     ]
    },
    {
     "name": "stderr",
     "output_type": "stream",
     "text": [
      "/opt/conda/lib/python3.7/site-packages/torch/utils/data/dataloader.py:557: UserWarning: This DataLoader will create 4 worker processes in total. Our suggested max number of worker in current system is 2, which is smaller than what this DataLoader is going to create. Please be aware that excessive worker creation might get DataLoader running slow or even freeze, lower the worker number to avoid potential slowness/freeze if necessary.\n",
      "  cpuset_checked))\n"
     ]
    },
    {
     "name": "stdout",
     "output_type": "stream",
     "text": [
      "Epoch 91 Val Loss: 0.5444939392637537 \t\t Val Accuracy: 0.8001017874443896\n"
     ]
    },
    {
     "name": "stderr",
     "output_type": "stream",
     "text": [
      "/opt/conda/lib/python3.7/site-packages/torch/utils/data/dataloader.py:557: UserWarning: This DataLoader will create 4 worker processes in total. Our suggested max number of worker in current system is 2, which is smaller than what this DataLoader is going to create. Please be aware that excessive worker creation might get DataLoader running slow or even freeze, lower the worker number to avoid potential slowness/freeze if necessary.\n",
      "  cpuset_checked))\n"
     ]
    },
    {
     "name": "stdout",
     "output_type": "stream",
     "text": [
      "[Epoch 92, Batch 100] Loss: 0.546 Accuracy: 0.797\n",
      "[Epoch 92, Batch 200] Loss: 0.540 Accuracy: 0.802\n",
      "[Epoch 92, Batch 300] Loss: 0.548 Accuracy: 0.797\n",
      "[Epoch 92, Batch 400] Loss: 0.540 Accuracy: 0.803\n",
      "[Epoch 92, Batch 500] Loss: 0.538 Accuracy: 0.805\n",
      "[Epoch 92, Batch 600] Loss: 0.537 Accuracy: 0.806\n",
      "[Epoch 92, Batch 700] Loss: 0.546 Accuracy: 0.799\n",
      "[Epoch 92, Batch 800] Loss: 0.546 Accuracy: 0.798\n",
      "[Epoch 92, Batch 900] Loss: 0.542 Accuracy: 0.800\n",
      "[Epoch 92, Batch 1000] Loss: 0.541 Accuracy: 0.803\n",
      "[Epoch 92, Batch 1100] Loss: 0.542 Accuracy: 0.801\n",
      "[Epoch 92, Batch 1200] Loss: 0.547 Accuracy: 0.797\n",
      "[Epoch 92, Batch 1300] Loss: 0.546 Accuracy: 0.797\n",
      "[Epoch 92, Batch 1400] Loss: 0.538 Accuracy: 0.804\n",
      "[Epoch 92, Batch 1500] Loss: 0.546 Accuracy: 0.799\n",
      "[Epoch 92, Batch 1600] Loss: 0.546 Accuracy: 0.797\n",
      "[Epoch 92, Batch 1700] Loss: 0.540 Accuracy: 0.804\n",
      "[Epoch 92, Batch 1800] Loss: 0.545 Accuracy: 0.800\n",
      "[Epoch 92, Batch 1900] Loss: 0.542 Accuracy: 0.802\n"
     ]
    },
    {
     "name": "stderr",
     "output_type": "stream",
     "text": [
      "/opt/conda/lib/python3.7/site-packages/torch/utils/data/dataloader.py:557: UserWarning: This DataLoader will create 4 worker processes in total. Our suggested max number of worker in current system is 2, which is smaller than what this DataLoader is going to create. Please be aware that excessive worker creation might get DataLoader running slow or even freeze, lower the worker number to avoid potential slowness/freeze if necessary.\n",
      "  cpuset_checked))\n"
     ]
    },
    {
     "name": "stdout",
     "output_type": "stream",
     "text": [
      "Epoch 92 Val Loss: 0.5423139223611977 \t\t Val Accuracy: 0.8005346377685709\n"
     ]
    },
    {
     "name": "stderr",
     "output_type": "stream",
     "text": [
      "/opt/conda/lib/python3.7/site-packages/torch/utils/data/dataloader.py:557: UserWarning: This DataLoader will create 4 worker processes in total. Our suggested max number of worker in current system is 2, which is smaller than what this DataLoader is going to create. Please be aware that excessive worker creation might get DataLoader running slow or even freeze, lower the worker number to avoid potential slowness/freeze if necessary.\n",
      "  cpuset_checked))\n"
     ]
    },
    {
     "name": "stdout",
     "output_type": "stream",
     "text": [
      "[Epoch 93, Batch 100] Loss: 0.539 Accuracy: 0.804\n",
      "[Epoch 93, Batch 200] Loss: 0.538 Accuracy: 0.806\n",
      "[Epoch 93, Batch 300] Loss: 0.543 Accuracy: 0.801\n",
      "[Epoch 93, Batch 400] Loss: 0.548 Accuracy: 0.797\n",
      "[Epoch 93, Batch 500] Loss: 0.544 Accuracy: 0.799\n",
      "[Epoch 93, Batch 600] Loss: 0.540 Accuracy: 0.804\n",
      "[Epoch 93, Batch 700] Loss: 0.539 Accuracy: 0.804\n",
      "[Epoch 93, Batch 800] Loss: 0.551 Accuracy: 0.794\n",
      "[Epoch 93, Batch 900] Loss: 0.549 Accuracy: 0.797\n",
      "[Epoch 93, Batch 1000] Loss: 0.545 Accuracy: 0.798\n",
      "[Epoch 93, Batch 1100] Loss: 0.539 Accuracy: 0.805\n",
      "[Epoch 93, Batch 1200] Loss: 0.544 Accuracy: 0.800\n",
      "[Epoch 93, Batch 1300] Loss: 0.540 Accuracy: 0.803\n",
      "[Epoch 93, Batch 1400] Loss: 0.543 Accuracy: 0.800\n",
      "[Epoch 93, Batch 1500] Loss: 0.546 Accuracy: 0.798\n",
      "[Epoch 93, Batch 1600] Loss: 0.546 Accuracy: 0.798\n",
      "[Epoch 93, Batch 1700] Loss: 0.542 Accuracy: 0.802\n",
      "[Epoch 93, Batch 1800] Loss: 0.550 Accuracy: 0.795\n",
      "[Epoch 93, Batch 1900] Loss: 0.540 Accuracy: 0.804\n"
     ]
    },
    {
     "name": "stderr",
     "output_type": "stream",
     "text": [
      "/opt/conda/lib/python3.7/site-packages/torch/utils/data/dataloader.py:557: UserWarning: This DataLoader will create 4 worker processes in total. Our suggested max number of worker in current system is 2, which is smaller than what this DataLoader is going to create. Please be aware that excessive worker creation might get DataLoader running slow or even freeze, lower the worker number to avoid potential slowness/freeze if necessary.\n",
      "  cpuset_checked))\n"
     ]
    },
    {
     "name": "stdout",
     "output_type": "stream",
     "text": [
      "Epoch 93 Val Loss: 0.5531873610843138 \t\t Val Accuracy: 0.7953699106633609\n"
     ]
    },
    {
     "name": "stderr",
     "output_type": "stream",
     "text": [
      "/opt/conda/lib/python3.7/site-packages/torch/utils/data/dataloader.py:557: UserWarning: This DataLoader will create 4 worker processes in total. Our suggested max number of worker in current system is 2, which is smaller than what this DataLoader is going to create. Please be aware that excessive worker creation might get DataLoader running slow or even freeze, lower the worker number to avoid potential slowness/freeze if necessary.\n",
      "  cpuset_checked))\n"
     ]
    },
    {
     "name": "stdout",
     "output_type": "stream",
     "text": [
      "[Epoch 94, Batch 100] Loss: 0.545 Accuracy: 0.800\n",
      "[Epoch 94, Batch 200] Loss: 0.540 Accuracy: 0.803\n",
      "[Epoch 94, Batch 300] Loss: 0.545 Accuracy: 0.799\n",
      "[Epoch 94, Batch 400] Loss: 0.543 Accuracy: 0.801\n",
      "[Epoch 94, Batch 500] Loss: 0.544 Accuracy: 0.800\n",
      "[Epoch 94, Batch 600] Loss: 0.543 Accuracy: 0.802\n",
      "[Epoch 94, Batch 700] Loss: 0.546 Accuracy: 0.797\n",
      "[Epoch 94, Batch 800] Loss: 0.542 Accuracy: 0.802\n",
      "[Epoch 94, Batch 900] Loss: 0.542 Accuracy: 0.802\n",
      "[Epoch 94, Batch 1000] Loss: 0.546 Accuracy: 0.798\n",
      "[Epoch 94, Batch 1100] Loss: 0.537 Accuracy: 0.807\n",
      "[Epoch 94, Batch 1200] Loss: 0.544 Accuracy: 0.801\n",
      "[Epoch 94, Batch 1300] Loss: 0.541 Accuracy: 0.803\n",
      "[Epoch 94, Batch 1400] Loss: 0.543 Accuracy: 0.801\n",
      "[Epoch 94, Batch 1500] Loss: 0.545 Accuracy: 0.799\n",
      "[Epoch 94, Batch 1600] Loss: 0.541 Accuracy: 0.802\n",
      "[Epoch 94, Batch 1700] Loss: 0.541 Accuracy: 0.802\n",
      "[Epoch 94, Batch 1800] Loss: 0.535 Accuracy: 0.808\n",
      "[Epoch 94, Batch 1900] Loss: 0.550 Accuracy: 0.794\n"
     ]
    },
    {
     "name": "stderr",
     "output_type": "stream",
     "text": [
      "/opt/conda/lib/python3.7/site-packages/torch/utils/data/dataloader.py:557: UserWarning: This DataLoader will create 4 worker processes in total. Our suggested max number of worker in current system is 2, which is smaller than what this DataLoader is going to create. Please be aware that excessive worker creation might get DataLoader running slow or even freeze, lower the worker number to avoid potential slowness/freeze if necessary.\n",
      "  cpuset_checked))\n"
     ]
    },
    {
     "name": "stdout",
     "output_type": "stream",
     "text": [
      "Epoch 94 Val Loss: 0.5442659508990475 \t\t Val Accuracy: 0.8001658702929416\n"
     ]
    },
    {
     "name": "stderr",
     "output_type": "stream",
     "text": [
      "/opt/conda/lib/python3.7/site-packages/torch/utils/data/dataloader.py:557: UserWarning: This DataLoader will create 4 worker processes in total. Our suggested max number of worker in current system is 2, which is smaller than what this DataLoader is going to create. Please be aware that excessive worker creation might get DataLoader running slow or even freeze, lower the worker number to avoid potential slowness/freeze if necessary.\n",
      "  cpuset_checked))\n"
     ]
    },
    {
     "name": "stdout",
     "output_type": "stream",
     "text": [
      "[Epoch 95, Batch 100] Loss: 0.542 Accuracy: 0.802\n",
      "[Epoch 95, Batch 200] Loss: 0.540 Accuracy: 0.803\n",
      "[Epoch 95, Batch 300] Loss: 0.548 Accuracy: 0.797\n",
      "[Epoch 95, Batch 400] Loss: 0.540 Accuracy: 0.803\n",
      "[Epoch 95, Batch 500] Loss: 0.540 Accuracy: 0.803\n",
      "[Epoch 95, Batch 600] Loss: 0.542 Accuracy: 0.802\n",
      "[Epoch 95, Batch 700] Loss: 0.545 Accuracy: 0.799\n",
      "[Epoch 95, Batch 800] Loss: 0.541 Accuracy: 0.802\n",
      "[Epoch 95, Batch 900] Loss: 0.547 Accuracy: 0.797\n",
      "[Epoch 95, Batch 1000] Loss: 0.539 Accuracy: 0.804\n",
      "[Epoch 95, Batch 1100] Loss: 0.548 Accuracy: 0.796\n",
      "[Epoch 95, Batch 1200] Loss: 0.542 Accuracy: 0.802\n",
      "[Epoch 95, Batch 1300] Loss: 0.542 Accuracy: 0.801\n",
      "[Epoch 95, Batch 1400] Loss: 0.538 Accuracy: 0.806\n",
      "[Epoch 95, Batch 1500] Loss: 0.541 Accuracy: 0.802\n",
      "[Epoch 95, Batch 1600] Loss: 0.546 Accuracy: 0.797\n",
      "[Epoch 95, Batch 1700] Loss: 0.543 Accuracy: 0.800\n",
      "[Epoch 95, Batch 1800] Loss: 0.537 Accuracy: 0.806\n",
      "[Epoch 95, Batch 1900] Loss: 0.549 Accuracy: 0.796\n"
     ]
    },
    {
     "name": "stderr",
     "output_type": "stream",
     "text": [
      "/opt/conda/lib/python3.7/site-packages/torch/utils/data/dataloader.py:557: UserWarning: This DataLoader will create 4 worker processes in total. Our suggested max number of worker in current system is 2, which is smaller than what this DataLoader is going to create. Please be aware that excessive worker creation might get DataLoader running slow or even freeze, lower the worker number to avoid potential slowness/freeze if necessary.\n",
      "  cpuset_checked))\n"
     ]
    },
    {
     "name": "stdout",
     "output_type": "stream",
     "text": [
      "Epoch 95 Val Loss: 0.5435005978168733 \t\t Val Accuracy: 0.7994063156371802\n"
     ]
    },
    {
     "name": "stderr",
     "output_type": "stream",
     "text": [
      "/opt/conda/lib/python3.7/site-packages/torch/utils/data/dataloader.py:557: UserWarning: This DataLoader will create 4 worker processes in total. Our suggested max number of worker in current system is 2, which is smaller than what this DataLoader is going to create. Please be aware that excessive worker creation might get DataLoader running slow or even freeze, lower the worker number to avoid potential slowness/freeze if necessary.\n",
      "  cpuset_checked))\n"
     ]
    },
    {
     "name": "stdout",
     "output_type": "stream",
     "text": [
      "[Epoch 96, Batch 100] Loss: 0.547 Accuracy: 0.797\n",
      "[Epoch 96, Batch 200] Loss: 0.538 Accuracy: 0.805\n",
      "[Epoch 96, Batch 300] Loss: 0.541 Accuracy: 0.804\n",
      "[Epoch 96, Batch 400] Loss: 0.538 Accuracy: 0.805\n",
      "[Epoch 96, Batch 500] Loss: 0.540 Accuracy: 0.803\n",
      "[Epoch 96, Batch 600] Loss: 0.543 Accuracy: 0.801\n",
      "[Epoch 96, Batch 700] Loss: 0.546 Accuracy: 0.799\n",
      "[Epoch 96, Batch 800] Loss: 0.545 Accuracy: 0.799\n",
      "[Epoch 96, Batch 900] Loss: 0.548 Accuracy: 0.796\n",
      "[Epoch 96, Batch 1000] Loss: 0.543 Accuracy: 0.800\n",
      "[Epoch 96, Batch 1100] Loss: 0.547 Accuracy: 0.798\n",
      "[Epoch 96, Batch 1200] Loss: 0.542 Accuracy: 0.801\n",
      "[Epoch 96, Batch 1300] Loss: 0.542 Accuracy: 0.801\n",
      "[Epoch 96, Batch 1400] Loss: 0.539 Accuracy: 0.804\n",
      "[Epoch 96, Batch 1500] Loss: 0.537 Accuracy: 0.807\n",
      "[Epoch 96, Batch 1600] Loss: 0.540 Accuracy: 0.803\n",
      "[Epoch 96, Batch 1700] Loss: 0.547 Accuracy: 0.797\n",
      "[Epoch 96, Batch 1800] Loss: 0.539 Accuracy: 0.805\n",
      "[Epoch 96, Batch 1900] Loss: 0.546 Accuracy: 0.797\n"
     ]
    },
    {
     "name": "stderr",
     "output_type": "stream",
     "text": [
      "/opt/conda/lib/python3.7/site-packages/torch/utils/data/dataloader.py:557: UserWarning: This DataLoader will create 4 worker processes in total. Our suggested max number of worker in current system is 2, which is smaller than what this DataLoader is going to create. Please be aware that excessive worker creation might get DataLoader running slow or even freeze, lower the worker number to avoid potential slowness/freeze if necessary.\n",
      "  cpuset_checked))\n"
     ]
    },
    {
     "name": "stdout",
     "output_type": "stream",
     "text": [
      "Epoch 96 Val Loss: 0.5444238236151546 \t\t Val Accuracy: 0.7988302307766518\n"
     ]
    },
    {
     "name": "stderr",
     "output_type": "stream",
     "text": [
      "/opt/conda/lib/python3.7/site-packages/torch/utils/data/dataloader.py:557: UserWarning: This DataLoader will create 4 worker processes in total. Our suggested max number of worker in current system is 2, which is smaller than what this DataLoader is going to create. Please be aware that excessive worker creation might get DataLoader running slow or even freeze, lower the worker number to avoid potential slowness/freeze if necessary.\n",
      "  cpuset_checked))\n"
     ]
    },
    {
     "name": "stdout",
     "output_type": "stream",
     "text": [
      "[Epoch 97, Batch 100] Loss: 0.542 Accuracy: 0.802\n",
      "[Epoch 97, Batch 200] Loss: 0.540 Accuracy: 0.804\n",
      "[Epoch 97, Batch 300] Loss: 0.542 Accuracy: 0.802\n",
      "[Epoch 97, Batch 400] Loss: 0.544 Accuracy: 0.800\n",
      "[Epoch 97, Batch 500] Loss: 0.542 Accuracy: 0.801\n",
      "[Epoch 97, Batch 600] Loss: 0.544 Accuracy: 0.799\n",
      "[Epoch 97, Batch 700] Loss: 0.545 Accuracy: 0.799\n",
      "[Epoch 97, Batch 800] Loss: 0.543 Accuracy: 0.801\n",
      "[Epoch 97, Batch 900] Loss: 0.544 Accuracy: 0.799\n",
      "[Epoch 97, Batch 1000] Loss: 0.547 Accuracy: 0.798\n",
      "[Epoch 97, Batch 1100] Loss: 0.543 Accuracy: 0.800\n",
      "[Epoch 97, Batch 1200] Loss: 0.541 Accuracy: 0.802\n",
      "[Epoch 97, Batch 1300] Loss: 0.539 Accuracy: 0.804\n",
      "[Epoch 97, Batch 1400] Loss: 0.541 Accuracy: 0.801\n",
      "[Epoch 97, Batch 1500] Loss: 0.540 Accuracy: 0.804\n",
      "[Epoch 97, Batch 1600] Loss: 0.541 Accuracy: 0.801\n",
      "[Epoch 97, Batch 1700] Loss: 0.543 Accuracy: 0.800\n",
      "[Epoch 97, Batch 1800] Loss: 0.540 Accuracy: 0.804\n",
      "[Epoch 97, Batch 1900] Loss: 0.543 Accuracy: 0.802\n"
     ]
    },
    {
     "name": "stderr",
     "output_type": "stream",
     "text": [
      "/opt/conda/lib/python3.7/site-packages/torch/utils/data/dataloader.py:557: UserWarning: This DataLoader will create 4 worker processes in total. Our suggested max number of worker in current system is 2, which is smaller than what this DataLoader is going to create. Please be aware that excessive worker creation might get DataLoader running slow or even freeze, lower the worker number to avoid potential slowness/freeze if necessary.\n",
      "  cpuset_checked))\n"
     ]
    },
    {
     "name": "stdout",
     "output_type": "stream",
     "text": [
      "Epoch 97 Val Loss: 0.5508480407148001 \t\t Val Accuracy: 0.7928925924869903\n"
     ]
    },
    {
     "name": "stderr",
     "output_type": "stream",
     "text": [
      "/opt/conda/lib/python3.7/site-packages/torch/utils/data/dataloader.py:557: UserWarning: This DataLoader will create 4 worker processes in total. Our suggested max number of worker in current system is 2, which is smaller than what this DataLoader is going to create. Please be aware that excessive worker creation might get DataLoader running slow or even freeze, lower the worker number to avoid potential slowness/freeze if necessary.\n",
      "  cpuset_checked))\n"
     ]
    },
    {
     "name": "stdout",
     "output_type": "stream",
     "text": [
      "[Epoch 98, Batch 100] Loss: 0.542 Accuracy: 0.801\n",
      "[Epoch 98, Batch 200] Loss: 0.548 Accuracy: 0.797\n",
      "[Epoch 98, Batch 300] Loss: 0.542 Accuracy: 0.802\n",
      "[Epoch 98, Batch 400] Loss: 0.540 Accuracy: 0.802\n",
      "[Epoch 98, Batch 500] Loss: 0.544 Accuracy: 0.801\n",
      "[Epoch 98, Batch 600] Loss: 0.544 Accuracy: 0.801\n",
      "[Epoch 98, Batch 700] Loss: 0.544 Accuracy: 0.800\n",
      "[Epoch 98, Batch 800] Loss: 0.548 Accuracy: 0.797\n",
      "[Epoch 98, Batch 900] Loss: 0.544 Accuracy: 0.799\n",
      "[Epoch 98, Batch 1000] Loss: 0.544 Accuracy: 0.800\n",
      "[Epoch 98, Batch 1100] Loss: 0.544 Accuracy: 0.800\n",
      "[Epoch 98, Batch 1200] Loss: 0.543 Accuracy: 0.801\n",
      "[Epoch 98, Batch 1300] Loss: 0.534 Accuracy: 0.809\n",
      "[Epoch 98, Batch 1400] Loss: 0.540 Accuracy: 0.803\n",
      "[Epoch 98, Batch 1500] Loss: 0.546 Accuracy: 0.798\n",
      "[Epoch 98, Batch 1600] Loss: 0.541 Accuracy: 0.803\n",
      "[Epoch 98, Batch 1700] Loss: 0.542 Accuracy: 0.802\n",
      "[Epoch 98, Batch 1800] Loss: 0.539 Accuracy: 0.805\n",
      "[Epoch 98, Batch 1900] Loss: 0.539 Accuracy: 0.804\n"
     ]
    },
    {
     "name": "stderr",
     "output_type": "stream",
     "text": [
      "/opt/conda/lib/python3.7/site-packages/torch/utils/data/dataloader.py:557: UserWarning: This DataLoader will create 4 worker processes in total. Our suggested max number of worker in current system is 2, which is smaller than what this DataLoader is going to create. Please be aware that excessive worker creation might get DataLoader running slow or even freeze, lower the worker number to avoid potential slowness/freeze if necessary.\n",
      "  cpuset_checked))\n"
     ]
    },
    {
     "name": "stdout",
     "output_type": "stream",
     "text": [
      "Epoch 98 Val Loss: 0.5417664365835458 \t\t Val Accuracy: 0.8019783691235961\n",
      "Validation Loss Decreased(134.968832--->134.899843) \t Saving The Model\n"
     ]
    },
    {
     "name": "stderr",
     "output_type": "stream",
     "text": [
      "/opt/conda/lib/python3.7/site-packages/torch/utils/data/dataloader.py:557: UserWarning: This DataLoader will create 4 worker processes in total. Our suggested max number of worker in current system is 2, which is smaller than what this DataLoader is going to create. Please be aware that excessive worker creation might get DataLoader running slow or even freeze, lower the worker number to avoid potential slowness/freeze if necessary.\n",
      "  cpuset_checked))\n"
     ]
    },
    {
     "name": "stdout",
     "output_type": "stream",
     "text": [
      "[Epoch 99, Batch 100] Loss: 0.540 Accuracy: 0.804\n",
      "[Epoch 99, Batch 200] Loss: 0.541 Accuracy: 0.803\n",
      "[Epoch 99, Batch 300] Loss: 0.542 Accuracy: 0.802\n",
      "[Epoch 99, Batch 400] Loss: 0.541 Accuracy: 0.803\n",
      "[Epoch 99, Batch 500] Loss: 0.535 Accuracy: 0.808\n",
      "[Epoch 99, Batch 600] Loss: 0.548 Accuracy: 0.797\n",
      "[Epoch 99, Batch 700] Loss: 0.544 Accuracy: 0.800\n",
      "[Epoch 99, Batch 800] Loss: 0.542 Accuracy: 0.801\n",
      "[Epoch 99, Batch 900] Loss: 0.544 Accuracy: 0.800\n",
      "[Epoch 99, Batch 1000] Loss: 0.544 Accuracy: 0.800\n",
      "[Epoch 99, Batch 1100] Loss: 0.538 Accuracy: 0.804\n",
      "[Epoch 99, Batch 1200] Loss: 0.543 Accuracy: 0.801\n",
      "[Epoch 99, Batch 1300] Loss: 0.538 Accuracy: 0.805\n",
      "[Epoch 99, Batch 1400] Loss: 0.543 Accuracy: 0.801\n",
      "[Epoch 99, Batch 1500] Loss: 0.548 Accuracy: 0.795\n",
      "[Epoch 99, Batch 1600] Loss: 0.547 Accuracy: 0.797\n",
      "[Epoch 99, Batch 1700] Loss: 0.543 Accuracy: 0.800\n",
      "[Epoch 99, Batch 1800] Loss: 0.547 Accuracy: 0.797\n",
      "[Epoch 99, Batch 1900] Loss: 0.545 Accuracy: 0.799\n"
     ]
    },
    {
     "name": "stderr",
     "output_type": "stream",
     "text": [
      "/opt/conda/lib/python3.7/site-packages/torch/utils/data/dataloader.py:557: UserWarning: This DataLoader will create 4 worker processes in total. Our suggested max number of worker in current system is 2, which is smaller than what this DataLoader is going to create. Please be aware that excessive worker creation might get DataLoader running slow or even freeze, lower the worker number to avoid potential slowness/freeze if necessary.\n",
      "  cpuset_checked))\n"
     ]
    },
    {
     "name": "stdout",
     "output_type": "stream",
     "text": [
      "Epoch 99 Val Loss: 0.5419800888343029 \t\t Val Accuracy: 0.8014648629446448\n"
     ]
    },
    {
     "name": "stderr",
     "output_type": "stream",
     "text": [
      "/opt/conda/lib/python3.7/site-packages/torch/utils/data/dataloader.py:557: UserWarning: This DataLoader will create 4 worker processes in total. Our suggested max number of worker in current system is 2, which is smaller than what this DataLoader is going to create. Please be aware that excessive worker creation might get DataLoader running slow or even freeze, lower the worker number to avoid potential slowness/freeze if necessary.\n",
      "  cpuset_checked))\n"
     ]
    },
    {
     "name": "stdout",
     "output_type": "stream",
     "text": [
      "[Epoch 100, Batch 100] Loss: 0.542 Accuracy: 0.802\n",
      "[Epoch 100, Batch 200] Loss: 0.543 Accuracy: 0.801\n",
      "[Epoch 100, Batch 300] Loss: 0.545 Accuracy: 0.799\n",
      "[Epoch 100, Batch 400] Loss: 0.533 Accuracy: 0.810\n",
      "[Epoch 100, Batch 500] Loss: 0.544 Accuracy: 0.799\n",
      "[Epoch 100, Batch 600] Loss: 0.550 Accuracy: 0.795\n",
      "[Epoch 100, Batch 700] Loss: 0.547 Accuracy: 0.797\n",
      "[Epoch 100, Batch 800] Loss: 0.548 Accuracy: 0.796\n",
      "[Epoch 100, Batch 900] Loss: 0.540 Accuracy: 0.803\n",
      "[Epoch 100, Batch 1000] Loss: 0.540 Accuracy: 0.804\n",
      "[Epoch 100, Batch 1100] Loss: 0.544 Accuracy: 0.799\n",
      "[Epoch 100, Batch 1200] Loss: 0.539 Accuracy: 0.804\n",
      "[Epoch 100, Batch 1300] Loss: 0.539 Accuracy: 0.805\n",
      "[Epoch 100, Batch 1400] Loss: 0.545 Accuracy: 0.800\n",
      "[Epoch 100, Batch 1500] Loss: 0.542 Accuracy: 0.801\n",
      "[Epoch 100, Batch 1600] Loss: 0.538 Accuracy: 0.805\n",
      "[Epoch 100, Batch 1700] Loss: 0.541 Accuracy: 0.802\n",
      "[Epoch 100, Batch 1800] Loss: 0.537 Accuracy: 0.805\n",
      "[Epoch 100, Batch 1900] Loss: 0.540 Accuracy: 0.804\n"
     ]
    },
    {
     "name": "stderr",
     "output_type": "stream",
     "text": [
      "/opt/conda/lib/python3.7/site-packages/torch/utils/data/dataloader.py:557: UserWarning: This DataLoader will create 4 worker processes in total. Our suggested max number of worker in current system is 2, which is smaller than what this DataLoader is going to create. Please be aware that excessive worker creation might get DataLoader running slow or even freeze, lower the worker number to avoid potential slowness/freeze if necessary.\n",
      "  cpuset_checked))\n"
     ]
    },
    {
     "name": "stdout",
     "output_type": "stream",
     "text": [
      "Epoch 100 Val Loss: 0.5426274634987475 \t\t Val Accuracy: 0.80064892874732\n"
     ]
    },
    {
     "name": "stderr",
     "output_type": "stream",
     "text": [
      "/opt/conda/lib/python3.7/site-packages/torch/utils/data/dataloader.py:557: UserWarning: This DataLoader will create 4 worker processes in total. Our suggested max number of worker in current system is 2, which is smaller than what this DataLoader is going to create. Please be aware that excessive worker creation might get DataLoader running slow or even freeze, lower the worker number to avoid potential slowness/freeze if necessary.\n",
      "  cpuset_checked))\n"
     ]
    },
    {
     "name": "stdout",
     "output_type": "stream",
     "text": [
      "[Epoch 101, Batch 100] Loss: 0.542 Accuracy: 0.801\n",
      "[Epoch 101, Batch 200] Loss: 0.543 Accuracy: 0.800\n",
      "[Epoch 101, Batch 300] Loss: 0.548 Accuracy: 0.797\n",
      "[Epoch 101, Batch 400] Loss: 0.541 Accuracy: 0.803\n",
      "[Epoch 101, Batch 500] Loss: 0.538 Accuracy: 0.805\n",
      "[Epoch 101, Batch 600] Loss: 0.545 Accuracy: 0.799\n",
      "[Epoch 101, Batch 700] Loss: 0.538 Accuracy: 0.805\n",
      "[Epoch 101, Batch 800] Loss: 0.546 Accuracy: 0.799\n",
      "[Epoch 101, Batch 900] Loss: 0.542 Accuracy: 0.801\n",
      "[Epoch 101, Batch 1000] Loss: 0.540 Accuracy: 0.803\n",
      "[Epoch 101, Batch 1100] Loss: 0.544 Accuracy: 0.800\n",
      "[Epoch 101, Batch 1200] Loss: 0.545 Accuracy: 0.799\n",
      "[Epoch 101, Batch 1300] Loss: 0.538 Accuracy: 0.805\n",
      "[Epoch 101, Batch 1400] Loss: 0.541 Accuracy: 0.803\n",
      "[Epoch 101, Batch 1500] Loss: 0.544 Accuracy: 0.799\n",
      "[Epoch 101, Batch 1600] Loss: 0.539 Accuracy: 0.804\n",
      "[Epoch 101, Batch 1700] Loss: 0.533 Accuracy: 0.809\n",
      "[Epoch 101, Batch 1800] Loss: 0.550 Accuracy: 0.795\n",
      "[Epoch 101, Batch 1900] Loss: 0.540 Accuracy: 0.804\n"
     ]
    },
    {
     "name": "stderr",
     "output_type": "stream",
     "text": [
      "/opt/conda/lib/python3.7/site-packages/torch/utils/data/dataloader.py:557: UserWarning: This DataLoader will create 4 worker processes in total. Our suggested max number of worker in current system is 2, which is smaller than what this DataLoader is going to create. Please be aware that excessive worker creation might get DataLoader running slow or even freeze, lower the worker number to avoid potential slowness/freeze if necessary.\n",
      "  cpuset_checked))\n"
     ]
    },
    {
     "name": "stdout",
     "output_type": "stream",
     "text": [
      "Epoch 101 Val Loss: 0.5449724250050434 \t\t Val Accuracy: 0.7995599194457714\n"
     ]
    },
    {
     "name": "stderr",
     "output_type": "stream",
     "text": [
      "/opt/conda/lib/python3.7/site-packages/torch/utils/data/dataloader.py:557: UserWarning: This DataLoader will create 4 worker processes in total. Our suggested max number of worker in current system is 2, which is smaller than what this DataLoader is going to create. Please be aware that excessive worker creation might get DataLoader running slow or even freeze, lower the worker number to avoid potential slowness/freeze if necessary.\n",
      "  cpuset_checked))\n"
     ]
    },
    {
     "name": "stdout",
     "output_type": "stream",
     "text": [
      "[Epoch 102, Batch 100] Loss: 0.543 Accuracy: 0.801\n",
      "[Epoch 102, Batch 200] Loss: 0.548 Accuracy: 0.796\n",
      "[Epoch 102, Batch 300] Loss: 0.537 Accuracy: 0.807\n",
      "[Epoch 102, Batch 400] Loss: 0.539 Accuracy: 0.804\n",
      "[Epoch 102, Batch 500] Loss: 0.547 Accuracy: 0.796\n",
      "[Epoch 102, Batch 600] Loss: 0.542 Accuracy: 0.801\n",
      "[Epoch 102, Batch 700] Loss: 0.543 Accuracy: 0.802\n",
      "[Epoch 102, Batch 800] Loss: 0.542 Accuracy: 0.801\n",
      "[Epoch 102, Batch 900] Loss: 0.544 Accuracy: 0.800\n",
      "[Epoch 102, Batch 1000] Loss: 0.543 Accuracy: 0.801\n",
      "[Epoch 102, Batch 1100] Loss: 0.539 Accuracy: 0.804\n",
      "[Epoch 102, Batch 1200] Loss: 0.540 Accuracy: 0.803\n",
      "[Epoch 102, Batch 1300] Loss: 0.543 Accuracy: 0.799\n",
      "[Epoch 102, Batch 1400] Loss: 0.538 Accuracy: 0.805\n",
      "[Epoch 102, Batch 1500] Loss: 0.546 Accuracy: 0.799\n",
      "[Epoch 102, Batch 1600] Loss: 0.542 Accuracy: 0.802\n",
      "[Epoch 102, Batch 1700] Loss: 0.544 Accuracy: 0.799\n",
      "[Epoch 102, Batch 1800] Loss: 0.543 Accuracy: 0.800\n",
      "[Epoch 102, Batch 1900] Loss: 0.541 Accuracy: 0.802\n"
     ]
    },
    {
     "name": "stderr",
     "output_type": "stream",
     "text": [
      "/opt/conda/lib/python3.7/site-packages/torch/utils/data/dataloader.py:557: UserWarning: This DataLoader will create 4 worker processes in total. Our suggested max number of worker in current system is 2, which is smaller than what this DataLoader is going to create. Please be aware that excessive worker creation might get DataLoader running slow or even freeze, lower the worker number to avoid potential slowness/freeze if necessary.\n",
      "  cpuset_checked))\n"
     ]
    },
    {
     "name": "stdout",
     "output_type": "stream",
     "text": [
      "Epoch 102 Val Loss: 0.5462018684689779 \t\t Val Accuracy: 0.7975677406366358\n"
     ]
    },
    {
     "name": "stderr",
     "output_type": "stream",
     "text": [
      "/opt/conda/lib/python3.7/site-packages/torch/utils/data/dataloader.py:557: UserWarning: This DataLoader will create 4 worker processes in total. Our suggested max number of worker in current system is 2, which is smaller than what this DataLoader is going to create. Please be aware that excessive worker creation might get DataLoader running slow or even freeze, lower the worker number to avoid potential slowness/freeze if necessary.\n",
      "  cpuset_checked))\n"
     ]
    },
    {
     "name": "stdout",
     "output_type": "stream",
     "text": [
      "[Epoch 103, Batch 100] Loss: 0.545 Accuracy: 0.799\n",
      "[Epoch 103, Batch 200] Loss: 0.544 Accuracy: 0.800\n",
      "[Epoch 103, Batch 300] Loss: 0.542 Accuracy: 0.801\n",
      "[Epoch 103, Batch 400] Loss: 0.539 Accuracy: 0.804\n",
      "[Epoch 103, Batch 500] Loss: 0.539 Accuracy: 0.804\n",
      "[Epoch 103, Batch 600] Loss: 0.543 Accuracy: 0.801\n",
      "[Epoch 103, Batch 700] Loss: 0.544 Accuracy: 0.800\n",
      "[Epoch 103, Batch 800] Loss: 0.542 Accuracy: 0.801\n",
      "[Epoch 103, Batch 900] Loss: 0.544 Accuracy: 0.799\n",
      "[Epoch 103, Batch 1000] Loss: 0.537 Accuracy: 0.806\n",
      "[Epoch 103, Batch 1100] Loss: 0.544 Accuracy: 0.800\n",
      "[Epoch 103, Batch 1200] Loss: 0.544 Accuracy: 0.800\n",
      "[Epoch 103, Batch 1300] Loss: 0.537 Accuracy: 0.805\n",
      "[Epoch 103, Batch 1400] Loss: 0.540 Accuracy: 0.803\n",
      "[Epoch 103, Batch 1500] Loss: 0.546 Accuracy: 0.798\n",
      "[Epoch 103, Batch 1600] Loss: 0.540 Accuracy: 0.803\n",
      "[Epoch 103, Batch 1700] Loss: 0.533 Accuracy: 0.809\n",
      "[Epoch 103, Batch 1800] Loss: 0.537 Accuracy: 0.806\n",
      "[Epoch 103, Batch 1900] Loss: 0.542 Accuracy: 0.801\n"
     ]
    },
    {
     "name": "stderr",
     "output_type": "stream",
     "text": [
      "/opt/conda/lib/python3.7/site-packages/torch/utils/data/dataloader.py:557: UserWarning: This DataLoader will create 4 worker processes in total. Our suggested max number of worker in current system is 2, which is smaller than what this DataLoader is going to create. Please be aware that excessive worker creation might get DataLoader running slow or even freeze, lower the worker number to avoid potential slowness/freeze if necessary.\n",
      "  cpuset_checked))\n"
     ]
    },
    {
     "name": "stdout",
     "output_type": "stream",
     "text": [
      "Epoch 103 Val Loss: 0.5421239773193037 \t\t Val Accuracy: 0.8011482135370462\n"
     ]
    },
    {
     "name": "stderr",
     "output_type": "stream",
     "text": [
      "/opt/conda/lib/python3.7/site-packages/torch/utils/data/dataloader.py:557: UserWarning: This DataLoader will create 4 worker processes in total. Our suggested max number of worker in current system is 2, which is smaller than what this DataLoader is going to create. Please be aware that excessive worker creation might get DataLoader running slow or even freeze, lower the worker number to avoid potential slowness/freeze if necessary.\n",
      "  cpuset_checked))\n"
     ]
    },
    {
     "name": "stdout",
     "output_type": "stream",
     "text": [
      "[Epoch 104, Batch 100] Loss: 0.538 Accuracy: 0.805\n",
      "[Epoch 104, Batch 200] Loss: 0.544 Accuracy: 0.799\n",
      "[Epoch 104, Batch 300] Loss: 0.537 Accuracy: 0.806\n",
      "[Epoch 104, Batch 400] Loss: 0.541 Accuracy: 0.803\n",
      "[Epoch 104, Batch 500] Loss: 0.541 Accuracy: 0.803\n",
      "[Epoch 104, Batch 600] Loss: 0.542 Accuracy: 0.803\n",
      "[Epoch 104, Batch 700] Loss: 0.545 Accuracy: 0.799\n",
      "[Epoch 104, Batch 800] Loss: 0.548 Accuracy: 0.797\n",
      "[Epoch 104, Batch 900] Loss: 0.543 Accuracy: 0.800\n",
      "[Epoch 104, Batch 1000] Loss: 0.539 Accuracy: 0.805\n",
      "[Epoch 104, Batch 1100] Loss: 0.536 Accuracy: 0.808\n",
      "[Epoch 104, Batch 1200] Loss: 0.540 Accuracy: 0.803\n",
      "[Epoch 104, Batch 1300] Loss: 0.540 Accuracy: 0.804\n",
      "[Epoch 104, Batch 1400] Loss: 0.548 Accuracy: 0.796\n",
      "[Epoch 104, Batch 1500] Loss: 0.541 Accuracy: 0.802\n",
      "[Epoch 104, Batch 1600] Loss: 0.542 Accuracy: 0.801\n",
      "[Epoch 104, Batch 1700] Loss: 0.543 Accuracy: 0.801\n",
      "[Epoch 104, Batch 1800] Loss: 0.543 Accuracy: 0.801\n",
      "[Epoch 104, Batch 1900] Loss: 0.539 Accuracy: 0.804\n"
     ]
    },
    {
     "name": "stderr",
     "output_type": "stream",
     "text": [
      "/opt/conda/lib/python3.7/site-packages/torch/utils/data/dataloader.py:557: UserWarning: This DataLoader will create 4 worker processes in total. Our suggested max number of worker in current system is 2, which is smaller than what this DataLoader is going to create. Please be aware that excessive worker creation might get DataLoader running slow or even freeze, lower the worker number to avoid potential slowness/freeze if necessary.\n",
      "  cpuset_checked))\n"
     ]
    },
    {
     "name": "stdout",
     "output_type": "stream",
     "text": [
      "Epoch 104 Val Loss: 0.5428418648769577 \t\t Val Accuracy: 0.8003546891571716\n"
     ]
    },
    {
     "name": "stderr",
     "output_type": "stream",
     "text": [
      "/opt/conda/lib/python3.7/site-packages/torch/utils/data/dataloader.py:557: UserWarning: This DataLoader will create 4 worker processes in total. Our suggested max number of worker in current system is 2, which is smaller than what this DataLoader is going to create. Please be aware that excessive worker creation might get DataLoader running slow or even freeze, lower the worker number to avoid potential slowness/freeze if necessary.\n",
      "  cpuset_checked))\n"
     ]
    },
    {
     "name": "stdout",
     "output_type": "stream",
     "text": [
      "[Epoch 105, Batch 100] Loss: 0.541 Accuracy: 0.803\n",
      "[Epoch 105, Batch 200] Loss: 0.548 Accuracy: 0.796\n",
      "[Epoch 105, Batch 300] Loss: 0.542 Accuracy: 0.802\n",
      "[Epoch 105, Batch 400] Loss: 0.538 Accuracy: 0.805\n",
      "[Epoch 105, Batch 500] Loss: 0.546 Accuracy: 0.798\n",
      "[Epoch 105, Batch 600] Loss: 0.539 Accuracy: 0.804\n",
      "[Epoch 105, Batch 700] Loss: 0.544 Accuracy: 0.799\n",
      "[Epoch 105, Batch 800] Loss: 0.540 Accuracy: 0.805\n",
      "[Epoch 105, Batch 900] Loss: 0.543 Accuracy: 0.800\n",
      "[Epoch 105, Batch 1000] Loss: 0.547 Accuracy: 0.798\n",
      "[Epoch 105, Batch 1100] Loss: 0.536 Accuracy: 0.807\n",
      "[Epoch 105, Batch 1200] Loss: 0.548 Accuracy: 0.795\n",
      "[Epoch 105, Batch 1300] Loss: 0.537 Accuracy: 0.807\n",
      "[Epoch 105, Batch 1400] Loss: 0.537 Accuracy: 0.806\n",
      "[Epoch 105, Batch 1500] Loss: 0.531 Accuracy: 0.811\n",
      "[Epoch 105, Batch 1600] Loss: 0.541 Accuracy: 0.804\n",
      "[Epoch 105, Batch 1700] Loss: 0.542 Accuracy: 0.802\n",
      "[Epoch 105, Batch 1800] Loss: 0.542 Accuracy: 0.803\n",
      "[Epoch 105, Batch 1900] Loss: 0.545 Accuracy: 0.799\n"
     ]
    },
    {
     "name": "stderr",
     "output_type": "stream",
     "text": [
      "/opt/conda/lib/python3.7/site-packages/torch/utils/data/dataloader.py:557: UserWarning: This DataLoader will create 4 worker processes in total. Our suggested max number of worker in current system is 2, which is smaller than what this DataLoader is going to create. Please be aware that excessive worker creation might get DataLoader running slow or even freeze, lower the worker number to avoid potential slowness/freeze if necessary.\n",
      "  cpuset_checked))\n"
     ]
    },
    {
     "name": "stdout",
     "output_type": "stream",
     "text": [
      "Epoch 105 Val Loss: 0.541159499840564 \t\t Val Accuracy: 0.8020785714913934\n",
      "Validation Loss Decreased(134.899843--->134.748715) \t Saving The Model\n"
     ]
    },
    {
     "name": "stderr",
     "output_type": "stream",
     "text": [
      "/opt/conda/lib/python3.7/site-packages/torch/utils/data/dataloader.py:557: UserWarning: This DataLoader will create 4 worker processes in total. Our suggested max number of worker in current system is 2, which is smaller than what this DataLoader is going to create. Please be aware that excessive worker creation might get DataLoader running slow or even freeze, lower the worker number to avoid potential slowness/freeze if necessary.\n",
      "  cpuset_checked))\n"
     ]
    },
    {
     "name": "stdout",
     "output_type": "stream",
     "text": [
      "[Epoch 106, Batch 100] Loss: 0.540 Accuracy: 0.804\n",
      "[Epoch 106, Batch 200] Loss: 0.546 Accuracy: 0.798\n",
      "[Epoch 106, Batch 300] Loss: 0.538 Accuracy: 0.805\n",
      "[Epoch 106, Batch 400] Loss: 0.538 Accuracy: 0.806\n",
      "[Epoch 106, Batch 500] Loss: 0.538 Accuracy: 0.805\n",
      "[Epoch 106, Batch 600] Loss: 0.546 Accuracy: 0.799\n",
      "[Epoch 106, Batch 700] Loss: 0.544 Accuracy: 0.801\n",
      "[Epoch 106, Batch 800] Loss: 0.544 Accuracy: 0.799\n",
      "[Epoch 106, Batch 900] Loss: 0.533 Accuracy: 0.809\n",
      "[Epoch 106, Batch 1000] Loss: 0.544 Accuracy: 0.798\n",
      "[Epoch 106, Batch 1100] Loss: 0.546 Accuracy: 0.798\n",
      "[Epoch 106, Batch 1200] Loss: 0.544 Accuracy: 0.799\n",
      "[Epoch 106, Batch 1300] Loss: 0.535 Accuracy: 0.807\n",
      "[Epoch 106, Batch 1400] Loss: 0.538 Accuracy: 0.805\n",
      "[Epoch 106, Batch 1500] Loss: 0.538 Accuracy: 0.805\n",
      "[Epoch 106, Batch 1600] Loss: 0.540 Accuracy: 0.804\n",
      "[Epoch 106, Batch 1700] Loss: 0.541 Accuracy: 0.802\n",
      "[Epoch 106, Batch 1800] Loss: 0.536 Accuracy: 0.808\n",
      "[Epoch 106, Batch 1900] Loss: 0.539 Accuracy: 0.803\n"
     ]
    },
    {
     "name": "stderr",
     "output_type": "stream",
     "text": [
      "/opt/conda/lib/python3.7/site-packages/torch/utils/data/dataloader.py:557: UserWarning: This DataLoader will create 4 worker processes in total. Our suggested max number of worker in current system is 2, which is smaller than what this DataLoader is going to create. Please be aware that excessive worker creation might get DataLoader running slow or even freeze, lower the worker number to avoid potential slowness/freeze if necessary.\n",
      "  cpuset_checked))\n"
     ]
    },
    {
     "name": "stdout",
     "output_type": "stream",
     "text": [
      "Epoch 106 Val Loss: 0.5470380610730274 \t\t Val Accuracy: 0.7968200911400549\n"
     ]
    },
    {
     "name": "stderr",
     "output_type": "stream",
     "text": [
      "/opt/conda/lib/python3.7/site-packages/torch/utils/data/dataloader.py:557: UserWarning: This DataLoader will create 4 worker processes in total. Our suggested max number of worker in current system is 2, which is smaller than what this DataLoader is going to create. Please be aware that excessive worker creation might get DataLoader running slow or even freeze, lower the worker number to avoid potential slowness/freeze if necessary.\n",
      "  cpuset_checked))\n"
     ]
    },
    {
     "name": "stdout",
     "output_type": "stream",
     "text": [
      "[Epoch 107, Batch 100] Loss: 0.542 Accuracy: 0.802\n",
      "[Epoch 107, Batch 200] Loss: 0.540 Accuracy: 0.803\n",
      "[Epoch 107, Batch 300] Loss: 0.538 Accuracy: 0.806\n",
      "[Epoch 107, Batch 400] Loss: 0.542 Accuracy: 0.801\n",
      "[Epoch 107, Batch 500] Loss: 0.543 Accuracy: 0.801\n",
      "[Epoch 107, Batch 600] Loss: 0.544 Accuracy: 0.800\n",
      "[Epoch 107, Batch 700] Loss: 0.541 Accuracy: 0.803\n",
      "[Epoch 107, Batch 800] Loss: 0.543 Accuracy: 0.801\n",
      "[Epoch 107, Batch 900] Loss: 0.543 Accuracy: 0.800\n",
      "[Epoch 107, Batch 1000] Loss: 0.536 Accuracy: 0.807\n",
      "[Epoch 107, Batch 1100] Loss: 0.543 Accuracy: 0.801\n",
      "[Epoch 107, Batch 1200] Loss: 0.534 Accuracy: 0.808\n",
      "[Epoch 107, Batch 1300] Loss: 0.542 Accuracy: 0.801\n",
      "[Epoch 107, Batch 1400] Loss: 0.541 Accuracy: 0.802\n",
      "[Epoch 107, Batch 1500] Loss: 0.538 Accuracy: 0.805\n",
      "[Epoch 107, Batch 1600] Loss: 0.541 Accuracy: 0.802\n",
      "[Epoch 107, Batch 1700] Loss: 0.538 Accuracy: 0.805\n",
      "[Epoch 107, Batch 1800] Loss: 0.550 Accuracy: 0.795\n",
      "[Epoch 107, Batch 1900] Loss: 0.538 Accuracy: 0.805\n"
     ]
    },
    {
     "name": "stderr",
     "output_type": "stream",
     "text": [
      "/opt/conda/lib/python3.7/site-packages/torch/utils/data/dataloader.py:557: UserWarning: This DataLoader will create 4 worker processes in total. Our suggested max number of worker in current system is 2, which is smaller than what this DataLoader is going to create. Please be aware that excessive worker creation might get DataLoader running slow or even freeze, lower the worker number to avoid potential slowness/freeze if necessary.\n",
      "  cpuset_checked))\n"
     ]
    },
    {
     "name": "stdout",
     "output_type": "stream",
     "text": [
      "Epoch 107 Val Loss: 0.542154690587377 \t\t Val Accuracy: 0.8018720976034085\n"
     ]
    },
    {
     "name": "stderr",
     "output_type": "stream",
     "text": [
      "/opt/conda/lib/python3.7/site-packages/torch/utils/data/dataloader.py:557: UserWarning: This DataLoader will create 4 worker processes in total. Our suggested max number of worker in current system is 2, which is smaller than what this DataLoader is going to create. Please be aware that excessive worker creation might get DataLoader running slow or even freeze, lower the worker number to avoid potential slowness/freeze if necessary.\n",
      "  cpuset_checked))\n"
     ]
    },
    {
     "name": "stdout",
     "output_type": "stream",
     "text": [
      "[Epoch 108, Batch 100] Loss: 0.539 Accuracy: 0.805\n",
      "[Epoch 108, Batch 200] Loss: 0.543 Accuracy: 0.800\n",
      "[Epoch 108, Batch 300] Loss: 0.540 Accuracy: 0.802\n",
      "[Epoch 108, Batch 400] Loss: 0.542 Accuracy: 0.802\n",
      "[Epoch 108, Batch 500] Loss: 0.537 Accuracy: 0.806\n",
      "[Epoch 108, Batch 600] Loss: 0.543 Accuracy: 0.801\n",
      "[Epoch 108, Batch 700] Loss: 0.542 Accuracy: 0.802\n",
      "[Epoch 108, Batch 800] Loss: 0.543 Accuracy: 0.801\n",
      "[Epoch 108, Batch 900] Loss: 0.542 Accuracy: 0.801\n",
      "[Epoch 108, Batch 1000] Loss: 0.539 Accuracy: 0.803\n",
      "[Epoch 108, Batch 1100] Loss: 0.536 Accuracy: 0.807\n",
      "[Epoch 108, Batch 1200] Loss: 0.542 Accuracy: 0.801\n",
      "[Epoch 108, Batch 1300] Loss: 0.543 Accuracy: 0.801\n",
      "[Epoch 108, Batch 1400] Loss: 0.539 Accuracy: 0.805\n",
      "[Epoch 108, Batch 1500] Loss: 0.541 Accuracy: 0.802\n",
      "[Epoch 108, Batch 1600] Loss: 0.544 Accuracy: 0.800\n",
      "[Epoch 108, Batch 1700] Loss: 0.533 Accuracy: 0.810\n",
      "[Epoch 108, Batch 1800] Loss: 0.542 Accuracy: 0.802\n",
      "[Epoch 108, Batch 1900] Loss: 0.541 Accuracy: 0.803\n"
     ]
    },
    {
     "name": "stderr",
     "output_type": "stream",
     "text": [
      "/opt/conda/lib/python3.7/site-packages/torch/utils/data/dataloader.py:557: UserWarning: This DataLoader will create 4 worker processes in total. Our suggested max number of worker in current system is 2, which is smaller than what this DataLoader is going to create. Please be aware that excessive worker creation might get DataLoader running slow or even freeze, lower the worker number to avoid potential slowness/freeze if necessary.\n",
      "  cpuset_checked))\n"
     ]
    },
    {
     "name": "stdout",
     "output_type": "stream",
     "text": [
      "Epoch 108 Val Loss: 0.5432817199862147 \t\t Val Accuracy: 0.8005427621511445\n"
     ]
    },
    {
     "name": "stderr",
     "output_type": "stream",
     "text": [
      "/opt/conda/lib/python3.7/site-packages/torch/utils/data/dataloader.py:557: UserWarning: This DataLoader will create 4 worker processes in total. Our suggested max number of worker in current system is 2, which is smaller than what this DataLoader is going to create. Please be aware that excessive worker creation might get DataLoader running slow or even freeze, lower the worker number to avoid potential slowness/freeze if necessary.\n",
      "  cpuset_checked))\n"
     ]
    },
    {
     "name": "stdout",
     "output_type": "stream",
     "text": [
      "[Epoch 109, Batch 100] Loss: 0.537 Accuracy: 0.806\n",
      "[Epoch 109, Batch 200] Loss: 0.542 Accuracy: 0.801\n",
      "[Epoch 109, Batch 300] Loss: 0.542 Accuracy: 0.802\n",
      "[Epoch 109, Batch 400] Loss: 0.536 Accuracy: 0.807\n",
      "[Epoch 109, Batch 500] Loss: 0.544 Accuracy: 0.799\n",
      "[Epoch 109, Batch 600] Loss: 0.542 Accuracy: 0.801\n",
      "[Epoch 109, Batch 700] Loss: 0.540 Accuracy: 0.803\n",
      "[Epoch 109, Batch 800] Loss: 0.542 Accuracy: 0.802\n",
      "[Epoch 109, Batch 900] Loss: 0.542 Accuracy: 0.802\n",
      "[Epoch 109, Batch 1000] Loss: 0.538 Accuracy: 0.805\n",
      "[Epoch 109, Batch 1100] Loss: 0.537 Accuracy: 0.805\n",
      "[Epoch 109, Batch 1200] Loss: 0.537 Accuracy: 0.807\n",
      "[Epoch 109, Batch 1300] Loss: 0.547 Accuracy: 0.795\n",
      "[Epoch 109, Batch 1400] Loss: 0.544 Accuracy: 0.801\n",
      "[Epoch 109, Batch 1500] Loss: 0.545 Accuracy: 0.799\n",
      "[Epoch 109, Batch 1600] Loss: 0.542 Accuracy: 0.802\n",
      "[Epoch 109, Batch 1700] Loss: 0.536 Accuracy: 0.808\n",
      "[Epoch 109, Batch 1800] Loss: 0.540 Accuracy: 0.803\n",
      "[Epoch 109, Batch 1900] Loss: 0.542 Accuracy: 0.801\n"
     ]
    },
    {
     "name": "stderr",
     "output_type": "stream",
     "text": [
      "/opt/conda/lib/python3.7/site-packages/torch/utils/data/dataloader.py:557: UserWarning: This DataLoader will create 4 worker processes in total. Our suggested max number of worker in current system is 2, which is smaller than what this DataLoader is going to create. Please be aware that excessive worker creation might get DataLoader running slow or even freeze, lower the worker number to avoid potential slowness/freeze if necessary.\n",
      "  cpuset_checked))\n"
     ]
    },
    {
     "name": "stdout",
     "output_type": "stream",
     "text": [
      "Epoch 109 Val Loss: 0.5443517367045084 \t\t Val Accuracy: 0.7995651162809224\n"
     ]
    },
    {
     "name": "stderr",
     "output_type": "stream",
     "text": [
      "/opt/conda/lib/python3.7/site-packages/torch/utils/data/dataloader.py:557: UserWarning: This DataLoader will create 4 worker processes in total. Our suggested max number of worker in current system is 2, which is smaller than what this DataLoader is going to create. Please be aware that excessive worker creation might get DataLoader running slow or even freeze, lower the worker number to avoid potential slowness/freeze if necessary.\n",
      "  cpuset_checked))\n"
     ]
    },
    {
     "name": "stdout",
     "output_type": "stream",
     "text": [
      "[Epoch 110, Batch 100] Loss: 0.540 Accuracy: 0.804\n",
      "[Epoch 110, Batch 200] Loss: 0.540 Accuracy: 0.804\n",
      "[Epoch 110, Batch 300] Loss: 0.543 Accuracy: 0.800\n",
      "[Epoch 110, Batch 400] Loss: 0.541 Accuracy: 0.803\n",
      "[Epoch 110, Batch 500] Loss: 0.537 Accuracy: 0.807\n",
      "[Epoch 110, Batch 600] Loss: 0.549 Accuracy: 0.795\n",
      "[Epoch 110, Batch 700] Loss: 0.544 Accuracy: 0.798\n",
      "[Epoch 110, Batch 800] Loss: 0.539 Accuracy: 0.804\n",
      "[Epoch 110, Batch 900] Loss: 0.546 Accuracy: 0.798\n",
      "[Epoch 110, Batch 1000] Loss: 0.540 Accuracy: 0.803\n",
      "[Epoch 110, Batch 1100] Loss: 0.543 Accuracy: 0.801\n",
      "[Epoch 110, Batch 1200] Loss: 0.543 Accuracy: 0.800\n",
      "[Epoch 110, Batch 1300] Loss: 0.544 Accuracy: 0.800\n",
      "[Epoch 110, Batch 1400] Loss: 0.534 Accuracy: 0.809\n",
      "[Epoch 110, Batch 1500] Loss: 0.539 Accuracy: 0.804\n",
      "[Epoch 110, Batch 1600] Loss: 0.546 Accuracy: 0.798\n",
      "[Epoch 110, Batch 1700] Loss: 0.540 Accuracy: 0.803\n",
      "[Epoch 110, Batch 1800] Loss: 0.534 Accuracy: 0.809\n",
      "[Epoch 110, Batch 1900] Loss: 0.539 Accuracy: 0.804\n"
     ]
    },
    {
     "name": "stderr",
     "output_type": "stream",
     "text": [
      "/opt/conda/lib/python3.7/site-packages/torch/utils/data/dataloader.py:557: UserWarning: This DataLoader will create 4 worker processes in total. Our suggested max number of worker in current system is 2, which is smaller than what this DataLoader is going to create. Please be aware that excessive worker creation might get DataLoader running slow or even freeze, lower the worker number to avoid potential slowness/freeze if necessary.\n",
      "  cpuset_checked))\n"
     ]
    },
    {
     "name": "stdout",
     "output_type": "stream",
     "text": [
      "Epoch 110 Val Loss: 0.5469702655771171 \t\t Val Accuracy: 0.7990077231298657\n"
     ]
    },
    {
     "name": "stderr",
     "output_type": "stream",
     "text": [
      "/opt/conda/lib/python3.7/site-packages/torch/utils/data/dataloader.py:557: UserWarning: This DataLoader will create 4 worker processes in total. Our suggested max number of worker in current system is 2, which is smaller than what this DataLoader is going to create. Please be aware that excessive worker creation might get DataLoader running slow or even freeze, lower the worker number to avoid potential slowness/freeze if necessary.\n",
      "  cpuset_checked))\n"
     ]
    },
    {
     "name": "stdout",
     "output_type": "stream",
     "text": [
      "[Epoch 111, Batch 100] Loss: 0.538 Accuracy: 0.805\n",
      "[Epoch 111, Batch 200] Loss: 0.544 Accuracy: 0.800\n",
      "[Epoch 111, Batch 300] Loss: 0.541 Accuracy: 0.804\n",
      "[Epoch 111, Batch 400] Loss: 0.537 Accuracy: 0.806\n",
      "[Epoch 111, Batch 500] Loss: 0.541 Accuracy: 0.803\n",
      "[Epoch 111, Batch 600] Loss: 0.541 Accuracy: 0.802\n",
      "[Epoch 111, Batch 700] Loss: 0.541 Accuracy: 0.802\n",
      "[Epoch 111, Batch 800] Loss: 0.543 Accuracy: 0.801\n",
      "[Epoch 111, Batch 900] Loss: 0.545 Accuracy: 0.799\n",
      "[Epoch 111, Batch 1000] Loss: 0.535 Accuracy: 0.809\n",
      "[Epoch 111, Batch 1100] Loss: 0.544 Accuracy: 0.800\n",
      "[Epoch 111, Batch 1200] Loss: 0.537 Accuracy: 0.807\n",
      "[Epoch 111, Batch 1300] Loss: 0.546 Accuracy: 0.797\n",
      "[Epoch 111, Batch 1400] Loss: 0.541 Accuracy: 0.802\n",
      "[Epoch 111, Batch 1500] Loss: 0.544 Accuracy: 0.801\n",
      "[Epoch 111, Batch 1600] Loss: 0.541 Accuracy: 0.803\n",
      "[Epoch 111, Batch 1700] Loss: 0.538 Accuracy: 0.805\n",
      "[Epoch 111, Batch 1800] Loss: 0.542 Accuracy: 0.802\n",
      "[Epoch 111, Batch 1900] Loss: 0.538 Accuracy: 0.805\n"
     ]
    },
    {
     "name": "stderr",
     "output_type": "stream",
     "text": [
      "/opt/conda/lib/python3.7/site-packages/torch/utils/data/dataloader.py:557: UserWarning: This DataLoader will create 4 worker processes in total. Our suggested max number of worker in current system is 2, which is smaller than what this DataLoader is going to create. Please be aware that excessive worker creation might get DataLoader running slow or even freeze, lower the worker number to avoid potential slowness/freeze if necessary.\n",
      "  cpuset_checked))\n"
     ]
    },
    {
     "name": "stdout",
     "output_type": "stream",
     "text": [
      "Epoch 111 Val Loss: 0.5402405056129976 \t\t Val Accuracy: 0.802626082194513\n",
      "Validation Loss Decreased(134.748715--->134.519886) \t Saving The Model\n"
     ]
    },
    {
     "name": "stderr",
     "output_type": "stream",
     "text": [
      "/opt/conda/lib/python3.7/site-packages/torch/utils/data/dataloader.py:557: UserWarning: This DataLoader will create 4 worker processes in total. Our suggested max number of worker in current system is 2, which is smaller than what this DataLoader is going to create. Please be aware that excessive worker creation might get DataLoader running slow or even freeze, lower the worker number to avoid potential slowness/freeze if necessary.\n",
      "  cpuset_checked))\n"
     ]
    },
    {
     "name": "stdout",
     "output_type": "stream",
     "text": [
      "[Epoch 112, Batch 100] Loss: 0.539 Accuracy: 0.804\n",
      "[Epoch 112, Batch 200] Loss: 0.545 Accuracy: 0.799\n",
      "[Epoch 112, Batch 300] Loss: 0.545 Accuracy: 0.798\n",
      "[Epoch 112, Batch 400] Loss: 0.538 Accuracy: 0.805\n",
      "[Epoch 112, Batch 500] Loss: 0.541 Accuracy: 0.802\n",
      "[Epoch 112, Batch 600] Loss: 0.545 Accuracy: 0.799\n",
      "[Epoch 112, Batch 700] Loss: 0.547 Accuracy: 0.797\n",
      "[Epoch 112, Batch 800] Loss: 0.544 Accuracy: 0.799\n",
      "[Epoch 112, Batch 900] Loss: 0.542 Accuracy: 0.802\n",
      "[Epoch 112, Batch 1000] Loss: 0.545 Accuracy: 0.799\n",
      "[Epoch 112, Batch 1100] Loss: 0.542 Accuracy: 0.802\n",
      "[Epoch 112, Batch 1200] Loss: 0.541 Accuracy: 0.803\n",
      "[Epoch 112, Batch 1300] Loss: 0.535 Accuracy: 0.808\n",
      "[Epoch 112, Batch 1400] Loss: 0.535 Accuracy: 0.809\n",
      "[Epoch 112, Batch 1500] Loss: 0.539 Accuracy: 0.805\n",
      "[Epoch 112, Batch 1600] Loss: 0.542 Accuracy: 0.803\n",
      "[Epoch 112, Batch 1700] Loss: 0.538 Accuracy: 0.805\n",
      "[Epoch 112, Batch 1800] Loss: 0.534 Accuracy: 0.808\n",
      "[Epoch 112, Batch 1900] Loss: 0.546 Accuracy: 0.799\n"
     ]
    },
    {
     "name": "stderr",
     "output_type": "stream",
     "text": [
      "/opt/conda/lib/python3.7/site-packages/torch/utils/data/dataloader.py:557: UserWarning: This DataLoader will create 4 worker processes in total. Our suggested max number of worker in current system is 2, which is smaller than what this DataLoader is going to create. Please be aware that excessive worker creation might get DataLoader running slow or even freeze, lower the worker number to avoid potential slowness/freeze if necessary.\n",
      "  cpuset_checked))\n"
     ]
    },
    {
     "name": "stdout",
     "output_type": "stream",
     "text": [
      "Epoch 112 Val Loss: 0.546129481380723 \t\t Val Accuracy: 0.7989638555559314\n"
     ]
    },
    {
     "name": "stderr",
     "output_type": "stream",
     "text": [
      "/opt/conda/lib/python3.7/site-packages/torch/utils/data/dataloader.py:557: UserWarning: This DataLoader will create 4 worker processes in total. Our suggested max number of worker in current system is 2, which is smaller than what this DataLoader is going to create. Please be aware that excessive worker creation might get DataLoader running slow or even freeze, lower the worker number to avoid potential slowness/freeze if necessary.\n",
      "  cpuset_checked))\n"
     ]
    },
    {
     "name": "stdout",
     "output_type": "stream",
     "text": [
      "[Epoch 113, Batch 100] Loss: 0.540 Accuracy: 0.803\n",
      "[Epoch 113, Batch 200] Loss: 0.534 Accuracy: 0.808\n",
      "[Epoch 113, Batch 300] Loss: 0.544 Accuracy: 0.800\n",
      "[Epoch 113, Batch 400] Loss: 0.544 Accuracy: 0.799\n",
      "[Epoch 113, Batch 500] Loss: 0.540 Accuracy: 0.804\n",
      "[Epoch 113, Batch 600] Loss: 0.539 Accuracy: 0.805\n",
      "[Epoch 113, Batch 700] Loss: 0.542 Accuracy: 0.801\n",
      "[Epoch 113, Batch 800] Loss: 0.540 Accuracy: 0.803\n",
      "[Epoch 113, Batch 900] Loss: 0.545 Accuracy: 0.799\n",
      "[Epoch 113, Batch 1000] Loss: 0.538 Accuracy: 0.806\n",
      "[Epoch 113, Batch 1100] Loss: 0.535 Accuracy: 0.807\n",
      "[Epoch 113, Batch 1200] Loss: 0.540 Accuracy: 0.802\n",
      "[Epoch 113, Batch 1300] Loss: 0.544 Accuracy: 0.799\n",
      "[Epoch 113, Batch 1400] Loss: 0.544 Accuracy: 0.800\n",
      "[Epoch 113, Batch 1500] Loss: 0.539 Accuracy: 0.805\n",
      "[Epoch 113, Batch 1600] Loss: 0.544 Accuracy: 0.801\n",
      "[Epoch 113, Batch 1700] Loss: 0.541 Accuracy: 0.802\n",
      "[Epoch 113, Batch 1800] Loss: 0.535 Accuracy: 0.808\n",
      "[Epoch 113, Batch 1900] Loss: 0.535 Accuracy: 0.808\n"
     ]
    },
    {
     "name": "stderr",
     "output_type": "stream",
     "text": [
      "/opt/conda/lib/python3.7/site-packages/torch/utils/data/dataloader.py:557: UserWarning: This DataLoader will create 4 worker processes in total. Our suggested max number of worker in current system is 2, which is smaller than what this DataLoader is going to create. Please be aware that excessive worker creation might get DataLoader running slow or even freeze, lower the worker number to avoid potential slowness/freeze if necessary.\n",
      "  cpuset_checked))\n"
     ]
    },
    {
     "name": "stdout",
     "output_type": "stream",
     "text": [
      "Epoch 113 Val Loss: 0.5421742641303434 \t\t Val Accuracy: 0.8018296014013923\n"
     ]
    },
    {
     "name": "stderr",
     "output_type": "stream",
     "text": [
      "/opt/conda/lib/python3.7/site-packages/torch/utils/data/dataloader.py:557: UserWarning: This DataLoader will create 4 worker processes in total. Our suggested max number of worker in current system is 2, which is smaller than what this DataLoader is going to create. Please be aware that excessive worker creation might get DataLoader running slow or even freeze, lower the worker number to avoid potential slowness/freeze if necessary.\n",
      "  cpuset_checked))\n"
     ]
    },
    {
     "name": "stdout",
     "output_type": "stream",
     "text": [
      "[Epoch 114, Batch 100] Loss: 0.544 Accuracy: 0.801\n",
      "[Epoch 114, Batch 200] Loss: 0.533 Accuracy: 0.809\n",
      "[Epoch 114, Batch 300] Loss: 0.539 Accuracy: 0.805\n",
      "[Epoch 114, Batch 400] Loss: 0.538 Accuracy: 0.806\n",
      "[Epoch 114, Batch 500] Loss: 0.538 Accuracy: 0.804\n",
      "[Epoch 114, Batch 600] Loss: 0.533 Accuracy: 0.809\n",
      "[Epoch 114, Batch 700] Loss: 0.544 Accuracy: 0.800\n",
      "[Epoch 114, Batch 800] Loss: 0.541 Accuracy: 0.802\n",
      "[Epoch 114, Batch 900] Loss: 0.539 Accuracy: 0.805\n",
      "[Epoch 114, Batch 1000] Loss: 0.547 Accuracy: 0.797\n",
      "[Epoch 114, Batch 1100] Loss: 0.542 Accuracy: 0.802\n",
      "[Epoch 114, Batch 1200] Loss: 0.540 Accuracy: 0.804\n",
      "[Epoch 114, Batch 1300] Loss: 0.544 Accuracy: 0.799\n",
      "[Epoch 114, Batch 1400] Loss: 0.536 Accuracy: 0.808\n",
      "[Epoch 114, Batch 1500] Loss: 0.541 Accuracy: 0.802\n",
      "[Epoch 114, Batch 1600] Loss: 0.544 Accuracy: 0.800\n",
      "[Epoch 114, Batch 1700] Loss: 0.540 Accuracy: 0.804\n",
      "[Epoch 114, Batch 1800] Loss: 0.548 Accuracy: 0.795\n",
      "[Epoch 114, Batch 1900] Loss: 0.537 Accuracy: 0.807\n"
     ]
    },
    {
     "name": "stderr",
     "output_type": "stream",
     "text": [
      "/opt/conda/lib/python3.7/site-packages/torch/utils/data/dataloader.py:557: UserWarning: This DataLoader will create 4 worker processes in total. Our suggested max number of worker in current system is 2, which is smaller than what this DataLoader is going to create. Please be aware that excessive worker creation might get DataLoader running slow or even freeze, lower the worker number to avoid potential slowness/freeze if necessary.\n",
      "  cpuset_checked))\n"
     ]
    },
    {
     "name": "stdout",
     "output_type": "stream",
     "text": [
      "Epoch 114 Val Loss: 0.5449271235600054 \t\t Val Accuracy: 0.8010940897226955\n"
     ]
    },
    {
     "name": "stderr",
     "output_type": "stream",
     "text": [
      "/opt/conda/lib/python3.7/site-packages/torch/utils/data/dataloader.py:557: UserWarning: This DataLoader will create 4 worker processes in total. Our suggested max number of worker in current system is 2, which is smaller than what this DataLoader is going to create. Please be aware that excessive worker creation might get DataLoader running slow or even freeze, lower the worker number to avoid potential slowness/freeze if necessary.\n",
      "  cpuset_checked))\n"
     ]
    },
    {
     "name": "stdout",
     "output_type": "stream",
     "text": [
      "[Epoch 115, Batch 100] Loss: 0.544 Accuracy: 0.800\n",
      "[Epoch 115, Batch 200] Loss: 0.536 Accuracy: 0.807\n",
      "[Epoch 115, Batch 300] Loss: 0.532 Accuracy: 0.810\n",
      "[Epoch 115, Batch 400] Loss: 0.541 Accuracy: 0.803\n",
      "[Epoch 115, Batch 500] Loss: 0.544 Accuracy: 0.801\n",
      "[Epoch 115, Batch 600] Loss: 0.540 Accuracy: 0.804\n",
      "[Epoch 115, Batch 700] Loss: 0.540 Accuracy: 0.804\n",
      "[Epoch 115, Batch 800] Loss: 0.540 Accuracy: 0.803\n",
      "[Epoch 115, Batch 900] Loss: 0.536 Accuracy: 0.807\n",
      "[Epoch 115, Batch 1000] Loss: 0.538 Accuracy: 0.806\n",
      "[Epoch 115, Batch 1100] Loss: 0.544 Accuracy: 0.800\n",
      "[Epoch 115, Batch 1200] Loss: 0.541 Accuracy: 0.802\n",
      "[Epoch 115, Batch 1300] Loss: 0.539 Accuracy: 0.804\n",
      "[Epoch 115, Batch 1400] Loss: 0.538 Accuracy: 0.804\n",
      "[Epoch 115, Batch 1500] Loss: 0.545 Accuracy: 0.799\n",
      "[Epoch 115, Batch 1600] Loss: 0.537 Accuracy: 0.807\n",
      "[Epoch 115, Batch 1700] Loss: 0.542 Accuracy: 0.802\n",
      "[Epoch 115, Batch 1800] Loss: 0.538 Accuracy: 0.804\n",
      "[Epoch 115, Batch 1900] Loss: 0.543 Accuracy: 0.801\n"
     ]
    },
    {
     "name": "stderr",
     "output_type": "stream",
     "text": [
      "/opt/conda/lib/python3.7/site-packages/torch/utils/data/dataloader.py:557: UserWarning: This DataLoader will create 4 worker processes in total. Our suggested max number of worker in current system is 2, which is smaller than what this DataLoader is going to create. Please be aware that excessive worker creation might get DataLoader running slow or even freeze, lower the worker number to avoid potential slowness/freeze if necessary.\n",
      "  cpuset_checked))\n"
     ]
    },
    {
     "name": "stdout",
     "output_type": "stream",
     "text": [
      "Epoch 115 Val Loss: 0.5495385570698473 \t\t Val Accuracy: 0.7994869592903654\n"
     ]
    },
    {
     "name": "stderr",
     "output_type": "stream",
     "text": [
      "/opt/conda/lib/python3.7/site-packages/torch/utils/data/dataloader.py:557: UserWarning: This DataLoader will create 4 worker processes in total. Our suggested max number of worker in current system is 2, which is smaller than what this DataLoader is going to create. Please be aware that excessive worker creation might get DataLoader running slow or even freeze, lower the worker number to avoid potential slowness/freeze if necessary.\n",
      "  cpuset_checked))\n"
     ]
    },
    {
     "name": "stdout",
     "output_type": "stream",
     "text": [
      "[Epoch 116, Batch 100] Loss: 0.533 Accuracy: 0.809\n",
      "[Epoch 116, Batch 200] Loss: 0.544 Accuracy: 0.799\n",
      "[Epoch 116, Batch 300] Loss: 0.540 Accuracy: 0.803\n",
      "[Epoch 116, Batch 400] Loss: 0.532 Accuracy: 0.811\n",
      "[Epoch 116, Batch 500] Loss: 0.543 Accuracy: 0.801\n",
      "[Epoch 116, Batch 600] Loss: 0.544 Accuracy: 0.800\n",
      "[Epoch 116, Batch 700] Loss: 0.538 Accuracy: 0.805\n",
      "[Epoch 116, Batch 800] Loss: 0.534 Accuracy: 0.808\n",
      "[Epoch 116, Batch 900] Loss: 0.540 Accuracy: 0.803\n",
      "[Epoch 116, Batch 1000] Loss: 0.551 Accuracy: 0.792\n",
      "[Epoch 116, Batch 1100] Loss: 0.539 Accuracy: 0.804\n",
      "[Epoch 116, Batch 1200] Loss: 0.541 Accuracy: 0.803\n",
      "[Epoch 116, Batch 1300] Loss: 0.537 Accuracy: 0.806\n",
      "[Epoch 116, Batch 1400] Loss: 0.544 Accuracy: 0.800\n",
      "[Epoch 116, Batch 1500] Loss: 0.538 Accuracy: 0.805\n",
      "[Epoch 116, Batch 1600] Loss: 0.540 Accuracy: 0.804\n",
      "[Epoch 116, Batch 1700] Loss: 0.541 Accuracy: 0.803\n",
      "[Epoch 116, Batch 1800] Loss: 0.534 Accuracy: 0.808\n",
      "[Epoch 116, Batch 1900] Loss: 0.534 Accuracy: 0.808\n"
     ]
    },
    {
     "name": "stderr",
     "output_type": "stream",
     "text": [
      "/opt/conda/lib/python3.7/site-packages/torch/utils/data/dataloader.py:557: UserWarning: This DataLoader will create 4 worker processes in total. Our suggested max number of worker in current system is 2, which is smaller than what this DataLoader is going to create. Please be aware that excessive worker creation might get DataLoader running slow or even freeze, lower the worker number to avoid potential slowness/freeze if necessary.\n",
      "  cpuset_checked))\n"
     ]
    },
    {
     "name": "stdout",
     "output_type": "stream",
     "text": [
      "Epoch 116 Val Loss: 0.5417875596079003 \t\t Val Accuracy: 0.8011519848904618\n"
     ]
    },
    {
     "name": "stderr",
     "output_type": "stream",
     "text": [
      "/opt/conda/lib/python3.7/site-packages/torch/utils/data/dataloader.py:557: UserWarning: This DataLoader will create 4 worker processes in total. Our suggested max number of worker in current system is 2, which is smaller than what this DataLoader is going to create. Please be aware that excessive worker creation might get DataLoader running slow or even freeze, lower the worker number to avoid potential slowness/freeze if necessary.\n",
      "  cpuset_checked))\n"
     ]
    },
    {
     "name": "stdout",
     "output_type": "stream",
     "text": [
      "[Epoch 117, Batch 100] Loss: 0.542 Accuracy: 0.802\n",
      "[Epoch 117, Batch 200] Loss: 0.541 Accuracy: 0.803\n",
      "[Epoch 117, Batch 300] Loss: 0.541 Accuracy: 0.802\n",
      "[Epoch 117, Batch 400] Loss: 0.543 Accuracy: 0.801\n",
      "[Epoch 117, Batch 500] Loss: 0.540 Accuracy: 0.803\n",
      "[Epoch 117, Batch 600] Loss: 0.542 Accuracy: 0.801\n",
      "[Epoch 117, Batch 700] Loss: 0.536 Accuracy: 0.807\n",
      "[Epoch 117, Batch 800] Loss: 0.536 Accuracy: 0.807\n",
      "[Epoch 117, Batch 900] Loss: 0.545 Accuracy: 0.798\n",
      "[Epoch 117, Batch 1000] Loss: 0.533 Accuracy: 0.809\n",
      "[Epoch 117, Batch 1100] Loss: 0.538 Accuracy: 0.805\n",
      "[Epoch 117, Batch 1200] Loss: 0.538 Accuracy: 0.805\n",
      "[Epoch 117, Batch 1300] Loss: 0.538 Accuracy: 0.806\n",
      "[Epoch 117, Batch 1400] Loss: 0.538 Accuracy: 0.805\n",
      "[Epoch 117, Batch 1500] Loss: 0.533 Accuracy: 0.809\n",
      "[Epoch 117, Batch 1600] Loss: 0.538 Accuracy: 0.806\n",
      "[Epoch 117, Batch 1700] Loss: 0.543 Accuracy: 0.801\n",
      "[Epoch 117, Batch 1800] Loss: 0.540 Accuracy: 0.803\n",
      "[Epoch 117, Batch 1900] Loss: 0.540 Accuracy: 0.803\n"
     ]
    },
    {
     "name": "stderr",
     "output_type": "stream",
     "text": [
      "/opt/conda/lib/python3.7/site-packages/torch/utils/data/dataloader.py:557: UserWarning: This DataLoader will create 4 worker processes in total. Our suggested max number of worker in current system is 2, which is smaller than what this DataLoader is going to create. Please be aware that excessive worker creation might get DataLoader running slow or even freeze, lower the worker number to avoid potential slowness/freeze if necessary.\n",
      "  cpuset_checked))\n"
     ]
    },
    {
     "name": "stdout",
     "output_type": "stream",
     "text": [
      "Epoch 117 Val Loss: 0.5412743099961415 \t\t Val Accuracy: 0.8016429639453081\n"
     ]
    },
    {
     "name": "stderr",
     "output_type": "stream",
     "text": [
      "/opt/conda/lib/python3.7/site-packages/torch/utils/data/dataloader.py:557: UserWarning: This DataLoader will create 4 worker processes in total. Our suggested max number of worker in current system is 2, which is smaller than what this DataLoader is going to create. Please be aware that excessive worker creation might get DataLoader running slow or even freeze, lower the worker number to avoid potential slowness/freeze if necessary.\n",
      "  cpuset_checked))\n"
     ]
    },
    {
     "name": "stdout",
     "output_type": "stream",
     "text": [
      "[Epoch 118, Batch 100] Loss: 0.534 Accuracy: 0.810\n",
      "[Epoch 118, Batch 200] Loss: 0.537 Accuracy: 0.806\n",
      "[Epoch 118, Batch 300] Loss: 0.545 Accuracy: 0.800\n",
      "[Epoch 118, Batch 400] Loss: 0.540 Accuracy: 0.804\n",
      "[Epoch 118, Batch 500] Loss: 0.538 Accuracy: 0.805\n",
      "[Epoch 118, Batch 600] Loss: 0.535 Accuracy: 0.807\n",
      "[Epoch 118, Batch 700] Loss: 0.543 Accuracy: 0.801\n",
      "[Epoch 118, Batch 800] Loss: 0.541 Accuracy: 0.802\n",
      "[Epoch 118, Batch 900] Loss: 0.539 Accuracy: 0.804\n",
      "[Epoch 118, Batch 1000] Loss: 0.539 Accuracy: 0.803\n",
      "[Epoch 118, Batch 1100] Loss: 0.539 Accuracy: 0.805\n",
      "[Epoch 118, Batch 1200] Loss: 0.534 Accuracy: 0.808\n",
      "[Epoch 118, Batch 1300] Loss: 0.546 Accuracy: 0.798\n",
      "[Epoch 118, Batch 1400] Loss: 0.536 Accuracy: 0.807\n",
      "[Epoch 118, Batch 1500] Loss: 0.532 Accuracy: 0.809\n",
      "[Epoch 118, Batch 1600] Loss: 0.550 Accuracy: 0.796\n",
      "[Epoch 118, Batch 1700] Loss: 0.546 Accuracy: 0.799\n",
      "[Epoch 118, Batch 1800] Loss: 0.536 Accuracy: 0.807\n",
      "[Epoch 118, Batch 1900] Loss: 0.545 Accuracy: 0.799\n"
     ]
    },
    {
     "name": "stderr",
     "output_type": "stream",
     "text": [
      "/opt/conda/lib/python3.7/site-packages/torch/utils/data/dataloader.py:557: UserWarning: This DataLoader will create 4 worker processes in total. Our suggested max number of worker in current system is 2, which is smaller than what this DataLoader is going to create. Please be aware that excessive worker creation might get DataLoader running slow or even freeze, lower the worker number to avoid potential slowness/freeze if necessary.\n",
      "  cpuset_checked))\n"
     ]
    },
    {
     "name": "stdout",
     "output_type": "stream",
     "text": [
      "Epoch 118 Val Loss: 0.5394866106261211 \t\t Val Accuracy: 0.8037860838622908\n",
      "Validation Loss Decreased(134.519886--->134.332166) \t Saving The Model\n"
     ]
    },
    {
     "name": "stderr",
     "output_type": "stream",
     "text": [
      "/opt/conda/lib/python3.7/site-packages/torch/utils/data/dataloader.py:557: UserWarning: This DataLoader will create 4 worker processes in total. Our suggested max number of worker in current system is 2, which is smaller than what this DataLoader is going to create. Please be aware that excessive worker creation might get DataLoader running slow or even freeze, lower the worker number to avoid potential slowness/freeze if necessary.\n",
      "  cpuset_checked))\n"
     ]
    },
    {
     "name": "stdout",
     "output_type": "stream",
     "text": [
      "[Epoch 119, Batch 100] Loss: 0.534 Accuracy: 0.809\n",
      "[Epoch 119, Batch 200] Loss: 0.538 Accuracy: 0.805\n",
      "[Epoch 119, Batch 300] Loss: 0.541 Accuracy: 0.802\n",
      "[Epoch 119, Batch 400] Loss: 0.544 Accuracy: 0.799\n",
      "[Epoch 119, Batch 500] Loss: 0.536 Accuracy: 0.807\n",
      "[Epoch 119, Batch 600] Loss: 0.537 Accuracy: 0.806\n",
      "[Epoch 119, Batch 700] Loss: 0.539 Accuracy: 0.805\n",
      "[Epoch 119, Batch 800] Loss: 0.542 Accuracy: 0.801\n",
      "[Epoch 119, Batch 900] Loss: 0.538 Accuracy: 0.805\n",
      "[Epoch 119, Batch 1000] Loss: 0.537 Accuracy: 0.807\n",
      "[Epoch 119, Batch 1100] Loss: 0.535 Accuracy: 0.808\n",
      "[Epoch 119, Batch 1200] Loss: 0.543 Accuracy: 0.801\n",
      "[Epoch 119, Batch 1300] Loss: 0.540 Accuracy: 0.803\n",
      "[Epoch 119, Batch 1400] Loss: 0.537 Accuracy: 0.805\n",
      "[Epoch 119, Batch 1500] Loss: 0.540 Accuracy: 0.804\n",
      "[Epoch 119, Batch 1600] Loss: 0.537 Accuracy: 0.807\n",
      "[Epoch 119, Batch 1700] Loss: 0.540 Accuracy: 0.803\n",
      "[Epoch 119, Batch 1800] Loss: 0.543 Accuracy: 0.800\n",
      "[Epoch 119, Batch 1900] Loss: 0.540 Accuracy: 0.803\n"
     ]
    },
    {
     "name": "stderr",
     "output_type": "stream",
     "text": [
      "/opt/conda/lib/python3.7/site-packages/torch/utils/data/dataloader.py:557: UserWarning: This DataLoader will create 4 worker processes in total. Our suggested max number of worker in current system is 2, which is smaller than what this DataLoader is going to create. Please be aware that excessive worker creation might get DataLoader running slow or even freeze, lower the worker number to avoid potential slowness/freeze if necessary.\n",
      "  cpuset_checked))\n"
     ]
    },
    {
     "name": "stdout",
     "output_type": "stream",
     "text": [
      "Epoch 119 Val Loss: 0.543455800497867 \t\t Val Accuracy: 0.7999614701470306\n"
     ]
    },
    {
     "name": "stderr",
     "output_type": "stream",
     "text": [
      "/opt/conda/lib/python3.7/site-packages/torch/utils/data/dataloader.py:557: UserWarning: This DataLoader will create 4 worker processes in total. Our suggested max number of worker in current system is 2, which is smaller than what this DataLoader is going to create. Please be aware that excessive worker creation might get DataLoader running slow or even freeze, lower the worker number to avoid potential slowness/freeze if necessary.\n",
      "  cpuset_checked))\n"
     ]
    },
    {
     "name": "stdout",
     "output_type": "stream",
     "text": [
      "[Epoch 120, Batch 100] Loss: 0.537 Accuracy: 0.805\n",
      "[Epoch 120, Batch 200] Loss: 0.542 Accuracy: 0.801\n",
      "[Epoch 120, Batch 300] Loss: 0.540 Accuracy: 0.804\n",
      "[Epoch 120, Batch 400] Loss: 0.533 Accuracy: 0.810\n",
      "[Epoch 120, Batch 500] Loss: 0.543 Accuracy: 0.800\n",
      "[Epoch 120, Batch 600] Loss: 0.537 Accuracy: 0.806\n",
      "[Epoch 120, Batch 700] Loss: 0.537 Accuracy: 0.806\n",
      "[Epoch 120, Batch 800] Loss: 0.536 Accuracy: 0.807\n",
      "[Epoch 120, Batch 900] Loss: 0.544 Accuracy: 0.801\n",
      "[Epoch 120, Batch 1000] Loss: 0.542 Accuracy: 0.802\n",
      "[Epoch 120, Batch 1100] Loss: 0.541 Accuracy: 0.803\n",
      "[Epoch 120, Batch 1200] Loss: 0.540 Accuracy: 0.803\n",
      "[Epoch 120, Batch 1300] Loss: 0.539 Accuracy: 0.805\n",
      "[Epoch 120, Batch 1400] Loss: 0.538 Accuracy: 0.805\n",
      "[Epoch 120, Batch 1500] Loss: 0.538 Accuracy: 0.805\n",
      "[Epoch 120, Batch 1600] Loss: 0.543 Accuracy: 0.801\n",
      "[Epoch 120, Batch 1700] Loss: 0.536 Accuracy: 0.806\n",
      "[Epoch 120, Batch 1800] Loss: 0.541 Accuracy: 0.802\n",
      "[Epoch 120, Batch 1900] Loss: 0.538 Accuracy: 0.805\n"
     ]
    },
    {
     "name": "stderr",
     "output_type": "stream",
     "text": [
      "/opt/conda/lib/python3.7/site-packages/torch/utils/data/dataloader.py:557: UserWarning: This DataLoader will create 4 worker processes in total. Our suggested max number of worker in current system is 2, which is smaller than what this DataLoader is going to create. Please be aware that excessive worker creation might get DataLoader running slow or even freeze, lower the worker number to avoid potential slowness/freeze if necessary.\n",
      "  cpuset_checked))\n"
     ]
    },
    {
     "name": "stdout",
     "output_type": "stream",
     "text": [
      "Epoch 120 Val Loss: 0.5422008275746342 \t\t Val Accuracy: 0.8017353972188207\n"
     ]
    },
    {
     "name": "stderr",
     "output_type": "stream",
     "text": [
      "/opt/conda/lib/python3.7/site-packages/torch/utils/data/dataloader.py:557: UserWarning: This DataLoader will create 4 worker processes in total. Our suggested max number of worker in current system is 2, which is smaller than what this DataLoader is going to create. Please be aware that excessive worker creation might get DataLoader running slow or even freeze, lower the worker number to avoid potential slowness/freeze if necessary.\n",
      "  cpuset_checked))\n"
     ]
    },
    {
     "name": "stdout",
     "output_type": "stream",
     "text": [
      "[Epoch 121, Batch 100] Loss: 0.539 Accuracy: 0.803\n",
      "[Epoch 121, Batch 200] Loss: 0.542 Accuracy: 0.801\n",
      "[Epoch 121, Batch 300] Loss: 0.538 Accuracy: 0.805\n",
      "[Epoch 121, Batch 400] Loss: 0.536 Accuracy: 0.807\n",
      "[Epoch 121, Batch 500] Loss: 0.536 Accuracy: 0.807\n",
      "[Epoch 121, Batch 600] Loss: 0.539 Accuracy: 0.805\n",
      "[Epoch 121, Batch 700] Loss: 0.540 Accuracy: 0.803\n",
      "[Epoch 121, Batch 800] Loss: 0.540 Accuracy: 0.804\n",
      "[Epoch 121, Batch 900] Loss: 0.541 Accuracy: 0.802\n",
      "[Epoch 121, Batch 1000] Loss: 0.547 Accuracy: 0.798\n",
      "[Epoch 121, Batch 1100] Loss: 0.536 Accuracy: 0.806\n",
      "[Epoch 121, Batch 1200] Loss: 0.537 Accuracy: 0.806\n",
      "[Epoch 121, Batch 1300] Loss: 0.537 Accuracy: 0.805\n",
      "[Epoch 121, Batch 1400] Loss: 0.536 Accuracy: 0.807\n",
      "[Epoch 121, Batch 1500] Loss: 0.537 Accuracy: 0.806\n",
      "[Epoch 121, Batch 1600] Loss: 0.540 Accuracy: 0.804\n",
      "[Epoch 121, Batch 1700] Loss: 0.536 Accuracy: 0.807\n",
      "[Epoch 121, Batch 1800] Loss: 0.544 Accuracy: 0.799\n",
      "[Epoch 121, Batch 1900] Loss: 0.543 Accuracy: 0.800\n"
     ]
    },
    {
     "name": "stderr",
     "output_type": "stream",
     "text": [
      "/opt/conda/lib/python3.7/site-packages/torch/utils/data/dataloader.py:557: UserWarning: This DataLoader will create 4 worker processes in total. Our suggested max number of worker in current system is 2, which is smaller than what this DataLoader is going to create. Please be aware that excessive worker creation might get DataLoader running slow or even freeze, lower the worker number to avoid potential slowness/freeze if necessary.\n",
      "  cpuset_checked))\n"
     ]
    },
    {
     "name": "stdout",
     "output_type": "stream",
     "text": [
      "Epoch 121 Val Loss: 0.5395056316890869 \t\t Val Accuracy: 0.8033559377810792\n"
     ]
    },
    {
     "name": "stderr",
     "output_type": "stream",
     "text": [
      "/opt/conda/lib/python3.7/site-packages/torch/utils/data/dataloader.py:557: UserWarning: This DataLoader will create 4 worker processes in total. Our suggested max number of worker in current system is 2, which is smaller than what this DataLoader is going to create. Please be aware that excessive worker creation might get DataLoader running slow or even freeze, lower the worker number to avoid potential slowness/freeze if necessary.\n",
      "  cpuset_checked))\n"
     ]
    },
    {
     "name": "stdout",
     "output_type": "stream",
     "text": [
      "[Epoch 122, Batch 100] Loss: 0.541 Accuracy: 0.802\n",
      "[Epoch 122, Batch 200] Loss: 0.539 Accuracy: 0.804\n",
      "[Epoch 122, Batch 300] Loss: 0.538 Accuracy: 0.805\n",
      "[Epoch 122, Batch 400] Loss: 0.534 Accuracy: 0.809\n",
      "[Epoch 122, Batch 500] Loss: 0.540 Accuracy: 0.803\n",
      "[Epoch 122, Batch 600] Loss: 0.535 Accuracy: 0.808\n",
      "[Epoch 122, Batch 700] Loss: 0.540 Accuracy: 0.803\n",
      "[Epoch 122, Batch 800] Loss: 0.543 Accuracy: 0.801\n",
      "[Epoch 122, Batch 900] Loss: 0.541 Accuracy: 0.802\n",
      "[Epoch 122, Batch 1000] Loss: 0.536 Accuracy: 0.807\n",
      "[Epoch 122, Batch 1100] Loss: 0.539 Accuracy: 0.804\n",
      "[Epoch 122, Batch 1200] Loss: 0.533 Accuracy: 0.810\n",
      "[Epoch 122, Batch 1300] Loss: 0.542 Accuracy: 0.800\n",
      "[Epoch 122, Batch 1400] Loss: 0.538 Accuracy: 0.805\n",
      "[Epoch 122, Batch 1500] Loss: 0.539 Accuracy: 0.804\n",
      "[Epoch 122, Batch 1600] Loss: 0.544 Accuracy: 0.800\n",
      "[Epoch 122, Batch 1700] Loss: 0.539 Accuracy: 0.804\n",
      "[Epoch 122, Batch 1800] Loss: 0.538 Accuracy: 0.805\n",
      "[Epoch 122, Batch 1900] Loss: 0.542 Accuracy: 0.801\n"
     ]
    },
    {
     "name": "stderr",
     "output_type": "stream",
     "text": [
      "/opt/conda/lib/python3.7/site-packages/torch/utils/data/dataloader.py:557: UserWarning: This DataLoader will create 4 worker processes in total. Our suggested max number of worker in current system is 2, which is smaller than what this DataLoader is going to create. Please be aware that excessive worker creation might get DataLoader running slow or even freeze, lower the worker number to avoid potential slowness/freeze if necessary.\n",
      "  cpuset_checked))\n"
     ]
    },
    {
     "name": "stdout",
     "output_type": "stream",
     "text": [
      "Epoch 122 Val Loss: 0.5429733220831936 \t\t Val Accuracy: 0.8019642276517335\n"
     ]
    },
    {
     "name": "stderr",
     "output_type": "stream",
     "text": [
      "/opt/conda/lib/python3.7/site-packages/torch/utils/data/dataloader.py:557: UserWarning: This DataLoader will create 4 worker processes in total. Our suggested max number of worker in current system is 2, which is smaller than what this DataLoader is going to create. Please be aware that excessive worker creation might get DataLoader running slow or even freeze, lower the worker number to avoid potential slowness/freeze if necessary.\n",
      "  cpuset_checked))\n"
     ]
    },
    {
     "name": "stdout",
     "output_type": "stream",
     "text": [
      "[Epoch 123, Batch 100] Loss: 0.529 Accuracy: 0.813\n",
      "[Epoch 123, Batch 200] Loss: 0.543 Accuracy: 0.800\n",
      "[Epoch 123, Batch 300] Loss: 0.539 Accuracy: 0.804\n",
      "[Epoch 123, Batch 400] Loss: 0.540 Accuracy: 0.804\n",
      "[Epoch 123, Batch 500] Loss: 0.541 Accuracy: 0.803\n",
      "[Epoch 123, Batch 600] Loss: 0.544 Accuracy: 0.801\n",
      "[Epoch 123, Batch 700] Loss: 0.536 Accuracy: 0.807\n",
      "[Epoch 123, Batch 800] Loss: 0.535 Accuracy: 0.808\n",
      "[Epoch 123, Batch 900] Loss: 0.537 Accuracy: 0.806\n",
      "[Epoch 123, Batch 1000] Loss: 0.543 Accuracy: 0.800\n",
      "[Epoch 123, Batch 1100] Loss: 0.532 Accuracy: 0.810\n",
      "[Epoch 123, Batch 1200] Loss: 0.537 Accuracy: 0.807\n",
      "[Epoch 123, Batch 1300] Loss: 0.541 Accuracy: 0.801\n",
      "[Epoch 123, Batch 1400] Loss: 0.541 Accuracy: 0.803\n",
      "[Epoch 123, Batch 1500] Loss: 0.541 Accuracy: 0.801\n",
      "[Epoch 123, Batch 1600] Loss: 0.538 Accuracy: 0.805\n",
      "[Epoch 123, Batch 1700] Loss: 0.542 Accuracy: 0.801\n",
      "[Epoch 123, Batch 1800] Loss: 0.539 Accuracy: 0.803\n",
      "[Epoch 123, Batch 1900] Loss: 0.541 Accuracy: 0.803\n"
     ]
    },
    {
     "name": "stderr",
     "output_type": "stream",
     "text": [
      "/opt/conda/lib/python3.7/site-packages/torch/utils/data/dataloader.py:557: UserWarning: This DataLoader will create 4 worker processes in total. Our suggested max number of worker in current system is 2, which is smaller than what this DataLoader is going to create. Please be aware that excessive worker creation might get DataLoader running slow or even freeze, lower the worker number to avoid potential slowness/freeze if necessary.\n",
      "  cpuset_checked))\n"
     ]
    },
    {
     "name": "stdout",
     "output_type": "stream",
     "text": [
      "Epoch 123 Val Loss: 0.5402780586935909 \t\t Val Accuracy: 0.8039376620731431\n"
     ]
    },
    {
     "name": "stderr",
     "output_type": "stream",
     "text": [
      "/opt/conda/lib/python3.7/site-packages/torch/utils/data/dataloader.py:557: UserWarning: This DataLoader will create 4 worker processes in total. Our suggested max number of worker in current system is 2, which is smaller than what this DataLoader is going to create. Please be aware that excessive worker creation might get DataLoader running slow or even freeze, lower the worker number to avoid potential slowness/freeze if necessary.\n",
      "  cpuset_checked))\n"
     ]
    },
    {
     "name": "stdout",
     "output_type": "stream",
     "text": [
      "[Epoch 124, Batch 100] Loss: 0.544 Accuracy: 0.799\n",
      "[Epoch 124, Batch 200] Loss: 0.540 Accuracy: 0.804\n",
      "[Epoch 124, Batch 300] Loss: 0.537 Accuracy: 0.805\n",
      "[Epoch 124, Batch 400] Loss: 0.536 Accuracy: 0.807\n",
      "[Epoch 124, Batch 500] Loss: 0.537 Accuracy: 0.806\n",
      "[Epoch 124, Batch 600] Loss: 0.539 Accuracy: 0.806\n",
      "[Epoch 124, Batch 700] Loss: 0.545 Accuracy: 0.799\n",
      "[Epoch 124, Batch 800] Loss: 0.542 Accuracy: 0.801\n",
      "[Epoch 124, Batch 900] Loss: 0.542 Accuracy: 0.802\n",
      "[Epoch 124, Batch 1000] Loss: 0.537 Accuracy: 0.806\n",
      "[Epoch 124, Batch 1100] Loss: 0.534 Accuracy: 0.808\n",
      "[Epoch 124, Batch 1200] Loss: 0.546 Accuracy: 0.798\n",
      "[Epoch 124, Batch 1300] Loss: 0.545 Accuracy: 0.799\n",
      "[Epoch 124, Batch 1400] Loss: 0.534 Accuracy: 0.809\n",
      "[Epoch 124, Batch 1500] Loss: 0.537 Accuracy: 0.806\n",
      "[Epoch 124, Batch 1600] Loss: 0.530 Accuracy: 0.812\n",
      "[Epoch 124, Batch 1700] Loss: 0.537 Accuracy: 0.807\n",
      "[Epoch 124, Batch 1800] Loss: 0.541 Accuracy: 0.802\n",
      "[Epoch 124, Batch 1900] Loss: 0.530 Accuracy: 0.812\n"
     ]
    },
    {
     "name": "stderr",
     "output_type": "stream",
     "text": [
      "/opt/conda/lib/python3.7/site-packages/torch/utils/data/dataloader.py:557: UserWarning: This DataLoader will create 4 worker processes in total. Our suggested max number of worker in current system is 2, which is smaller than what this DataLoader is going to create. Please be aware that excessive worker creation might get DataLoader running slow or even freeze, lower the worker number to avoid potential slowness/freeze if necessary.\n",
      "  cpuset_checked))\n"
     ]
    },
    {
     "name": "stdout",
     "output_type": "stream",
     "text": [
      "Epoch 124 Val Loss: 0.5456446587560646 \t\t Val Accuracy: 0.8008036672162544\n"
     ]
    },
    {
     "name": "stderr",
     "output_type": "stream",
     "text": [
      "/opt/conda/lib/python3.7/site-packages/torch/utils/data/dataloader.py:557: UserWarning: This DataLoader will create 4 worker processes in total. Our suggested max number of worker in current system is 2, which is smaller than what this DataLoader is going to create. Please be aware that excessive worker creation might get DataLoader running slow or even freeze, lower the worker number to avoid potential slowness/freeze if necessary.\n",
      "  cpuset_checked))\n"
     ]
    },
    {
     "name": "stdout",
     "output_type": "stream",
     "text": [
      "[Epoch 125, Batch 100] Loss: 0.536 Accuracy: 0.807\n",
      "[Epoch 125, Batch 200] Loss: 0.535 Accuracy: 0.808\n",
      "[Epoch 125, Batch 300] Loss: 0.544 Accuracy: 0.799\n",
      "[Epoch 125, Batch 400] Loss: 0.541 Accuracy: 0.802\n",
      "[Epoch 125, Batch 500] Loss: 0.543 Accuracy: 0.802\n",
      "[Epoch 125, Batch 600] Loss: 0.540 Accuracy: 0.804\n",
      "[Epoch 125, Batch 700] Loss: 0.540 Accuracy: 0.803\n",
      "[Epoch 125, Batch 800] Loss: 0.534 Accuracy: 0.807\n",
      "[Epoch 125, Batch 900] Loss: 0.540 Accuracy: 0.804\n",
      "[Epoch 125, Batch 1000] Loss: 0.544 Accuracy: 0.799\n",
      "[Epoch 125, Batch 1100] Loss: 0.535 Accuracy: 0.808\n",
      "[Epoch 125, Batch 1200] Loss: 0.543 Accuracy: 0.800\n",
      "[Epoch 125, Batch 1300] Loss: 0.544 Accuracy: 0.800\n",
      "[Epoch 125, Batch 1400] Loss: 0.537 Accuracy: 0.805\n",
      "[Epoch 125, Batch 1500] Loss: 0.538 Accuracy: 0.805\n",
      "[Epoch 125, Batch 1600] Loss: 0.537 Accuracy: 0.806\n",
      "[Epoch 125, Batch 1700] Loss: 0.535 Accuracy: 0.808\n",
      "[Epoch 125, Batch 1800] Loss: 0.537 Accuracy: 0.807\n",
      "[Epoch 125, Batch 1900] Loss: 0.538 Accuracy: 0.806\n"
     ]
    },
    {
     "name": "stderr",
     "output_type": "stream",
     "text": [
      "/opt/conda/lib/python3.7/site-packages/torch/utils/data/dataloader.py:557: UserWarning: This DataLoader will create 4 worker processes in total. Our suggested max number of worker in current system is 2, which is smaller than what this DataLoader is going to create. Please be aware that excessive worker creation might get DataLoader running slow or even freeze, lower the worker number to avoid potential slowness/freeze if necessary.\n",
      "  cpuset_checked))\n"
     ]
    },
    {
     "name": "stdout",
     "output_type": "stream",
     "text": [
      "Epoch 125 Val Loss: 0.5422891659669608 \t\t Val Accuracy: 0.8010225598070633\n"
     ]
    },
    {
     "name": "stderr",
     "output_type": "stream",
     "text": [
      "/opt/conda/lib/python3.7/site-packages/torch/utils/data/dataloader.py:557: UserWarning: This DataLoader will create 4 worker processes in total. Our suggested max number of worker in current system is 2, which is smaller than what this DataLoader is going to create. Please be aware that excessive worker creation might get DataLoader running slow or even freeze, lower the worker number to avoid potential slowness/freeze if necessary.\n",
      "  cpuset_checked))\n"
     ]
    },
    {
     "name": "stdout",
     "output_type": "stream",
     "text": [
      "[Epoch 126, Batch 100] Loss: 0.542 Accuracy: 0.801\n",
      "[Epoch 126, Batch 200] Loss: 0.533 Accuracy: 0.810\n",
      "[Epoch 126, Batch 300] Loss: 0.535 Accuracy: 0.809\n",
      "[Epoch 126, Batch 400] Loss: 0.536 Accuracy: 0.807\n",
      "[Epoch 126, Batch 500] Loss: 0.538 Accuracy: 0.804\n",
      "[Epoch 126, Batch 600] Loss: 0.536 Accuracy: 0.806\n",
      "[Epoch 126, Batch 700] Loss: 0.539 Accuracy: 0.805\n",
      "[Epoch 126, Batch 800] Loss: 0.541 Accuracy: 0.802\n",
      "[Epoch 126, Batch 900] Loss: 0.540 Accuracy: 0.803\n",
      "[Epoch 126, Batch 1000] Loss: 0.544 Accuracy: 0.800\n",
      "[Epoch 126, Batch 1100] Loss: 0.538 Accuracy: 0.806\n",
      "[Epoch 126, Batch 1200] Loss: 0.544 Accuracy: 0.799\n",
      "[Epoch 126, Batch 1300] Loss: 0.537 Accuracy: 0.806\n",
      "[Epoch 126, Batch 1400] Loss: 0.538 Accuracy: 0.805\n",
      "[Epoch 126, Batch 1500] Loss: 0.546 Accuracy: 0.797\n",
      "[Epoch 126, Batch 1600] Loss: 0.537 Accuracy: 0.806\n",
      "[Epoch 126, Batch 1700] Loss: 0.542 Accuracy: 0.801\n",
      "[Epoch 126, Batch 1800] Loss: 0.535 Accuracy: 0.807\n",
      "[Epoch 126, Batch 1900] Loss: 0.534 Accuracy: 0.809\n"
     ]
    },
    {
     "name": "stderr",
     "output_type": "stream",
     "text": [
      "/opt/conda/lib/python3.7/site-packages/torch/utils/data/dataloader.py:557: UserWarning: This DataLoader will create 4 worker processes in total. Our suggested max number of worker in current system is 2, which is smaller than what this DataLoader is going to create. Please be aware that excessive worker creation might get DataLoader running slow or even freeze, lower the worker number to avoid potential slowness/freeze if necessary.\n",
      "  cpuset_checked))\n"
     ]
    },
    {
     "name": "stdout",
     "output_type": "stream",
     "text": [
      "Epoch 126 Val Loss: 0.5436523156951231 \t\t Val Accuracy: 0.7998507708766313\n"
     ]
    },
    {
     "name": "stderr",
     "output_type": "stream",
     "text": [
      "/opt/conda/lib/python3.7/site-packages/torch/utils/data/dataloader.py:557: UserWarning: This DataLoader will create 4 worker processes in total. Our suggested max number of worker in current system is 2, which is smaller than what this DataLoader is going to create. Please be aware that excessive worker creation might get DataLoader running slow or even freeze, lower the worker number to avoid potential slowness/freeze if necessary.\n",
      "  cpuset_checked))\n"
     ]
    },
    {
     "name": "stdout",
     "output_type": "stream",
     "text": [
      "[Epoch 127, Batch 100] Loss: 0.540 Accuracy: 0.803\n",
      "[Epoch 127, Batch 200] Loss: 0.540 Accuracy: 0.803\n",
      "[Epoch 127, Batch 300] Loss: 0.538 Accuracy: 0.806\n",
      "[Epoch 127, Batch 400] Loss: 0.541 Accuracy: 0.803\n",
      "[Epoch 127, Batch 500] Loss: 0.544 Accuracy: 0.799\n",
      "[Epoch 127, Batch 600] Loss: 0.541 Accuracy: 0.803\n",
      "[Epoch 127, Batch 700] Loss: 0.542 Accuracy: 0.801\n",
      "[Epoch 127, Batch 800] Loss: 0.538 Accuracy: 0.805\n",
      "[Epoch 127, Batch 900] Loss: 0.537 Accuracy: 0.806\n",
      "[Epoch 127, Batch 1000] Loss: 0.536 Accuracy: 0.807\n",
      "[Epoch 127, Batch 1100] Loss: 0.540 Accuracy: 0.802\n",
      "[Epoch 127, Batch 1200] Loss: 0.534 Accuracy: 0.809\n",
      "[Epoch 127, Batch 1300] Loss: 0.538 Accuracy: 0.805\n",
      "[Epoch 127, Batch 1400] Loss: 0.534 Accuracy: 0.809\n",
      "[Epoch 127, Batch 1500] Loss: 0.531 Accuracy: 0.811\n",
      "[Epoch 127, Batch 1600] Loss: 0.539 Accuracy: 0.804\n",
      "[Epoch 127, Batch 1700] Loss: 0.539 Accuracy: 0.804\n",
      "[Epoch 127, Batch 1800] Loss: 0.534 Accuracy: 0.808\n",
      "[Epoch 127, Batch 1900] Loss: 0.537 Accuracy: 0.807\n"
     ]
    },
    {
     "name": "stderr",
     "output_type": "stream",
     "text": [
      "/opt/conda/lib/python3.7/site-packages/torch/utils/data/dataloader.py:557: UserWarning: This DataLoader will create 4 worker processes in total. Our suggested max number of worker in current system is 2, which is smaller than what this DataLoader is going to create. Please be aware that excessive worker creation might get DataLoader running slow or even freeze, lower the worker number to avoid potential slowness/freeze if necessary.\n",
      "  cpuset_checked))\n"
     ]
    },
    {
     "name": "stdout",
     "output_type": "stream",
     "text": [
      "Epoch 127 Val Loss: 0.5406180392786202 \t\t Val Accuracy: 0.8037804089528061\n"
     ]
    },
    {
     "name": "stderr",
     "output_type": "stream",
     "text": [
      "/opt/conda/lib/python3.7/site-packages/torch/utils/data/dataloader.py:557: UserWarning: This DataLoader will create 4 worker processes in total. Our suggested max number of worker in current system is 2, which is smaller than what this DataLoader is going to create. Please be aware that excessive worker creation might get DataLoader running slow or even freeze, lower the worker number to avoid potential slowness/freeze if necessary.\n",
      "  cpuset_checked))\n"
     ]
    },
    {
     "name": "stdout",
     "output_type": "stream",
     "text": [
      "[Epoch 128, Batch 100] Loss: 0.538 Accuracy: 0.805\n",
      "[Epoch 128, Batch 200] Loss: 0.534 Accuracy: 0.810\n",
      "[Epoch 128, Batch 300] Loss: 0.539 Accuracy: 0.804\n",
      "[Epoch 128, Batch 400] Loss: 0.542 Accuracy: 0.801\n",
      "[Epoch 128, Batch 500] Loss: 0.537 Accuracy: 0.805\n",
      "[Epoch 128, Batch 600] Loss: 0.538 Accuracy: 0.805\n",
      "[Epoch 128, Batch 700] Loss: 0.538 Accuracy: 0.806\n",
      "[Epoch 128, Batch 800] Loss: 0.538 Accuracy: 0.805\n",
      "[Epoch 128, Batch 900] Loss: 0.542 Accuracy: 0.802\n",
      "[Epoch 128, Batch 1000] Loss: 0.547 Accuracy: 0.797\n",
      "[Epoch 128, Batch 1100] Loss: 0.532 Accuracy: 0.811\n",
      "[Epoch 128, Batch 1200] Loss: 0.537 Accuracy: 0.806\n",
      "[Epoch 128, Batch 1300] Loss: 0.536 Accuracy: 0.807\n",
      "[Epoch 128, Batch 1400] Loss: 0.536 Accuracy: 0.806\n",
      "[Epoch 128, Batch 1500] Loss: 0.541 Accuracy: 0.802\n",
      "[Epoch 128, Batch 1600] Loss: 0.538 Accuracy: 0.805\n",
      "[Epoch 128, Batch 1700] Loss: 0.538 Accuracy: 0.804\n",
      "[Epoch 128, Batch 1800] Loss: 0.540 Accuracy: 0.803\n",
      "[Epoch 128, Batch 1900] Loss: 0.538 Accuracy: 0.805\n"
     ]
    },
    {
     "name": "stderr",
     "output_type": "stream",
     "text": [
      "/opt/conda/lib/python3.7/site-packages/torch/utils/data/dataloader.py:557: UserWarning: This DataLoader will create 4 worker processes in total. Our suggested max number of worker in current system is 2, which is smaller than what this DataLoader is going to create. Please be aware that excessive worker creation might get DataLoader running slow or even freeze, lower the worker number to avoid potential slowness/freeze if necessary.\n",
      "  cpuset_checked))\n"
     ]
    },
    {
     "name": "stdout",
     "output_type": "stream",
     "text": [
      "Epoch 128 Val Loss: 0.5388072834436195 \t\t Val Accuracy: 0.8040066291031173\n",
      "Validation Loss Decreased(134.332166--->134.163014) \t Saving The Model\n"
     ]
    },
    {
     "name": "stderr",
     "output_type": "stream",
     "text": [
      "/opt/conda/lib/python3.7/site-packages/torch/utils/data/dataloader.py:557: UserWarning: This DataLoader will create 4 worker processes in total. Our suggested max number of worker in current system is 2, which is smaller than what this DataLoader is going to create. Please be aware that excessive worker creation might get DataLoader running slow or even freeze, lower the worker number to avoid potential slowness/freeze if necessary.\n",
      "  cpuset_checked))\n"
     ]
    },
    {
     "name": "stdout",
     "output_type": "stream",
     "text": [
      "[Epoch 129, Batch 100] Loss: 0.534 Accuracy: 0.809\n",
      "[Epoch 129, Batch 200] Loss: 0.542 Accuracy: 0.802\n",
      "[Epoch 129, Batch 300] Loss: 0.543 Accuracy: 0.802\n",
      "[Epoch 129, Batch 400] Loss: 0.538 Accuracy: 0.805\n",
      "[Epoch 129, Batch 500] Loss: 0.540 Accuracy: 0.803\n",
      "[Epoch 129, Batch 600] Loss: 0.533 Accuracy: 0.809\n",
      "[Epoch 129, Batch 700] Loss: 0.543 Accuracy: 0.801\n",
      "[Epoch 129, Batch 800] Loss: 0.541 Accuracy: 0.802\n",
      "[Epoch 129, Batch 900] Loss: 0.535 Accuracy: 0.808\n",
      "[Epoch 129, Batch 1000] Loss: 0.540 Accuracy: 0.805\n",
      "[Epoch 129, Batch 1100] Loss: 0.536 Accuracy: 0.808\n",
      "[Epoch 129, Batch 1200] Loss: 0.537 Accuracy: 0.806\n",
      "[Epoch 129, Batch 1300] Loss: 0.539 Accuracy: 0.804\n",
      "[Epoch 129, Batch 1400] Loss: 0.539 Accuracy: 0.805\n",
      "[Epoch 129, Batch 1500] Loss: 0.537 Accuracy: 0.806\n",
      "[Epoch 129, Batch 1600] Loss: 0.534 Accuracy: 0.808\n",
      "[Epoch 129, Batch 1700] Loss: 0.538 Accuracy: 0.806\n",
      "[Epoch 129, Batch 1800] Loss: 0.539 Accuracy: 0.804\n",
      "[Epoch 129, Batch 1900] Loss: 0.538 Accuracy: 0.805\n"
     ]
    },
    {
     "name": "stderr",
     "output_type": "stream",
     "text": [
      "/opt/conda/lib/python3.7/site-packages/torch/utils/data/dataloader.py:557: UserWarning: This DataLoader will create 4 worker processes in total. Our suggested max number of worker in current system is 2, which is smaller than what this DataLoader is going to create. Please be aware that excessive worker creation might get DataLoader running slow or even freeze, lower the worker number to avoid potential slowness/freeze if necessary.\n",
      "  cpuset_checked))\n"
     ]
    },
    {
     "name": "stdout",
     "output_type": "stream",
     "text": [
      "Epoch 129 Val Loss: 0.5419080695474005 \t\t Val Accuracy: 0.8009118214696506\n"
     ]
    },
    {
     "name": "stderr",
     "output_type": "stream",
     "text": [
      "/opt/conda/lib/python3.7/site-packages/torch/utils/data/dataloader.py:557: UserWarning: This DataLoader will create 4 worker processes in total. Our suggested max number of worker in current system is 2, which is smaller than what this DataLoader is going to create. Please be aware that excessive worker creation might get DataLoader running slow or even freeze, lower the worker number to avoid potential slowness/freeze if necessary.\n",
      "  cpuset_checked))\n"
     ]
    },
    {
     "name": "stdout",
     "output_type": "stream",
     "text": [
      "[Epoch 130, Batch 100] Loss: 0.533 Accuracy: 0.810\n",
      "[Epoch 130, Batch 200] Loss: 0.539 Accuracy: 0.805\n",
      "[Epoch 130, Batch 300] Loss: 0.537 Accuracy: 0.806\n",
      "[Epoch 130, Batch 400] Loss: 0.538 Accuracy: 0.805\n",
      "[Epoch 130, Batch 500] Loss: 0.535 Accuracy: 0.808\n",
      "[Epoch 130, Batch 600] Loss: 0.542 Accuracy: 0.802\n",
      "[Epoch 130, Batch 700] Loss: 0.538 Accuracy: 0.806\n",
      "[Epoch 130, Batch 800] Loss: 0.539 Accuracy: 0.804\n",
      "[Epoch 130, Batch 900] Loss: 0.543 Accuracy: 0.800\n",
      "[Epoch 130, Batch 1000] Loss: 0.539 Accuracy: 0.805\n",
      "[Epoch 130, Batch 1100] Loss: 0.536 Accuracy: 0.807\n",
      "[Epoch 130, Batch 1200] Loss: 0.538 Accuracy: 0.805\n",
      "[Epoch 130, Batch 1300] Loss: 0.541 Accuracy: 0.804\n",
      "[Epoch 130, Batch 1400] Loss: 0.535 Accuracy: 0.808\n",
      "[Epoch 130, Batch 1500] Loss: 0.543 Accuracy: 0.801\n",
      "[Epoch 130, Batch 1600] Loss: 0.533 Accuracy: 0.809\n",
      "[Epoch 130, Batch 1700] Loss: 0.544 Accuracy: 0.801\n",
      "[Epoch 130, Batch 1800] Loss: 0.532 Accuracy: 0.810\n",
      "[Epoch 130, Batch 1900] Loss: 0.542 Accuracy: 0.801\n"
     ]
    },
    {
     "name": "stderr",
     "output_type": "stream",
     "text": [
      "/opt/conda/lib/python3.7/site-packages/torch/utils/data/dataloader.py:557: UserWarning: This DataLoader will create 4 worker processes in total. Our suggested max number of worker in current system is 2, which is smaller than what this DataLoader is going to create. Please be aware that excessive worker creation might get DataLoader running slow or even freeze, lower the worker number to avoid potential slowness/freeze if necessary.\n",
      "  cpuset_checked))\n"
     ]
    },
    {
     "name": "stdout",
     "output_type": "stream",
     "text": [
      "Epoch 130 Val Loss: 0.5398260012687929 \t\t Val Accuracy: 0.8035759019319819\n"
     ]
    },
    {
     "name": "stderr",
     "output_type": "stream",
     "text": [
      "/opt/conda/lib/python3.7/site-packages/torch/utils/data/dataloader.py:557: UserWarning: This DataLoader will create 4 worker processes in total. Our suggested max number of worker in current system is 2, which is smaller than what this DataLoader is going to create. Please be aware that excessive worker creation might get DataLoader running slow or even freeze, lower the worker number to avoid potential slowness/freeze if necessary.\n",
      "  cpuset_checked))\n"
     ]
    },
    {
     "name": "stdout",
     "output_type": "stream",
     "text": [
      "[Epoch 131, Batch 100] Loss: 0.539 Accuracy: 0.804\n",
      "[Epoch 131, Batch 200] Loss: 0.537 Accuracy: 0.807\n",
      "[Epoch 131, Batch 300] Loss: 0.542 Accuracy: 0.802\n",
      "[Epoch 131, Batch 400] Loss: 0.537 Accuracy: 0.806\n",
      "[Epoch 131, Batch 500] Loss: 0.532 Accuracy: 0.811\n",
      "[Epoch 131, Batch 600] Loss: 0.535 Accuracy: 0.807\n",
      "[Epoch 131, Batch 700] Loss: 0.543 Accuracy: 0.801\n",
      "[Epoch 131, Batch 800] Loss: 0.535 Accuracy: 0.808\n",
      "[Epoch 131, Batch 900] Loss: 0.536 Accuracy: 0.808\n",
      "[Epoch 131, Batch 1000] Loss: 0.540 Accuracy: 0.803\n",
      "[Epoch 131, Batch 1100] Loss: 0.539 Accuracy: 0.804\n",
      "[Epoch 131, Batch 1200] Loss: 0.538 Accuracy: 0.806\n",
      "[Epoch 131, Batch 1300] Loss: 0.538 Accuracy: 0.806\n",
      "[Epoch 131, Batch 1400] Loss: 0.538 Accuracy: 0.805\n",
      "[Epoch 131, Batch 1500] Loss: 0.537 Accuracy: 0.806\n",
      "[Epoch 131, Batch 1600] Loss: 0.535 Accuracy: 0.808\n",
      "[Epoch 131, Batch 1700] Loss: 0.540 Accuracy: 0.803\n",
      "[Epoch 131, Batch 1800] Loss: 0.534 Accuracy: 0.808\n",
      "[Epoch 131, Batch 1900] Loss: 0.538 Accuracy: 0.805\n"
     ]
    },
    {
     "name": "stderr",
     "output_type": "stream",
     "text": [
      "/opt/conda/lib/python3.7/site-packages/torch/utils/data/dataloader.py:557: UserWarning: This DataLoader will create 4 worker processes in total. Our suggested max number of worker in current system is 2, which is smaller than what this DataLoader is going to create. Please be aware that excessive worker creation might get DataLoader running slow or even freeze, lower the worker number to avoid potential slowness/freeze if necessary.\n",
      "  cpuset_checked))\n"
     ]
    },
    {
     "name": "stdout",
     "output_type": "stream",
     "text": [
      "Epoch 131 Val Loss: 0.5387449865360336 \t\t Val Accuracy: 0.8046219736125485\n",
      "Validation Loss Decreased(134.163014--->134.147502) \t Saving The Model\n"
     ]
    },
    {
     "name": "stderr",
     "output_type": "stream",
     "text": [
      "/opt/conda/lib/python3.7/site-packages/torch/utils/data/dataloader.py:557: UserWarning: This DataLoader will create 4 worker processes in total. Our suggested max number of worker in current system is 2, which is smaller than what this DataLoader is going to create. Please be aware that excessive worker creation might get DataLoader running slow or even freeze, lower the worker number to avoid potential slowness/freeze if necessary.\n",
      "  cpuset_checked))\n"
     ]
    },
    {
     "name": "stdout",
     "output_type": "stream",
     "text": [
      "[Epoch 132, Batch 100] Loss: 0.533 Accuracy: 0.809\n",
      "[Epoch 132, Batch 200] Loss: 0.541 Accuracy: 0.802\n",
      "[Epoch 132, Batch 300] Loss: 0.545 Accuracy: 0.798\n",
      "[Epoch 132, Batch 400] Loss: 0.539 Accuracy: 0.804\n",
      "[Epoch 132, Batch 500] Loss: 0.535 Accuracy: 0.808\n",
      "[Epoch 132, Batch 600] Loss: 0.540 Accuracy: 0.804\n",
      "[Epoch 132, Batch 700] Loss: 0.533 Accuracy: 0.809\n",
      "[Epoch 132, Batch 800] Loss: 0.536 Accuracy: 0.808\n",
      "[Epoch 132, Batch 900] Loss: 0.533 Accuracy: 0.809\n",
      "[Epoch 132, Batch 1000] Loss: 0.545 Accuracy: 0.800\n",
      "[Epoch 132, Batch 1100] Loss: 0.538 Accuracy: 0.805\n",
      "[Epoch 132, Batch 1200] Loss: 0.538 Accuracy: 0.807\n",
      "[Epoch 132, Batch 1300] Loss: 0.538 Accuracy: 0.805\n",
      "[Epoch 132, Batch 1400] Loss: 0.537 Accuracy: 0.806\n",
      "[Epoch 132, Batch 1500] Loss: 0.540 Accuracy: 0.803\n",
      "[Epoch 132, Batch 1600] Loss: 0.535 Accuracy: 0.808\n",
      "[Epoch 132, Batch 1700] Loss: 0.541 Accuracy: 0.803\n",
      "[Epoch 132, Batch 1800] Loss: 0.537 Accuracy: 0.807\n",
      "[Epoch 132, Batch 1900] Loss: 0.535 Accuracy: 0.808\n"
     ]
    },
    {
     "name": "stderr",
     "output_type": "stream",
     "text": [
      "/opt/conda/lib/python3.7/site-packages/torch/utils/data/dataloader.py:557: UserWarning: This DataLoader will create 4 worker processes in total. Our suggested max number of worker in current system is 2, which is smaller than what this DataLoader is going to create. Please be aware that excessive worker creation might get DataLoader running slow or even freeze, lower the worker number to avoid potential slowness/freeze if necessary.\n",
      "  cpuset_checked))\n"
     ]
    },
    {
     "name": "stdout",
     "output_type": "stream",
     "text": [
      "Epoch 132 Val Loss: 0.5417454269037668 \t\t Val Accuracy: 0.8016655241742776\n"
     ]
    },
    {
     "name": "stderr",
     "output_type": "stream",
     "text": [
      "/opt/conda/lib/python3.7/site-packages/torch/utils/data/dataloader.py:557: UserWarning: This DataLoader will create 4 worker processes in total. Our suggested max number of worker in current system is 2, which is smaller than what this DataLoader is going to create. Please be aware that excessive worker creation might get DataLoader running slow or even freeze, lower the worker number to avoid potential slowness/freeze if necessary.\n",
      "  cpuset_checked))\n"
     ]
    },
    {
     "name": "stdout",
     "output_type": "stream",
     "text": [
      "[Epoch 133, Batch 100] Loss: 0.533 Accuracy: 0.809\n",
      "[Epoch 133, Batch 200] Loss: 0.538 Accuracy: 0.805\n",
      "[Epoch 133, Batch 300] Loss: 0.538 Accuracy: 0.805\n",
      "[Epoch 133, Batch 400] Loss: 0.539 Accuracy: 0.804\n",
      "[Epoch 133, Batch 500] Loss: 0.538 Accuracy: 0.805\n",
      "[Epoch 133, Batch 600] Loss: 0.532 Accuracy: 0.809\n",
      "[Epoch 133, Batch 700] Loss: 0.536 Accuracy: 0.807\n",
      "[Epoch 133, Batch 800] Loss: 0.535 Accuracy: 0.808\n",
      "[Epoch 133, Batch 900] Loss: 0.539 Accuracy: 0.803\n",
      "[Epoch 133, Batch 1000] Loss: 0.536 Accuracy: 0.807\n",
      "[Epoch 133, Batch 1100] Loss: 0.543 Accuracy: 0.800\n",
      "[Epoch 133, Batch 1200] Loss: 0.535 Accuracy: 0.808\n",
      "[Epoch 133, Batch 1300] Loss: 0.540 Accuracy: 0.804\n",
      "[Epoch 133, Batch 1400] Loss: 0.536 Accuracy: 0.807\n",
      "[Epoch 133, Batch 1500] Loss: 0.539 Accuracy: 0.803\n",
      "[Epoch 133, Batch 1600] Loss: 0.541 Accuracy: 0.803\n",
      "[Epoch 133, Batch 1700] Loss: 0.536 Accuracy: 0.807\n",
      "[Epoch 133, Batch 1800] Loss: 0.539 Accuracy: 0.803\n",
      "[Epoch 133, Batch 1900] Loss: 0.541 Accuracy: 0.803\n"
     ]
    },
    {
     "name": "stderr",
     "output_type": "stream",
     "text": [
      "/opt/conda/lib/python3.7/site-packages/torch/utils/data/dataloader.py:557: UserWarning: This DataLoader will create 4 worker processes in total. Our suggested max number of worker in current system is 2, which is smaller than what this DataLoader is going to create. Please be aware that excessive worker creation might get DataLoader running slow or even freeze, lower the worker number to avoid potential slowness/freeze if necessary.\n",
      "  cpuset_checked))\n"
     ]
    },
    {
     "name": "stdout",
     "output_type": "stream",
     "text": [
      "Epoch 133 Val Loss: 0.5412447392701145 \t\t Val Accuracy: 0.8019201158191306\n"
     ]
    },
    {
     "name": "stderr",
     "output_type": "stream",
     "text": [
      "/opt/conda/lib/python3.7/site-packages/torch/utils/data/dataloader.py:557: UserWarning: This DataLoader will create 4 worker processes in total. Our suggested max number of worker in current system is 2, which is smaller than what this DataLoader is going to create. Please be aware that excessive worker creation might get DataLoader running slow or even freeze, lower the worker number to avoid potential slowness/freeze if necessary.\n",
      "  cpuset_checked))\n"
     ]
    },
    {
     "name": "stdout",
     "output_type": "stream",
     "text": [
      "[Epoch 134, Batch 100] Loss: 0.537 Accuracy: 0.807\n",
      "[Epoch 134, Batch 200] Loss: 0.534 Accuracy: 0.808\n",
      "[Epoch 134, Batch 300] Loss: 0.537 Accuracy: 0.806\n",
      "[Epoch 134, Batch 400] Loss: 0.536 Accuracy: 0.806\n",
      "[Epoch 134, Batch 500] Loss: 0.542 Accuracy: 0.802\n",
      "[Epoch 134, Batch 600] Loss: 0.542 Accuracy: 0.801\n",
      "[Epoch 134, Batch 700] Loss: 0.535 Accuracy: 0.807\n",
      "[Epoch 134, Batch 800] Loss: 0.534 Accuracy: 0.808\n",
      "[Epoch 134, Batch 900] Loss: 0.538 Accuracy: 0.806\n",
      "[Epoch 134, Batch 1000] Loss: 0.538 Accuracy: 0.804\n",
      "[Epoch 134, Batch 1100] Loss: 0.540 Accuracy: 0.804\n",
      "[Epoch 134, Batch 1200] Loss: 0.536 Accuracy: 0.807\n",
      "[Epoch 134, Batch 1300] Loss: 0.541 Accuracy: 0.802\n",
      "[Epoch 134, Batch 1400] Loss: 0.538 Accuracy: 0.804\n",
      "[Epoch 134, Batch 1500] Loss: 0.539 Accuracy: 0.803\n",
      "[Epoch 134, Batch 1600] Loss: 0.538 Accuracy: 0.806\n",
      "[Epoch 134, Batch 1700] Loss: 0.538 Accuracy: 0.806\n",
      "[Epoch 134, Batch 1800] Loss: 0.533 Accuracy: 0.810\n",
      "[Epoch 134, Batch 1900] Loss: 0.539 Accuracy: 0.804\n"
     ]
    },
    {
     "name": "stderr",
     "output_type": "stream",
     "text": [
      "/opt/conda/lib/python3.7/site-packages/torch/utils/data/dataloader.py:557: UserWarning: This DataLoader will create 4 worker processes in total. Our suggested max number of worker in current system is 2, which is smaller than what this DataLoader is going to create. Please be aware that excessive worker creation might get DataLoader running slow or even freeze, lower the worker number to avoid potential slowness/freeze if necessary.\n",
      "  cpuset_checked))\n"
     ]
    },
    {
     "name": "stdout",
     "output_type": "stream",
     "text": [
      "Epoch 134 Val Loss: 0.5384083094606438 \t\t Val Accuracy: 0.8046672322887287\n",
      "Validation Loss Decreased(134.147502--->134.063669) \t Saving The Model\n"
     ]
    },
    {
     "name": "stderr",
     "output_type": "stream",
     "text": [
      "/opt/conda/lib/python3.7/site-packages/torch/utils/data/dataloader.py:557: UserWarning: This DataLoader will create 4 worker processes in total. Our suggested max number of worker in current system is 2, which is smaller than what this DataLoader is going to create. Please be aware that excessive worker creation might get DataLoader running slow or even freeze, lower the worker number to avoid potential slowness/freeze if necessary.\n",
      "  cpuset_checked))\n"
     ]
    },
    {
     "name": "stdout",
     "output_type": "stream",
     "text": [
      "[Epoch 135, Batch 100] Loss: 0.541 Accuracy: 0.804\n",
      "[Epoch 135, Batch 200] Loss: 0.536 Accuracy: 0.807\n",
      "[Epoch 135, Batch 300] Loss: 0.536 Accuracy: 0.807\n",
      "[Epoch 135, Batch 400] Loss: 0.536 Accuracy: 0.807\n",
      "[Epoch 135, Batch 500] Loss: 0.540 Accuracy: 0.804\n",
      "[Epoch 135, Batch 600] Loss: 0.538 Accuracy: 0.804\n",
      "[Epoch 135, Batch 700] Loss: 0.538 Accuracy: 0.804\n",
      "[Epoch 135, Batch 800] Loss: 0.538 Accuracy: 0.804\n",
      "[Epoch 135, Batch 900] Loss: 0.537 Accuracy: 0.806\n",
      "[Epoch 135, Batch 1000] Loss: 0.538 Accuracy: 0.805\n",
      "[Epoch 135, Batch 1100] Loss: 0.535 Accuracy: 0.808\n",
      "[Epoch 135, Batch 1200] Loss: 0.539 Accuracy: 0.804\n",
      "[Epoch 135, Batch 1300] Loss: 0.536 Accuracy: 0.807\n",
      "[Epoch 135, Batch 1400] Loss: 0.538 Accuracy: 0.805\n",
      "[Epoch 135, Batch 1500] Loss: 0.534 Accuracy: 0.809\n",
      "[Epoch 135, Batch 1600] Loss: 0.535 Accuracy: 0.808\n",
      "[Epoch 135, Batch 1700] Loss: 0.534 Accuracy: 0.809\n",
      "[Epoch 135, Batch 1800] Loss: 0.540 Accuracy: 0.804\n",
      "[Epoch 135, Batch 1900] Loss: 0.542 Accuracy: 0.802\n"
     ]
    },
    {
     "name": "stderr",
     "output_type": "stream",
     "text": [
      "/opt/conda/lib/python3.7/site-packages/torch/utils/data/dataloader.py:557: UserWarning: This DataLoader will create 4 worker processes in total. Our suggested max number of worker in current system is 2, which is smaller than what this DataLoader is going to create. Please be aware that excessive worker creation might get DataLoader running slow or even freeze, lower the worker number to avoid potential slowness/freeze if necessary.\n",
      "  cpuset_checked))\n"
     ]
    },
    {
     "name": "stdout",
     "output_type": "stream",
     "text": [
      "Epoch 135 Val Loss: 0.5389745459259754 \t\t Val Accuracy: 0.8036396073338864\n"
     ]
    },
    {
     "name": "stderr",
     "output_type": "stream",
     "text": [
      "/opt/conda/lib/python3.7/site-packages/torch/utils/data/dataloader.py:557: UserWarning: This DataLoader will create 4 worker processes in total. Our suggested max number of worker in current system is 2, which is smaller than what this DataLoader is going to create. Please be aware that excessive worker creation might get DataLoader running slow or even freeze, lower the worker number to avoid potential slowness/freeze if necessary.\n",
      "  cpuset_checked))\n"
     ]
    },
    {
     "name": "stdout",
     "output_type": "stream",
     "text": [
      "[Epoch 136, Batch 100] Loss: 0.537 Accuracy: 0.807\n",
      "[Epoch 136, Batch 200] Loss: 0.543 Accuracy: 0.800\n",
      "[Epoch 136, Batch 300] Loss: 0.540 Accuracy: 0.803\n",
      "[Epoch 136, Batch 400] Loss: 0.538 Accuracy: 0.804\n",
      "[Epoch 136, Batch 500] Loss: 0.540 Accuracy: 0.804\n",
      "[Epoch 136, Batch 600] Loss: 0.530 Accuracy: 0.813\n",
      "[Epoch 136, Batch 700] Loss: 0.538 Accuracy: 0.804\n",
      "[Epoch 136, Batch 800] Loss: 0.543 Accuracy: 0.800\n",
      "[Epoch 136, Batch 900] Loss: 0.535 Accuracy: 0.808\n",
      "[Epoch 136, Batch 1000] Loss: 0.535 Accuracy: 0.809\n",
      "[Epoch 136, Batch 1100] Loss: 0.539 Accuracy: 0.805\n",
      "[Epoch 136, Batch 1200] Loss: 0.538 Accuracy: 0.806\n",
      "[Epoch 136, Batch 1300] Loss: 0.535 Accuracy: 0.807\n",
      "[Epoch 136, Batch 1400] Loss: 0.536 Accuracy: 0.807\n",
      "[Epoch 136, Batch 1500] Loss: 0.539 Accuracy: 0.804\n",
      "[Epoch 136, Batch 1600] Loss: 0.539 Accuracy: 0.804\n",
      "[Epoch 136, Batch 1700] Loss: 0.533 Accuracy: 0.808\n",
      "[Epoch 136, Batch 1800] Loss: 0.535 Accuracy: 0.808\n",
      "[Epoch 136, Batch 1900] Loss: 0.535 Accuracy: 0.809\n"
     ]
    },
    {
     "name": "stderr",
     "output_type": "stream",
     "text": [
      "/opt/conda/lib/python3.7/site-packages/torch/utils/data/dataloader.py:557: UserWarning: This DataLoader will create 4 worker processes in total. Our suggested max number of worker in current system is 2, which is smaller than what this DataLoader is going to create. Please be aware that excessive worker creation might get DataLoader running slow or even freeze, lower the worker number to avoid potential slowness/freeze if necessary.\n",
      "  cpuset_checked))\n"
     ]
    },
    {
     "name": "stdout",
     "output_type": "stream",
     "text": [
      "Epoch 136 Val Loss: 0.5414497263460274 \t\t Val Accuracy: 0.8015275029923657\n"
     ]
    },
    {
     "name": "stderr",
     "output_type": "stream",
     "text": [
      "/opt/conda/lib/python3.7/site-packages/torch/utils/data/dataloader.py:557: UserWarning: This DataLoader will create 4 worker processes in total. Our suggested max number of worker in current system is 2, which is smaller than what this DataLoader is going to create. Please be aware that excessive worker creation might get DataLoader running slow or even freeze, lower the worker number to avoid potential slowness/freeze if necessary.\n",
      "  cpuset_checked))\n"
     ]
    },
    {
     "name": "stdout",
     "output_type": "stream",
     "text": [
      "[Epoch 137, Batch 100] Loss: 0.539 Accuracy: 0.804\n",
      "[Epoch 137, Batch 200] Loss: 0.536 Accuracy: 0.806\n",
      "[Epoch 137, Batch 300] Loss: 0.541 Accuracy: 0.802\n",
      "[Epoch 137, Batch 400] Loss: 0.537 Accuracy: 0.807\n",
      "[Epoch 137, Batch 500] Loss: 0.535 Accuracy: 0.807\n",
      "[Epoch 137, Batch 600] Loss: 0.537 Accuracy: 0.805\n",
      "[Epoch 137, Batch 700] Loss: 0.540 Accuracy: 0.802\n",
      "[Epoch 137, Batch 800] Loss: 0.538 Accuracy: 0.806\n",
      "[Epoch 137, Batch 900] Loss: 0.540 Accuracy: 0.804\n",
      "[Epoch 137, Batch 1000] Loss: 0.542 Accuracy: 0.801\n",
      "[Epoch 137, Batch 1100] Loss: 0.539 Accuracy: 0.805\n",
      "[Epoch 137, Batch 1200] Loss: 0.543 Accuracy: 0.800\n",
      "[Epoch 137, Batch 1300] Loss: 0.535 Accuracy: 0.807\n",
      "[Epoch 137, Batch 1400] Loss: 0.539 Accuracy: 0.804\n",
      "[Epoch 137, Batch 1500] Loss: 0.534 Accuracy: 0.809\n",
      "[Epoch 137, Batch 1600] Loss: 0.531 Accuracy: 0.811\n",
      "[Epoch 137, Batch 1700] Loss: 0.538 Accuracy: 0.806\n",
      "[Epoch 137, Batch 1800] Loss: 0.542 Accuracy: 0.802\n",
      "[Epoch 137, Batch 1900] Loss: 0.537 Accuracy: 0.805\n"
     ]
    },
    {
     "name": "stderr",
     "output_type": "stream",
     "text": [
      "/opt/conda/lib/python3.7/site-packages/torch/utils/data/dataloader.py:557: UserWarning: This DataLoader will create 4 worker processes in total. Our suggested max number of worker in current system is 2, which is smaller than what this DataLoader is going to create. Please be aware that excessive worker creation might get DataLoader running slow or even freeze, lower the worker number to avoid potential slowness/freeze if necessary.\n",
      "  cpuset_checked))\n"
     ]
    },
    {
     "name": "stdout",
     "output_type": "stream",
     "text": [
      "Epoch 137 Val Loss: 0.5404552702444145 \t\t Val Accuracy: 0.8027065034819308\n"
     ]
    },
    {
     "name": "stderr",
     "output_type": "stream",
     "text": [
      "/opt/conda/lib/python3.7/site-packages/torch/utils/data/dataloader.py:557: UserWarning: This DataLoader will create 4 worker processes in total. Our suggested max number of worker in current system is 2, which is smaller than what this DataLoader is going to create. Please be aware that excessive worker creation might get DataLoader running slow or even freeze, lower the worker number to avoid potential slowness/freeze if necessary.\n",
      "  cpuset_checked))\n"
     ]
    },
    {
     "name": "stdout",
     "output_type": "stream",
     "text": [
      "[Epoch 138, Batch 100] Loss: 0.538 Accuracy: 0.805\n",
      "[Epoch 138, Batch 200] Loss: 0.534 Accuracy: 0.809\n",
      "[Epoch 138, Batch 300] Loss: 0.540 Accuracy: 0.802\n",
      "[Epoch 138, Batch 400] Loss: 0.533 Accuracy: 0.810\n",
      "[Epoch 138, Batch 500] Loss: 0.535 Accuracy: 0.810\n",
      "[Epoch 138, Batch 600] Loss: 0.538 Accuracy: 0.806\n",
      "[Epoch 138, Batch 700] Loss: 0.539 Accuracy: 0.804\n",
      "[Epoch 138, Batch 800] Loss: 0.546 Accuracy: 0.798\n",
      "[Epoch 138, Batch 900] Loss: 0.539 Accuracy: 0.804\n",
      "[Epoch 138, Batch 1000] Loss: 0.537 Accuracy: 0.806\n",
      "[Epoch 138, Batch 1100] Loss: 0.537 Accuracy: 0.807\n",
      "[Epoch 138, Batch 1200] Loss: 0.538 Accuracy: 0.804\n",
      "[Epoch 138, Batch 1300] Loss: 0.535 Accuracy: 0.808\n",
      "[Epoch 138, Batch 1400] Loss: 0.536 Accuracy: 0.807\n",
      "[Epoch 138, Batch 1500] Loss: 0.535 Accuracy: 0.808\n",
      "[Epoch 138, Batch 1600] Loss: 0.535 Accuracy: 0.808\n",
      "[Epoch 138, Batch 1700] Loss: 0.540 Accuracy: 0.802\n",
      "[Epoch 138, Batch 1800] Loss: 0.537 Accuracy: 0.806\n",
      "[Epoch 138, Batch 1900] Loss: 0.538 Accuracy: 0.804\n"
     ]
    },
    {
     "name": "stderr",
     "output_type": "stream",
     "text": [
      "/opt/conda/lib/python3.7/site-packages/torch/utils/data/dataloader.py:557: UserWarning: This DataLoader will create 4 worker processes in total. Our suggested max number of worker in current system is 2, which is smaller than what this DataLoader is going to create. Please be aware that excessive worker creation might get DataLoader running slow or even freeze, lower the worker number to avoid potential slowness/freeze if necessary.\n",
      "  cpuset_checked))\n"
     ]
    },
    {
     "name": "stdout",
     "output_type": "stream",
     "text": [
      "Epoch 138 Val Loss: 0.5404634692343363 \t\t Val Accuracy: 0.8036780987420103\n"
     ]
    },
    {
     "name": "stderr",
     "output_type": "stream",
     "text": [
      "/opt/conda/lib/python3.7/site-packages/torch/utils/data/dataloader.py:557: UserWarning: This DataLoader will create 4 worker processes in total. Our suggested max number of worker in current system is 2, which is smaller than what this DataLoader is going to create. Please be aware that excessive worker creation might get DataLoader running slow or even freeze, lower the worker number to avoid potential slowness/freeze if necessary.\n",
      "  cpuset_checked))\n"
     ]
    },
    {
     "name": "stdout",
     "output_type": "stream",
     "text": [
      "[Epoch 139, Batch 100] Loss: 0.536 Accuracy: 0.807\n",
      "[Epoch 139, Batch 200] Loss: 0.541 Accuracy: 0.803\n",
      "[Epoch 139, Batch 300] Loss: 0.538 Accuracy: 0.806\n",
      "[Epoch 139, Batch 400] Loss: 0.544 Accuracy: 0.800\n",
      "[Epoch 139, Batch 500] Loss: 0.534 Accuracy: 0.808\n",
      "[Epoch 139, Batch 600] Loss: 0.531 Accuracy: 0.811\n",
      "[Epoch 139, Batch 700] Loss: 0.537 Accuracy: 0.807\n",
      "[Epoch 139, Batch 800] Loss: 0.544 Accuracy: 0.801\n",
      "[Epoch 139, Batch 900] Loss: 0.533 Accuracy: 0.810\n",
      "[Epoch 139, Batch 1000] Loss: 0.540 Accuracy: 0.803\n",
      "[Epoch 139, Batch 1100] Loss: 0.534 Accuracy: 0.808\n",
      "[Epoch 139, Batch 1200] Loss: 0.535 Accuracy: 0.808\n",
      "[Epoch 139, Batch 1300] Loss: 0.537 Accuracy: 0.805\n",
      "[Epoch 139, Batch 1400] Loss: 0.544 Accuracy: 0.799\n",
      "[Epoch 139, Batch 1500] Loss: 0.537 Accuracy: 0.806\n",
      "[Epoch 139, Batch 1600] Loss: 0.535 Accuracy: 0.807\n",
      "[Epoch 139, Batch 1700] Loss: 0.541 Accuracy: 0.802\n",
      "[Epoch 139, Batch 1800] Loss: 0.535 Accuracy: 0.809\n",
      "[Epoch 139, Batch 1900] Loss: 0.535 Accuracy: 0.808\n"
     ]
    },
    {
     "name": "stderr",
     "output_type": "stream",
     "text": [
      "/opt/conda/lib/python3.7/site-packages/torch/utils/data/dataloader.py:557: UserWarning: This DataLoader will create 4 worker processes in total. Our suggested max number of worker in current system is 2, which is smaller than what this DataLoader is going to create. Please be aware that excessive worker creation might get DataLoader running slow or even freeze, lower the worker number to avoid potential slowness/freeze if necessary.\n",
      "  cpuset_checked))\n"
     ]
    },
    {
     "name": "stdout",
     "output_type": "stream",
     "text": [
      "Epoch 139 Val Loss: 0.5394343854672459 \t\t Val Accuracy: 0.8033104497475972\n"
     ]
    },
    {
     "name": "stderr",
     "output_type": "stream",
     "text": [
      "/opt/conda/lib/python3.7/site-packages/torch/utils/data/dataloader.py:557: UserWarning: This DataLoader will create 4 worker processes in total. Our suggested max number of worker in current system is 2, which is smaller than what this DataLoader is going to create. Please be aware that excessive worker creation might get DataLoader running slow or even freeze, lower the worker number to avoid potential slowness/freeze if necessary.\n",
      "  cpuset_checked))\n"
     ]
    },
    {
     "name": "stdout",
     "output_type": "stream",
     "text": [
      "[Epoch 140, Batch 100] Loss: 0.536 Accuracy: 0.805\n",
      "[Epoch 140, Batch 200] Loss: 0.539 Accuracy: 0.805\n",
      "[Epoch 140, Batch 300] Loss: 0.535 Accuracy: 0.807\n",
      "[Epoch 140, Batch 400] Loss: 0.536 Accuracy: 0.807\n",
      "[Epoch 140, Batch 500] Loss: 0.540 Accuracy: 0.803\n",
      "[Epoch 140, Batch 600] Loss: 0.540 Accuracy: 0.803\n",
      "[Epoch 140, Batch 700] Loss: 0.531 Accuracy: 0.812\n",
      "[Epoch 140, Batch 800] Loss: 0.535 Accuracy: 0.809\n",
      "[Epoch 140, Batch 900] Loss: 0.539 Accuracy: 0.804\n",
      "[Epoch 140, Batch 1000] Loss: 0.541 Accuracy: 0.803\n",
      "[Epoch 140, Batch 1100] Loss: 0.531 Accuracy: 0.811\n",
      "[Epoch 140, Batch 1200] Loss: 0.545 Accuracy: 0.799\n",
      "[Epoch 140, Batch 1300] Loss: 0.536 Accuracy: 0.807\n",
      "[Epoch 140, Batch 1400] Loss: 0.535 Accuracy: 0.808\n",
      "[Epoch 140, Batch 1500] Loss: 0.538 Accuracy: 0.805\n",
      "[Epoch 140, Batch 1600] Loss: 0.541 Accuracy: 0.802\n",
      "[Epoch 140, Batch 1700] Loss: 0.529 Accuracy: 0.813\n",
      "[Epoch 140, Batch 1800] Loss: 0.540 Accuracy: 0.805\n",
      "[Epoch 140, Batch 1900] Loss: 0.540 Accuracy: 0.805\n"
     ]
    },
    {
     "name": "stderr",
     "output_type": "stream",
     "text": [
      "/opt/conda/lib/python3.7/site-packages/torch/utils/data/dataloader.py:557: UserWarning: This DataLoader will create 4 worker processes in total. Our suggested max number of worker in current system is 2, which is smaller than what this DataLoader is going to create. Please be aware that excessive worker creation might get DataLoader running slow or even freeze, lower the worker number to avoid potential slowness/freeze if necessary.\n",
      "  cpuset_checked))\n"
     ]
    },
    {
     "name": "stdout",
     "output_type": "stream",
     "text": [
      "Epoch 140 Val Loss: 0.5392292430362549 \t\t Val Accuracy: 0.803454636193401\n"
     ]
    },
    {
     "name": "stderr",
     "output_type": "stream",
     "text": [
      "/opt/conda/lib/python3.7/site-packages/torch/utils/data/dataloader.py:557: UserWarning: This DataLoader will create 4 worker processes in total. Our suggested max number of worker in current system is 2, which is smaller than what this DataLoader is going to create. Please be aware that excessive worker creation might get DataLoader running slow or even freeze, lower the worker number to avoid potential slowness/freeze if necessary.\n",
      "  cpuset_checked))\n"
     ]
    },
    {
     "name": "stdout",
     "output_type": "stream",
     "text": [
      "[Epoch 141, Batch 100] Loss: 0.534 Accuracy: 0.808\n",
      "[Epoch 141, Batch 200] Loss: 0.532 Accuracy: 0.810\n",
      "[Epoch 141, Batch 300] Loss: 0.539 Accuracy: 0.804\n",
      "[Epoch 141, Batch 400] Loss: 0.528 Accuracy: 0.814\n",
      "[Epoch 141, Batch 500] Loss: 0.539 Accuracy: 0.805\n",
      "[Epoch 141, Batch 600] Loss: 0.539 Accuracy: 0.804\n",
      "[Epoch 141, Batch 700] Loss: 0.545 Accuracy: 0.799\n",
      "[Epoch 141, Batch 800] Loss: 0.541 Accuracy: 0.803\n",
      "[Epoch 141, Batch 900] Loss: 0.536 Accuracy: 0.806\n",
      "[Epoch 141, Batch 1000] Loss: 0.535 Accuracy: 0.808\n",
      "[Epoch 141, Batch 1100] Loss: 0.533 Accuracy: 0.809\n",
      "[Epoch 141, Batch 1200] Loss: 0.529 Accuracy: 0.813\n",
      "[Epoch 141, Batch 1300] Loss: 0.538 Accuracy: 0.805\n",
      "[Epoch 141, Batch 1400] Loss: 0.534 Accuracy: 0.808\n",
      "[Epoch 141, Batch 1500] Loss: 0.536 Accuracy: 0.807\n",
      "[Epoch 141, Batch 1600] Loss: 0.543 Accuracy: 0.802\n",
      "[Epoch 141, Batch 1700] Loss: 0.539 Accuracy: 0.804\n",
      "[Epoch 141, Batch 1800] Loss: 0.541 Accuracy: 0.803\n",
      "[Epoch 141, Batch 1900] Loss: 0.541 Accuracy: 0.802\n"
     ]
    },
    {
     "name": "stderr",
     "output_type": "stream",
     "text": [
      "/opt/conda/lib/python3.7/site-packages/torch/utils/data/dataloader.py:557: UserWarning: This DataLoader will create 4 worker processes in total. Our suggested max number of worker in current system is 2, which is smaller than what this DataLoader is going to create. Please be aware that excessive worker creation might get DataLoader running slow or even freeze, lower the worker number to avoid potential slowness/freeze if necessary.\n",
      "  cpuset_checked))\n"
     ]
    },
    {
     "name": "stdout",
     "output_type": "stream",
     "text": [
      "Epoch 141 Val Loss: 0.538988106581102 \t\t Val Accuracy: 0.804130418464971\n"
     ]
    },
    {
     "name": "stderr",
     "output_type": "stream",
     "text": [
      "/opt/conda/lib/python3.7/site-packages/torch/utils/data/dataloader.py:557: UserWarning: This DataLoader will create 4 worker processes in total. Our suggested max number of worker in current system is 2, which is smaller than what this DataLoader is going to create. Please be aware that excessive worker creation might get DataLoader running slow or even freeze, lower the worker number to avoid potential slowness/freeze if necessary.\n",
      "  cpuset_checked))\n"
     ]
    },
    {
     "name": "stdout",
     "output_type": "stream",
     "text": [
      "[Epoch 142, Batch 100] Loss: 0.535 Accuracy: 0.806\n",
      "[Epoch 142, Batch 200] Loss: 0.538 Accuracy: 0.805\n",
      "[Epoch 142, Batch 300] Loss: 0.536 Accuracy: 0.807\n",
      "[Epoch 142, Batch 400] Loss: 0.543 Accuracy: 0.801\n",
      "[Epoch 142, Batch 500] Loss: 0.537 Accuracy: 0.806\n",
      "[Epoch 142, Batch 600] Loss: 0.540 Accuracy: 0.803\n",
      "[Epoch 142, Batch 700] Loss: 0.535 Accuracy: 0.808\n",
      "[Epoch 142, Batch 800] Loss: 0.543 Accuracy: 0.800\n",
      "[Epoch 142, Batch 900] Loss: 0.536 Accuracy: 0.807\n",
      "[Epoch 142, Batch 1000] Loss: 0.539 Accuracy: 0.805\n",
      "[Epoch 142, Batch 1100] Loss: 0.531 Accuracy: 0.811\n",
      "[Epoch 142, Batch 1200] Loss: 0.532 Accuracy: 0.810\n",
      "[Epoch 142, Batch 1300] Loss: 0.537 Accuracy: 0.806\n",
      "[Epoch 142, Batch 1400] Loss: 0.533 Accuracy: 0.810\n",
      "[Epoch 142, Batch 1500] Loss: 0.533 Accuracy: 0.810\n",
      "[Epoch 142, Batch 1600] Loss: 0.535 Accuracy: 0.808\n",
      "[Epoch 142, Batch 1700] Loss: 0.544 Accuracy: 0.800\n",
      "[Epoch 142, Batch 1800] Loss: 0.536 Accuracy: 0.807\n",
      "[Epoch 142, Batch 1900] Loss: 0.537 Accuracy: 0.807\n"
     ]
    },
    {
     "name": "stderr",
     "output_type": "stream",
     "text": [
      "/opt/conda/lib/python3.7/site-packages/torch/utils/data/dataloader.py:557: UserWarning: This DataLoader will create 4 worker processes in total. Our suggested max number of worker in current system is 2, which is smaller than what this DataLoader is going to create. Please be aware that excessive worker creation might get DataLoader running slow or even freeze, lower the worker number to avoid potential slowness/freeze if necessary.\n",
      "  cpuset_checked))\n"
     ]
    },
    {
     "name": "stdout",
     "output_type": "stream",
     "text": [
      "Epoch 142 Val Loss: 0.5424615740776062 \t\t Val Accuracy: 0.800788457199339\n"
     ]
    },
    {
     "name": "stderr",
     "output_type": "stream",
     "text": [
      "/opt/conda/lib/python3.7/site-packages/torch/utils/data/dataloader.py:557: UserWarning: This DataLoader will create 4 worker processes in total. Our suggested max number of worker in current system is 2, which is smaller than what this DataLoader is going to create. Please be aware that excessive worker creation might get DataLoader running slow or even freeze, lower the worker number to avoid potential slowness/freeze if necessary.\n",
      "  cpuset_checked))\n"
     ]
    },
    {
     "name": "stdout",
     "output_type": "stream",
     "text": [
      "[Epoch 143, Batch 100] Loss: 0.532 Accuracy: 0.810\n",
      "[Epoch 143, Batch 200] Loss: 0.537 Accuracy: 0.805\n",
      "[Epoch 143, Batch 300] Loss: 0.537 Accuracy: 0.807\n",
      "[Epoch 143, Batch 400] Loss: 0.536 Accuracy: 0.806\n",
      "[Epoch 143, Batch 500] Loss: 0.534 Accuracy: 0.808\n",
      "[Epoch 143, Batch 600] Loss: 0.532 Accuracy: 0.809\n",
      "[Epoch 143, Batch 700] Loss: 0.541 Accuracy: 0.802\n",
      "[Epoch 143, Batch 800] Loss: 0.544 Accuracy: 0.800\n",
      "[Epoch 143, Batch 900] Loss: 0.536 Accuracy: 0.807\n",
      "[Epoch 143, Batch 1000] Loss: 0.534 Accuracy: 0.808\n",
      "[Epoch 143, Batch 1100] Loss: 0.543 Accuracy: 0.800\n",
      "[Epoch 143, Batch 1200] Loss: 0.534 Accuracy: 0.809\n",
      "[Epoch 143, Batch 1300] Loss: 0.539 Accuracy: 0.805\n",
      "[Epoch 143, Batch 1400] Loss: 0.538 Accuracy: 0.806\n",
      "[Epoch 143, Batch 1500] Loss: 0.541 Accuracy: 0.802\n",
      "[Epoch 143, Batch 1600] Loss: 0.538 Accuracy: 0.806\n",
      "[Epoch 143, Batch 1700] Loss: 0.540 Accuracy: 0.803\n",
      "[Epoch 143, Batch 1800] Loss: 0.529 Accuracy: 0.813\n",
      "[Epoch 143, Batch 1900] Loss: 0.534 Accuracy: 0.808\n"
     ]
    },
    {
     "name": "stderr",
     "output_type": "stream",
     "text": [
      "/opt/conda/lib/python3.7/site-packages/torch/utils/data/dataloader.py:557: UserWarning: This DataLoader will create 4 worker processes in total. Our suggested max number of worker in current system is 2, which is smaller than what this DataLoader is going to create. Please be aware that excessive worker creation might get DataLoader running slow or even freeze, lower the worker number to avoid potential slowness/freeze if necessary.\n",
      "  cpuset_checked))\n"
     ]
    },
    {
     "name": "stdout",
     "output_type": "stream",
     "text": [
      "Epoch 143 Val Loss: 0.5398398537233652 \t\t Val Accuracy: 0.8039469992225452\n"
     ]
    },
    {
     "name": "stderr",
     "output_type": "stream",
     "text": [
      "/opt/conda/lib/python3.7/site-packages/torch/utils/data/dataloader.py:557: UserWarning: This DataLoader will create 4 worker processes in total. Our suggested max number of worker in current system is 2, which is smaller than what this DataLoader is going to create. Please be aware that excessive worker creation might get DataLoader running slow or even freeze, lower the worker number to avoid potential slowness/freeze if necessary.\n",
      "  cpuset_checked))\n"
     ]
    },
    {
     "name": "stdout",
     "output_type": "stream",
     "text": [
      "[Epoch 144, Batch 100] Loss: 0.532 Accuracy: 0.811\n",
      "[Epoch 144, Batch 200] Loss: 0.536 Accuracy: 0.808\n",
      "[Epoch 144, Batch 300] Loss: 0.540 Accuracy: 0.803\n",
      "[Epoch 144, Batch 400] Loss: 0.536 Accuracy: 0.807\n",
      "[Epoch 144, Batch 500] Loss: 0.534 Accuracy: 0.809\n",
      "[Epoch 144, Batch 600] Loss: 0.540 Accuracy: 0.804\n",
      "[Epoch 144, Batch 700] Loss: 0.538 Accuracy: 0.805\n",
      "[Epoch 144, Batch 800] Loss: 0.538 Accuracy: 0.806\n",
      "[Epoch 144, Batch 900] Loss: 0.532 Accuracy: 0.810\n",
      "[Epoch 144, Batch 1000] Loss: 0.538 Accuracy: 0.803\n",
      "[Epoch 144, Batch 1100] Loss: 0.534 Accuracy: 0.809\n",
      "[Epoch 144, Batch 1200] Loss: 0.537 Accuracy: 0.806\n",
      "[Epoch 144, Batch 1300] Loss: 0.531 Accuracy: 0.811\n",
      "[Epoch 144, Batch 1400] Loss: 0.539 Accuracy: 0.805\n",
      "[Epoch 144, Batch 1500] Loss: 0.537 Accuracy: 0.806\n",
      "[Epoch 144, Batch 1600] Loss: 0.535 Accuracy: 0.808\n",
      "[Epoch 144, Batch 1700] Loss: 0.537 Accuracy: 0.806\n",
      "[Epoch 144, Batch 1800] Loss: 0.536 Accuracy: 0.807\n",
      "[Epoch 144, Batch 1900] Loss: 0.538 Accuracy: 0.806\n"
     ]
    },
    {
     "name": "stderr",
     "output_type": "stream",
     "text": [
      "/opt/conda/lib/python3.7/site-packages/torch/utils/data/dataloader.py:557: UserWarning: This DataLoader will create 4 worker processes in total. Our suggested max number of worker in current system is 2, which is smaller than what this DataLoader is going to create. Please be aware that excessive worker creation might get DataLoader running slow or even freeze, lower the worker number to avoid potential slowness/freeze if necessary.\n",
      "  cpuset_checked))\n"
     ]
    },
    {
     "name": "stdout",
     "output_type": "stream",
     "text": [
      "Epoch 144 Val Loss: 0.5409774233299087 \t\t Val Accuracy: 0.8029908741913041\n"
     ]
    },
    {
     "name": "stderr",
     "output_type": "stream",
     "text": [
      "/opt/conda/lib/python3.7/site-packages/torch/utils/data/dataloader.py:557: UserWarning: This DataLoader will create 4 worker processes in total. Our suggested max number of worker in current system is 2, which is smaller than what this DataLoader is going to create. Please be aware that excessive worker creation might get DataLoader running slow or even freeze, lower the worker number to avoid potential slowness/freeze if necessary.\n",
      "  cpuset_checked))\n"
     ]
    },
    {
     "name": "stdout",
     "output_type": "stream",
     "text": [
      "[Epoch 145, Batch 100] Loss: 0.536 Accuracy: 0.806\n",
      "[Epoch 145, Batch 200] Loss: 0.532 Accuracy: 0.810\n",
      "[Epoch 145, Batch 300] Loss: 0.537 Accuracy: 0.807\n",
      "[Epoch 145, Batch 400] Loss: 0.542 Accuracy: 0.802\n",
      "[Epoch 145, Batch 500] Loss: 0.536 Accuracy: 0.808\n",
      "[Epoch 145, Batch 600] Loss: 0.539 Accuracy: 0.803\n",
      "[Epoch 145, Batch 700] Loss: 0.533 Accuracy: 0.811\n",
      "[Epoch 145, Batch 800] Loss: 0.538 Accuracy: 0.805\n",
      "[Epoch 145, Batch 900] Loss: 0.533 Accuracy: 0.809\n",
      "[Epoch 145, Batch 1000] Loss: 0.537 Accuracy: 0.806\n",
      "[Epoch 145, Batch 1100] Loss: 0.534 Accuracy: 0.808\n",
      "[Epoch 145, Batch 1200] Loss: 0.539 Accuracy: 0.805\n",
      "[Epoch 145, Batch 1300] Loss: 0.540 Accuracy: 0.803\n",
      "[Epoch 145, Batch 1400] Loss: 0.531 Accuracy: 0.810\n",
      "[Epoch 145, Batch 1500] Loss: 0.540 Accuracy: 0.802\n",
      "[Epoch 145, Batch 1600] Loss: 0.535 Accuracy: 0.808\n",
      "[Epoch 145, Batch 1700] Loss: 0.539 Accuracy: 0.804\n",
      "[Epoch 145, Batch 1800] Loss: 0.543 Accuracy: 0.801\n",
      "[Epoch 145, Batch 1900] Loss: 0.534 Accuracy: 0.809\n"
     ]
    },
    {
     "name": "stderr",
     "output_type": "stream",
     "text": [
      "/opt/conda/lib/python3.7/site-packages/torch/utils/data/dataloader.py:557: UserWarning: This DataLoader will create 4 worker processes in total. Our suggested max number of worker in current system is 2, which is smaller than what this DataLoader is going to create. Please be aware that excessive worker creation might get DataLoader running slow or even freeze, lower the worker number to avoid potential slowness/freeze if necessary.\n",
      "  cpuset_checked))\n"
     ]
    },
    {
     "name": "stdout",
     "output_type": "stream",
     "text": [
      "Epoch 145 Val Loss: 0.5390738198556095 \t\t Val Accuracy: 0.8036886441278697\n"
     ]
    },
    {
     "name": "stderr",
     "output_type": "stream",
     "text": [
      "/opt/conda/lib/python3.7/site-packages/torch/utils/data/dataloader.py:557: UserWarning: This DataLoader will create 4 worker processes in total. Our suggested max number of worker in current system is 2, which is smaller than what this DataLoader is going to create. Please be aware that excessive worker creation might get DataLoader running slow or even freeze, lower the worker number to avoid potential slowness/freeze if necessary.\n",
      "  cpuset_checked))\n"
     ]
    },
    {
     "name": "stdout",
     "output_type": "stream",
     "text": [
      "[Epoch 146, Batch 100] Loss: 0.537 Accuracy: 0.805\n",
      "[Epoch 146, Batch 200] Loss: 0.534 Accuracy: 0.809\n",
      "[Epoch 146, Batch 300] Loss: 0.537 Accuracy: 0.807\n",
      "[Epoch 146, Batch 400] Loss: 0.536 Accuracy: 0.807\n",
      "[Epoch 146, Batch 500] Loss: 0.542 Accuracy: 0.802\n",
      "[Epoch 146, Batch 600] Loss: 0.535 Accuracy: 0.808\n",
      "[Epoch 146, Batch 700] Loss: 0.530 Accuracy: 0.812\n",
      "[Epoch 146, Batch 800] Loss: 0.538 Accuracy: 0.806\n",
      "[Epoch 146, Batch 900] Loss: 0.539 Accuracy: 0.805\n",
      "[Epoch 146, Batch 1000] Loss: 0.535 Accuracy: 0.809\n",
      "[Epoch 146, Batch 1100] Loss: 0.540 Accuracy: 0.803\n",
      "[Epoch 146, Batch 1200] Loss: 0.535 Accuracy: 0.806\n",
      "[Epoch 146, Batch 1300] Loss: 0.532 Accuracy: 0.810\n",
      "[Epoch 146, Batch 1400] Loss: 0.535 Accuracy: 0.808\n",
      "[Epoch 146, Batch 1500] Loss: 0.541 Accuracy: 0.805\n",
      "[Epoch 146, Batch 1600] Loss: 0.540 Accuracy: 0.804\n",
      "[Epoch 146, Batch 1700] Loss: 0.541 Accuracy: 0.802\n",
      "[Epoch 146, Batch 1800] Loss: 0.535 Accuracy: 0.808\n",
      "[Epoch 146, Batch 1900] Loss: 0.536 Accuracy: 0.805\n"
     ]
    },
    {
     "name": "stderr",
     "output_type": "stream",
     "text": [
      "/opt/conda/lib/python3.7/site-packages/torch/utils/data/dataloader.py:557: UserWarning: This DataLoader will create 4 worker processes in total. Our suggested max number of worker in current system is 2, which is smaller than what this DataLoader is going to create. Please be aware that excessive worker creation might get DataLoader running slow or even freeze, lower the worker number to avoid potential slowness/freeze if necessary.\n",
      "  cpuset_checked))\n"
     ]
    },
    {
     "name": "stdout",
     "output_type": "stream",
     "text": [
      "Epoch 146 Val Loss: 0.5398967961470286 \t\t Val Accuracy: 0.8034338119306684\n"
     ]
    },
    {
     "name": "stderr",
     "output_type": "stream",
     "text": [
      "/opt/conda/lib/python3.7/site-packages/torch/utils/data/dataloader.py:557: UserWarning: This DataLoader will create 4 worker processes in total. Our suggested max number of worker in current system is 2, which is smaller than what this DataLoader is going to create. Please be aware that excessive worker creation might get DataLoader running slow or even freeze, lower the worker number to avoid potential slowness/freeze if necessary.\n",
      "  cpuset_checked))\n"
     ]
    },
    {
     "name": "stdout",
     "output_type": "stream",
     "text": [
      "[Epoch 147, Batch 100] Loss: 0.536 Accuracy: 0.807\n",
      "[Epoch 147, Batch 200] Loss: 0.537 Accuracy: 0.806\n",
      "[Epoch 147, Batch 300] Loss: 0.537 Accuracy: 0.807\n",
      "[Epoch 147, Batch 400] Loss: 0.534 Accuracy: 0.808\n",
      "[Epoch 147, Batch 500] Loss: 0.533 Accuracy: 0.809\n",
      "[Epoch 147, Batch 600] Loss: 0.541 Accuracy: 0.802\n",
      "[Epoch 147, Batch 700] Loss: 0.535 Accuracy: 0.808\n",
      "[Epoch 147, Batch 800] Loss: 0.540 Accuracy: 0.803\n",
      "[Epoch 147, Batch 900] Loss: 0.541 Accuracy: 0.803\n",
      "[Epoch 147, Batch 1000] Loss: 0.533 Accuracy: 0.810\n",
      "[Epoch 147, Batch 1100] Loss: 0.536 Accuracy: 0.808\n",
      "[Epoch 147, Batch 1200] Loss: 0.536 Accuracy: 0.807\n",
      "[Epoch 147, Batch 1300] Loss: 0.536 Accuracy: 0.806\n",
      "[Epoch 147, Batch 1400] Loss: 0.539 Accuracy: 0.804\n",
      "[Epoch 147, Batch 1500] Loss: 0.538 Accuracy: 0.805\n",
      "[Epoch 147, Batch 1600] Loss: 0.538 Accuracy: 0.805\n",
      "[Epoch 147, Batch 1700] Loss: 0.537 Accuracy: 0.806\n",
      "[Epoch 147, Batch 1800] Loss: 0.540 Accuracy: 0.804\n",
      "[Epoch 147, Batch 1900] Loss: 0.530 Accuracy: 0.813\n"
     ]
    },
    {
     "name": "stderr",
     "output_type": "stream",
     "text": [
      "/opt/conda/lib/python3.7/site-packages/torch/utils/data/dataloader.py:557: UserWarning: This DataLoader will create 4 worker processes in total. Our suggested max number of worker in current system is 2, which is smaller than what this DataLoader is going to create. Please be aware that excessive worker creation might get DataLoader running slow or even freeze, lower the worker number to avoid potential slowness/freeze if necessary.\n",
      "  cpuset_checked))\n"
     ]
    },
    {
     "name": "stdout",
     "output_type": "stream",
     "text": [
      "Epoch 147 Val Loss: 0.539258900416424 \t\t Val Accuracy: 0.8045479385392091\n"
     ]
    },
    {
     "name": "stderr",
     "output_type": "stream",
     "text": [
      "/opt/conda/lib/python3.7/site-packages/torch/utils/data/dataloader.py:557: UserWarning: This DataLoader will create 4 worker processes in total. Our suggested max number of worker in current system is 2, which is smaller than what this DataLoader is going to create. Please be aware that excessive worker creation might get DataLoader running slow or even freeze, lower the worker number to avoid potential slowness/freeze if necessary.\n",
      "  cpuset_checked))\n"
     ]
    },
    {
     "name": "stdout",
     "output_type": "stream",
     "text": [
      "[Epoch 148, Batch 100] Loss: 0.540 Accuracy: 0.802\n",
      "[Epoch 148, Batch 200] Loss: 0.539 Accuracy: 0.804\n",
      "[Epoch 148, Batch 300] Loss: 0.540 Accuracy: 0.804\n",
      "[Epoch 148, Batch 400] Loss: 0.536 Accuracy: 0.807\n",
      "[Epoch 148, Batch 500] Loss: 0.537 Accuracy: 0.804\n",
      "[Epoch 148, Batch 600] Loss: 0.537 Accuracy: 0.806\n",
      "[Epoch 148, Batch 700] Loss: 0.535 Accuracy: 0.807\n",
      "[Epoch 148, Batch 800] Loss: 0.535 Accuracy: 0.808\n",
      "[Epoch 148, Batch 900] Loss: 0.534 Accuracy: 0.810\n",
      "[Epoch 148, Batch 1000] Loss: 0.536 Accuracy: 0.806\n",
      "[Epoch 148, Batch 1100] Loss: 0.535 Accuracy: 0.808\n",
      "[Epoch 148, Batch 1200] Loss: 0.536 Accuracy: 0.807\n",
      "[Epoch 148, Batch 1300] Loss: 0.540 Accuracy: 0.804\n",
      "[Epoch 148, Batch 1400] Loss: 0.544 Accuracy: 0.800\n",
      "[Epoch 148, Batch 1500] Loss: 0.531 Accuracy: 0.811\n",
      "[Epoch 148, Batch 1600] Loss: 0.534 Accuracy: 0.810\n",
      "[Epoch 148, Batch 1700] Loss: 0.538 Accuracy: 0.805\n",
      "[Epoch 148, Batch 1800] Loss: 0.530 Accuracy: 0.813\n",
      "[Epoch 148, Batch 1900] Loss: 0.539 Accuracy: 0.804\n"
     ]
    },
    {
     "name": "stderr",
     "output_type": "stream",
     "text": [
      "/opt/conda/lib/python3.7/site-packages/torch/utils/data/dataloader.py:557: UserWarning: This DataLoader will create 4 worker processes in total. Our suggested max number of worker in current system is 2, which is smaller than what this DataLoader is going to create. Please be aware that excessive worker creation might get DataLoader running slow or even freeze, lower the worker number to avoid potential slowness/freeze if necessary.\n",
      "  cpuset_checked))\n"
     ]
    },
    {
     "name": "stdout",
     "output_type": "stream",
     "text": [
      "Epoch 148 Val Loss: 0.539388487497008 \t\t Val Accuracy: 0.8041604658128467\n"
     ]
    },
    {
     "name": "stderr",
     "output_type": "stream",
     "text": [
      "/opt/conda/lib/python3.7/site-packages/torch/utils/data/dataloader.py:557: UserWarning: This DataLoader will create 4 worker processes in total. Our suggested max number of worker in current system is 2, which is smaller than what this DataLoader is going to create. Please be aware that excessive worker creation might get DataLoader running slow or even freeze, lower the worker number to avoid potential slowness/freeze if necessary.\n",
      "  cpuset_checked))\n"
     ]
    },
    {
     "name": "stdout",
     "output_type": "stream",
     "text": [
      "[Epoch 149, Batch 100] Loss: 0.536 Accuracy: 0.807\n",
      "[Epoch 149, Batch 200] Loss: 0.538 Accuracy: 0.804\n",
      "[Epoch 149, Batch 300] Loss: 0.540 Accuracy: 0.804\n",
      "[Epoch 149, Batch 400] Loss: 0.536 Accuracy: 0.807\n",
      "[Epoch 149, Batch 500] Loss: 0.529 Accuracy: 0.813\n",
      "[Epoch 149, Batch 600] Loss: 0.536 Accuracy: 0.808\n",
      "[Epoch 149, Batch 700] Loss: 0.543 Accuracy: 0.801\n",
      "[Epoch 149, Batch 800] Loss: 0.538 Accuracy: 0.805\n",
      "[Epoch 149, Batch 900] Loss: 0.535 Accuracy: 0.807\n",
      "[Epoch 149, Batch 1000] Loss: 0.541 Accuracy: 0.803\n",
      "[Epoch 149, Batch 1100] Loss: 0.538 Accuracy: 0.804\n",
      "[Epoch 149, Batch 1200] Loss: 0.531 Accuracy: 0.812\n",
      "[Epoch 149, Batch 1300] Loss: 0.534 Accuracy: 0.809\n",
      "[Epoch 149, Batch 1400] Loss: 0.536 Accuracy: 0.808\n",
      "[Epoch 149, Batch 1500] Loss: 0.538 Accuracy: 0.804\n",
      "[Epoch 149, Batch 1600] Loss: 0.536 Accuracy: 0.807\n",
      "[Epoch 149, Batch 1700] Loss: 0.538 Accuracy: 0.805\n",
      "[Epoch 149, Batch 1800] Loss: 0.532 Accuracy: 0.811\n",
      "[Epoch 149, Batch 1900] Loss: 0.532 Accuracy: 0.810\n"
     ]
    },
    {
     "name": "stderr",
     "output_type": "stream",
     "text": [
      "/opt/conda/lib/python3.7/site-packages/torch/utils/data/dataloader.py:557: UserWarning: This DataLoader will create 4 worker processes in total. Our suggested max number of worker in current system is 2, which is smaller than what this DataLoader is going to create. Please be aware that excessive worker creation might get DataLoader running slow or even freeze, lower the worker number to avoid potential slowness/freeze if necessary.\n",
      "  cpuset_checked))\n"
     ]
    },
    {
     "name": "stdout",
     "output_type": "stream",
     "text": [
      "Epoch 149 Val Loss: 0.5409639460973471 \t\t Val Accuracy: 0.8028930126927198\n"
     ]
    },
    {
     "name": "stderr",
     "output_type": "stream",
     "text": [
      "/opt/conda/lib/python3.7/site-packages/torch/utils/data/dataloader.py:557: UserWarning: This DataLoader will create 4 worker processes in total. Our suggested max number of worker in current system is 2, which is smaller than what this DataLoader is going to create. Please be aware that excessive worker creation might get DataLoader running slow or even freeze, lower the worker number to avoid potential slowness/freeze if necessary.\n",
      "  cpuset_checked))\n"
     ]
    },
    {
     "name": "stdout",
     "output_type": "stream",
     "text": [
      "[Epoch 150, Batch 100] Loss: 0.534 Accuracy: 0.809\n",
      "[Epoch 150, Batch 200] Loss: 0.533 Accuracy: 0.810\n",
      "[Epoch 150, Batch 300] Loss: 0.532 Accuracy: 0.810\n",
      "[Epoch 150, Batch 400] Loss: 0.534 Accuracy: 0.807\n",
      "[Epoch 150, Batch 500] Loss: 0.538 Accuracy: 0.805\n",
      "[Epoch 150, Batch 600] Loss: 0.539 Accuracy: 0.804\n",
      "[Epoch 150, Batch 700] Loss: 0.537 Accuracy: 0.806\n",
      "[Epoch 150, Batch 800] Loss: 0.531 Accuracy: 0.810\n",
      "[Epoch 150, Batch 900] Loss: 0.541 Accuracy: 0.803\n",
      "[Epoch 150, Batch 1000] Loss: 0.540 Accuracy: 0.803\n",
      "[Epoch 150, Batch 1100] Loss: 0.534 Accuracy: 0.808\n",
      "[Epoch 150, Batch 1200] Loss: 0.531 Accuracy: 0.812\n",
      "[Epoch 150, Batch 1300] Loss: 0.540 Accuracy: 0.803\n",
      "[Epoch 150, Batch 1400] Loss: 0.543 Accuracy: 0.802\n",
      "[Epoch 150, Batch 1500] Loss: 0.539 Accuracy: 0.804\n",
      "[Epoch 150, Batch 1600] Loss: 0.533 Accuracy: 0.810\n",
      "[Epoch 150, Batch 1700] Loss: 0.537 Accuracy: 0.805\n",
      "[Epoch 150, Batch 1800] Loss: 0.532 Accuracy: 0.811\n",
      "[Epoch 150, Batch 1900] Loss: 0.538 Accuracy: 0.806\n"
     ]
    },
    {
     "name": "stderr",
     "output_type": "stream",
     "text": [
      "/opt/conda/lib/python3.7/site-packages/torch/utils/data/dataloader.py:557: UserWarning: This DataLoader will create 4 worker processes in total. Our suggested max number of worker in current system is 2, which is smaller than what this DataLoader is going to create. Please be aware that excessive worker creation might get DataLoader running slow or even freeze, lower the worker number to avoid potential slowness/freeze if necessary.\n",
      "  cpuset_checked))\n"
     ]
    },
    {
     "name": "stdout",
     "output_type": "stream",
     "text": [
      "Epoch 150 Val Loss: 0.5388740393291994 \t\t Val Accuracy: 0.8043929039074039\n"
     ]
    },
    {
     "name": "stderr",
     "output_type": "stream",
     "text": [
      "/opt/conda/lib/python3.7/site-packages/torch/utils/data/dataloader.py:557: UserWarning: This DataLoader will create 4 worker processes in total. Our suggested max number of worker in current system is 2, which is smaller than what this DataLoader is going to create. Please be aware that excessive worker creation might get DataLoader running slow or even freeze, lower the worker number to avoid potential slowness/freeze if necessary.\n",
      "  cpuset_checked))\n"
     ]
    },
    {
     "name": "stdout",
     "output_type": "stream",
     "text": [
      "[Epoch 151, Batch 100] Loss: 0.533 Accuracy: 0.810\n",
      "[Epoch 151, Batch 200] Loss: 0.536 Accuracy: 0.808\n",
      "[Epoch 151, Batch 300] Loss: 0.534 Accuracy: 0.810\n",
      "[Epoch 151, Batch 400] Loss: 0.539 Accuracy: 0.805\n",
      "[Epoch 151, Batch 500] Loss: 0.536 Accuracy: 0.807\n",
      "[Epoch 151, Batch 600] Loss: 0.538 Accuracy: 0.805\n",
      "[Epoch 151, Batch 700] Loss: 0.534 Accuracy: 0.809\n",
      "[Epoch 151, Batch 800] Loss: 0.542 Accuracy: 0.801\n",
      "[Epoch 151, Batch 900] Loss: 0.536 Accuracy: 0.807\n",
      "[Epoch 151, Batch 1000] Loss: 0.533 Accuracy: 0.810\n",
      "[Epoch 151, Batch 1100] Loss: 0.537 Accuracy: 0.806\n",
      "[Epoch 151, Batch 1200] Loss: 0.536 Accuracy: 0.807\n",
      "[Epoch 151, Batch 1300] Loss: 0.536 Accuracy: 0.807\n",
      "[Epoch 151, Batch 1400] Loss: 0.535 Accuracy: 0.808\n",
      "[Epoch 151, Batch 1500] Loss: 0.536 Accuracy: 0.807\n",
      "[Epoch 151, Batch 1600] Loss: 0.530 Accuracy: 0.812\n",
      "[Epoch 151, Batch 1700] Loss: 0.540 Accuracy: 0.803\n",
      "[Epoch 151, Batch 1800] Loss: 0.534 Accuracy: 0.809\n",
      "[Epoch 151, Batch 1900] Loss: 0.539 Accuracy: 0.805\n"
     ]
    },
    {
     "name": "stderr",
     "output_type": "stream",
     "text": [
      "/opt/conda/lib/python3.7/site-packages/torch/utils/data/dataloader.py:557: UserWarning: This DataLoader will create 4 worker processes in total. Our suggested max number of worker in current system is 2, which is smaller than what this DataLoader is going to create. Please be aware that excessive worker creation might get DataLoader running slow or even freeze, lower the worker number to avoid potential slowness/freeze if necessary.\n",
      "  cpuset_checked))\n"
     ]
    },
    {
     "name": "stdout",
     "output_type": "stream",
     "text": [
      "Epoch 151 Val Loss: 0.5395992900951799 \t\t Val Accuracy: 0.8037108929736119\n"
     ]
    },
    {
     "name": "stderr",
     "output_type": "stream",
     "text": [
      "/opt/conda/lib/python3.7/site-packages/torch/utils/data/dataloader.py:557: UserWarning: This DataLoader will create 4 worker processes in total. Our suggested max number of worker in current system is 2, which is smaller than what this DataLoader is going to create. Please be aware that excessive worker creation might get DataLoader running slow or even freeze, lower the worker number to avoid potential slowness/freeze if necessary.\n",
      "  cpuset_checked))\n"
     ]
    },
    {
     "name": "stdout",
     "output_type": "stream",
     "text": [
      "[Epoch 152, Batch 100] Loss: 0.539 Accuracy: 0.804\n",
      "[Epoch 152, Batch 200] Loss: 0.529 Accuracy: 0.812\n",
      "[Epoch 152, Batch 300] Loss: 0.540 Accuracy: 0.803\n",
      "[Epoch 152, Batch 400] Loss: 0.544 Accuracy: 0.800\n",
      "[Epoch 152, Batch 500] Loss: 0.540 Accuracy: 0.803\n",
      "[Epoch 152, Batch 600] Loss: 0.536 Accuracy: 0.806\n",
      "[Epoch 152, Batch 700] Loss: 0.532 Accuracy: 0.810\n",
      "[Epoch 152, Batch 800] Loss: 0.538 Accuracy: 0.804\n",
      "[Epoch 152, Batch 900] Loss: 0.532 Accuracy: 0.810\n",
      "[Epoch 152, Batch 1000] Loss: 0.543 Accuracy: 0.802\n",
      "[Epoch 152, Batch 1100] Loss: 0.531 Accuracy: 0.812\n",
      "[Epoch 152, Batch 1200] Loss: 0.534 Accuracy: 0.808\n",
      "[Epoch 152, Batch 1300] Loss: 0.535 Accuracy: 0.807\n",
      "[Epoch 152, Batch 1400] Loss: 0.531 Accuracy: 0.811\n",
      "[Epoch 152, Batch 1500] Loss: 0.536 Accuracy: 0.807\n",
      "[Epoch 152, Batch 1600] Loss: 0.536 Accuracy: 0.807\n",
      "[Epoch 152, Batch 1700] Loss: 0.537 Accuracy: 0.805\n",
      "[Epoch 152, Batch 1800] Loss: 0.536 Accuracy: 0.807\n",
      "[Epoch 152, Batch 1900] Loss: 0.538 Accuracy: 0.805\n"
     ]
    },
    {
     "name": "stderr",
     "output_type": "stream",
     "text": [
      "/opt/conda/lib/python3.7/site-packages/torch/utils/data/dataloader.py:557: UserWarning: This DataLoader will create 4 worker processes in total. Our suggested max number of worker in current system is 2, which is smaller than what this DataLoader is going to create. Please be aware that excessive worker creation might get DataLoader running slow or even freeze, lower the worker number to avoid potential slowness/freeze if necessary.\n",
      "  cpuset_checked))\n"
     ]
    },
    {
     "name": "stdout",
     "output_type": "stream",
     "text": [
      "Epoch 152 Val Loss: 0.5401760495331392 \t\t Val Accuracy: 0.80288888798272\n"
     ]
    },
    {
     "name": "stderr",
     "output_type": "stream",
     "text": [
      "/opt/conda/lib/python3.7/site-packages/torch/utils/data/dataloader.py:557: UserWarning: This DataLoader will create 4 worker processes in total. Our suggested max number of worker in current system is 2, which is smaller than what this DataLoader is going to create. Please be aware that excessive worker creation might get DataLoader running slow or even freeze, lower the worker number to avoid potential slowness/freeze if necessary.\n",
      "  cpuset_checked))\n"
     ]
    },
    {
     "name": "stdout",
     "output_type": "stream",
     "text": [
      "[Epoch 153, Batch 100] Loss: 0.528 Accuracy: 0.815\n",
      "[Epoch 153, Batch 200] Loss: 0.538 Accuracy: 0.805\n",
      "[Epoch 153, Batch 300] Loss: 0.532 Accuracy: 0.810\n",
      "[Epoch 153, Batch 400] Loss: 0.536 Accuracy: 0.807\n",
      "[Epoch 153, Batch 500] Loss: 0.540 Accuracy: 0.803\n",
      "[Epoch 153, Batch 600] Loss: 0.539 Accuracy: 0.803\n",
      "[Epoch 153, Batch 700] Loss: 0.535 Accuracy: 0.807\n",
      "[Epoch 153, Batch 800] Loss: 0.533 Accuracy: 0.810\n",
      "[Epoch 153, Batch 900] Loss: 0.534 Accuracy: 0.808\n",
      "[Epoch 153, Batch 1000] Loss: 0.536 Accuracy: 0.806\n",
      "[Epoch 153, Batch 1100] Loss: 0.531 Accuracy: 0.811\n",
      "[Epoch 153, Batch 1200] Loss: 0.536 Accuracy: 0.807\n",
      "[Epoch 153, Batch 1300] Loss: 0.537 Accuracy: 0.805\n",
      "[Epoch 153, Batch 1400] Loss: 0.534 Accuracy: 0.808\n",
      "[Epoch 153, Batch 1500] Loss: 0.535 Accuracy: 0.808\n",
      "[Epoch 153, Batch 1600] Loss: 0.542 Accuracy: 0.802\n",
      "[Epoch 153, Batch 1700] Loss: 0.536 Accuracy: 0.807\n",
      "[Epoch 153, Batch 1800] Loss: 0.539 Accuracy: 0.803\n",
      "[Epoch 153, Batch 1900] Loss: 0.539 Accuracy: 0.804\n"
     ]
    },
    {
     "name": "stderr",
     "output_type": "stream",
     "text": [
      "/opt/conda/lib/python3.7/site-packages/torch/utils/data/dataloader.py:557: UserWarning: This DataLoader will create 4 worker processes in total. Our suggested max number of worker in current system is 2, which is smaller than what this DataLoader is going to create. Please be aware that excessive worker creation might get DataLoader running slow or even freeze, lower the worker number to avoid potential slowness/freeze if necessary.\n",
      "  cpuset_checked))\n"
     ]
    },
    {
     "name": "stdout",
     "output_type": "stream",
     "text": [
      "Epoch 153 Val Loss: 0.5385153509048094 \t\t Val Accuracy: 0.8041837568511564\n"
     ]
    },
    {
     "name": "stderr",
     "output_type": "stream",
     "text": [
      "/opt/conda/lib/python3.7/site-packages/torch/utils/data/dataloader.py:557: UserWarning: This DataLoader will create 4 worker processes in total. Our suggested max number of worker in current system is 2, which is smaller than what this DataLoader is going to create. Please be aware that excessive worker creation might get DataLoader running slow or even freeze, lower the worker number to avoid potential slowness/freeze if necessary.\n",
      "  cpuset_checked))\n"
     ]
    },
    {
     "name": "stdout",
     "output_type": "stream",
     "text": [
      "[Epoch 154, Batch 100] Loss: 0.540 Accuracy: 0.803\n",
      "[Epoch 154, Batch 200] Loss: 0.535 Accuracy: 0.807\n",
      "[Epoch 154, Batch 300] Loss: 0.533 Accuracy: 0.809\n",
      "[Epoch 154, Batch 400] Loss: 0.536 Accuracy: 0.806\n",
      "[Epoch 154, Batch 500] Loss: 0.537 Accuracy: 0.806\n",
      "[Epoch 154, Batch 600] Loss: 0.528 Accuracy: 0.813\n",
      "[Epoch 154, Batch 700] Loss: 0.536 Accuracy: 0.807\n",
      "[Epoch 154, Batch 800] Loss: 0.536 Accuracy: 0.807\n",
      "[Epoch 154, Batch 900] Loss: 0.535 Accuracy: 0.808\n",
      "[Epoch 154, Batch 1000] Loss: 0.531 Accuracy: 0.810\n",
      "[Epoch 154, Batch 1100] Loss: 0.536 Accuracy: 0.807\n",
      "[Epoch 154, Batch 1200] Loss: 0.531 Accuracy: 0.811\n",
      "[Epoch 154, Batch 1300] Loss: 0.532 Accuracy: 0.810\n",
      "[Epoch 154, Batch 1400] Loss: 0.539 Accuracy: 0.804\n",
      "[Epoch 154, Batch 1500] Loss: 0.528 Accuracy: 0.813\n",
      "[Epoch 154, Batch 1600] Loss: 0.546 Accuracy: 0.799\n",
      "[Epoch 154, Batch 1700] Loss: 0.542 Accuracy: 0.801\n",
      "[Epoch 154, Batch 1800] Loss: 0.540 Accuracy: 0.804\n",
      "[Epoch 154, Batch 1900] Loss: 0.537 Accuracy: 0.805\n"
     ]
    },
    {
     "name": "stderr",
     "output_type": "stream",
     "text": [
      "/opt/conda/lib/python3.7/site-packages/torch/utils/data/dataloader.py:557: UserWarning: This DataLoader will create 4 worker processes in total. Our suggested max number of worker in current system is 2, which is smaller than what this DataLoader is going to create. Please be aware that excessive worker creation might get DataLoader running slow or even freeze, lower the worker number to avoid potential slowness/freeze if necessary.\n",
      "  cpuset_checked))\n"
     ]
    },
    {
     "name": "stdout",
     "output_type": "stream",
     "text": [
      "Epoch 154 Val Loss: 0.5397922317665743 \t\t Val Accuracy: 0.8032121546685447\n",
      "Training Stopped : \t\t Loss did not decrease for 20 epochs.\n"
     ]
    }
   ],
   "source": [
    "# Training\n",
    "\n",
    "epochs = 200\n",
    "min_val_loss = np.inf\n",
    "\n",
    "train_losses = []\n",
    "val_losses = []\n",
    "train_aucs = []\n",
    "val_aucs = []\n",
    "counter = 0\n",
    "\n",
    "for e in range(epochs):\n",
    "    train_loss = 0.0\n",
    "    train_auc = 0.0\n",
    "    i = 0\n",
    "    for data in train_loader: # Training Loop\n",
    "        inputs, labels = data\n",
    "        inputs, labels = inputs.to(device), labels.to(device)\n",
    "        optimizer.zero_grad()\n",
    "        #print(inputs.shape)\n",
    "        outputs = model(inputs)\n",
    "        labels , outputs = labels.type(torch.FloatTensor),outputs.type(torch.FloatTensor)\n",
    "        loss = criterion(outputs, labels)\n",
    "        loss.backward()\n",
    "        optimizer.step()\n",
    "        train_loss += loss.item()\n",
    "        with torch.no_grad():\n",
    "            train_auc += roc_auc_score(labels.numpy(), outputs.numpy())\n",
    "        \n",
    "        if i % 100 == 99:    # Print every 100 mini-batches\n",
    "            print('[Epoch %d, Batch %d] Loss: %.3f Accuracy: %.3f' %\n",
    "                  (e + 1, i + 1, train_loss / 100, train_auc / 100))\n",
    "            train_losses.append(train_loss / 100)\n",
    "            train_aucs.append(train_auc / 100)\n",
    "            train_loss = 0.0\n",
    "            train_auc = 0.0\n",
    "        \n",
    "        i += 1\n",
    "    \n",
    "    with torch.no_grad():\n",
    "        val_loss = 0.0\n",
    "        val_auc = 0.0\n",
    "        model.eval()\n",
    "        for data in val_loader: # Validation Loop\n",
    "            inputs, labels = data\n",
    "            inputs, labels = inputs.to(device), labels.to(device)\n",
    "            outputs = model(inputs)\n",
    "            labels , outputs = labels.type(torch.FloatTensor),outputs.type(torch.FloatTensor)\n",
    "            loss = criterion(outputs,labels)\n",
    "            val_loss += loss.item()\n",
    "            val_auc += roc_auc_score(labels.numpy(), outputs.numpy())\n",
    "        \n",
    "    print(f'Epoch {e+1} Val Loss: {val_loss / len(val_loader)} \\t\\t Val Accuracy: {val_auc / len(val_loader)}')\n",
    "    \n",
    "    val_losses.append(val_loss / len(val_loader))\n",
    "    val_aucs.append(val_auc / len(val_loader))\n",
    "     \n",
    "    if min_val_loss > val_loss:\n",
    "        print(f'Validation Loss Decreased({min_val_loss:.6f}--->{val_loss:.6f}) \\t Saving The Model')\n",
    "        min_val_loss = val_loss\n",
    "        counter = 0 \n",
    "            \n",
    "        # Saving State Dict\n",
    "        torch.save(model.state_dict(), 'saved_model.pth')\n",
    "        \n",
    "    else:\n",
    "        # Early Stopping\n",
    "        counter += 1\n",
    "        if counter >= 20:\n",
    "            print('Training Stopped : \\t\\t Loss did not decrease for 20 epochs.')\n",
    "            break\n",
    "        "
   ]
  },
  {
   "cell_type": "code",
   "execution_count": 11,
   "id": "539d9e41",
   "metadata": {
    "execution": {
     "iopub.execute_input": "2023-03-19T16:53:06.772533Z",
     "iopub.status.busy": "2023-03-19T16:53:06.772168Z",
     "iopub.status.idle": "2023-03-19T16:53:07.224558Z",
     "shell.execute_reply": "2023-03-19T16:53:07.223561Z"
    },
    "papermill": {
     "duration": 0.635115,
     "end_time": "2023-03-19T16:53:07.227430",
     "exception": false,
     "start_time": "2023-03-19T16:53:06.592315",
     "status": "completed"
    },
    "tags": []
   },
   "outputs": [
    {
     "data": {
      "text/plain": [
       "<matplotlib.legend.Legend at 0x7f82c008eed0>"
      ]
     },
     "execution_count": 11,
     "metadata": {},
     "output_type": "execute_result"
    },
    {
     "data": {
      "image/png": "[encoded data removed]",
      "text/plain": [
       "<Figure size 1000x500 with 2 Axes>"
      ]
     },
     "metadata": {},
     "output_type": "display_data"
    }
   ],
   "source": [
    "# Training curve\n",
    "plt.figure(figsize=(10, 5))\n",
    "plt.subplot(1, 2, 1)\n",
    "plt.title('Loss')\n",
    "plt.plot(np.arange(len(train_losses)), train_losses, label='Train Loss')\n",
    "plt.plot(np.arange(0, len(train_losses), int(len(train_losses)/(len(val_losses)))), val_losses, label='Val Loss')\n",
    "plt.xlabel('Mini-Batch')\n",
    "plt.ylabel('BCE Loss')\n",
    "plt.legend()\n",
    "\n",
    "plt.subplot(1, 2, 2)\n",
    "plt.title('Accuracy')\n",
    "plt.plot(train_aucs, label='Train Accuracy')\n",
    "plt.plot(np.arange(0, len(train_aucs), int(len(train_aucs)/(len(val_aucs)))), val_aucs, label='Val Accuracy')\n",
    "plt.xlabel('Mini-Batch')\n",
    "plt.ylabel('ROC-AUC')\n",
    "plt.legend()"
   ]
  },
  {
   "cell_type": "code",
   "execution_count": 12,
   "id": "0454a986",
   "metadata": {
    "execution": {
     "iopub.execute_input": "2023-03-19T16:53:07.595467Z",
     "iopub.status.busy": "2023-03-19T16:53:07.594770Z",
     "iopub.status.idle": "2023-03-19T16:53:10.712127Z",
     "shell.execute_reply": "2023-03-19T16:53:10.710714Z"
    },
    "papermill": {
     "duration": 3.304518,
     "end_time": "2023-03-19T16:53:10.714515",
     "exception": false,
     "start_time": "2023-03-19T16:53:07.409997",
     "status": "completed"
    },
    "tags": []
   },
   "outputs": [
    {
     "name": "stderr",
     "output_type": "stream",
     "text": [
      "/opt/conda/lib/python3.7/site-packages/torch/utils/data/dataloader.py:557: UserWarning: This DataLoader will create 4 worker processes in total. Our suggested max number of worker in current system is 2, which is smaller than what this DataLoader is going to create. Please be aware that excessive worker creation might get DataLoader running slow or even freeze, lower the worker number to avoid potential slowness/freeze if necessary.\n",
      "  cpuset_checked))\n"
     ]
    },
    {
     "name": "stdout",
     "output_type": "stream",
     "text": [
      "The loss on testing data is 0.5378939825368215 and the ROC-AUC is 0.8046716095859441\n"
     ]
    }
   ],
   "source": [
    "# Performance on test set\n",
    "trained_model = Net().to(device)\n",
    "\n",
    "trained_model.load_state_dict(torch.load('/kaggle/working/saved_model.pth'))\n",
    "trained_model.eval()\n",
    "\n",
    "with torch.no_grad():\n",
    "    test_loss = 0.0\n",
    "    test_auc = 0.0\n",
    "    for data in test_loader:\n",
    "        inputs, labels = data\n",
    "        inputs, labels = inputs.to(device), labels.to(device)\n",
    "        outputs = trained_model(inputs)\n",
    "        labels , outputs = labels.type(torch.FloatTensor),outputs.type(torch.FloatTensor)\n",
    "        loss = criterion(outputs,labels)\n",
    "        test_loss += loss.item()\n",
    "        test_auc += roc_auc_score(labels.numpy(), outputs.numpy())\n",
    "\n",
    "print(f\"The loss on testing data is {test_loss/len(test_loader)} and the ROC-AUC is {test_auc/len(test_loader)}\")"
   ]
  },
  {
   "cell_type": "code",
   "execution_count": null,
   "id": "e709853b",
   "metadata": {
    "papermill": {
     "duration": 0.180434,
     "end_time": "2023-03-19T16:53:11.078980",
     "exception": false,
     "start_time": "2023-03-19T16:53:10.898546",
     "status": "completed"
    },
    "tags": []
   },
   "outputs": [],
   "source": []
  }
 ],
 "metadata": {
  "kernelspec": {
   "display_name": "Python 3",
   "language": "python",
   "name": "python3"
  },
  "language_info": {
   "codemirror_mode": {
    "name": "ipython",
    "version": 3
   },
   "file_extension": ".py",
   "mimetype": "text/x-python",
   "name": "python",
   "nbconvert_exporter": "python",
   "pygments_lexer": "ipython3",
   "version": "3.7.12"
  },
  "papermill": {
   "default_parameters": {},
   "duration": 9569.638732,
   "end_time": "2023-03-19T16:53:13.801684",
   "environment_variables": {},
   "exception": null,
   "input_path": "__notebook__.ipynb",
   "output_path": "__notebook__.ipynb",
   "parameters": {},
   "start_time": "2023-03-19T14:13:44.162952",
   "version": "2.4.0"
  }
 },
 "nbformat": 4,
 "nbformat_minor": 5
}
