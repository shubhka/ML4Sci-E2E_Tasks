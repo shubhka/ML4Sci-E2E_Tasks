{
 "cells": [
  {
   "cell_type": "markdown",
   "id": "17bf6d91",
   "metadata": {
    "papermill": {
     "duration": 0.013127,
     "end_time": "2023-03-19T02:39:50.067351",
     "exception": false,
     "start_time": "2023-03-19T02:39:50.054224",
     "status": "completed"
    },
    "tags": []
   },
   "source": [
    "# Electron / Photon Classification"
   ]
  },
  {
   "cell_type": "code",
   "execution_count": 1,
   "id": "0fb8d4d1",
   "metadata": {
    "_cell_guid": "b1076dfc-b9ad-4769-8c92-a6c4dae69d19",
    "_uuid": "8f2839f25d086af736a60e9eeb907d3b93b6e0e5",
    "execution": {
     "iopub.execute_input": "2023-03-19T02:39:50.081891Z",
     "iopub.status.busy": "2023-03-19T02:39:50.081416Z",
     "iopub.status.idle": "2023-03-19T02:39:53.308607Z",
     "shell.execute_reply": "2023-03-19T02:39:53.307541Z"
    },
    "papermill": {
     "duration": 3.238509,
     "end_time": "2023-03-19T02:39:53.311990",
     "exception": false,
     "start_time": "2023-03-19T02:39:50.073481",
     "status": "completed"
    },
    "tags": []
   },
   "outputs": [],
   "source": [
    "# Importing Necessary Libraries\n",
    "\n",
    "import numpy as np\n",
    "import matplotlib.pyplot as plt\n",
    "\n",
    "import torch\n",
    "import torch.nn as nn\n",
    "import torch.optim as optim\n",
    "\n",
    "from torchvision.transforms import CenterCrop\n",
    "from torch.utils.data import Dataset, DataLoader, random_split\n",
    "\n",
    "import h5py\n",
    "\n",
    "from sklearn.metrics import roc_auc_score"
   ]
  },
  {
   "cell_type": "code",
   "execution_count": 2,
   "id": "0a7138e7",
   "metadata": {
    "execution": {
     "iopub.execute_input": "2023-03-19T02:39:53.323711Z",
     "iopub.status.busy": "2023-03-19T02:39:53.323135Z",
     "iopub.status.idle": "2023-03-19T02:39:53.329062Z",
     "shell.execute_reply": "2023-03-19T02:39:53.328116Z"
    },
    "papermill": {
     "duration": 0.018289,
     "end_time": "2023-03-19T02:39:53.335864",
     "exception": false,
     "start_time": "2023-03-19T02:39:53.317575",
     "status": "completed"
    },
    "tags": []
   },
   "outputs": [
    {
     "name": "stdout",
     "output_type": "stream",
     "text": [
      "1.13.0\n"
     ]
    }
   ],
   "source": [
    "print(torch.__version__)"
   ]
  },
  {
   "cell_type": "code",
   "execution_count": 3,
   "id": "aac51243",
   "metadata": {
    "execution": {
     "iopub.execute_input": "2023-03-19T02:39:53.352146Z",
     "iopub.status.busy": "2023-03-19T02:39:53.350991Z",
     "iopub.status.idle": "2023-03-19T02:39:53.359205Z",
     "shell.execute_reply": "2023-03-19T02:39:53.358036Z"
    },
    "papermill": {
     "duration": 0.030071,
     "end_time": "2023-03-19T02:39:53.369032",
     "exception": false,
     "start_time": "2023-03-19T02:39:53.338961",
     "status": "completed"
    },
    "tags": []
   },
   "outputs": [
    {
     "name": "stdout",
     "output_type": "stream",
     "text": [
      "11.3\n"
     ]
    }
   ],
   "source": [
    "print(torch.version.cuda)"
   ]
  },
  {
   "cell_type": "code",
   "execution_count": 4,
   "id": "87d27827",
   "metadata": {
    "execution": {
     "iopub.execute_input": "2023-03-19T02:39:53.380937Z",
     "iopub.status.busy": "2023-03-19T02:39:53.380588Z",
     "iopub.status.idle": "2023-03-19T02:39:53.389516Z",
     "shell.execute_reply": "2023-03-19T02:39:53.388332Z"
    },
    "papermill": {
     "duration": 0.020556,
     "end_time": "2023-03-19T02:39:53.393162",
     "exception": false,
     "start_time": "2023-03-19T02:39:53.372606",
     "status": "completed"
    },
    "tags": []
   },
   "outputs": [],
   "source": [
    "# Setting Seed\n",
    "torch.manual_seed(47)\n",
    "torch.cuda.manual_seed_all(47)\n",
    "torch.cuda.manual_seed(47)\n",
    "torch.backends.cudnn.benchmark = False\n",
    "torch.backends.cudnn.deterministic = True"
   ]
  },
  {
   "cell_type": "code",
   "execution_count": 5,
   "id": "86bc1655",
   "metadata": {
    "execution": {
     "iopub.execute_input": "2023-03-19T02:39:53.403370Z",
     "iopub.status.busy": "2023-03-19T02:39:53.403023Z",
     "iopub.status.idle": "2023-03-19T02:39:53.479515Z",
     "shell.execute_reply": "2023-03-19T02:39:53.478613Z"
    },
    "papermill": {
     "duration": 0.084727,
     "end_time": "2023-03-19T02:39:53.482460",
     "exception": false,
     "start_time": "2023-03-19T02:39:53.397733",
     "status": "completed"
    },
    "tags": []
   },
   "outputs": [
    {
     "data": {
      "text/plain": [
       "'cuda'"
      ]
     },
     "execution_count": 5,
     "metadata": {},
     "output_type": "execute_result"
    }
   ],
   "source": [
    "# Setting device to GPU\n",
    "device = \"cuda\" if torch.cuda.is_available() else \"cpu\"\n",
    "device"
   ]
  },
  {
   "cell_type": "code",
   "execution_count": 6,
   "id": "8438033a",
   "metadata": {
    "execution": {
     "iopub.execute_input": "2023-03-19T02:39:53.493318Z",
     "iopub.status.busy": "2023-03-19T02:39:53.492977Z",
     "iopub.status.idle": "2023-03-19T02:39:53.505952Z",
     "shell.execute_reply": "2023-03-19T02:39:53.505091Z"
    },
    "papermill": {
     "duration": 0.021286,
     "end_time": "2023-03-19T02:39:53.508605",
     "exception": false,
     "start_time": "2023-03-19T02:39:53.487319",
     "status": "completed"
    },
    "tags": []
   },
   "outputs": [],
   "source": [
    "# Defining the Dataset class\n",
    "\n",
    "class HDF5Dataset(Dataset):\n",
    "    def __init__(self, file_e, file_p):\n",
    "        self.file_e = file_e\n",
    "        self.file_p = file_p\n",
    "        self.data_key = 'X'\n",
    "        self.file_electron = h5py.File(self.file_e, 'r')\n",
    "        self.data_electron = self.file_electron[self.data_key]\n",
    "        self.file_photon = h5py.File(self.file_p, 'r')\n",
    "        self.data_photon = self.file_photon[self.data_key]\n",
    "        self.data = np.concatenate((self.data_electron, self.data_photon), axis=0)\n",
    "        self.labels = np.concatenate((np.ones(self.data_electron.shape[0]), np.zeros(self.data_photon.shape[0])), axis=0)\n",
    "        #print(np.sum(self.labels))\n",
    "        self.labels = np.expand_dims(self.labels, axis=1)\n",
    "        #mean = np.mean(self.data)\n",
    "        #print(mean)\n",
    "        #std = np.std(self.data)\n",
    "        #print(std)\n",
    "        #self.data = (self.data - mean)/std\n",
    "\n",
    "\n",
    "    def __len__(self):\n",
    "        return self.data.shape[0]\n",
    "\n",
    "    def __getitem__(self, idx):\n",
    "        return torch.from_numpy(self.data[idx]), torch.from_numpy(self.labels[idx])\n",
    "\n",
    "    def close(self):\n",
    "        self.file_electrons.close()\n",
    "        self.file_photon.close()"
   ]
  },
  {
   "cell_type": "code",
   "execution_count": 7,
   "id": "0a7d1f97",
   "metadata": {
    "execution": {
     "iopub.execute_input": "2023-03-19T02:39:53.519821Z",
     "iopub.status.busy": "2023-03-19T02:39:53.519499Z",
     "iopub.status.idle": "2023-03-19T02:40:07.828020Z",
     "shell.execute_reply": "2023-03-19T02:40:07.825458Z"
    },
    "papermill": {
     "duration": 14.316778,
     "end_time": "2023-03-19T02:40:07.830574",
     "exception": false,
     "start_time": "2023-03-19T02:39:53.513796",
     "status": "completed"
    },
    "tags": []
   },
   "outputs": [
    {
     "name": "stderr",
     "output_type": "stream",
     "text": [
      "/opt/conda/lib/python3.7/site-packages/torch/utils/data/dataloader.py:557: UserWarning: This DataLoader will create 4 worker processes in total. Our suggested max number of worker in current system is 2, which is smaller than what this DataLoader is going to create. Please be aware that excessive worker creation might get DataLoader running slow or even freeze, lower the worker number to avoid potential slowness/freeze if necessary.\n",
      "  cpuset_checked))\n"
     ]
    }
   ],
   "source": [
    "# Making training, validation and test datasets\n",
    "# train data : 80%, validation data : 10%, testing data : 10%\n",
    "\n",
    "file_e = '/kaggle/input/electrons-and-photons/SingleElectronPt50_IMGCROPS_n249k_RHv1.hdf5'\n",
    "file_p = '/kaggle/input/electrons-and-photons/SinglePhotonPt50_IMGCROPS_n249k_RHv1.hdf5'\n",
    "dataset = HDF5Dataset(file_e, file_p)\n",
    "\n",
    "train_size = np.int32(0.8 * len(dataset))\n",
    "test_size = np.int32(0.1 * len(dataset))\n",
    "val_size = len(dataset) - train_size - test_size\n",
    "\n",
    "train_data, test_data, val_data = random_split(dataset, [train_size, test_size, val_size])\n",
    "\n",
    "train_loader = DataLoader(train_data, batch_size=200, shuffle=True, num_workers=4)\n",
    "test_loader = DataLoader(test_data, batch_size=200, shuffle=True, num_workers=4)\n",
    "val_loader = DataLoader(val_data, batch_size=200, shuffle=True, num_workers=4)"
   ]
  },
  {
   "cell_type": "code",
   "execution_count": 8,
   "id": "b41faf2f",
   "metadata": {
    "execution": {
     "iopub.execute_input": "2023-03-19T02:40:07.840263Z",
     "iopub.status.busy": "2023-03-19T02:40:07.838755Z",
     "iopub.status.idle": "2023-03-19T02:40:07.857527Z",
     "shell.execute_reply": "2023-03-19T02:40:07.856609Z"
    },
    "papermill": {
     "duration": 0.025411,
     "end_time": "2023-03-19T02:40:07.859597",
     "exception": false,
     "start_time": "2023-03-19T02:40:07.834186",
     "status": "completed"
    },
    "tags": []
   },
   "outputs": [],
   "source": [
    "# Defining the model architecture\n",
    "\n",
    "class Net (nn.Module):\n",
    "    def __init__(self):\n",
    "        super(Net, self).__init__()\n",
    "        \n",
    "        self.conv1 = nn.Conv2d(2, 32, kernel_size=1)\n",
    "        self.bn1 = nn.BatchNorm2d(32)\n",
    "        self.conv2 = nn.Conv2d(32, 32, kernel_size=3, padding=1)\n",
    "        self.bn2 = nn.BatchNorm2d(32)\n",
    "        self.pool1 = nn.MaxPool2d(kernel_size=2)\n",
    "        self.conv3 = nn.Conv2d(32, 64, kernel_size=1)\n",
    "        self.bn3 = nn.BatchNorm2d(64)\n",
    "        self.conv4 = nn.Conv2d(64, 64, kernel_size=3, padding=1)\n",
    "        self.bn4 = nn.BatchNorm2d(64)\n",
    "        self.pool2 = nn.MaxPool2d(kernel_size=2)\n",
    "        self.conv5 = nn.Conv2d(64, 128, kernel_size=1)\n",
    "        self.bn5 = nn.BatchNorm2d(128)\n",
    "        self.conv6 = nn.Conv2d(128, 128, kernel_size=3, padding=1)\n",
    "        self.bn6 = nn.BatchNorm2d(128)\n",
    "        self.pool3 = nn.MaxPool2d(kernel_size=2)\n",
    "        self.fc1 = nn.Linear(128 * 4 * 4, 64)\n",
    "        self.dropout = nn.Dropout(0.5)\n",
    "        self.fc2 = nn.Linear(64, 1)\n",
    "\n",
    "    def forward(self, x):\n",
    "        x = x.permute(0, 3, 1, 2)\n",
    "        xmax, xmin = x.min(), x.max()\n",
    "        x = (x - xmin)/(xmax - xmin)\n",
    "        \n",
    "        x = self.conv1(x)\n",
    "        x = self.bn1(x)\n",
    "        x = torch.relu(x)\n",
    "        x = self.conv2(x)\n",
    "        x = self.bn2(x)\n",
    "        x = torch.relu(x)\n",
    "        x = self.pool1(x)\n",
    "        x = self.conv3(x)\n",
    "        x = self.bn3(x)\n",
    "        x = torch.relu(x)\n",
    "        x = self.conv4(x)\n",
    "        x = self.bn4(x)\n",
    "        x = torch.relu(x)\n",
    "        x = self.pool2(x)\n",
    "        x = self.conv5(x)\n",
    "        x = self.bn5(x)\n",
    "        x = torch.relu(x)\n",
    "        x = self.conv6(x)\n",
    "        x = self.bn6(x)\n",
    "        x = torch.relu(x)\n",
    "        x = self.pool3(x)\n",
    "        x = torch.flatten(x, 1)\n",
    "        x = self.fc1(x)\n",
    "        x = torch.relu(x)\n",
    "        x = self.dropout(x)\n",
    "        x = self.fc2(x)\n",
    "        x = torch.sigmoid(x)\n",
    "        \n",
    "        return x"
   ]
  },
  {
   "cell_type": "code",
   "execution_count": 9,
   "id": "760b42f3",
   "metadata": {
    "execution": {
     "iopub.execute_input": "2023-03-19T02:40:07.868406Z",
     "iopub.status.busy": "2023-03-19T02:40:07.867626Z",
     "iopub.status.idle": "2023-03-19T02:40:10.587292Z",
     "shell.execute_reply": "2023-03-19T02:40:10.586286Z"
    },
    "papermill": {
     "duration": 2.727085,
     "end_time": "2023-03-19T02:40:10.590231",
     "exception": false,
     "start_time": "2023-03-19T02:40:07.863146",
     "status": "completed"
    },
    "tags": []
   },
   "outputs": [],
   "source": [
    "# model loss and optimizer\n",
    "model = Net().to(device)\n",
    "criterion = nn.BCELoss()\n",
    "optimizer = optim.SGD(model.parameters(), lr=0.001, momentum=0.9)"
   ]
  },
  {
   "cell_type": "code",
   "execution_count": 10,
   "id": "d1807e8e",
   "metadata": {
    "execution": {
     "iopub.execute_input": "2023-03-19T02:40:10.600562Z",
     "iopub.status.busy": "2023-03-19T02:40:10.599001Z",
     "iopub.status.idle": "2023-03-19T03:54:11.634043Z",
     "shell.execute_reply": "2023-03-19T03:54:11.631891Z"
    },
    "papermill": {
     "duration": 4441.042885,
     "end_time": "2023-03-19T03:54:11.636992",
     "exception": false,
     "start_time": "2023-03-19T02:40:10.594107",
     "status": "completed"
    },
    "tags": []
   },
   "outputs": [
    {
     "name": "stdout",
     "output_type": "stream",
     "text": [
      "[Epoch 1, Batch 100] Loss: 0.686 Accuracy: 0.572\n",
      "[Epoch 1, Batch 200] Loss: 0.678 Accuracy: 0.599\n",
      "[Epoch 1, Batch 300] Loss: 0.671 Accuracy: 0.619\n",
      "[Epoch 1, Batch 400] Loss: 0.667 Accuracy: 0.627\n",
      "[Epoch 1, Batch 500] Loss: 0.662 Accuracy: 0.636\n",
      "[Epoch 1, Batch 600] Loss: 0.659 Accuracy: 0.644\n",
      "[Epoch 1, Batch 700] Loss: 0.658 Accuracy: 0.648\n",
      "[Epoch 1, Batch 800] Loss: 0.657 Accuracy: 0.647\n",
      "[Epoch 1, Batch 900] Loss: 0.658 Accuracy: 0.644\n",
      "[Epoch 1, Batch 1000] Loss: 0.653 Accuracy: 0.654\n",
      "[Epoch 1, Batch 1100] Loss: 0.656 Accuracy: 0.650\n",
      "[Epoch 1, Batch 1200] Loss: 0.652 Accuracy: 0.660\n",
      "[Epoch 1, Batch 1300] Loss: 0.653 Accuracy: 0.654\n",
      "[Epoch 1, Batch 1400] Loss: 0.655 Accuracy: 0.654\n",
      "[Epoch 1, Batch 1500] Loss: 0.648 Accuracy: 0.664\n",
      "[Epoch 1, Batch 1600] Loss: 0.652 Accuracy: 0.659\n",
      "[Epoch 1, Batch 1700] Loss: 0.646 Accuracy: 0.670\n",
      "[Epoch 1, Batch 1800] Loss: 0.649 Accuracy: 0.668\n",
      "[Epoch 1, Batch 1900] Loss: 0.652 Accuracy: 0.661\n"
     ]
    },
    {
     "name": "stderr",
     "output_type": "stream",
     "text": [
      "/opt/conda/lib/python3.7/site-packages/torch/utils/data/dataloader.py:557: UserWarning: This DataLoader will create 4 worker processes in total. Our suggested max number of worker in current system is 2, which is smaller than what this DataLoader is going to create. Please be aware that excessive worker creation might get DataLoader running slow or even freeze, lower the worker number to avoid potential slowness/freeze if necessary.\n",
      "  cpuset_checked))\n"
     ]
    },
    {
     "name": "stdout",
     "output_type": "stream",
     "text": [
      "Epoch 1 Val Loss: 0.6793571413760204 \t\t Val Accuracy: 0.6458517859247699\n",
      "Validation Loss Decreased(inf--->169.159928) \t Saving The Model\n"
     ]
    },
    {
     "name": "stderr",
     "output_type": "stream",
     "text": [
      "/opt/conda/lib/python3.7/site-packages/torch/utils/data/dataloader.py:557: UserWarning: This DataLoader will create 4 worker processes in total. Our suggested max number of worker in current system is 2, which is smaller than what this DataLoader is going to create. Please be aware that excessive worker creation might get DataLoader running slow or even freeze, lower the worker number to avoid potential slowness/freeze if necessary.\n",
      "  cpuset_checked))\n"
     ]
    },
    {
     "name": "stdout",
     "output_type": "stream",
     "text": [
      "[Epoch 2, Batch 100] Loss: 0.675 Accuracy: 0.637\n",
      "[Epoch 2, Batch 200] Loss: 0.660 Accuracy: 0.653\n",
      "[Epoch 2, Batch 300] Loss: 0.657 Accuracy: 0.659\n",
      "[Epoch 2, Batch 400] Loss: 0.655 Accuracy: 0.657\n",
      "[Epoch 2, Batch 500] Loss: 0.655 Accuracy: 0.658\n",
      "[Epoch 2, Batch 600] Loss: 0.653 Accuracy: 0.665\n",
      "[Epoch 2, Batch 700] Loss: 0.652 Accuracy: 0.664\n",
      "[Epoch 2, Batch 800] Loss: 0.652 Accuracy: 0.662\n",
      "[Epoch 2, Batch 900] Loss: 0.648 Accuracy: 0.674\n",
      "[Epoch 2, Batch 1000] Loss: 0.644 Accuracy: 0.678\n",
      "[Epoch 2, Batch 1100] Loss: 0.652 Accuracy: 0.664\n",
      "[Epoch 2, Batch 1200] Loss: 0.647 Accuracy: 0.676\n",
      "[Epoch 2, Batch 1300] Loss: 0.644 Accuracy: 0.679\n",
      "[Epoch 2, Batch 1400] Loss: 0.643 Accuracy: 0.678\n",
      "[Epoch 2, Batch 1500] Loss: 0.646 Accuracy: 0.673\n",
      "[Epoch 2, Batch 1600] Loss: 0.648 Accuracy: 0.678\n",
      "[Epoch 2, Batch 1700] Loss: 0.640 Accuracy: 0.683\n",
      "[Epoch 2, Batch 1800] Loss: 0.639 Accuracy: 0.685\n",
      "[Epoch 2, Batch 1900] Loss: 0.645 Accuracy: 0.679\n"
     ]
    },
    {
     "name": "stderr",
     "output_type": "stream",
     "text": [
      "/opt/conda/lib/python3.7/site-packages/torch/utils/data/dataloader.py:557: UserWarning: This DataLoader will create 4 worker processes in total. Our suggested max number of worker in current system is 2, which is smaller than what this DataLoader is going to create. Please be aware that excessive worker creation might get DataLoader running slow or even freeze, lower the worker number to avoid potential slowness/freeze if necessary.\n",
      "  cpuset_checked))\n"
     ]
    },
    {
     "name": "stdout",
     "output_type": "stream",
     "text": [
      "Epoch 2 Val Loss: 0.637704232370997 \t\t Val Accuracy: 0.6894544796507677\n",
      "Validation Loss Decreased(169.159928--->158.788354) \t Saving The Model\n"
     ]
    },
    {
     "name": "stderr",
     "output_type": "stream",
     "text": [
      "/opt/conda/lib/python3.7/site-packages/torch/utils/data/dataloader.py:557: UserWarning: This DataLoader will create 4 worker processes in total. Our suggested max number of worker in current system is 2, which is smaller than what this DataLoader is going to create. Please be aware that excessive worker creation might get DataLoader running slow or even freeze, lower the worker number to avoid potential slowness/freeze if necessary.\n",
      "  cpuset_checked))\n"
     ]
    },
    {
     "name": "stdout",
     "output_type": "stream",
     "text": [
      "[Epoch 3, Batch 100] Loss: 0.649 Accuracy: 0.677\n",
      "[Epoch 3, Batch 200] Loss: 0.641 Accuracy: 0.686\n",
      "[Epoch 3, Batch 300] Loss: 0.638 Accuracy: 0.690\n",
      "[Epoch 3, Batch 400] Loss: 0.639 Accuracy: 0.689\n",
      "[Epoch 3, Batch 500] Loss: 0.634 Accuracy: 0.695\n",
      "[Epoch 3, Batch 600] Loss: 0.641 Accuracy: 0.688\n",
      "[Epoch 3, Batch 700] Loss: 0.644 Accuracy: 0.687\n",
      "[Epoch 3, Batch 800] Loss: 0.639 Accuracy: 0.687\n",
      "[Epoch 3, Batch 900] Loss: 0.634 Accuracy: 0.696\n",
      "[Epoch 3, Batch 1000] Loss: 0.634 Accuracy: 0.697\n",
      "[Epoch 3, Batch 1100] Loss: 0.636 Accuracy: 0.697\n",
      "[Epoch 3, Batch 1200] Loss: 0.638 Accuracy: 0.689\n",
      "[Epoch 3, Batch 1300] Loss: 0.634 Accuracy: 0.701\n",
      "[Epoch 3, Batch 1400] Loss: 0.641 Accuracy: 0.688\n",
      "[Epoch 3, Batch 1500] Loss: 0.635 Accuracy: 0.700\n",
      "[Epoch 3, Batch 1600] Loss: 0.631 Accuracy: 0.703\n",
      "[Epoch 3, Batch 1700] Loss: 0.634 Accuracy: 0.698\n",
      "[Epoch 3, Batch 1800] Loss: 0.629 Accuracy: 0.706\n",
      "[Epoch 3, Batch 1900] Loss: 0.637 Accuracy: 0.697\n"
     ]
    },
    {
     "name": "stderr",
     "output_type": "stream",
     "text": [
      "/opt/conda/lib/python3.7/site-packages/torch/utils/data/dataloader.py:557: UserWarning: This DataLoader will create 4 worker processes in total. Our suggested max number of worker in current system is 2, which is smaller than what this DataLoader is going to create. Please be aware that excessive worker creation might get DataLoader running slow or even freeze, lower the worker number to avoid potential slowness/freeze if necessary.\n",
      "  cpuset_checked))\n"
     ]
    },
    {
     "name": "stdout",
     "output_type": "stream",
     "text": [
      "Epoch 3 Val Loss: 0.6281036504779953 \t\t Val Accuracy: 0.7027636441896875\n",
      "Validation Loss Decreased(158.788354--->156.397809) \t Saving The Model\n"
     ]
    },
    {
     "name": "stderr",
     "output_type": "stream",
     "text": [
      "/opt/conda/lib/python3.7/site-packages/torch/utils/data/dataloader.py:557: UserWarning: This DataLoader will create 4 worker processes in total. Our suggested max number of worker in current system is 2, which is smaller than what this DataLoader is going to create. Please be aware that excessive worker creation might get DataLoader running slow or even freeze, lower the worker number to avoid potential slowness/freeze if necessary.\n",
      "  cpuset_checked))\n"
     ]
    },
    {
     "name": "stdout",
     "output_type": "stream",
     "text": [
      "[Epoch 4, Batch 100] Loss: 0.630 Accuracy: 0.702\n",
      "[Epoch 4, Batch 200] Loss: 0.627 Accuracy: 0.707\n",
      "[Epoch 4, Batch 300] Loss: 0.628 Accuracy: 0.709\n",
      "[Epoch 4, Batch 400] Loss: 0.634 Accuracy: 0.698\n",
      "[Epoch 4, Batch 500] Loss: 0.628 Accuracy: 0.708\n",
      "[Epoch 4, Batch 600] Loss: 0.628 Accuracy: 0.707\n",
      "[Epoch 4, Batch 700] Loss: 0.625 Accuracy: 0.713\n",
      "[Epoch 4, Batch 800] Loss: 0.636 Accuracy: 0.705\n",
      "[Epoch 4, Batch 900] Loss: 0.626 Accuracy: 0.711\n",
      "[Epoch 4, Batch 1000] Loss: 0.624 Accuracy: 0.716\n",
      "[Epoch 4, Batch 1100] Loss: 0.630 Accuracy: 0.709\n",
      "[Epoch 4, Batch 1200] Loss: 0.629 Accuracy: 0.709\n",
      "[Epoch 4, Batch 1300] Loss: 0.625 Accuracy: 0.713\n",
      "[Epoch 4, Batch 1400] Loss: 0.630 Accuracy: 0.706\n",
      "[Epoch 4, Batch 1500] Loss: 0.624 Accuracy: 0.712\n",
      "[Epoch 4, Batch 1600] Loss: 0.632 Accuracy: 0.710\n",
      "[Epoch 4, Batch 1700] Loss: 0.623 Accuracy: 0.718\n",
      "[Epoch 4, Batch 1800] Loss: 0.621 Accuracy: 0.719\n",
      "[Epoch 4, Batch 1900] Loss: 0.630 Accuracy: 0.708\n"
     ]
    },
    {
     "name": "stderr",
     "output_type": "stream",
     "text": [
      "/opt/conda/lib/python3.7/site-packages/torch/utils/data/dataloader.py:557: UserWarning: This DataLoader will create 4 worker processes in total. Our suggested max number of worker in current system is 2, which is smaller than what this DataLoader is going to create. Please be aware that excessive worker creation might get DataLoader running slow or even freeze, lower the worker number to avoid potential slowness/freeze if necessary.\n",
      "  cpuset_checked))\n"
     ]
    },
    {
     "name": "stdout",
     "output_type": "stream",
     "text": [
      "Epoch 4 Val Loss: 0.61624143520991 \t\t Val Accuracy: 0.7203644164444882\n",
      "Validation Loss Decreased(156.397809--->153.444117) \t Saving The Model\n"
     ]
    },
    {
     "name": "stderr",
     "output_type": "stream",
     "text": [
      "/opt/conda/lib/python3.7/site-packages/torch/utils/data/dataloader.py:557: UserWarning: This DataLoader will create 4 worker processes in total. Our suggested max number of worker in current system is 2, which is smaller than what this DataLoader is going to create. Please be aware that excessive worker creation might get DataLoader running slow or even freeze, lower the worker number to avoid potential slowness/freeze if necessary.\n",
      "  cpuset_checked))\n"
     ]
    },
    {
     "name": "stdout",
     "output_type": "stream",
     "text": [
      "[Epoch 5, Batch 100] Loss: 0.622 Accuracy: 0.716\n",
      "[Epoch 5, Batch 200] Loss: 0.623 Accuracy: 0.718\n",
      "[Epoch 5, Batch 300] Loss: 0.622 Accuracy: 0.714\n",
      "[Epoch 5, Batch 400] Loss: 0.617 Accuracy: 0.725\n",
      "[Epoch 5, Batch 500] Loss: 0.620 Accuracy: 0.717\n",
      "[Epoch 5, Batch 600] Loss: 0.620 Accuracy: 0.720\n",
      "[Epoch 5, Batch 700] Loss: 0.619 Accuracy: 0.723\n",
      "[Epoch 5, Batch 800] Loss: 0.613 Accuracy: 0.730\n",
      "[Epoch 5, Batch 900] Loss: 0.617 Accuracy: 0.724\n",
      "[Epoch 5, Batch 1000] Loss: 0.615 Accuracy: 0.726\n",
      "[Epoch 5, Batch 1100] Loss: 0.624 Accuracy: 0.722\n",
      "[Epoch 5, Batch 1200] Loss: 0.622 Accuracy: 0.720\n",
      "[Epoch 5, Batch 1300] Loss: 0.617 Accuracy: 0.724\n",
      "[Epoch 5, Batch 1400] Loss: 0.622 Accuracy: 0.720\n",
      "[Epoch 5, Batch 1500] Loss: 0.619 Accuracy: 0.727\n",
      "[Epoch 5, Batch 1600] Loss: 0.612 Accuracy: 0.731\n",
      "[Epoch 5, Batch 1700] Loss: 0.611 Accuracy: 0.733\n",
      "[Epoch 5, Batch 1800] Loss: 0.616 Accuracy: 0.724\n",
      "[Epoch 5, Batch 1900] Loss: 0.614 Accuracy: 0.729\n"
     ]
    },
    {
     "name": "stderr",
     "output_type": "stream",
     "text": [
      "/opt/conda/lib/python3.7/site-packages/torch/utils/data/dataloader.py:557: UserWarning: This DataLoader will create 4 worker processes in total. Our suggested max number of worker in current system is 2, which is smaller than what this DataLoader is going to create. Please be aware that excessive worker creation might get DataLoader running slow or even freeze, lower the worker number to avoid potential slowness/freeze if necessary.\n",
      "  cpuset_checked))\n"
     ]
    },
    {
     "name": "stdout",
     "output_type": "stream",
     "text": [
      "Epoch 5 Val Loss: 0.616707725457877 \t\t Val Accuracy: 0.7296456754871765\n"
     ]
    },
    {
     "name": "stderr",
     "output_type": "stream",
     "text": [
      "/opt/conda/lib/python3.7/site-packages/torch/utils/data/dataloader.py:557: UserWarning: This DataLoader will create 4 worker processes in total. Our suggested max number of worker in current system is 2, which is smaller than what this DataLoader is going to create. Please be aware that excessive worker creation might get DataLoader running slow or even freeze, lower the worker number to avoid potential slowness/freeze if necessary.\n",
      "  cpuset_checked))\n"
     ]
    },
    {
     "name": "stdout",
     "output_type": "stream",
     "text": [
      "[Epoch 6, Batch 100] Loss: 0.613 Accuracy: 0.730\n",
      "[Epoch 6, Batch 200] Loss: 0.611 Accuracy: 0.730\n",
      "[Epoch 6, Batch 300] Loss: 0.616 Accuracy: 0.730\n",
      "[Epoch 6, Batch 400] Loss: 0.611 Accuracy: 0.732\n",
      "[Epoch 6, Batch 500] Loss: 0.613 Accuracy: 0.732\n",
      "[Epoch 6, Batch 600] Loss: 0.611 Accuracy: 0.733\n",
      "[Epoch 6, Batch 700] Loss: 0.610 Accuracy: 0.734\n",
      "[Epoch 6, Batch 800] Loss: 0.614 Accuracy: 0.729\n",
      "[Epoch 6, Batch 900] Loss: 0.611 Accuracy: 0.735\n",
      "[Epoch 6, Batch 1000] Loss: 0.609 Accuracy: 0.739\n",
      "[Epoch 6, Batch 1100] Loss: 0.609 Accuracy: 0.736\n",
      "[Epoch 6, Batch 1200] Loss: 0.608 Accuracy: 0.739\n",
      "[Epoch 6, Batch 1300] Loss: 0.609 Accuracy: 0.735\n",
      "[Epoch 6, Batch 1400] Loss: 0.610 Accuracy: 0.731\n",
      "[Epoch 6, Batch 1500] Loss: 0.605 Accuracy: 0.741\n",
      "[Epoch 6, Batch 1600] Loss: 0.602 Accuracy: 0.743\n",
      "[Epoch 6, Batch 1700] Loss: 0.606 Accuracy: 0.740\n",
      "[Epoch 6, Batch 1800] Loss: 0.607 Accuracy: 0.738\n",
      "[Epoch 6, Batch 1900] Loss: 0.614 Accuracy: 0.732\n"
     ]
    },
    {
     "name": "stderr",
     "output_type": "stream",
     "text": [
      "/opt/conda/lib/python3.7/site-packages/torch/utils/data/dataloader.py:557: UserWarning: This DataLoader will create 4 worker processes in total. Our suggested max number of worker in current system is 2, which is smaller than what this DataLoader is going to create. Please be aware that excessive worker creation might get DataLoader running slow or even freeze, lower the worker number to avoid potential slowness/freeze if necessary.\n",
      "  cpuset_checked))\n"
     ]
    },
    {
     "name": "stdout",
     "output_type": "stream",
     "text": [
      "Epoch 6 Val Loss: 0.6034929900763025 \t\t Val Accuracy: 0.7399124903341802\n",
      "Validation Loss Decreased(153.444117--->150.269755) \t Saving The Model\n"
     ]
    },
    {
     "name": "stderr",
     "output_type": "stream",
     "text": [
      "/opt/conda/lib/python3.7/site-packages/torch/utils/data/dataloader.py:557: UserWarning: This DataLoader will create 4 worker processes in total. Our suggested max number of worker in current system is 2, which is smaller than what this DataLoader is going to create. Please be aware that excessive worker creation might get DataLoader running slow or even freeze, lower the worker number to avoid potential slowness/freeze if necessary.\n",
      "  cpuset_checked))\n"
     ]
    },
    {
     "name": "stdout",
     "output_type": "stream",
     "text": [
      "[Epoch 7, Batch 100] Loss: 0.605 Accuracy: 0.741\n",
      "[Epoch 7, Batch 200] Loss: 0.601 Accuracy: 0.744\n",
      "[Epoch 7, Batch 300] Loss: 0.612 Accuracy: 0.733\n",
      "[Epoch 7, Batch 400] Loss: 0.600 Accuracy: 0.744\n",
      "[Epoch 7, Batch 500] Loss: 0.599 Accuracy: 0.745\n",
      "[Epoch 7, Batch 600] Loss: 0.610 Accuracy: 0.737\n",
      "[Epoch 7, Batch 700] Loss: 0.606 Accuracy: 0.740\n",
      "[Epoch 7, Batch 800] Loss: 0.608 Accuracy: 0.738\n",
      "[Epoch 7, Batch 900] Loss: 0.608 Accuracy: 0.741\n",
      "[Epoch 7, Batch 1000] Loss: 0.598 Accuracy: 0.746\n",
      "[Epoch 7, Batch 1100] Loss: 0.596 Accuracy: 0.750\n",
      "[Epoch 7, Batch 1200] Loss: 0.604 Accuracy: 0.741\n",
      "[Epoch 7, Batch 1300] Loss: 0.604 Accuracy: 0.742\n",
      "[Epoch 7, Batch 1400] Loss: 0.602 Accuracy: 0.743\n",
      "[Epoch 7, Batch 1500] Loss: 0.598 Accuracy: 0.747\n",
      "[Epoch 7, Batch 1600] Loss: 0.603 Accuracy: 0.742\n",
      "[Epoch 7, Batch 1700] Loss: 0.607 Accuracy: 0.739\n",
      "[Epoch 7, Batch 1800] Loss: 0.605 Accuracy: 0.740\n",
      "[Epoch 7, Batch 1900] Loss: 0.606 Accuracy: 0.740\n"
     ]
    },
    {
     "name": "stderr",
     "output_type": "stream",
     "text": [
      "/opt/conda/lib/python3.7/site-packages/torch/utils/data/dataloader.py:557: UserWarning: This DataLoader will create 4 worker processes in total. Our suggested max number of worker in current system is 2, which is smaller than what this DataLoader is going to create. Please be aware that excessive worker creation might get DataLoader running slow or even freeze, lower the worker number to avoid potential slowness/freeze if necessary.\n",
      "  cpuset_checked))\n"
     ]
    },
    {
     "name": "stdout",
     "output_type": "stream",
     "text": [
      "Epoch 7 Val Loss: 0.5926724595717158 \t\t Val Accuracy: 0.7526630270320291\n",
      "Validation Loss Decreased(150.269755--->147.575442) \t Saving The Model\n"
     ]
    },
    {
     "name": "stderr",
     "output_type": "stream",
     "text": [
      "/opt/conda/lib/python3.7/site-packages/torch/utils/data/dataloader.py:557: UserWarning: This DataLoader will create 4 worker processes in total. Our suggested max number of worker in current system is 2, which is smaller than what this DataLoader is going to create. Please be aware that excessive worker creation might get DataLoader running slow or even freeze, lower the worker number to avoid potential slowness/freeze if necessary.\n",
      "  cpuset_checked))\n"
     ]
    },
    {
     "name": "stdout",
     "output_type": "stream",
     "text": [
      "[Epoch 8, Batch 100] Loss: 0.603 Accuracy: 0.744\n",
      "[Epoch 8, Batch 200] Loss: 0.600 Accuracy: 0.748\n",
      "[Epoch 8, Batch 300] Loss: 0.599 Accuracy: 0.746\n",
      "[Epoch 8, Batch 400] Loss: 0.597 Accuracy: 0.748\n",
      "[Epoch 8, Batch 500] Loss: 0.594 Accuracy: 0.750\n",
      "[Epoch 8, Batch 600] Loss: 0.600 Accuracy: 0.747\n",
      "[Epoch 8, Batch 700] Loss: 0.604 Accuracy: 0.745\n",
      "[Epoch 8, Batch 800] Loss: 0.597 Accuracy: 0.751\n",
      "[Epoch 8, Batch 900] Loss: 0.593 Accuracy: 0.754\n",
      "[Epoch 8, Batch 1000] Loss: 0.602 Accuracy: 0.745\n",
      "[Epoch 8, Batch 1100] Loss: 0.595 Accuracy: 0.752\n",
      "[Epoch 8, Batch 1200] Loss: 0.605 Accuracy: 0.745\n",
      "[Epoch 8, Batch 1300] Loss: 0.599 Accuracy: 0.747\n",
      "[Epoch 8, Batch 1400] Loss: 0.592 Accuracy: 0.754\n",
      "[Epoch 8, Batch 1500] Loss: 0.606 Accuracy: 0.740\n",
      "[Epoch 8, Batch 1600] Loss: 0.592 Accuracy: 0.755\n",
      "[Epoch 8, Batch 1700] Loss: 0.597 Accuracy: 0.748\n",
      "[Epoch 8, Batch 1800] Loss: 0.596 Accuracy: 0.754\n",
      "[Epoch 8, Batch 1900] Loss: 0.601 Accuracy: 0.745\n"
     ]
    },
    {
     "name": "stderr",
     "output_type": "stream",
     "text": [
      "/opt/conda/lib/python3.7/site-packages/torch/utils/data/dataloader.py:557: UserWarning: This DataLoader will create 4 worker processes in total. Our suggested max number of worker in current system is 2, which is smaller than what this DataLoader is going to create. Please be aware that excessive worker creation might get DataLoader running slow or even freeze, lower the worker number to avoid potential slowness/freeze if necessary.\n",
      "  cpuset_checked))\n"
     ]
    },
    {
     "name": "stdout",
     "output_type": "stream",
     "text": [
      "Epoch 8 Val Loss: 0.5927570914647665 \t\t Val Accuracy: 0.7517371758459507\n"
     ]
    },
    {
     "name": "stderr",
     "output_type": "stream",
     "text": [
      "/opt/conda/lib/python3.7/site-packages/torch/utils/data/dataloader.py:557: UserWarning: This DataLoader will create 4 worker processes in total. Our suggested max number of worker in current system is 2, which is smaller than what this DataLoader is going to create. Please be aware that excessive worker creation might get DataLoader running slow or even freeze, lower the worker number to avoid potential slowness/freeze if necessary.\n",
      "  cpuset_checked))\n"
     ]
    },
    {
     "name": "stdout",
     "output_type": "stream",
     "text": [
      "[Epoch 9, Batch 100] Loss: 0.599 Accuracy: 0.748\n",
      "[Epoch 9, Batch 200] Loss: 0.592 Accuracy: 0.754\n",
      "[Epoch 9, Batch 300] Loss: 0.597 Accuracy: 0.748\n",
      "[Epoch 9, Batch 400] Loss: 0.590 Accuracy: 0.755\n",
      "[Epoch 9, Batch 500] Loss: 0.597 Accuracy: 0.751\n",
      "[Epoch 9, Batch 600] Loss: 0.594 Accuracy: 0.752\n",
      "[Epoch 9, Batch 700] Loss: 0.589 Accuracy: 0.756\n",
      "[Epoch 9, Batch 800] Loss: 0.593 Accuracy: 0.754\n",
      "[Epoch 9, Batch 900] Loss: 0.593 Accuracy: 0.757\n",
      "[Epoch 9, Batch 1000] Loss: 0.590 Accuracy: 0.758\n",
      "[Epoch 9, Batch 1100] Loss: 0.598 Accuracy: 0.749\n",
      "[Epoch 9, Batch 1200] Loss: 0.601 Accuracy: 0.745\n",
      "[Epoch 9, Batch 1300] Loss: 0.592 Accuracy: 0.757\n",
      "[Epoch 9, Batch 1400] Loss: 0.593 Accuracy: 0.752\n",
      "[Epoch 9, Batch 1500] Loss: 0.594 Accuracy: 0.753\n",
      "[Epoch 9, Batch 1600] Loss: 0.593 Accuracy: 0.757\n",
      "[Epoch 9, Batch 1700] Loss: 0.595 Accuracy: 0.754\n",
      "[Epoch 9, Batch 1800] Loss: 0.590 Accuracy: 0.754\n",
      "[Epoch 9, Batch 1900] Loss: 0.596 Accuracy: 0.753\n"
     ]
    },
    {
     "name": "stderr",
     "output_type": "stream",
     "text": [
      "/opt/conda/lib/python3.7/site-packages/torch/utils/data/dataloader.py:557: UserWarning: This DataLoader will create 4 worker processes in total. Our suggested max number of worker in current system is 2, which is smaller than what this DataLoader is going to create. Please be aware that excessive worker creation might get DataLoader running slow or even freeze, lower the worker number to avoid potential slowness/freeze if necessary.\n",
      "  cpuset_checked))\n"
     ]
    },
    {
     "name": "stdout",
     "output_type": "stream",
     "text": [
      "Epoch 9 Val Loss: 0.5829954532734362 \t\t Val Accuracy: 0.7609213959415597\n",
      "Validation Loss Decreased(147.575442--->145.165868) \t Saving The Model\n"
     ]
    },
    {
     "name": "stderr",
     "output_type": "stream",
     "text": [
      "/opt/conda/lib/python3.7/site-packages/torch/utils/data/dataloader.py:557: UserWarning: This DataLoader will create 4 worker processes in total. Our suggested max number of worker in current system is 2, which is smaller than what this DataLoader is going to create. Please be aware that excessive worker creation might get DataLoader running slow or even freeze, lower the worker number to avoid potential slowness/freeze if necessary.\n",
      "  cpuset_checked))\n"
     ]
    },
    {
     "name": "stdout",
     "output_type": "stream",
     "text": [
      "[Epoch 10, Batch 100] Loss: 0.590 Accuracy: 0.758\n",
      "[Epoch 10, Batch 200] Loss: 0.595 Accuracy: 0.751\n",
      "[Epoch 10, Batch 300] Loss: 0.588 Accuracy: 0.760\n",
      "[Epoch 10, Batch 400] Loss: 0.591 Accuracy: 0.755\n",
      "[Epoch 10, Batch 500] Loss: 0.597 Accuracy: 0.749\n",
      "[Epoch 10, Batch 600] Loss: 0.600 Accuracy: 0.749\n",
      "[Epoch 10, Batch 700] Loss: 0.585 Accuracy: 0.761\n",
      "[Epoch 10, Batch 800] Loss: 0.597 Accuracy: 0.753\n",
      "[Epoch 10, Batch 900] Loss: 0.593 Accuracy: 0.754\n",
      "[Epoch 10, Batch 1000] Loss: 0.590 Accuracy: 0.758\n",
      "[Epoch 10, Batch 1100] Loss: 0.585 Accuracy: 0.762\n",
      "[Epoch 10, Batch 1200] Loss: 0.582 Accuracy: 0.767\n",
      "[Epoch 10, Batch 1300] Loss: 0.590 Accuracy: 0.757\n",
      "[Epoch 10, Batch 1400] Loss: 0.587 Accuracy: 0.761\n",
      "[Epoch 10, Batch 1500] Loss: 0.587 Accuracy: 0.759\n",
      "[Epoch 10, Batch 1600] Loss: 0.580 Accuracy: 0.766\n",
      "[Epoch 10, Batch 1700] Loss: 0.591 Accuracy: 0.758\n",
      "[Epoch 10, Batch 1800] Loss: 0.594 Accuracy: 0.758\n",
      "[Epoch 10, Batch 1900] Loss: 0.585 Accuracy: 0.764\n"
     ]
    },
    {
     "name": "stderr",
     "output_type": "stream",
     "text": [
      "/opt/conda/lib/python3.7/site-packages/torch/utils/data/dataloader.py:557: UserWarning: This DataLoader will create 4 worker processes in total. Our suggested max number of worker in current system is 2, which is smaller than what this DataLoader is going to create. Please be aware that excessive worker creation might get DataLoader running slow or even freeze, lower the worker number to avoid potential slowness/freeze if necessary.\n",
      "  cpuset_checked))\n"
     ]
    },
    {
     "name": "stdout",
     "output_type": "stream",
     "text": [
      "Epoch 10 Val Loss: 0.5929344739301138 \t\t Val Accuracy: 0.7552329771627339\n"
     ]
    },
    {
     "name": "stderr",
     "output_type": "stream",
     "text": [
      "/opt/conda/lib/python3.7/site-packages/torch/utils/data/dataloader.py:557: UserWarning: This DataLoader will create 4 worker processes in total. Our suggested max number of worker in current system is 2, which is smaller than what this DataLoader is going to create. Please be aware that excessive worker creation might get DataLoader running slow or even freeze, lower the worker number to avoid potential slowness/freeze if necessary.\n",
      "  cpuset_checked))\n"
     ]
    },
    {
     "name": "stdout",
     "output_type": "stream",
     "text": [
      "[Epoch 11, Batch 100] Loss: 0.588 Accuracy: 0.762\n",
      "[Epoch 11, Batch 200] Loss: 0.584 Accuracy: 0.764\n",
      "[Epoch 11, Batch 300] Loss: 0.584 Accuracy: 0.762\n",
      "[Epoch 11, Batch 400] Loss: 0.587 Accuracy: 0.762\n",
      "[Epoch 11, Batch 500] Loss: 0.580 Accuracy: 0.767\n",
      "[Epoch 11, Batch 600] Loss: 0.591 Accuracy: 0.757\n",
      "[Epoch 11, Batch 700] Loss: 0.591 Accuracy: 0.756\n",
      "[Epoch 11, Batch 800] Loss: 0.592 Accuracy: 0.758\n",
      "[Epoch 11, Batch 900] Loss: 0.581 Accuracy: 0.765\n",
      "[Epoch 11, Batch 1000] Loss: 0.584 Accuracy: 0.764\n",
      "[Epoch 11, Batch 1100] Loss: 0.588 Accuracy: 0.762\n",
      "[Epoch 11, Batch 1200] Loss: 0.592 Accuracy: 0.756\n",
      "[Epoch 11, Batch 1300] Loss: 0.585 Accuracy: 0.761\n",
      "[Epoch 11, Batch 1400] Loss: 0.588 Accuracy: 0.760\n",
      "[Epoch 11, Batch 1500] Loss: 0.585 Accuracy: 0.764\n",
      "[Epoch 11, Batch 1600] Loss: 0.581 Accuracy: 0.765\n",
      "[Epoch 11, Batch 1700] Loss: 0.592 Accuracy: 0.755\n",
      "[Epoch 11, Batch 1800] Loss: 0.585 Accuracy: 0.764\n",
      "[Epoch 11, Batch 1900] Loss: 0.588 Accuracy: 0.757\n"
     ]
    },
    {
     "name": "stderr",
     "output_type": "stream",
     "text": [
      "/opt/conda/lib/python3.7/site-packages/torch/utils/data/dataloader.py:557: UserWarning: This DataLoader will create 4 worker processes in total. Our suggested max number of worker in current system is 2, which is smaller than what this DataLoader is going to create. Please be aware that excessive worker creation might get DataLoader running slow or even freeze, lower the worker number to avoid potential slowness/freeze if necessary.\n",
      "  cpuset_checked))\n"
     ]
    },
    {
     "name": "stdout",
     "output_type": "stream",
     "text": [
      "Epoch 11 Val Loss: 0.5791939334218282 \t\t Val Accuracy: 0.768256396196726\n",
      "Validation Loss Decreased(145.165868--->144.219289) \t Saving The Model\n"
     ]
    },
    {
     "name": "stderr",
     "output_type": "stream",
     "text": [
      "/opt/conda/lib/python3.7/site-packages/torch/utils/data/dataloader.py:557: UserWarning: This DataLoader will create 4 worker processes in total. Our suggested max number of worker in current system is 2, which is smaller than what this DataLoader is going to create. Please be aware that excessive worker creation might get DataLoader running slow or even freeze, lower the worker number to avoid potential slowness/freeze if necessary.\n",
      "  cpuset_checked))\n"
     ]
    },
    {
     "name": "stdout",
     "output_type": "stream",
     "text": [
      "[Epoch 12, Batch 100] Loss: 0.585 Accuracy: 0.764\n",
      "[Epoch 12, Batch 200] Loss: 0.586 Accuracy: 0.762\n",
      "[Epoch 12, Batch 300] Loss: 0.591 Accuracy: 0.756\n",
      "[Epoch 12, Batch 400] Loss: 0.589 Accuracy: 0.761\n",
      "[Epoch 12, Batch 500] Loss: 0.586 Accuracy: 0.764\n",
      "[Epoch 12, Batch 600] Loss: 0.582 Accuracy: 0.768\n",
      "[Epoch 12, Batch 700] Loss: 0.584 Accuracy: 0.764\n",
      "[Epoch 12, Batch 800] Loss: 0.582 Accuracy: 0.766\n",
      "[Epoch 12, Batch 900] Loss: 0.582 Accuracy: 0.765\n",
      "[Epoch 12, Batch 1000] Loss: 0.584 Accuracy: 0.764\n",
      "[Epoch 12, Batch 1100] Loss: 0.580 Accuracy: 0.771\n",
      "[Epoch 12, Batch 1200] Loss: 0.581 Accuracy: 0.766\n",
      "[Epoch 12, Batch 1300] Loss: 0.583 Accuracy: 0.762\n",
      "[Epoch 12, Batch 1400] Loss: 0.574 Accuracy: 0.775\n",
      "[Epoch 12, Batch 1500] Loss: 0.577 Accuracy: 0.770\n",
      "[Epoch 12, Batch 1600] Loss: 0.587 Accuracy: 0.761\n",
      "[Epoch 12, Batch 1700] Loss: 0.578 Accuracy: 0.769\n",
      "[Epoch 12, Batch 1800] Loss: 0.582 Accuracy: 0.767\n",
      "[Epoch 12, Batch 1900] Loss: 0.623 Accuracy: 0.720\n"
     ]
    },
    {
     "name": "stderr",
     "output_type": "stream",
     "text": [
      "/opt/conda/lib/python3.7/site-packages/torch/utils/data/dataloader.py:557: UserWarning: This DataLoader will create 4 worker processes in total. Our suggested max number of worker in current system is 2, which is smaller than what this DataLoader is going to create. Please be aware that excessive worker creation might get DataLoader running slow or even freeze, lower the worker number to avoid potential slowness/freeze if necessary.\n",
      "  cpuset_checked))\n"
     ]
    },
    {
     "name": "stdout",
     "output_type": "stream",
     "text": [
      "Epoch 12 Val Loss: 0.6249266716849852 \t\t Val Accuracy: 0.7315272955458756\n"
     ]
    },
    {
     "name": "stderr",
     "output_type": "stream",
     "text": [
      "/opt/conda/lib/python3.7/site-packages/torch/utils/data/dataloader.py:557: UserWarning: This DataLoader will create 4 worker processes in total. Our suggested max number of worker in current system is 2, which is smaller than what this DataLoader is going to create. Please be aware that excessive worker creation might get DataLoader running slow or even freeze, lower the worker number to avoid potential slowness/freeze if necessary.\n",
      "  cpuset_checked))\n"
     ]
    },
    {
     "name": "stdout",
     "output_type": "stream",
     "text": [
      "[Epoch 13, Batch 100] Loss: 0.607 Accuracy: 0.736\n",
      "[Epoch 13, Batch 200] Loss: 0.606 Accuracy: 0.738\n",
      "[Epoch 13, Batch 300] Loss: 0.600 Accuracy: 0.745\n",
      "[Epoch 13, Batch 400] Loss: 0.595 Accuracy: 0.752\n",
      "[Epoch 13, Batch 500] Loss: 0.604 Accuracy: 0.740\n",
      "[Epoch 13, Batch 600] Loss: 0.596 Accuracy: 0.752\n",
      "[Epoch 13, Batch 700] Loss: 0.603 Accuracy: 0.741\n",
      "[Epoch 13, Batch 800] Loss: 0.600 Accuracy: 0.745\n",
      "[Epoch 13, Batch 900] Loss: 0.596 Accuracy: 0.752\n",
      "[Epoch 13, Batch 1000] Loss: 0.600 Accuracy: 0.745\n",
      "[Epoch 13, Batch 1100] Loss: 0.596 Accuracy: 0.750\n",
      "[Epoch 13, Batch 1200] Loss: 0.592 Accuracy: 0.753\n",
      "[Epoch 13, Batch 1300] Loss: 0.598 Accuracy: 0.746\n",
      "[Epoch 13, Batch 1400] Loss: 0.601 Accuracy: 0.745\n",
      "[Epoch 13, Batch 1500] Loss: 0.589 Accuracy: 0.757\n",
      "[Epoch 13, Batch 1600] Loss: 0.595 Accuracy: 0.753\n",
      "[Epoch 13, Batch 1700] Loss: 0.595 Accuracy: 0.751\n",
      "[Epoch 13, Batch 1800] Loss: 0.596 Accuracy: 0.751\n",
      "[Epoch 13, Batch 1900] Loss: 0.591 Accuracy: 0.758\n"
     ]
    },
    {
     "name": "stderr",
     "output_type": "stream",
     "text": [
      "/opt/conda/lib/python3.7/site-packages/torch/utils/data/dataloader.py:557: UserWarning: This DataLoader will create 4 worker processes in total. Our suggested max number of worker in current system is 2, which is smaller than what this DataLoader is going to create. Please be aware that excessive worker creation might get DataLoader running slow or even freeze, lower the worker number to avoid potential slowness/freeze if necessary.\n",
      "  cpuset_checked))\n"
     ]
    },
    {
     "name": "stdout",
     "output_type": "stream",
     "text": [
      "Epoch 13 Val Loss: 0.5858440054468361 \t\t Val Accuracy: 0.7595840305698676\n"
     ]
    },
    {
     "name": "stderr",
     "output_type": "stream",
     "text": [
      "/opt/conda/lib/python3.7/site-packages/torch/utils/data/dataloader.py:557: UserWarning: This DataLoader will create 4 worker processes in total. Our suggested max number of worker in current system is 2, which is smaller than what this DataLoader is going to create. Please be aware that excessive worker creation might get DataLoader running slow or even freeze, lower the worker number to avoid potential slowness/freeze if necessary.\n",
      "  cpuset_checked))\n"
     ]
    },
    {
     "name": "stdout",
     "output_type": "stream",
     "text": [
      "[Epoch 14, Batch 100] Loss: 0.594 Accuracy: 0.752\n",
      "[Epoch 14, Batch 200] Loss: 0.584 Accuracy: 0.762\n",
      "[Epoch 14, Batch 300] Loss: 0.586 Accuracy: 0.762\n",
      "[Epoch 14, Batch 400] Loss: 0.588 Accuracy: 0.757\n",
      "[Epoch 14, Batch 500] Loss: 0.590 Accuracy: 0.756\n",
      "[Epoch 14, Batch 600] Loss: 0.584 Accuracy: 0.764\n",
      "[Epoch 14, Batch 700] Loss: 0.582 Accuracy: 0.766\n",
      "[Epoch 14, Batch 800] Loss: 0.588 Accuracy: 0.759\n",
      "[Epoch 14, Batch 900] Loss: 0.589 Accuracy: 0.757\n",
      "[Epoch 14, Batch 1000] Loss: 0.588 Accuracy: 0.761\n",
      "[Epoch 14, Batch 1100] Loss: 0.590 Accuracy: 0.757\n",
      "[Epoch 14, Batch 1200] Loss: 0.593 Accuracy: 0.754\n",
      "[Epoch 14, Batch 1300] Loss: 0.591 Accuracy: 0.756\n",
      "[Epoch 14, Batch 1400] Loss: 0.586 Accuracy: 0.763\n",
      "[Epoch 14, Batch 1500] Loss: 0.588 Accuracy: 0.759\n",
      "[Epoch 14, Batch 1600] Loss: 0.583 Accuracy: 0.763\n",
      "[Epoch 14, Batch 1700] Loss: 0.581 Accuracy: 0.766\n",
      "[Epoch 14, Batch 1800] Loss: 0.594 Accuracy: 0.755\n",
      "[Epoch 14, Batch 1900] Loss: 0.593 Accuracy: 0.756\n"
     ]
    },
    {
     "name": "stderr",
     "output_type": "stream",
     "text": [
      "/opt/conda/lib/python3.7/site-packages/torch/utils/data/dataloader.py:557: UserWarning: This DataLoader will create 4 worker processes in total. Our suggested max number of worker in current system is 2, which is smaller than what this DataLoader is going to create. Please be aware that excessive worker creation might get DataLoader running slow or even freeze, lower the worker number to avoid potential slowness/freeze if necessary.\n",
      "  cpuset_checked))\n"
     ]
    },
    {
     "name": "stdout",
     "output_type": "stream",
     "text": [
      "Epoch 14 Val Loss: 0.5792722072467268 \t\t Val Accuracy: 0.7662773169716499\n"
     ]
    },
    {
     "name": "stderr",
     "output_type": "stream",
     "text": [
      "/opt/conda/lib/python3.7/site-packages/torch/utils/data/dataloader.py:557: UserWarning: This DataLoader will create 4 worker processes in total. Our suggested max number of worker in current system is 2, which is smaller than what this DataLoader is going to create. Please be aware that excessive worker creation might get DataLoader running slow or even freeze, lower the worker number to avoid potential slowness/freeze if necessary.\n",
      "  cpuset_checked))\n"
     ]
    },
    {
     "name": "stdout",
     "output_type": "stream",
     "text": [
      "[Epoch 15, Batch 100] Loss: 0.582 Accuracy: 0.766\n",
      "[Epoch 15, Batch 200] Loss: 0.579 Accuracy: 0.767\n",
      "[Epoch 15, Batch 300] Loss: 0.587 Accuracy: 0.762\n",
      "[Epoch 15, Batch 400] Loss: 0.585 Accuracy: 0.764\n",
      "[Epoch 15, Batch 500] Loss: 0.578 Accuracy: 0.769\n",
      "[Epoch 15, Batch 600] Loss: 0.576 Accuracy: 0.771\n",
      "[Epoch 15, Batch 700] Loss: 0.581 Accuracy: 0.768\n",
      "[Epoch 15, Batch 800] Loss: 0.580 Accuracy: 0.770\n",
      "[Epoch 15, Batch 900] Loss: 0.582 Accuracy: 0.766\n",
      "[Epoch 15, Batch 1000] Loss: 0.616 Accuracy: 0.724\n",
      "[Epoch 15, Batch 1100] Loss: 0.610 Accuracy: 0.733\n",
      "[Epoch 15, Batch 1200] Loss: 0.598 Accuracy: 0.746\n",
      "[Epoch 15, Batch 1300] Loss: 0.601 Accuracy: 0.748\n",
      "[Epoch 15, Batch 1400] Loss: 0.592 Accuracy: 0.754\n",
      "[Epoch 15, Batch 1500] Loss: 0.595 Accuracy: 0.750\n",
      "[Epoch 15, Batch 1600] Loss: 0.595 Accuracy: 0.752\n",
      "[Epoch 15, Batch 1700] Loss: 0.596 Accuracy: 0.750\n",
      "[Epoch 15, Batch 1800] Loss: 0.588 Accuracy: 0.758\n",
      "[Epoch 15, Batch 1900] Loss: 0.598 Accuracy: 0.750\n"
     ]
    },
    {
     "name": "stderr",
     "output_type": "stream",
     "text": [
      "/opt/conda/lib/python3.7/site-packages/torch/utils/data/dataloader.py:557: UserWarning: This DataLoader will create 4 worker processes in total. Our suggested max number of worker in current system is 2, which is smaller than what this DataLoader is going to create. Please be aware that excessive worker creation might get DataLoader running slow or even freeze, lower the worker number to avoid potential slowness/freeze if necessary.\n",
      "  cpuset_checked))\n"
     ]
    },
    {
     "name": "stdout",
     "output_type": "stream",
     "text": [
      "Epoch 15 Val Loss: 0.5973152338740337 \t\t Val Accuracy: 0.7485888089430074\n"
     ]
    },
    {
     "name": "stderr",
     "output_type": "stream",
     "text": [
      "/opt/conda/lib/python3.7/site-packages/torch/utils/data/dataloader.py:557: UserWarning: This DataLoader will create 4 worker processes in total. Our suggested max number of worker in current system is 2, which is smaller than what this DataLoader is going to create. Please be aware that excessive worker creation might get DataLoader running slow or even freeze, lower the worker number to avoid potential slowness/freeze if necessary.\n",
      "  cpuset_checked))\n"
     ]
    },
    {
     "name": "stdout",
     "output_type": "stream",
     "text": [
      "[Epoch 16, Batch 100] Loss: 0.590 Accuracy: 0.757\n",
      "[Epoch 16, Batch 200] Loss: 0.592 Accuracy: 0.753\n",
      "[Epoch 16, Batch 300] Loss: 0.596 Accuracy: 0.752\n",
      "[Epoch 16, Batch 400] Loss: 0.585 Accuracy: 0.762\n",
      "[Epoch 16, Batch 500] Loss: 0.589 Accuracy: 0.759\n",
      "[Epoch 16, Batch 600] Loss: 0.592 Accuracy: 0.755\n",
      "[Epoch 16, Batch 700] Loss: 0.584 Accuracy: 0.762\n",
      "[Epoch 16, Batch 800] Loss: 0.581 Accuracy: 0.766\n",
      "[Epoch 16, Batch 900] Loss: 0.582 Accuracy: 0.764\n",
      "[Epoch 16, Batch 1000] Loss: 0.584 Accuracy: 0.764\n",
      "[Epoch 16, Batch 1100] Loss: 0.586 Accuracy: 0.761\n",
      "[Epoch 16, Batch 1200] Loss: 0.588 Accuracy: 0.762\n",
      "[Epoch 16, Batch 1300] Loss: 0.585 Accuracy: 0.765\n",
      "[Epoch 16, Batch 1400] Loss: 0.584 Accuracy: 0.765\n",
      "[Epoch 16, Batch 1500] Loss: 0.581 Accuracy: 0.766\n",
      "[Epoch 16, Batch 1600] Loss: 0.582 Accuracy: 0.764\n",
      "[Epoch 16, Batch 1700] Loss: 0.589 Accuracy: 0.759\n",
      "[Epoch 16, Batch 1800] Loss: 0.584 Accuracy: 0.764\n",
      "[Epoch 16, Batch 1900] Loss: 0.585 Accuracy: 0.762\n"
     ]
    },
    {
     "name": "stderr",
     "output_type": "stream",
     "text": [
      "/opt/conda/lib/python3.7/site-packages/torch/utils/data/dataloader.py:557: UserWarning: This DataLoader will create 4 worker processes in total. Our suggested max number of worker in current system is 2, which is smaller than what this DataLoader is going to create. Please be aware that excessive worker creation might get DataLoader running slow or even freeze, lower the worker number to avoid potential slowness/freeze if necessary.\n",
      "  cpuset_checked))\n"
     ]
    },
    {
     "name": "stdout",
     "output_type": "stream",
     "text": [
      "Epoch 16 Val Loss: 0.5717785172912491 \t\t Val Accuracy: 0.7737416391873597\n",
      "Validation Loss Decreased(144.219289--->142.372851) \t Saving The Model\n"
     ]
    },
    {
     "name": "stderr",
     "output_type": "stream",
     "text": [
      "/opt/conda/lib/python3.7/site-packages/torch/utils/data/dataloader.py:557: UserWarning: This DataLoader will create 4 worker processes in total. Our suggested max number of worker in current system is 2, which is smaller than what this DataLoader is going to create. Please be aware that excessive worker creation might get DataLoader running slow or even freeze, lower the worker number to avoid potential slowness/freeze if necessary.\n",
      "  cpuset_checked))\n"
     ]
    },
    {
     "name": "stdout",
     "output_type": "stream",
     "text": [
      "[Epoch 17, Batch 100] Loss: 0.579 Accuracy: 0.770\n",
      "[Epoch 17, Batch 200] Loss: 0.588 Accuracy: 0.762\n",
      "[Epoch 17, Batch 300] Loss: 0.581 Accuracy: 0.766\n",
      "[Epoch 17, Batch 400] Loss: 0.577 Accuracy: 0.769\n",
      "[Epoch 17, Batch 500] Loss: 0.576 Accuracy: 0.770\n",
      "[Epoch 17, Batch 600] Loss: 0.585 Accuracy: 0.761\n",
      "[Epoch 17, Batch 700] Loss: 0.572 Accuracy: 0.775\n",
      "[Epoch 17, Batch 800] Loss: 0.579 Accuracy: 0.768\n",
      "[Epoch 17, Batch 900] Loss: 0.573 Accuracy: 0.773\n",
      "[Epoch 17, Batch 1000] Loss: 0.581 Accuracy: 0.768\n",
      "[Epoch 17, Batch 1100] Loss: 0.574 Accuracy: 0.773\n",
      "[Epoch 17, Batch 1200] Loss: 0.580 Accuracy: 0.766\n",
      "[Epoch 17, Batch 1300] Loss: 0.582 Accuracy: 0.765\n",
      "[Epoch 17, Batch 1400] Loss: 0.575 Accuracy: 0.771\n",
      "[Epoch 17, Batch 1500] Loss: 0.586 Accuracy: 0.763\n",
      "[Epoch 17, Batch 1600] Loss: 0.574 Accuracy: 0.772\n",
      "[Epoch 17, Batch 1700] Loss: 0.576 Accuracy: 0.774\n",
      "[Epoch 17, Batch 1800] Loss: 0.576 Accuracy: 0.771\n",
      "[Epoch 17, Batch 1900] Loss: 0.575 Accuracy: 0.774\n"
     ]
    },
    {
     "name": "stderr",
     "output_type": "stream",
     "text": [
      "/opt/conda/lib/python3.7/site-packages/torch/utils/data/dataloader.py:557: UserWarning: This DataLoader will create 4 worker processes in total. Our suggested max number of worker in current system is 2, which is smaller than what this DataLoader is going to create. Please be aware that excessive worker creation might get DataLoader running slow or even freeze, lower the worker number to avoid potential slowness/freeze if necessary.\n",
      "  cpuset_checked))\n"
     ]
    },
    {
     "name": "stdout",
     "output_type": "stream",
     "text": [
      "Epoch 17 Val Loss: 0.5709648956974827 \t\t Val Accuracy: 0.7754482954539902\n",
      "Validation Loss Decreased(142.372851--->142.170259) \t Saving The Model\n"
     ]
    },
    {
     "name": "stderr",
     "output_type": "stream",
     "text": [
      "/opt/conda/lib/python3.7/site-packages/torch/utils/data/dataloader.py:557: UserWarning: This DataLoader will create 4 worker processes in total. Our suggested max number of worker in current system is 2, which is smaller than what this DataLoader is going to create. Please be aware that excessive worker creation might get DataLoader running slow or even freeze, lower the worker number to avoid potential slowness/freeze if necessary.\n",
      "  cpuset_checked))\n"
     ]
    },
    {
     "name": "stdout",
     "output_type": "stream",
     "text": [
      "[Epoch 18, Batch 100] Loss: 0.576 Accuracy: 0.770\n",
      "[Epoch 18, Batch 200] Loss: 0.573 Accuracy: 0.775\n",
      "[Epoch 18, Batch 300] Loss: 0.578 Accuracy: 0.770\n",
      "[Epoch 18, Batch 400] Loss: 0.581 Accuracy: 0.769\n",
      "[Epoch 18, Batch 500] Loss: 0.578 Accuracy: 0.770\n",
      "[Epoch 18, Batch 600] Loss: 0.575 Accuracy: 0.772\n",
      "[Epoch 18, Batch 700] Loss: 0.573 Accuracy: 0.777\n",
      "[Epoch 18, Batch 800] Loss: 0.582 Accuracy: 0.768\n",
      "[Epoch 18, Batch 900] Loss: 0.576 Accuracy: 0.772\n",
      "[Epoch 18, Batch 1000] Loss: 0.571 Accuracy: 0.778\n",
      "[Epoch 18, Batch 1100] Loss: 0.575 Accuracy: 0.772\n",
      "[Epoch 18, Batch 1200] Loss: 0.575 Accuracy: 0.774\n",
      "[Epoch 18, Batch 1300] Loss: 0.580 Accuracy: 0.769\n",
      "[Epoch 18, Batch 1400] Loss: 0.571 Accuracy: 0.775\n",
      "[Epoch 18, Batch 1500] Loss: 0.566 Accuracy: 0.782\n",
      "[Epoch 18, Batch 1600] Loss: 0.572 Accuracy: 0.776\n",
      "[Epoch 18, Batch 1700] Loss: 0.571 Accuracy: 0.776\n",
      "[Epoch 18, Batch 1800] Loss: 0.581 Accuracy: 0.768\n",
      "[Epoch 18, Batch 1900] Loss: 0.585 Accuracy: 0.764\n"
     ]
    },
    {
     "name": "stderr",
     "output_type": "stream",
     "text": [
      "/opt/conda/lib/python3.7/site-packages/torch/utils/data/dataloader.py:557: UserWarning: This DataLoader will create 4 worker processes in total. Our suggested max number of worker in current system is 2, which is smaller than what this DataLoader is going to create. Please be aware that excessive worker creation might get DataLoader running slow or even freeze, lower the worker number to avoid potential slowness/freeze if necessary.\n",
      "  cpuset_checked))\n"
     ]
    },
    {
     "name": "stdout",
     "output_type": "stream",
     "text": [
      "Epoch 18 Val Loss: 0.5734918206092344 \t\t Val Accuracy: 0.7760236703933984\n"
     ]
    },
    {
     "name": "stderr",
     "output_type": "stream",
     "text": [
      "/opt/conda/lib/python3.7/site-packages/torch/utils/data/dataloader.py:557: UserWarning: This DataLoader will create 4 worker processes in total. Our suggested max number of worker in current system is 2, which is smaller than what this DataLoader is going to create. Please be aware that excessive worker creation might get DataLoader running slow or even freeze, lower the worker number to avoid potential slowness/freeze if necessary.\n",
      "  cpuset_checked))\n"
     ]
    },
    {
     "name": "stdout",
     "output_type": "stream",
     "text": [
      "[Epoch 19, Batch 100] Loss: 0.572 Accuracy: 0.777\n",
      "[Epoch 19, Batch 200] Loss: 0.576 Accuracy: 0.773\n",
      "[Epoch 19, Batch 300] Loss: 0.567 Accuracy: 0.779\n",
      "[Epoch 19, Batch 400] Loss: 0.572 Accuracy: 0.775\n",
      "[Epoch 19, Batch 500] Loss: 0.570 Accuracy: 0.777\n",
      "[Epoch 19, Batch 600] Loss: 0.573 Accuracy: 0.775\n",
      "[Epoch 19, Batch 700] Loss: 0.584 Accuracy: 0.766\n",
      "[Epoch 19, Batch 800] Loss: 0.573 Accuracy: 0.773\n",
      "[Epoch 19, Batch 900] Loss: 0.570 Accuracy: 0.778\n",
      "[Epoch 19, Batch 1000] Loss: 0.572 Accuracy: 0.776\n",
      "[Epoch 19, Batch 1100] Loss: 0.570 Accuracy: 0.780\n",
      "[Epoch 19, Batch 1200] Loss: 0.576 Accuracy: 0.773\n",
      "[Epoch 19, Batch 1300] Loss: 0.568 Accuracy: 0.781\n",
      "[Epoch 19, Batch 1400] Loss: 0.576 Accuracy: 0.772\n",
      "[Epoch 19, Batch 1500] Loss: 0.576 Accuracy: 0.774\n",
      "[Epoch 19, Batch 1600] Loss: 0.572 Accuracy: 0.775\n",
      "[Epoch 19, Batch 1700] Loss: 0.569 Accuracy: 0.779\n",
      "[Epoch 19, Batch 1800] Loss: 0.571 Accuracy: 0.780\n",
      "[Epoch 19, Batch 1900] Loss: 0.575 Accuracy: 0.774\n"
     ]
    },
    {
     "name": "stderr",
     "output_type": "stream",
     "text": [
      "/opt/conda/lib/python3.7/site-packages/torch/utils/data/dataloader.py:557: UserWarning: This DataLoader will create 4 worker processes in total. Our suggested max number of worker in current system is 2, which is smaller than what this DataLoader is going to create. Please be aware that excessive worker creation might get DataLoader running slow or even freeze, lower the worker number to avoid potential slowness/freeze if necessary.\n",
      "  cpuset_checked))\n"
     ]
    },
    {
     "name": "stdout",
     "output_type": "stream",
     "text": [
      "Epoch 19 Val Loss: 0.5643131835872389 \t\t Val Accuracy: 0.7823378547152293\n",
      "Validation Loss Decreased(142.170259--->140.513983) \t Saving The Model\n"
     ]
    },
    {
     "name": "stderr",
     "output_type": "stream",
     "text": [
      "/opt/conda/lib/python3.7/site-packages/torch/utils/data/dataloader.py:557: UserWarning: This DataLoader will create 4 worker processes in total. Our suggested max number of worker in current system is 2, which is smaller than what this DataLoader is going to create. Please be aware that excessive worker creation might get DataLoader running slow or even freeze, lower the worker number to avoid potential slowness/freeze if necessary.\n",
      "  cpuset_checked))\n"
     ]
    },
    {
     "name": "stdout",
     "output_type": "stream",
     "text": [
      "[Epoch 20, Batch 100] Loss: 0.576 Accuracy: 0.774\n",
      "[Epoch 20, Batch 200] Loss: 0.574 Accuracy: 0.775\n",
      "[Epoch 20, Batch 300] Loss: 0.573 Accuracy: 0.773\n",
      "[Epoch 20, Batch 400] Loss: 0.572 Accuracy: 0.775\n",
      "[Epoch 20, Batch 500] Loss: 0.572 Accuracy: 0.776\n",
      "[Epoch 20, Batch 600] Loss: 0.570 Accuracy: 0.778\n",
      "[Epoch 20, Batch 700] Loss: 0.568 Accuracy: 0.781\n",
      "[Epoch 20, Batch 800] Loss: 0.571 Accuracy: 0.776\n",
      "[Epoch 20, Batch 900] Loss: 0.571 Accuracy: 0.775\n",
      "[Epoch 20, Batch 1000] Loss: 0.561 Accuracy: 0.785\n",
      "[Epoch 20, Batch 1100] Loss: 0.565 Accuracy: 0.783\n",
      "[Epoch 20, Batch 1200] Loss: 0.568 Accuracy: 0.780\n",
      "[Epoch 20, Batch 1300] Loss: 0.571 Accuracy: 0.778\n",
      "[Epoch 20, Batch 1400] Loss: 0.569 Accuracy: 0.778\n",
      "[Epoch 20, Batch 1500] Loss: 0.564 Accuracy: 0.785\n",
      "[Epoch 20, Batch 1600] Loss: 0.568 Accuracy: 0.780\n",
      "[Epoch 20, Batch 1700] Loss: 0.568 Accuracy: 0.779\n",
      "[Epoch 20, Batch 1800] Loss: 0.562 Accuracy: 0.785\n",
      "[Epoch 20, Batch 1900] Loss: 0.561 Accuracy: 0.785\n"
     ]
    },
    {
     "name": "stderr",
     "output_type": "stream",
     "text": [
      "/opt/conda/lib/python3.7/site-packages/torch/utils/data/dataloader.py:557: UserWarning: This DataLoader will create 4 worker processes in total. Our suggested max number of worker in current system is 2, which is smaller than what this DataLoader is going to create. Please be aware that excessive worker creation might get DataLoader running slow or even freeze, lower the worker number to avoid potential slowness/freeze if necessary.\n",
      "  cpuset_checked))\n"
     ]
    },
    {
     "name": "stdout",
     "output_type": "stream",
     "text": [
      "Epoch 20 Val Loss: 0.5643079271278229 \t\t Val Accuracy: 0.7841305671195591\n",
      "Validation Loss Decreased(140.513983--->140.512674) \t Saving The Model\n"
     ]
    },
    {
     "name": "stderr",
     "output_type": "stream",
     "text": [
      "/opt/conda/lib/python3.7/site-packages/torch/utils/data/dataloader.py:557: UserWarning: This DataLoader will create 4 worker processes in total. Our suggested max number of worker in current system is 2, which is smaller than what this DataLoader is going to create. Please be aware that excessive worker creation might get DataLoader running slow or even freeze, lower the worker number to avoid potential slowness/freeze if necessary.\n",
      "  cpuset_checked))\n"
     ]
    },
    {
     "name": "stdout",
     "output_type": "stream",
     "text": [
      "[Epoch 21, Batch 100] Loss: 0.569 Accuracy: 0.780\n",
      "[Epoch 21, Batch 200] Loss: 0.567 Accuracy: 0.781\n",
      "[Epoch 21, Batch 300] Loss: 0.566 Accuracy: 0.781\n",
      "[Epoch 21, Batch 400] Loss: 0.566 Accuracy: 0.780\n",
      "[Epoch 21, Batch 500] Loss: 0.561 Accuracy: 0.786\n",
      "[Epoch 21, Batch 600] Loss: 0.564 Accuracy: 0.784\n",
      "[Epoch 21, Batch 700] Loss: 0.574 Accuracy: 0.775\n",
      "[Epoch 21, Batch 800] Loss: 0.564 Accuracy: 0.785\n",
      "[Epoch 21, Batch 900] Loss: 0.567 Accuracy: 0.781\n",
      "[Epoch 21, Batch 1000] Loss: 0.564 Accuracy: 0.782\n",
      "[Epoch 21, Batch 1100] Loss: 0.563 Accuracy: 0.784\n",
      "[Epoch 21, Batch 1200] Loss: 0.567 Accuracy: 0.783\n",
      "[Epoch 21, Batch 1300] Loss: 0.561 Accuracy: 0.785\n",
      "[Epoch 21, Batch 1400] Loss: 0.561 Accuracy: 0.788\n",
      "[Epoch 21, Batch 1500] Loss: 0.569 Accuracy: 0.780\n",
      "[Epoch 21, Batch 1600] Loss: 0.564 Accuracy: 0.785\n",
      "[Epoch 21, Batch 1700] Loss: 0.568 Accuracy: 0.780\n",
      "[Epoch 21, Batch 1800] Loss: 0.569 Accuracy: 0.779\n",
      "[Epoch 21, Batch 1900] Loss: 0.564 Accuracy: 0.784\n"
     ]
    },
    {
     "name": "stderr",
     "output_type": "stream",
     "text": [
      "/opt/conda/lib/python3.7/site-packages/torch/utils/data/dataloader.py:557: UserWarning: This DataLoader will create 4 worker processes in total. Our suggested max number of worker in current system is 2, which is smaller than what this DataLoader is going to create. Please be aware that excessive worker creation might get DataLoader running slow or even freeze, lower the worker number to avoid potential slowness/freeze if necessary.\n",
      "  cpuset_checked))\n"
     ]
    },
    {
     "name": "stdout",
     "output_type": "stream",
     "text": [
      "Epoch 21 Val Loss: 0.5805021569910778 \t\t Val Accuracy: 0.7780286115912111\n"
     ]
    },
    {
     "name": "stderr",
     "output_type": "stream",
     "text": [
      "/opt/conda/lib/python3.7/site-packages/torch/utils/data/dataloader.py:557: UserWarning: This DataLoader will create 4 worker processes in total. Our suggested max number of worker in current system is 2, which is smaller than what this DataLoader is going to create. Please be aware that excessive worker creation might get DataLoader running slow or even freeze, lower the worker number to avoid potential slowness/freeze if necessary.\n",
      "  cpuset_checked))\n"
     ]
    },
    {
     "name": "stdout",
     "output_type": "stream",
     "text": [
      "[Epoch 22, Batch 100] Loss: 0.567 Accuracy: 0.780\n",
      "[Epoch 22, Batch 200] Loss: 0.572 Accuracy: 0.777\n",
      "[Epoch 22, Batch 300] Loss: 0.573 Accuracy: 0.778\n",
      "[Epoch 22, Batch 400] Loss: 0.585 Accuracy: 0.766\n",
      "[Epoch 22, Batch 500] Loss: 0.568 Accuracy: 0.780\n",
      "[Epoch 22, Batch 600] Loss: 0.573 Accuracy: 0.776\n",
      "[Epoch 22, Batch 700] Loss: 0.561 Accuracy: 0.788\n",
      "[Epoch 22, Batch 800] Loss: 0.565 Accuracy: 0.782\n",
      "[Epoch 22, Batch 900] Loss: 0.564 Accuracy: 0.784\n",
      "[Epoch 22, Batch 1000] Loss: 0.570 Accuracy: 0.779\n",
      "[Epoch 22, Batch 1100] Loss: 0.569 Accuracy: 0.779\n",
      "[Epoch 22, Batch 1200] Loss: 0.568 Accuracy: 0.782\n",
      "[Epoch 22, Batch 1300] Loss: 0.568 Accuracy: 0.780\n",
      "[Epoch 22, Batch 1400] Loss: 0.573 Accuracy: 0.775\n",
      "[Epoch 22, Batch 1500] Loss: 0.562 Accuracy: 0.787\n",
      "[Epoch 22, Batch 1600] Loss: 0.572 Accuracy: 0.776\n",
      "[Epoch 22, Batch 1700] Loss: 0.563 Accuracy: 0.784\n",
      "[Epoch 22, Batch 1800] Loss: 0.562 Accuracy: 0.787\n",
      "[Epoch 22, Batch 1900] Loss: 0.568 Accuracy: 0.780\n"
     ]
    },
    {
     "name": "stderr",
     "output_type": "stream",
     "text": [
      "/opt/conda/lib/python3.7/site-packages/torch/utils/data/dataloader.py:557: UserWarning: This DataLoader will create 4 worker processes in total. Our suggested max number of worker in current system is 2, which is smaller than what this DataLoader is going to create. Please be aware that excessive worker creation might get DataLoader running slow or even freeze, lower the worker number to avoid potential slowness/freeze if necessary.\n",
      "  cpuset_checked))\n"
     ]
    },
    {
     "name": "stdout",
     "output_type": "stream",
     "text": [
      "Epoch 22 Val Loss: 0.5591820003277805 \t\t Val Accuracy: 0.7865641225477563\n",
      "Validation Loss Decreased(140.512674--->139.236318) \t Saving The Model\n"
     ]
    },
    {
     "name": "stderr",
     "output_type": "stream",
     "text": [
      "/opt/conda/lib/python3.7/site-packages/torch/utils/data/dataloader.py:557: UserWarning: This DataLoader will create 4 worker processes in total. Our suggested max number of worker in current system is 2, which is smaller than what this DataLoader is going to create. Please be aware that excessive worker creation might get DataLoader running slow or even freeze, lower the worker number to avoid potential slowness/freeze if necessary.\n",
      "  cpuset_checked))\n"
     ]
    },
    {
     "name": "stdout",
     "output_type": "stream",
     "text": [
      "[Epoch 23, Batch 100] Loss: 0.564 Accuracy: 0.785\n",
      "[Epoch 23, Batch 200] Loss: 0.569 Accuracy: 0.779\n",
      "[Epoch 23, Batch 300] Loss: 0.570 Accuracy: 0.781\n",
      "[Epoch 23, Batch 400] Loss: 0.571 Accuracy: 0.779\n",
      "[Epoch 23, Batch 500] Loss: 0.563 Accuracy: 0.785\n",
      "[Epoch 23, Batch 600] Loss: 0.568 Accuracy: 0.779\n",
      "[Epoch 23, Batch 700] Loss: 0.569 Accuracy: 0.778\n",
      "[Epoch 23, Batch 800] Loss: 0.557 Accuracy: 0.790\n",
      "[Epoch 23, Batch 900] Loss: 0.559 Accuracy: 0.789\n",
      "[Epoch 23, Batch 1000] Loss: 0.557 Accuracy: 0.791\n",
      "[Epoch 23, Batch 1100] Loss: 0.559 Accuracy: 0.789\n",
      "[Epoch 23, Batch 1200] Loss: 0.563 Accuracy: 0.786\n",
      "[Epoch 23, Batch 1300] Loss: 0.567 Accuracy: 0.781\n",
      "[Epoch 23, Batch 1400] Loss: 0.564 Accuracy: 0.783\n",
      "[Epoch 23, Batch 1500] Loss: 0.559 Accuracy: 0.787\n",
      "[Epoch 23, Batch 1600] Loss: 0.563 Accuracy: 0.784\n",
      "[Epoch 23, Batch 1700] Loss: 0.570 Accuracy: 0.779\n",
      "[Epoch 23, Batch 1800] Loss: 0.565 Accuracy: 0.782\n",
      "[Epoch 23, Batch 1900] Loss: 0.561 Accuracy: 0.787\n"
     ]
    },
    {
     "name": "stderr",
     "output_type": "stream",
     "text": [
      "/opt/conda/lib/python3.7/site-packages/torch/utils/data/dataloader.py:557: UserWarning: This DataLoader will create 4 worker processes in total. Our suggested max number of worker in current system is 2, which is smaller than what this DataLoader is going to create. Please be aware that excessive worker creation might get DataLoader running slow or even freeze, lower the worker number to avoid potential slowness/freeze if necessary.\n",
      "  cpuset_checked))\n"
     ]
    },
    {
     "name": "stdout",
     "output_type": "stream",
     "text": [
      "Epoch 23 Val Loss: 0.5571315910921518 \t\t Val Accuracy: 0.788932591562385\n",
      "Validation Loss Decreased(139.236318--->138.725766) \t Saving The Model\n"
     ]
    },
    {
     "name": "stderr",
     "output_type": "stream",
     "text": [
      "/opt/conda/lib/python3.7/site-packages/torch/utils/data/dataloader.py:557: UserWarning: This DataLoader will create 4 worker processes in total. Our suggested max number of worker in current system is 2, which is smaller than what this DataLoader is going to create. Please be aware that excessive worker creation might get DataLoader running slow or even freeze, lower the worker number to avoid potential slowness/freeze if necessary.\n",
      "  cpuset_checked))\n"
     ]
    },
    {
     "name": "stdout",
     "output_type": "stream",
     "text": [
      "[Epoch 24, Batch 100] Loss: 0.562 Accuracy: 0.787\n",
      "[Epoch 24, Batch 200] Loss: 0.559 Accuracy: 0.790\n",
      "[Epoch 24, Batch 300] Loss: 0.571 Accuracy: 0.778\n",
      "[Epoch 24, Batch 400] Loss: 0.560 Accuracy: 0.788\n",
      "[Epoch 24, Batch 500] Loss: 0.556 Accuracy: 0.791\n",
      "[Epoch 24, Batch 600] Loss: 0.557 Accuracy: 0.790\n",
      "[Epoch 24, Batch 700] Loss: 0.556 Accuracy: 0.792\n",
      "[Epoch 24, Batch 800] Loss: 0.561 Accuracy: 0.786\n",
      "[Epoch 24, Batch 900] Loss: 0.565 Accuracy: 0.783\n",
      "[Epoch 24, Batch 1000] Loss: 0.564 Accuracy: 0.783\n",
      "[Epoch 24, Batch 1100] Loss: 0.562 Accuracy: 0.785\n",
      "[Epoch 24, Batch 1200] Loss: 0.564 Accuracy: 0.786\n",
      "[Epoch 24, Batch 1300] Loss: 0.562 Accuracy: 0.786\n",
      "[Epoch 24, Batch 1400] Loss: 0.575 Accuracy: 0.773\n",
      "[Epoch 24, Batch 1500] Loss: 0.566 Accuracy: 0.782\n",
      "[Epoch 24, Batch 1600] Loss: 0.563 Accuracy: 0.786\n",
      "[Epoch 24, Batch 1700] Loss: 0.557 Accuracy: 0.789\n",
      "[Epoch 24, Batch 1800] Loss: 0.562 Accuracy: 0.785\n",
      "[Epoch 24, Batch 1900] Loss: 0.568 Accuracy: 0.781\n"
     ]
    },
    {
     "name": "stderr",
     "output_type": "stream",
     "text": [
      "/opt/conda/lib/python3.7/site-packages/torch/utils/data/dataloader.py:557: UserWarning: This DataLoader will create 4 worker processes in total. Our suggested max number of worker in current system is 2, which is smaller than what this DataLoader is going to create. Please be aware that excessive worker creation might get DataLoader running slow or even freeze, lower the worker number to avoid potential slowness/freeze if necessary.\n",
      "  cpuset_checked))\n"
     ]
    },
    {
     "name": "stdout",
     "output_type": "stream",
     "text": [
      "Epoch 24 Val Loss: 0.5584713653867025 \t\t Val Accuracy: 0.7871211821892178\n"
     ]
    },
    {
     "name": "stderr",
     "output_type": "stream",
     "text": [
      "/opt/conda/lib/python3.7/site-packages/torch/utils/data/dataloader.py:557: UserWarning: This DataLoader will create 4 worker processes in total. Our suggested max number of worker in current system is 2, which is smaller than what this DataLoader is going to create. Please be aware that excessive worker creation might get DataLoader running slow or even freeze, lower the worker number to avoid potential slowness/freeze if necessary.\n",
      "  cpuset_checked))\n"
     ]
    },
    {
     "name": "stdout",
     "output_type": "stream",
     "text": [
      "[Epoch 25, Batch 100] Loss: 0.562 Accuracy: 0.786\n",
      "[Epoch 25, Batch 200] Loss: 0.564 Accuracy: 0.785\n",
      "[Epoch 25, Batch 300] Loss: 0.563 Accuracy: 0.786\n",
      "[Epoch 25, Batch 400] Loss: 0.564 Accuracy: 0.783\n",
      "[Epoch 25, Batch 500] Loss: 0.562 Accuracy: 0.785\n",
      "[Epoch 25, Batch 600] Loss: 0.577 Accuracy: 0.772\n",
      "[Epoch 25, Batch 700] Loss: 0.564 Accuracy: 0.784\n",
      "[Epoch 25, Batch 800] Loss: 0.563 Accuracy: 0.784\n",
      "[Epoch 25, Batch 900] Loss: 0.566 Accuracy: 0.783\n",
      "[Epoch 25, Batch 1000] Loss: 0.568 Accuracy: 0.781\n",
      "[Epoch 25, Batch 1100] Loss: 0.563 Accuracy: 0.782\n",
      "[Epoch 25, Batch 1200] Loss: 0.560 Accuracy: 0.789\n",
      "[Epoch 25, Batch 1300] Loss: 0.565 Accuracy: 0.781\n",
      "[Epoch 25, Batch 1400] Loss: 0.566 Accuracy: 0.783\n",
      "[Epoch 25, Batch 1500] Loss: 0.572 Accuracy: 0.778\n",
      "[Epoch 25, Batch 1600] Loss: 0.572 Accuracy: 0.774\n",
      "[Epoch 25, Batch 1700] Loss: 0.571 Accuracy: 0.779\n",
      "[Epoch 25, Batch 1800] Loss: 0.569 Accuracy: 0.780\n",
      "[Epoch 25, Batch 1900] Loss: 0.573 Accuracy: 0.778\n"
     ]
    },
    {
     "name": "stderr",
     "output_type": "stream",
     "text": [
      "/opt/conda/lib/python3.7/site-packages/torch/utils/data/dataloader.py:557: UserWarning: This DataLoader will create 4 worker processes in total. Our suggested max number of worker in current system is 2, which is smaller than what this DataLoader is going to create. Please be aware that excessive worker creation might get DataLoader running slow or even freeze, lower the worker number to avoid potential slowness/freeze if necessary.\n",
      "  cpuset_checked))\n"
     ]
    },
    {
     "name": "stdout",
     "output_type": "stream",
     "text": [
      "Epoch 25 Val Loss: 0.5578533383497751 \t\t Val Accuracy: 0.7874872108916352\n"
     ]
    },
    {
     "name": "stderr",
     "output_type": "stream",
     "text": [
      "/opt/conda/lib/python3.7/site-packages/torch/utils/data/dataloader.py:557: UserWarning: This DataLoader will create 4 worker processes in total. Our suggested max number of worker in current system is 2, which is smaller than what this DataLoader is going to create. Please be aware that excessive worker creation might get DataLoader running slow or even freeze, lower the worker number to avoid potential slowness/freeze if necessary.\n",
      "  cpuset_checked))\n"
     ]
    },
    {
     "name": "stdout",
     "output_type": "stream",
     "text": [
      "[Epoch 26, Batch 100] Loss: 0.558 Accuracy: 0.789\n",
      "[Epoch 26, Batch 200] Loss: 0.564 Accuracy: 0.782\n",
      "[Epoch 26, Batch 300] Loss: 0.587 Accuracy: 0.763\n",
      "[Epoch 26, Batch 400] Loss: 0.579 Accuracy: 0.770\n",
      "[Epoch 26, Batch 500] Loss: 0.566 Accuracy: 0.783\n",
      "[Epoch 26, Batch 600] Loss: 0.571 Accuracy: 0.779\n",
      "[Epoch 26, Batch 700] Loss: 0.564 Accuracy: 0.784\n",
      "[Epoch 26, Batch 800] Loss: 0.565 Accuracy: 0.783\n",
      "[Epoch 26, Batch 900] Loss: 0.566 Accuracy: 0.781\n",
      "[Epoch 26, Batch 1000] Loss: 0.563 Accuracy: 0.785\n",
      "[Epoch 26, Batch 1100] Loss: 0.562 Accuracy: 0.786\n",
      "[Epoch 26, Batch 1200] Loss: 0.561 Accuracy: 0.786\n",
      "[Epoch 26, Batch 1300] Loss: 0.567 Accuracy: 0.781\n",
      "[Epoch 26, Batch 1400] Loss: 0.574 Accuracy: 0.774\n",
      "[Epoch 26, Batch 1500] Loss: 0.571 Accuracy: 0.778\n",
      "[Epoch 26, Batch 1600] Loss: 0.565 Accuracy: 0.783\n",
      "[Epoch 26, Batch 1700] Loss: 0.568 Accuracy: 0.781\n",
      "[Epoch 26, Batch 1800] Loss: 0.567 Accuracy: 0.782\n",
      "[Epoch 26, Batch 1900] Loss: 0.560 Accuracy: 0.788\n"
     ]
    },
    {
     "name": "stderr",
     "output_type": "stream",
     "text": [
      "/opt/conda/lib/python3.7/site-packages/torch/utils/data/dataloader.py:557: UserWarning: This DataLoader will create 4 worker processes in total. Our suggested max number of worker in current system is 2, which is smaller than what this DataLoader is going to create. Please be aware that excessive worker creation might get DataLoader running slow or even freeze, lower the worker number to avoid potential slowness/freeze if necessary.\n",
      "  cpuset_checked))\n"
     ]
    },
    {
     "name": "stdout",
     "output_type": "stream",
     "text": [
      "Epoch 26 Val Loss: 0.564164073232666 \t\t Val Accuracy: 0.7865919593469444\n"
     ]
    },
    {
     "name": "stderr",
     "output_type": "stream",
     "text": [
      "/opt/conda/lib/python3.7/site-packages/torch/utils/data/dataloader.py:557: UserWarning: This DataLoader will create 4 worker processes in total. Our suggested max number of worker in current system is 2, which is smaller than what this DataLoader is going to create. Please be aware that excessive worker creation might get DataLoader running slow or even freeze, lower the worker number to avoid potential slowness/freeze if necessary.\n",
      "  cpuset_checked))\n"
     ]
    },
    {
     "name": "stdout",
     "output_type": "stream",
     "text": [
      "[Epoch 27, Batch 100] Loss: 0.565 Accuracy: 0.782\n",
      "[Epoch 27, Batch 200] Loss: 0.568 Accuracy: 0.781\n",
      "[Epoch 27, Batch 300] Loss: 0.568 Accuracy: 0.781\n",
      "[Epoch 27, Batch 400] Loss: 0.571 Accuracy: 0.779\n",
      "[Epoch 27, Batch 500] Loss: 0.570 Accuracy: 0.781\n",
      "[Epoch 27, Batch 600] Loss: 0.559 Accuracy: 0.788\n",
      "[Epoch 27, Batch 700] Loss: 0.558 Accuracy: 0.789\n",
      "[Epoch 27, Batch 800] Loss: 0.561 Accuracy: 0.785\n",
      "[Epoch 27, Batch 900] Loss: 0.562 Accuracy: 0.786\n",
      "[Epoch 27, Batch 1000] Loss: 0.580 Accuracy: 0.769\n",
      "[Epoch 27, Batch 1100] Loss: 0.577 Accuracy: 0.771\n",
      "[Epoch 27, Batch 1200] Loss: 0.569 Accuracy: 0.778\n",
      "[Epoch 27, Batch 1300] Loss: 0.566 Accuracy: 0.781\n",
      "[Epoch 27, Batch 1400] Loss: 0.562 Accuracy: 0.784\n",
      "[Epoch 27, Batch 1500] Loss: 0.580 Accuracy: 0.771\n",
      "[Epoch 27, Batch 1600] Loss: 0.577 Accuracy: 0.776\n",
      "[Epoch 27, Batch 1700] Loss: 0.564 Accuracy: 0.785\n",
      "[Epoch 27, Batch 1800] Loss: 0.562 Accuracy: 0.785\n",
      "[Epoch 27, Batch 1900] Loss: 0.560 Accuracy: 0.788\n"
     ]
    },
    {
     "name": "stderr",
     "output_type": "stream",
     "text": [
      "/opt/conda/lib/python3.7/site-packages/torch/utils/data/dataloader.py:557: UserWarning: This DataLoader will create 4 worker processes in total. Our suggested max number of worker in current system is 2, which is smaller than what this DataLoader is going to create. Please be aware that excessive worker creation might get DataLoader running slow or even freeze, lower the worker number to avoid potential slowness/freeze if necessary.\n",
      "  cpuset_checked))\n"
     ]
    },
    {
     "name": "stdout",
     "output_type": "stream",
     "text": [
      "Epoch 27 Val Loss: 0.5599344695907041 \t\t Val Accuracy: 0.7870499406220107\n"
     ]
    },
    {
     "name": "stderr",
     "output_type": "stream",
     "text": [
      "/opt/conda/lib/python3.7/site-packages/torch/utils/data/dataloader.py:557: UserWarning: This DataLoader will create 4 worker processes in total. Our suggested max number of worker in current system is 2, which is smaller than what this DataLoader is going to create. Please be aware that excessive worker creation might get DataLoader running slow or even freeze, lower the worker number to avoid potential slowness/freeze if necessary.\n",
      "  cpuset_checked))\n"
     ]
    },
    {
     "name": "stdout",
     "output_type": "stream",
     "text": [
      "[Epoch 28, Batch 100] Loss: 0.559 Accuracy: 0.788\n",
      "[Epoch 28, Batch 200] Loss: 0.566 Accuracy: 0.782\n",
      "[Epoch 28, Batch 300] Loss: 0.574 Accuracy: 0.774\n",
      "[Epoch 28, Batch 400] Loss: 0.555 Accuracy: 0.789\n",
      "[Epoch 28, Batch 500] Loss: 0.562 Accuracy: 0.788\n",
      "[Epoch 28, Batch 600] Loss: 0.562 Accuracy: 0.784\n",
      "[Epoch 28, Batch 700] Loss: 0.564 Accuracy: 0.785\n",
      "[Epoch 28, Batch 800] Loss: 0.564 Accuracy: 0.782\n",
      "[Epoch 28, Batch 900] Loss: 0.567 Accuracy: 0.782\n",
      "[Epoch 28, Batch 1000] Loss: 0.553 Accuracy: 0.792\n",
      "[Epoch 28, Batch 1100] Loss: 0.553 Accuracy: 0.793\n",
      "[Epoch 28, Batch 1200] Loss: 0.560 Accuracy: 0.788\n",
      "[Epoch 28, Batch 1300] Loss: 0.563 Accuracy: 0.786\n",
      "[Epoch 28, Batch 1400] Loss: 0.567 Accuracy: 0.781\n",
      "[Epoch 28, Batch 1500] Loss: 0.560 Accuracy: 0.789\n",
      "[Epoch 28, Batch 1600] Loss: 0.563 Accuracy: 0.784\n",
      "[Epoch 28, Batch 1700] Loss: 0.560 Accuracy: 0.786\n",
      "[Epoch 28, Batch 1800] Loss: 0.556 Accuracy: 0.791\n",
      "[Epoch 28, Batch 1900] Loss: 0.560 Accuracy: 0.787\n"
     ]
    },
    {
     "name": "stderr",
     "output_type": "stream",
     "text": [
      "/opt/conda/lib/python3.7/site-packages/torch/utils/data/dataloader.py:557: UserWarning: This DataLoader will create 4 worker processes in total. Our suggested max number of worker in current system is 2, which is smaller than what this DataLoader is going to create. Please be aware that excessive worker creation might get DataLoader running slow or even freeze, lower the worker number to avoid potential slowness/freeze if necessary.\n",
      "  cpuset_checked))\n"
     ]
    },
    {
     "name": "stdout",
     "output_type": "stream",
     "text": [
      "Epoch 28 Val Loss: 0.5621741057399765 \t\t Val Accuracy: 0.78275618738192\n"
     ]
    },
    {
     "name": "stderr",
     "output_type": "stream",
     "text": [
      "/opt/conda/lib/python3.7/site-packages/torch/utils/data/dataloader.py:557: UserWarning: This DataLoader will create 4 worker processes in total. Our suggested max number of worker in current system is 2, which is smaller than what this DataLoader is going to create. Please be aware that excessive worker creation might get DataLoader running slow or even freeze, lower the worker number to avoid potential slowness/freeze if necessary.\n",
      "  cpuset_checked))\n"
     ]
    },
    {
     "name": "stdout",
     "output_type": "stream",
     "text": [
      "[Epoch 29, Batch 100] Loss: 0.568 Accuracy: 0.779\n",
      "[Epoch 29, Batch 200] Loss: 0.558 Accuracy: 0.788\n",
      "[Epoch 29, Batch 300] Loss: 0.559 Accuracy: 0.787\n",
      "[Epoch 29, Batch 400] Loss: 0.561 Accuracy: 0.786\n",
      "[Epoch 29, Batch 500] Loss: 0.555 Accuracy: 0.791\n",
      "[Epoch 29, Batch 600] Loss: 0.557 Accuracy: 0.790\n",
      "[Epoch 29, Batch 700] Loss: 0.558 Accuracy: 0.788\n",
      "[Epoch 29, Batch 800] Loss: 0.557 Accuracy: 0.788\n",
      "[Epoch 29, Batch 900] Loss: 0.556 Accuracy: 0.792\n",
      "[Epoch 29, Batch 1000] Loss: 0.557 Accuracy: 0.789\n",
      "[Epoch 29, Batch 1100] Loss: 0.553 Accuracy: 0.793\n",
      "[Epoch 29, Batch 1200] Loss: 0.559 Accuracy: 0.789\n",
      "[Epoch 29, Batch 1300] Loss: 0.558 Accuracy: 0.788\n",
      "[Epoch 29, Batch 1400] Loss: 0.563 Accuracy: 0.784\n",
      "[Epoch 29, Batch 1500] Loss: 0.548 Accuracy: 0.798\n",
      "[Epoch 29, Batch 1600] Loss: 0.555 Accuracy: 0.791\n",
      "[Epoch 29, Batch 1700] Loss: 0.559 Accuracy: 0.787\n",
      "[Epoch 29, Batch 1800] Loss: 0.553 Accuracy: 0.794\n",
      "[Epoch 29, Batch 1900] Loss: 0.567 Accuracy: 0.784\n"
     ]
    },
    {
     "name": "stderr",
     "output_type": "stream",
     "text": [
      "/opt/conda/lib/python3.7/site-packages/torch/utils/data/dataloader.py:557: UserWarning: This DataLoader will create 4 worker processes in total. Our suggested max number of worker in current system is 2, which is smaller than what this DataLoader is going to create. Please be aware that excessive worker creation might get DataLoader running slow or even freeze, lower the worker number to avoid potential slowness/freeze if necessary.\n",
      "  cpuset_checked))\n"
     ]
    },
    {
     "name": "stdout",
     "output_type": "stream",
     "text": [
      "Epoch 29 Val Loss: 0.5583535742807579 \t\t Val Accuracy: 0.7877056287724845\n"
     ]
    },
    {
     "name": "stderr",
     "output_type": "stream",
     "text": [
      "/opt/conda/lib/python3.7/site-packages/torch/utils/data/dataloader.py:557: UserWarning: This DataLoader will create 4 worker processes in total. Our suggested max number of worker in current system is 2, which is smaller than what this DataLoader is going to create. Please be aware that excessive worker creation might get DataLoader running slow or even freeze, lower the worker number to avoid potential slowness/freeze if necessary.\n",
      "  cpuset_checked))\n"
     ]
    },
    {
     "name": "stdout",
     "output_type": "stream",
     "text": [
      "[Epoch 30, Batch 100] Loss: 0.553 Accuracy: 0.793\n",
      "[Epoch 30, Batch 200] Loss: 0.557 Accuracy: 0.790\n",
      "[Epoch 30, Batch 300] Loss: 0.555 Accuracy: 0.792\n",
      "[Epoch 30, Batch 400] Loss: 0.557 Accuracy: 0.792\n",
      "[Epoch 30, Batch 500] Loss: 0.564 Accuracy: 0.784\n",
      "[Epoch 30, Batch 600] Loss: 0.561 Accuracy: 0.786\n",
      "[Epoch 30, Batch 700] Loss: 0.561 Accuracy: 0.785\n",
      "[Epoch 30, Batch 800] Loss: 0.561 Accuracy: 0.785\n",
      "[Epoch 30, Batch 900] Loss: 0.560 Accuracy: 0.787\n",
      "[Epoch 30, Batch 1000] Loss: 0.559 Accuracy: 0.788\n",
      "[Epoch 30, Batch 1100] Loss: 0.565 Accuracy: 0.782\n",
      "[Epoch 30, Batch 1200] Loss: 0.565 Accuracy: 0.784\n",
      "[Epoch 30, Batch 1300] Loss: 0.565 Accuracy: 0.784\n",
      "[Epoch 30, Batch 1400] Loss: 0.562 Accuracy: 0.785\n",
      "[Epoch 30, Batch 1500] Loss: 0.561 Accuracy: 0.790\n",
      "[Epoch 30, Batch 1600] Loss: 0.555 Accuracy: 0.792\n",
      "[Epoch 30, Batch 1700] Loss: 0.567 Accuracy: 0.779\n",
      "[Epoch 30, Batch 1800] Loss: 0.568 Accuracy: 0.781\n",
      "[Epoch 30, Batch 1900] Loss: 0.560 Accuracy: 0.786\n"
     ]
    },
    {
     "name": "stderr",
     "output_type": "stream",
     "text": [
      "/opt/conda/lib/python3.7/site-packages/torch/utils/data/dataloader.py:557: UserWarning: This DataLoader will create 4 worker processes in total. Our suggested max number of worker in current system is 2, which is smaller than what this DataLoader is going to create. Please be aware that excessive worker creation might get DataLoader running slow or even freeze, lower the worker number to avoid potential slowness/freeze if necessary.\n",
      "  cpuset_checked))\n"
     ]
    },
    {
     "name": "stdout",
     "output_type": "stream",
     "text": [
      "Epoch 30 Val Loss: 0.5504233279381411 \t\t Val Accuracy: 0.7942879299063782\n",
      "Validation Loss Decreased(138.725766--->137.055409) \t Saving The Model\n"
     ]
    },
    {
     "name": "stderr",
     "output_type": "stream",
     "text": [
      "/opt/conda/lib/python3.7/site-packages/torch/utils/data/dataloader.py:557: UserWarning: This DataLoader will create 4 worker processes in total. Our suggested max number of worker in current system is 2, which is smaller than what this DataLoader is going to create. Please be aware that excessive worker creation might get DataLoader running slow or even freeze, lower the worker number to avoid potential slowness/freeze if necessary.\n",
      "  cpuset_checked))\n"
     ]
    },
    {
     "name": "stdout",
     "output_type": "stream",
     "text": [
      "[Epoch 31, Batch 100] Loss: 0.557 Accuracy: 0.789\n",
      "[Epoch 31, Batch 200] Loss: 0.558 Accuracy: 0.791\n",
      "[Epoch 31, Batch 300] Loss: 0.563 Accuracy: 0.786\n",
      "[Epoch 31, Batch 400] Loss: 0.559 Accuracy: 0.787\n",
      "[Epoch 31, Batch 500] Loss: 0.559 Accuracy: 0.790\n",
      "[Epoch 31, Batch 600] Loss: 0.566 Accuracy: 0.783\n",
      "[Epoch 31, Batch 700] Loss: 0.552 Accuracy: 0.795\n",
      "[Epoch 31, Batch 800] Loss: 0.556 Accuracy: 0.791\n",
      "[Epoch 31, Batch 900] Loss: 0.557 Accuracy: 0.791\n",
      "[Epoch 31, Batch 1000] Loss: 0.561 Accuracy: 0.787\n",
      "[Epoch 31, Batch 1100] Loss: 0.567 Accuracy: 0.781\n",
      "[Epoch 31, Batch 1200] Loss: 0.561 Accuracy: 0.786\n",
      "[Epoch 31, Batch 1300] Loss: 0.560 Accuracy: 0.786\n",
      "[Epoch 31, Batch 1400] Loss: 0.565 Accuracy: 0.783\n",
      "[Epoch 31, Batch 1500] Loss: 0.559 Accuracy: 0.790\n",
      "[Epoch 31, Batch 1600] Loss: 0.556 Accuracy: 0.793\n",
      "[Epoch 31, Batch 1700] Loss: 0.558 Accuracy: 0.788\n",
      "[Epoch 31, Batch 1800] Loss: 0.555 Accuracy: 0.792\n",
      "[Epoch 31, Batch 1900] Loss: 0.557 Accuracy: 0.790\n"
     ]
    },
    {
     "name": "stderr",
     "output_type": "stream",
     "text": [
      "/opt/conda/lib/python3.7/site-packages/torch/utils/data/dataloader.py:557: UserWarning: This DataLoader will create 4 worker processes in total. Our suggested max number of worker in current system is 2, which is smaller than what this DataLoader is going to create. Please be aware that excessive worker creation might get DataLoader running slow or even freeze, lower the worker number to avoid potential slowness/freeze if necessary.\n",
      "  cpuset_checked))\n"
     ]
    },
    {
     "name": "stdout",
     "output_type": "stream",
     "text": [
      "Epoch 31 Val Loss: 0.5754881648414106 \t\t Val Accuracy: 0.7858494932236362\n"
     ]
    },
    {
     "name": "stderr",
     "output_type": "stream",
     "text": [
      "/opt/conda/lib/python3.7/site-packages/torch/utils/data/dataloader.py:557: UserWarning: This DataLoader will create 4 worker processes in total. Our suggested max number of worker in current system is 2, which is smaller than what this DataLoader is going to create. Please be aware that excessive worker creation might get DataLoader running slow or even freeze, lower the worker number to avoid potential slowness/freeze if necessary.\n",
      "  cpuset_checked))\n"
     ]
    },
    {
     "name": "stdout",
     "output_type": "stream",
     "text": [
      "[Epoch 32, Batch 100] Loss: 0.555 Accuracy: 0.791\n",
      "[Epoch 32, Batch 200] Loss: 0.554 Accuracy: 0.793\n",
      "[Epoch 32, Batch 300] Loss: 0.557 Accuracy: 0.789\n",
      "[Epoch 32, Batch 400] Loss: 0.555 Accuracy: 0.791\n",
      "[Epoch 32, Batch 500] Loss: 0.561 Accuracy: 0.786\n",
      "[Epoch 32, Batch 600] Loss: 0.560 Accuracy: 0.787\n",
      "[Epoch 32, Batch 700] Loss: 0.553 Accuracy: 0.795\n",
      "[Epoch 32, Batch 800] Loss: 0.562 Accuracy: 0.785\n",
      "[Epoch 32, Batch 900] Loss: 0.556 Accuracy: 0.791\n",
      "[Epoch 32, Batch 1000] Loss: 0.558 Accuracy: 0.789\n",
      "[Epoch 32, Batch 1100] Loss: 0.548 Accuracy: 0.797\n",
      "[Epoch 32, Batch 1200] Loss: 0.556 Accuracy: 0.791\n",
      "[Epoch 32, Batch 1300] Loss: 0.549 Accuracy: 0.798\n",
      "[Epoch 32, Batch 1400] Loss: 0.553 Accuracy: 0.794\n",
      "[Epoch 32, Batch 1500] Loss: 0.556 Accuracy: 0.789\n",
      "[Epoch 32, Batch 1600] Loss: 0.557 Accuracy: 0.792\n",
      "[Epoch 32, Batch 1700] Loss: 0.551 Accuracy: 0.793\n",
      "[Epoch 32, Batch 1800] Loss: 0.567 Accuracy: 0.781\n",
      "[Epoch 32, Batch 1900] Loss: 0.582 Accuracy: 0.764\n"
     ]
    },
    {
     "name": "stderr",
     "output_type": "stream",
     "text": [
      "/opt/conda/lib/python3.7/site-packages/torch/utils/data/dataloader.py:557: UserWarning: This DataLoader will create 4 worker processes in total. Our suggested max number of worker in current system is 2, which is smaller than what this DataLoader is going to create. Please be aware that excessive worker creation might get DataLoader running slow or even freeze, lower the worker number to avoid potential slowness/freeze if necessary.\n",
      "  cpuset_checked))\n"
     ]
    },
    {
     "name": "stdout",
     "output_type": "stream",
     "text": [
      "Epoch 32 Val Loss: 0.566583508588224 \t\t Val Accuracy: 0.7854431081904025\n"
     ]
    },
    {
     "name": "stderr",
     "output_type": "stream",
     "text": [
      "/opt/conda/lib/python3.7/site-packages/torch/utils/data/dataloader.py:557: UserWarning: This DataLoader will create 4 worker processes in total. Our suggested max number of worker in current system is 2, which is smaller than what this DataLoader is going to create. Please be aware that excessive worker creation might get DataLoader running slow or even freeze, lower the worker number to avoid potential slowness/freeze if necessary.\n",
      "  cpuset_checked))\n"
     ]
    },
    {
     "name": "stdout",
     "output_type": "stream",
     "text": [
      "[Epoch 33, Batch 100] Loss: 0.571 Accuracy: 0.780\n",
      "[Epoch 33, Batch 200] Loss: 0.561 Accuracy: 0.786\n",
      "[Epoch 33, Batch 300] Loss: 0.559 Accuracy: 0.788\n",
      "[Epoch 33, Batch 400] Loss: 0.552 Accuracy: 0.794\n",
      "[Epoch 33, Batch 500] Loss: 0.555 Accuracy: 0.792\n",
      "[Epoch 33, Batch 600] Loss: 0.558 Accuracy: 0.789\n",
      "[Epoch 33, Batch 700] Loss: 0.560 Accuracy: 0.788\n",
      "[Epoch 33, Batch 800] Loss: 0.555 Accuracy: 0.790\n",
      "[Epoch 33, Batch 900] Loss: 0.554 Accuracy: 0.792\n",
      "[Epoch 33, Batch 1000] Loss: 0.562 Accuracy: 0.788\n",
      "[Epoch 33, Batch 1100] Loss: 0.554 Accuracy: 0.792\n",
      "[Epoch 33, Batch 1200] Loss: 0.555 Accuracy: 0.792\n",
      "[Epoch 33, Batch 1300] Loss: 0.554 Accuracy: 0.793\n",
      "[Epoch 33, Batch 1400] Loss: 0.557 Accuracy: 0.791\n",
      "[Epoch 33, Batch 1500] Loss: 0.560 Accuracy: 0.786\n",
      "[Epoch 33, Batch 1600] Loss: 0.552 Accuracy: 0.793\n",
      "[Epoch 33, Batch 1700] Loss: 0.552 Accuracy: 0.796\n",
      "[Epoch 33, Batch 1800] Loss: 0.555 Accuracy: 0.792\n",
      "[Epoch 33, Batch 1900] Loss: 0.560 Accuracy: 0.788\n"
     ]
    },
    {
     "name": "stderr",
     "output_type": "stream",
     "text": [
      "/opt/conda/lib/python3.7/site-packages/torch/utils/data/dataloader.py:557: UserWarning: This DataLoader will create 4 worker processes in total. Our suggested max number of worker in current system is 2, which is smaller than what this DataLoader is going to create. Please be aware that excessive worker creation might get DataLoader running slow or even freeze, lower the worker number to avoid potential slowness/freeze if necessary.\n",
      "  cpuset_checked))\n"
     ]
    },
    {
     "name": "stdout",
     "output_type": "stream",
     "text": [
      "Epoch 33 Val Loss: 0.5556938733202387 \t\t Val Accuracy: 0.7900493628509593\n"
     ]
    },
    {
     "name": "stderr",
     "output_type": "stream",
     "text": [
      "/opt/conda/lib/python3.7/site-packages/torch/utils/data/dataloader.py:557: UserWarning: This DataLoader will create 4 worker processes in total. Our suggested max number of worker in current system is 2, which is smaller than what this DataLoader is going to create. Please be aware that excessive worker creation might get DataLoader running slow or even freeze, lower the worker number to avoid potential slowness/freeze if necessary.\n",
      "  cpuset_checked))\n"
     ]
    },
    {
     "name": "stdout",
     "output_type": "stream",
     "text": [
      "[Epoch 34, Batch 100] Loss: 0.553 Accuracy: 0.793\n",
      "[Epoch 34, Batch 200] Loss: 0.550 Accuracy: 0.796\n",
      "[Epoch 34, Batch 300] Loss: 0.556 Accuracy: 0.791\n",
      "[Epoch 34, Batch 400] Loss: 0.551 Accuracy: 0.795\n",
      "[Epoch 34, Batch 500] Loss: 0.558 Accuracy: 0.789\n",
      "[Epoch 34, Batch 600] Loss: 0.558 Accuracy: 0.789\n",
      "[Epoch 34, Batch 700] Loss: 0.551 Accuracy: 0.796\n",
      "[Epoch 34, Batch 800] Loss: 0.550 Accuracy: 0.796\n",
      "[Epoch 34, Batch 900] Loss: 0.552 Accuracy: 0.795\n",
      "[Epoch 34, Batch 1000] Loss: 0.553 Accuracy: 0.794\n",
      "[Epoch 34, Batch 1100] Loss: 0.555 Accuracy: 0.791\n",
      "[Epoch 34, Batch 1200] Loss: 0.563 Accuracy: 0.786\n",
      "[Epoch 34, Batch 1300] Loss: 0.563 Accuracy: 0.784\n",
      "[Epoch 34, Batch 1400] Loss: 0.559 Accuracy: 0.789\n",
      "[Epoch 34, Batch 1500] Loss: 0.552 Accuracy: 0.795\n",
      "[Epoch 34, Batch 1600] Loss: 0.553 Accuracy: 0.794\n",
      "[Epoch 34, Batch 1700] Loss: 0.556 Accuracy: 0.791\n",
      "[Epoch 34, Batch 1800] Loss: 0.553 Accuracy: 0.794\n",
      "[Epoch 34, Batch 1900] Loss: 0.562 Accuracy: 0.786\n"
     ]
    },
    {
     "name": "stderr",
     "output_type": "stream",
     "text": [
      "/opt/conda/lib/python3.7/site-packages/torch/utils/data/dataloader.py:557: UserWarning: This DataLoader will create 4 worker processes in total. Our suggested max number of worker in current system is 2, which is smaller than what this DataLoader is going to create. Please be aware that excessive worker creation might get DataLoader running slow or even freeze, lower the worker number to avoid potential slowness/freeze if necessary.\n",
      "  cpuset_checked))\n"
     ]
    },
    {
     "name": "stdout",
     "output_type": "stream",
     "text": [
      "Epoch 34 Val Loss: 0.55676093936924 \t\t Val Accuracy: 0.7907383317396051\n"
     ]
    },
    {
     "name": "stderr",
     "output_type": "stream",
     "text": [
      "/opt/conda/lib/python3.7/site-packages/torch/utils/data/dataloader.py:557: UserWarning: This DataLoader will create 4 worker processes in total. Our suggested max number of worker in current system is 2, which is smaller than what this DataLoader is going to create. Please be aware that excessive worker creation might get DataLoader running slow or even freeze, lower the worker number to avoid potential slowness/freeze if necessary.\n",
      "  cpuset_checked))\n"
     ]
    },
    {
     "name": "stdout",
     "output_type": "stream",
     "text": [
      "[Epoch 35, Batch 100] Loss: 0.551 Accuracy: 0.796\n",
      "[Epoch 35, Batch 200] Loss: 0.558 Accuracy: 0.790\n",
      "[Epoch 35, Batch 300] Loss: 0.551 Accuracy: 0.794\n",
      "[Epoch 35, Batch 400] Loss: 0.553 Accuracy: 0.795\n",
      "[Epoch 35, Batch 500] Loss: 0.558 Accuracy: 0.791\n",
      "[Epoch 35, Batch 600] Loss: 0.560 Accuracy: 0.788\n",
      "[Epoch 35, Batch 700] Loss: 0.558 Accuracy: 0.791\n",
      "[Epoch 35, Batch 800] Loss: 0.549 Accuracy: 0.796\n",
      "[Epoch 35, Batch 900] Loss: 0.552 Accuracy: 0.793\n",
      "[Epoch 35, Batch 1000] Loss: 0.557 Accuracy: 0.790\n",
      "[Epoch 35, Batch 1100] Loss: 0.549 Accuracy: 0.797\n",
      "[Epoch 35, Batch 1200] Loss: 0.554 Accuracy: 0.792\n",
      "[Epoch 35, Batch 1300] Loss: 0.550 Accuracy: 0.796\n",
      "[Epoch 35, Batch 1400] Loss: 0.554 Accuracy: 0.790\n",
      "[Epoch 35, Batch 1500] Loss: 0.556 Accuracy: 0.790\n",
      "[Epoch 35, Batch 1600] Loss: 0.552 Accuracy: 0.794\n",
      "[Epoch 35, Batch 1700] Loss: 0.560 Accuracy: 0.786\n",
      "[Epoch 35, Batch 1800] Loss: 0.549 Accuracy: 0.795\n",
      "[Epoch 35, Batch 1900] Loss: 0.552 Accuracy: 0.793\n"
     ]
    },
    {
     "name": "stderr",
     "output_type": "stream",
     "text": [
      "/opt/conda/lib/python3.7/site-packages/torch/utils/data/dataloader.py:557: UserWarning: This DataLoader will create 4 worker processes in total. Our suggested max number of worker in current system is 2, which is smaller than what this DataLoader is going to create. Please be aware that excessive worker creation might get DataLoader running slow or even freeze, lower the worker number to avoid potential slowness/freeze if necessary.\n",
      "  cpuset_checked))\n"
     ]
    },
    {
     "name": "stdout",
     "output_type": "stream",
     "text": [
      "Epoch 35 Val Loss: 0.5498412176069006 \t\t Val Accuracy: 0.7956234496511058\n",
      "Validation Loss Decreased(137.055409--->136.910463) \t Saving The Model\n"
     ]
    },
    {
     "name": "stderr",
     "output_type": "stream",
     "text": [
      "/opt/conda/lib/python3.7/site-packages/torch/utils/data/dataloader.py:557: UserWarning: This DataLoader will create 4 worker processes in total. Our suggested max number of worker in current system is 2, which is smaller than what this DataLoader is going to create. Please be aware that excessive worker creation might get DataLoader running slow or even freeze, lower the worker number to avoid potential slowness/freeze if necessary.\n",
      "  cpuset_checked))\n"
     ]
    },
    {
     "name": "stdout",
     "output_type": "stream",
     "text": [
      "[Epoch 36, Batch 100] Loss: 0.549 Accuracy: 0.797\n",
      "[Epoch 36, Batch 200] Loss: 0.553 Accuracy: 0.794\n",
      "[Epoch 36, Batch 300] Loss: 0.549 Accuracy: 0.797\n",
      "[Epoch 36, Batch 400] Loss: 0.562 Accuracy: 0.786\n",
      "[Epoch 36, Batch 500] Loss: 0.560 Accuracy: 0.789\n",
      "[Epoch 36, Batch 600] Loss: 0.554 Accuracy: 0.792\n",
      "[Epoch 36, Batch 700] Loss: 0.556 Accuracy: 0.790\n",
      "[Epoch 36, Batch 800] Loss: 0.558 Accuracy: 0.787\n",
      "[Epoch 36, Batch 900] Loss: 0.552 Accuracy: 0.794\n",
      "[Epoch 36, Batch 1000] Loss: 0.553 Accuracy: 0.794\n",
      "[Epoch 36, Batch 1100] Loss: 0.553 Accuracy: 0.794\n",
      "[Epoch 36, Batch 1200] Loss: 0.549 Accuracy: 0.798\n",
      "[Epoch 36, Batch 1300] Loss: 0.554 Accuracy: 0.793\n",
      "[Epoch 36, Batch 1400] Loss: 0.554 Accuracy: 0.793\n",
      "[Epoch 36, Batch 1500] Loss: 0.550 Accuracy: 0.795\n",
      "[Epoch 36, Batch 1600] Loss: 0.552 Accuracy: 0.794\n",
      "[Epoch 36, Batch 1700] Loss: 0.555 Accuracy: 0.791\n",
      "[Epoch 36, Batch 1800] Loss: 0.547 Accuracy: 0.798\n",
      "[Epoch 36, Batch 1900] Loss: 0.553 Accuracy: 0.794\n"
     ]
    },
    {
     "name": "stderr",
     "output_type": "stream",
     "text": [
      "/opt/conda/lib/python3.7/site-packages/torch/utils/data/dataloader.py:557: UserWarning: This DataLoader will create 4 worker processes in total. Our suggested max number of worker in current system is 2, which is smaller than what this DataLoader is going to create. Please be aware that excessive worker creation might get DataLoader running slow or even freeze, lower the worker number to avoid potential slowness/freeze if necessary.\n",
      "  cpuset_checked))\n"
     ]
    },
    {
     "name": "stdout",
     "output_type": "stream",
     "text": [
      "Epoch 36 Val Loss: 0.5540962353288887 \t\t Val Accuracy: 0.795872197700809\n"
     ]
    },
    {
     "name": "stderr",
     "output_type": "stream",
     "text": [
      "/opt/conda/lib/python3.7/site-packages/torch/utils/data/dataloader.py:557: UserWarning: This DataLoader will create 4 worker processes in total. Our suggested max number of worker in current system is 2, which is smaller than what this DataLoader is going to create. Please be aware that excessive worker creation might get DataLoader running slow or even freeze, lower the worker number to avoid potential slowness/freeze if necessary.\n",
      "  cpuset_checked))\n"
     ]
    },
    {
     "name": "stdout",
     "output_type": "stream",
     "text": [
      "[Epoch 37, Batch 100] Loss: 0.555 Accuracy: 0.792\n",
      "[Epoch 37, Batch 200] Loss: 0.548 Accuracy: 0.797\n",
      "[Epoch 37, Batch 300] Loss: 0.555 Accuracy: 0.791\n",
      "[Epoch 37, Batch 400] Loss: 0.553 Accuracy: 0.793\n",
      "[Epoch 37, Batch 500] Loss: 0.551 Accuracy: 0.796\n",
      "[Epoch 37, Batch 600] Loss: 0.554 Accuracy: 0.792\n",
      "[Epoch 37, Batch 700] Loss: 0.568 Accuracy: 0.781\n",
      "[Epoch 37, Batch 800] Loss: 0.564 Accuracy: 0.785\n",
      "[Epoch 37, Batch 900] Loss: 0.566 Accuracy: 0.782\n",
      "[Epoch 37, Batch 1000] Loss: 0.553 Accuracy: 0.793\n",
      "[Epoch 37, Batch 1100] Loss: 0.557 Accuracy: 0.790\n",
      "[Epoch 37, Batch 1200] Loss: 0.552 Accuracy: 0.794\n",
      "[Epoch 37, Batch 1300] Loss: 0.555 Accuracy: 0.792\n",
      "[Epoch 37, Batch 1400] Loss: 0.558 Accuracy: 0.789\n",
      "[Epoch 37, Batch 1500] Loss: 0.549 Accuracy: 0.798\n",
      "[Epoch 37, Batch 1600] Loss: 0.552 Accuracy: 0.793\n",
      "[Epoch 37, Batch 1700] Loss: 0.548 Accuracy: 0.798\n",
      "[Epoch 37, Batch 1800] Loss: 0.546 Accuracy: 0.800\n",
      "[Epoch 37, Batch 1900] Loss: 0.546 Accuracy: 0.800\n"
     ]
    },
    {
     "name": "stderr",
     "output_type": "stream",
     "text": [
      "/opt/conda/lib/python3.7/site-packages/torch/utils/data/dataloader.py:557: UserWarning: This DataLoader will create 4 worker processes in total. Our suggested max number of worker in current system is 2, which is smaller than what this DataLoader is going to create. Please be aware that excessive worker creation might get DataLoader running slow or even freeze, lower the worker number to avoid potential slowness/freeze if necessary.\n",
      "  cpuset_checked))\n"
     ]
    },
    {
     "name": "stdout",
     "output_type": "stream",
     "text": [
      "Epoch 37 Val Loss: 0.5471780160105372 \t\t Val Accuracy: 0.7971365394219896\n",
      "Validation Loss Decreased(136.910463--->136.247326) \t Saving The Model\n"
     ]
    },
    {
     "name": "stderr",
     "output_type": "stream",
     "text": [
      "/opt/conda/lib/python3.7/site-packages/torch/utils/data/dataloader.py:557: UserWarning: This DataLoader will create 4 worker processes in total. Our suggested max number of worker in current system is 2, which is smaller than what this DataLoader is going to create. Please be aware that excessive worker creation might get DataLoader running slow or even freeze, lower the worker number to avoid potential slowness/freeze if necessary.\n",
      "  cpuset_checked))\n"
     ]
    },
    {
     "name": "stdout",
     "output_type": "stream",
     "text": [
      "[Epoch 38, Batch 100] Loss: 0.550 Accuracy: 0.795\n",
      "[Epoch 38, Batch 200] Loss: 0.554 Accuracy: 0.792\n",
      "[Epoch 38, Batch 300] Loss: 0.551 Accuracy: 0.796\n",
      "[Epoch 38, Batch 400] Loss: 0.562 Accuracy: 0.788\n",
      "[Epoch 38, Batch 500] Loss: 0.554 Accuracy: 0.793\n",
      "[Epoch 38, Batch 600] Loss: 0.554 Accuracy: 0.792\n",
      "[Epoch 38, Batch 700] Loss: 0.548 Accuracy: 0.799\n",
      "[Epoch 38, Batch 800] Loss: 0.546 Accuracy: 0.799\n",
      "[Epoch 38, Batch 900] Loss: 0.548 Accuracy: 0.798\n",
      "[Epoch 38, Batch 1000] Loss: 0.551 Accuracy: 0.796\n",
      "[Epoch 38, Batch 1100] Loss: 0.548 Accuracy: 0.798\n",
      "[Epoch 38, Batch 1200] Loss: 0.539 Accuracy: 0.807\n",
      "[Epoch 38, Batch 1300] Loss: 0.551 Accuracy: 0.794\n",
      "[Epoch 38, Batch 1400] Loss: 0.552 Accuracy: 0.795\n",
      "[Epoch 38, Batch 1500] Loss: 0.561 Accuracy: 0.788\n",
      "[Epoch 38, Batch 1600] Loss: 0.563 Accuracy: 0.784\n",
      "[Epoch 38, Batch 1700] Loss: 0.562 Accuracy: 0.786\n",
      "[Epoch 38, Batch 1800] Loss: 0.552 Accuracy: 0.795\n",
      "[Epoch 38, Batch 1900] Loss: 0.557 Accuracy: 0.790\n"
     ]
    },
    {
     "name": "stderr",
     "output_type": "stream",
     "text": [
      "/opt/conda/lib/python3.7/site-packages/torch/utils/data/dataloader.py:557: UserWarning: This DataLoader will create 4 worker processes in total. Our suggested max number of worker in current system is 2, which is smaller than what this DataLoader is going to create. Please be aware that excessive worker creation might get DataLoader running slow or even freeze, lower the worker number to avoid potential slowness/freeze if necessary.\n",
      "  cpuset_checked))\n"
     ]
    },
    {
     "name": "stdout",
     "output_type": "stream",
     "text": [
      "Epoch 38 Val Loss: 0.5508809911917492 \t\t Val Accuracy: 0.7936084198626572\n"
     ]
    },
    {
     "name": "stderr",
     "output_type": "stream",
     "text": [
      "/opt/conda/lib/python3.7/site-packages/torch/utils/data/dataloader.py:557: UserWarning: This DataLoader will create 4 worker processes in total. Our suggested max number of worker in current system is 2, which is smaller than what this DataLoader is going to create. Please be aware that excessive worker creation might get DataLoader running slow or even freeze, lower the worker number to avoid potential slowness/freeze if necessary.\n",
      "  cpuset_checked))\n"
     ]
    },
    {
     "name": "stdout",
     "output_type": "stream",
     "text": [
      "[Epoch 39, Batch 100] Loss: 0.552 Accuracy: 0.795\n",
      "[Epoch 39, Batch 200] Loss: 0.556 Accuracy: 0.790\n",
      "[Epoch 39, Batch 300] Loss: 0.550 Accuracy: 0.795\n",
      "[Epoch 39, Batch 400] Loss: 0.555 Accuracy: 0.795\n",
      "[Epoch 39, Batch 500] Loss: 0.565 Accuracy: 0.784\n",
      "[Epoch 39, Batch 600] Loss: 0.555 Accuracy: 0.792\n",
      "[Epoch 39, Batch 700] Loss: 0.559 Accuracy: 0.789\n",
      "[Epoch 39, Batch 800] Loss: 0.552 Accuracy: 0.796\n",
      "[Epoch 39, Batch 900] Loss: 0.558 Accuracy: 0.790\n",
      "[Epoch 39, Batch 1000] Loss: 0.554 Accuracy: 0.794\n",
      "[Epoch 39, Batch 1100] Loss: 0.552 Accuracy: 0.794\n",
      "[Epoch 39, Batch 1200] Loss: 0.542 Accuracy: 0.804\n",
      "[Epoch 39, Batch 1300] Loss: 0.552 Accuracy: 0.793\n",
      "[Epoch 39, Batch 1400] Loss: 0.544 Accuracy: 0.802\n",
      "[Epoch 39, Batch 1500] Loss: 0.554 Accuracy: 0.793\n",
      "[Epoch 39, Batch 1600] Loss: 0.560 Accuracy: 0.787\n",
      "[Epoch 39, Batch 1700] Loss: 0.552 Accuracy: 0.794\n",
      "[Epoch 39, Batch 1800] Loss: 0.546 Accuracy: 0.799\n",
      "[Epoch 39, Batch 1900] Loss: 0.548 Accuracy: 0.798\n"
     ]
    },
    {
     "name": "stderr",
     "output_type": "stream",
     "text": [
      "/opt/conda/lib/python3.7/site-packages/torch/utils/data/dataloader.py:557: UserWarning: This DataLoader will create 4 worker processes in total. Our suggested max number of worker in current system is 2, which is smaller than what this DataLoader is going to create. Please be aware that excessive worker creation might get DataLoader running slow or even freeze, lower the worker number to avoid potential slowness/freeze if necessary.\n",
      "  cpuset_checked))\n"
     ]
    },
    {
     "name": "stdout",
     "output_type": "stream",
     "text": [
      "Epoch 39 Val Loss: 0.5483860709820406 \t\t Val Accuracy: 0.7971305281735668\n"
     ]
    },
    {
     "name": "stderr",
     "output_type": "stream",
     "text": [
      "/opt/conda/lib/python3.7/site-packages/torch/utils/data/dataloader.py:557: UserWarning: This DataLoader will create 4 worker processes in total. Our suggested max number of worker in current system is 2, which is smaller than what this DataLoader is going to create. Please be aware that excessive worker creation might get DataLoader running slow or even freeze, lower the worker number to avoid potential slowness/freeze if necessary.\n",
      "  cpuset_checked))\n"
     ]
    },
    {
     "name": "stdout",
     "output_type": "stream",
     "text": [
      "[Epoch 40, Batch 100] Loss: 0.550 Accuracy: 0.794\n",
      "[Epoch 40, Batch 200] Loss: 0.552 Accuracy: 0.793\n",
      "[Epoch 40, Batch 300] Loss: 0.550 Accuracy: 0.795\n",
      "[Epoch 40, Batch 400] Loss: 0.549 Accuracy: 0.798\n",
      "[Epoch 40, Batch 500] Loss: 0.548 Accuracy: 0.797\n",
      "[Epoch 40, Batch 600] Loss: 0.546 Accuracy: 0.800\n",
      "[Epoch 40, Batch 700] Loss: 0.549 Accuracy: 0.797\n",
      "[Epoch 40, Batch 800] Loss: 0.551 Accuracy: 0.794\n",
      "[Epoch 40, Batch 900] Loss: 0.546 Accuracy: 0.800\n",
      "[Epoch 40, Batch 1000] Loss: 0.551 Accuracy: 0.794\n",
      "[Epoch 40, Batch 1100] Loss: 0.551 Accuracy: 0.796\n",
      "[Epoch 40, Batch 1200] Loss: 0.549 Accuracy: 0.796\n",
      "[Epoch 40, Batch 1300] Loss: 0.553 Accuracy: 0.795\n",
      "[Epoch 40, Batch 1400] Loss: 0.547 Accuracy: 0.800\n",
      "[Epoch 40, Batch 1500] Loss: 0.547 Accuracy: 0.798\n",
      "[Epoch 40, Batch 1600] Loss: 0.553 Accuracy: 0.793\n",
      "[Epoch 40, Batch 1700] Loss: 0.552 Accuracy: 0.794\n",
      "[Epoch 40, Batch 1800] Loss: 0.549 Accuracy: 0.796\n",
      "[Epoch 40, Batch 1900] Loss: 0.544 Accuracy: 0.802\n"
     ]
    },
    {
     "name": "stderr",
     "output_type": "stream",
     "text": [
      "/opt/conda/lib/python3.7/site-packages/torch/utils/data/dataloader.py:557: UserWarning: This DataLoader will create 4 worker processes in total. Our suggested max number of worker in current system is 2, which is smaller than what this DataLoader is going to create. Please be aware that excessive worker creation might get DataLoader running slow or even freeze, lower the worker number to avoid potential slowness/freeze if necessary.\n",
      "  cpuset_checked))\n"
     ]
    },
    {
     "name": "stdout",
     "output_type": "stream",
     "text": [
      "Epoch 40 Val Loss: 0.5535324351136465 \t\t Val Accuracy: 0.7958960834582733\n"
     ]
    },
    {
     "name": "stderr",
     "output_type": "stream",
     "text": [
      "/opt/conda/lib/python3.7/site-packages/torch/utils/data/dataloader.py:557: UserWarning: This DataLoader will create 4 worker processes in total. Our suggested max number of worker in current system is 2, which is smaller than what this DataLoader is going to create. Please be aware that excessive worker creation might get DataLoader running slow or even freeze, lower the worker number to avoid potential slowness/freeze if necessary.\n",
      "  cpuset_checked))\n"
     ]
    },
    {
     "name": "stdout",
     "output_type": "stream",
     "text": [
      "[Epoch 41, Batch 100] Loss: 0.548 Accuracy: 0.798\n",
      "[Epoch 41, Batch 200] Loss: 0.549 Accuracy: 0.797\n",
      "[Epoch 41, Batch 300] Loss: 0.546 Accuracy: 0.800\n",
      "[Epoch 41, Batch 400] Loss: 0.551 Accuracy: 0.794\n",
      "[Epoch 41, Batch 500] Loss: 0.548 Accuracy: 0.800\n",
      "[Epoch 41, Batch 600] Loss: 0.542 Accuracy: 0.803\n",
      "[Epoch 41, Batch 700] Loss: 0.547 Accuracy: 0.799\n",
      "[Epoch 41, Batch 800] Loss: 0.550 Accuracy: 0.797\n",
      "[Epoch 41, Batch 900] Loss: 0.550 Accuracy: 0.798\n",
      "[Epoch 41, Batch 1000] Loss: 0.548 Accuracy: 0.798\n",
      "[Epoch 41, Batch 1100] Loss: 0.548 Accuracy: 0.797\n",
      "[Epoch 41, Batch 1200] Loss: 0.549 Accuracy: 0.799\n",
      "[Epoch 41, Batch 1300] Loss: 0.557 Accuracy: 0.790\n",
      "[Epoch 41, Batch 1400] Loss: 0.549 Accuracy: 0.797\n",
      "[Epoch 41, Batch 1500] Loss: 0.551 Accuracy: 0.795\n",
      "[Epoch 41, Batch 1600] Loss: 0.553 Accuracy: 0.793\n",
      "[Epoch 41, Batch 1700] Loss: 0.547 Accuracy: 0.799\n",
      "[Epoch 41, Batch 1800] Loss: 0.542 Accuracy: 0.802\n",
      "[Epoch 41, Batch 1900] Loss: 0.550 Accuracy: 0.794\n"
     ]
    },
    {
     "name": "stderr",
     "output_type": "stream",
     "text": [
      "/opt/conda/lib/python3.7/site-packages/torch/utils/data/dataloader.py:557: UserWarning: This DataLoader will create 4 worker processes in total. Our suggested max number of worker in current system is 2, which is smaller than what this DataLoader is going to create. Please be aware that excessive worker creation might get DataLoader running slow or even freeze, lower the worker number to avoid potential slowness/freeze if necessary.\n",
      "  cpuset_checked))\n"
     ]
    },
    {
     "name": "stdout",
     "output_type": "stream",
     "text": [
      "Epoch 41 Val Loss: 0.5586340407051714 \t\t Val Accuracy: 0.7903089339989485\n"
     ]
    },
    {
     "name": "stderr",
     "output_type": "stream",
     "text": [
      "/opt/conda/lib/python3.7/site-packages/torch/utils/data/dataloader.py:557: UserWarning: This DataLoader will create 4 worker processes in total. Our suggested max number of worker in current system is 2, which is smaller than what this DataLoader is going to create. Please be aware that excessive worker creation might get DataLoader running slow or even freeze, lower the worker number to avoid potential slowness/freeze if necessary.\n",
      "  cpuset_checked))\n"
     ]
    },
    {
     "name": "stdout",
     "output_type": "stream",
     "text": [
      "[Epoch 42, Batch 100] Loss: 0.545 Accuracy: 0.800\n",
      "[Epoch 42, Batch 200] Loss: 0.544 Accuracy: 0.801\n",
      "[Epoch 42, Batch 300] Loss: 0.551 Accuracy: 0.796\n",
      "[Epoch 42, Batch 400] Loss: 0.555 Accuracy: 0.790\n",
      "[Epoch 42, Batch 500] Loss: 0.552 Accuracy: 0.795\n",
      "[Epoch 42, Batch 600] Loss: 0.548 Accuracy: 0.799\n",
      "[Epoch 42, Batch 700] Loss: 0.542 Accuracy: 0.803\n",
      "[Epoch 42, Batch 800] Loss: 0.554 Accuracy: 0.794\n",
      "[Epoch 42, Batch 900] Loss: 0.552 Accuracy: 0.794\n",
      "[Epoch 42, Batch 1000] Loss: 0.548 Accuracy: 0.797\n",
      "[Epoch 42, Batch 1100] Loss: 0.550 Accuracy: 0.796\n",
      "[Epoch 42, Batch 1200] Loss: 0.548 Accuracy: 0.798\n",
      "[Epoch 42, Batch 1300] Loss: 0.552 Accuracy: 0.795\n",
      "[Epoch 42, Batch 1400] Loss: 0.546 Accuracy: 0.800\n",
      "[Epoch 42, Batch 1500] Loss: 0.545 Accuracy: 0.800\n",
      "[Epoch 42, Batch 1600] Loss: 0.544 Accuracy: 0.801\n",
      "[Epoch 42, Batch 1700] Loss: 0.544 Accuracy: 0.801\n",
      "[Epoch 42, Batch 1800] Loss: 0.544 Accuracy: 0.802\n",
      "[Epoch 42, Batch 1900] Loss: 0.546 Accuracy: 0.799\n"
     ]
    },
    {
     "name": "stderr",
     "output_type": "stream",
     "text": [
      "/opt/conda/lib/python3.7/site-packages/torch/utils/data/dataloader.py:557: UserWarning: This DataLoader will create 4 worker processes in total. Our suggested max number of worker in current system is 2, which is smaller than what this DataLoader is going to create. Please be aware that excessive worker creation might get DataLoader running slow or even freeze, lower the worker number to avoid potential slowness/freeze if necessary.\n",
      "  cpuset_checked))\n"
     ]
    },
    {
     "name": "stdout",
     "output_type": "stream",
     "text": [
      "Epoch 42 Val Loss: 0.5464119907603207 \t\t Val Accuracy: 0.799200196931703\n",
      "Validation Loss Decreased(136.247326--->136.056586) \t Saving The Model\n"
     ]
    },
    {
     "name": "stderr",
     "output_type": "stream",
     "text": [
      "/opt/conda/lib/python3.7/site-packages/torch/utils/data/dataloader.py:557: UserWarning: This DataLoader will create 4 worker processes in total. Our suggested max number of worker in current system is 2, which is smaller than what this DataLoader is going to create. Please be aware that excessive worker creation might get DataLoader running slow or even freeze, lower the worker number to avoid potential slowness/freeze if necessary.\n",
      "  cpuset_checked))\n"
     ]
    },
    {
     "name": "stdout",
     "output_type": "stream",
     "text": [
      "[Epoch 43, Batch 100] Loss: 0.546 Accuracy: 0.799\n",
      "[Epoch 43, Batch 200] Loss: 0.548 Accuracy: 0.798\n",
      "[Epoch 43, Batch 300] Loss: 0.555 Accuracy: 0.791\n",
      "[Epoch 43, Batch 400] Loss: 0.555 Accuracy: 0.794\n",
      "[Epoch 43, Batch 500] Loss: 0.546 Accuracy: 0.798\n",
      "[Epoch 43, Batch 600] Loss: 0.552 Accuracy: 0.794\n",
      "[Epoch 43, Batch 700] Loss: 0.547 Accuracy: 0.798\n",
      "[Epoch 43, Batch 800] Loss: 0.549 Accuracy: 0.797\n",
      "[Epoch 43, Batch 900] Loss: 0.546 Accuracy: 0.800\n",
      "[Epoch 43, Batch 1000] Loss: 0.547 Accuracy: 0.798\n",
      "[Epoch 43, Batch 1100] Loss: 0.548 Accuracy: 0.797\n",
      "[Epoch 43, Batch 1200] Loss: 0.549 Accuracy: 0.797\n",
      "[Epoch 43, Batch 1300] Loss: 0.551 Accuracy: 0.795\n",
      "[Epoch 43, Batch 1400] Loss: 0.541 Accuracy: 0.803\n",
      "[Epoch 43, Batch 1500] Loss: 0.546 Accuracy: 0.799\n",
      "[Epoch 43, Batch 1600] Loss: 0.546 Accuracy: 0.800\n",
      "[Epoch 43, Batch 1700] Loss: 0.540 Accuracy: 0.805\n",
      "[Epoch 43, Batch 1800] Loss: 0.544 Accuracy: 0.801\n",
      "[Epoch 43, Batch 1900] Loss: 0.541 Accuracy: 0.804\n"
     ]
    },
    {
     "name": "stderr",
     "output_type": "stream",
     "text": [
      "/opt/conda/lib/python3.7/site-packages/torch/utils/data/dataloader.py:557: UserWarning: This DataLoader will create 4 worker processes in total. Our suggested max number of worker in current system is 2, which is smaller than what this DataLoader is going to create. Please be aware that excessive worker creation might get DataLoader running slow or even freeze, lower the worker number to avoid potential slowness/freeze if necessary.\n",
      "  cpuset_checked))\n"
     ]
    },
    {
     "name": "stdout",
     "output_type": "stream",
     "text": [
      "Epoch 43 Val Loss: 0.5511256655057272 \t\t Val Accuracy: 0.7949509903708031\n"
     ]
    },
    {
     "name": "stderr",
     "output_type": "stream",
     "text": [
      "/opt/conda/lib/python3.7/site-packages/torch/utils/data/dataloader.py:557: UserWarning: This DataLoader will create 4 worker processes in total. Our suggested max number of worker in current system is 2, which is smaller than what this DataLoader is going to create. Please be aware that excessive worker creation might get DataLoader running slow or even freeze, lower the worker number to avoid potential slowness/freeze if necessary.\n",
      "  cpuset_checked))\n"
     ]
    },
    {
     "name": "stdout",
     "output_type": "stream",
     "text": [
      "[Epoch 44, Batch 100] Loss: 0.546 Accuracy: 0.800\n",
      "[Epoch 44, Batch 200] Loss: 0.549 Accuracy: 0.796\n",
      "[Epoch 44, Batch 300] Loss: 0.546 Accuracy: 0.800\n",
      "[Epoch 44, Batch 400] Loss: 0.539 Accuracy: 0.806\n",
      "[Epoch 44, Batch 500] Loss: 0.541 Accuracy: 0.803\n",
      "[Epoch 44, Batch 600] Loss: 0.551 Accuracy: 0.795\n",
      "[Epoch 44, Batch 700] Loss: 0.559 Accuracy: 0.788\n",
      "[Epoch 44, Batch 800] Loss: 0.550 Accuracy: 0.795\n",
      "[Epoch 44, Batch 900] Loss: 0.555 Accuracy: 0.793\n",
      "[Epoch 44, Batch 1000] Loss: 0.545 Accuracy: 0.802\n",
      "[Epoch 44, Batch 1100] Loss: 0.547 Accuracy: 0.799\n",
      "[Epoch 44, Batch 1200] Loss: 0.544 Accuracy: 0.800\n",
      "[Epoch 44, Batch 1300] Loss: 0.546 Accuracy: 0.800\n",
      "[Epoch 44, Batch 1400] Loss: 0.548 Accuracy: 0.798\n",
      "[Epoch 44, Batch 1500] Loss: 0.544 Accuracy: 0.800\n",
      "[Epoch 44, Batch 1600] Loss: 0.555 Accuracy: 0.792\n",
      "[Epoch 44, Batch 1700] Loss: 0.553 Accuracy: 0.793\n",
      "[Epoch 44, Batch 1800] Loss: 0.549 Accuracy: 0.798\n",
      "[Epoch 44, Batch 1900] Loss: 0.547 Accuracy: 0.800\n"
     ]
    },
    {
     "name": "stderr",
     "output_type": "stream",
     "text": [
      "/opt/conda/lib/python3.7/site-packages/torch/utils/data/dataloader.py:557: UserWarning: This DataLoader will create 4 worker processes in total. Our suggested max number of worker in current system is 2, which is smaller than what this DataLoader is going to create. Please be aware that excessive worker creation might get DataLoader running slow or even freeze, lower the worker number to avoid potential slowness/freeze if necessary.\n",
      "  cpuset_checked))\n"
     ]
    },
    {
     "name": "stdout",
     "output_type": "stream",
     "text": [
      "Epoch 44 Val Loss: 0.5468482016080833 \t\t Val Accuracy: 0.7984651103673116\n"
     ]
    },
    {
     "name": "stderr",
     "output_type": "stream",
     "text": [
      "/opt/conda/lib/python3.7/site-packages/torch/utils/data/dataloader.py:557: UserWarning: This DataLoader will create 4 worker processes in total. Our suggested max number of worker in current system is 2, which is smaller than what this DataLoader is going to create. Please be aware that excessive worker creation might get DataLoader running slow or even freeze, lower the worker number to avoid potential slowness/freeze if necessary.\n",
      "  cpuset_checked))\n"
     ]
    },
    {
     "name": "stdout",
     "output_type": "stream",
     "text": [
      "[Epoch 45, Batch 100] Loss: 0.546 Accuracy: 0.801\n",
      "[Epoch 45, Batch 200] Loss: 0.547 Accuracy: 0.798\n",
      "[Epoch 45, Batch 300] Loss: 0.544 Accuracy: 0.802\n",
      "[Epoch 45, Batch 400] Loss: 0.543 Accuracy: 0.802\n",
      "[Epoch 45, Batch 500] Loss: 0.543 Accuracy: 0.802\n",
      "[Epoch 45, Batch 600] Loss: 0.538 Accuracy: 0.806\n",
      "[Epoch 45, Batch 700] Loss: 0.545 Accuracy: 0.801\n",
      "[Epoch 45, Batch 800] Loss: 0.555 Accuracy: 0.791\n",
      "[Epoch 45, Batch 900] Loss: 0.552 Accuracy: 0.794\n",
      "[Epoch 45, Batch 1000] Loss: 0.545 Accuracy: 0.800\n",
      "[Epoch 45, Batch 1100] Loss: 0.547 Accuracy: 0.799\n",
      "[Epoch 45, Batch 1200] Loss: 0.548 Accuracy: 0.798\n",
      "[Epoch 45, Batch 1300] Loss: 0.542 Accuracy: 0.803\n",
      "[Epoch 45, Batch 1400] Loss: 0.544 Accuracy: 0.800\n",
      "[Epoch 45, Batch 1500] Loss: 0.548 Accuracy: 0.797\n",
      "[Epoch 45, Batch 1600] Loss: 0.544 Accuracy: 0.801\n",
      "[Epoch 45, Batch 1700] Loss: 0.548 Accuracy: 0.798\n",
      "[Epoch 45, Batch 1800] Loss: 0.550 Accuracy: 0.795\n",
      "[Epoch 45, Batch 1900] Loss: 0.542 Accuracy: 0.804\n"
     ]
    },
    {
     "name": "stderr",
     "output_type": "stream",
     "text": [
      "/opt/conda/lib/python3.7/site-packages/torch/utils/data/dataloader.py:557: UserWarning: This DataLoader will create 4 worker processes in total. Our suggested max number of worker in current system is 2, which is smaller than what this DataLoader is going to create. Please be aware that excessive worker creation might get DataLoader running slow or even freeze, lower the worker number to avoid potential slowness/freeze if necessary.\n",
      "  cpuset_checked))\n"
     ]
    },
    {
     "name": "stdout",
     "output_type": "stream",
     "text": [
      "Epoch 45 Val Loss: 0.547341740753756 \t\t Val Accuracy: 0.7968047537725762\n"
     ]
    },
    {
     "name": "stderr",
     "output_type": "stream",
     "text": [
      "/opt/conda/lib/python3.7/site-packages/torch/utils/data/dataloader.py:557: UserWarning: This DataLoader will create 4 worker processes in total. Our suggested max number of worker in current system is 2, which is smaller than what this DataLoader is going to create. Please be aware that excessive worker creation might get DataLoader running slow or even freeze, lower the worker number to avoid potential slowness/freeze if necessary.\n",
      "  cpuset_checked))\n"
     ]
    },
    {
     "name": "stdout",
     "output_type": "stream",
     "text": [
      "[Epoch 46, Batch 100] Loss: 0.546 Accuracy: 0.801\n",
      "[Epoch 46, Batch 200] Loss: 0.545 Accuracy: 0.800\n",
      "[Epoch 46, Batch 300] Loss: 0.547 Accuracy: 0.800\n",
      "[Epoch 46, Batch 400] Loss: 0.538 Accuracy: 0.808\n",
      "[Epoch 46, Batch 500] Loss: 0.546 Accuracy: 0.800\n",
      "[Epoch 46, Batch 600] Loss: 0.546 Accuracy: 0.798\n",
      "[Epoch 46, Batch 700] Loss: 0.542 Accuracy: 0.803\n",
      "[Epoch 46, Batch 800] Loss: 0.541 Accuracy: 0.803\n",
      "[Epoch 46, Batch 900] Loss: 0.548 Accuracy: 0.799\n",
      "[Epoch 46, Batch 1000] Loss: 0.544 Accuracy: 0.802\n",
      "[Epoch 46, Batch 1100] Loss: 0.546 Accuracy: 0.800\n",
      "[Epoch 46, Batch 1200] Loss: 0.546 Accuracy: 0.801\n",
      "[Epoch 46, Batch 1300] Loss: 0.547 Accuracy: 0.799\n",
      "[Epoch 46, Batch 1400] Loss: 0.544 Accuracy: 0.801\n",
      "[Epoch 46, Batch 1500] Loss: 0.551 Accuracy: 0.793\n",
      "[Epoch 46, Batch 1600] Loss: 0.546 Accuracy: 0.801\n",
      "[Epoch 46, Batch 1700] Loss: 0.543 Accuracy: 0.802\n",
      "[Epoch 46, Batch 1800] Loss: 0.547 Accuracy: 0.799\n",
      "[Epoch 46, Batch 1900] Loss: 0.550 Accuracy: 0.798\n"
     ]
    },
    {
     "name": "stderr",
     "output_type": "stream",
     "text": [
      "/opt/conda/lib/python3.7/site-packages/torch/utils/data/dataloader.py:557: UserWarning: This DataLoader will create 4 worker processes in total. Our suggested max number of worker in current system is 2, which is smaller than what this DataLoader is going to create. Please be aware that excessive worker creation might get DataLoader running slow or even freeze, lower the worker number to avoid potential slowness/freeze if necessary.\n",
      "  cpuset_checked))\n"
     ]
    },
    {
     "name": "stdout",
     "output_type": "stream",
     "text": [
      "Epoch 46 Val Loss: 0.5492413440143248 \t\t Val Accuracy: 0.7951359888193713\n"
     ]
    },
    {
     "name": "stderr",
     "output_type": "stream",
     "text": [
      "/opt/conda/lib/python3.7/site-packages/torch/utils/data/dataloader.py:557: UserWarning: This DataLoader will create 4 worker processes in total. Our suggested max number of worker in current system is 2, which is smaller than what this DataLoader is going to create. Please be aware that excessive worker creation might get DataLoader running slow or even freeze, lower the worker number to avoid potential slowness/freeze if necessary.\n",
      "  cpuset_checked))\n"
     ]
    },
    {
     "name": "stdout",
     "output_type": "stream",
     "text": [
      "[Epoch 47, Batch 100] Loss: 0.541 Accuracy: 0.805\n",
      "[Epoch 47, Batch 200] Loss: 0.547 Accuracy: 0.799\n",
      "[Epoch 47, Batch 300] Loss: 0.542 Accuracy: 0.802\n",
      "[Epoch 47, Batch 400] Loss: 0.543 Accuracy: 0.801\n",
      "[Epoch 47, Batch 500] Loss: 0.548 Accuracy: 0.799\n",
      "[Epoch 47, Batch 600] Loss: 0.552 Accuracy: 0.796\n",
      "[Epoch 47, Batch 700] Loss: 0.547 Accuracy: 0.799\n",
      "[Epoch 47, Batch 800] Loss: 0.543 Accuracy: 0.804\n",
      "[Epoch 47, Batch 900] Loss: 0.556 Accuracy: 0.792\n",
      "[Epoch 47, Batch 1000] Loss: 0.550 Accuracy: 0.797\n",
      "[Epoch 47, Batch 1100] Loss: 0.552 Accuracy: 0.792\n",
      "[Epoch 47, Batch 1200] Loss: 0.543 Accuracy: 0.803\n",
      "[Epoch 47, Batch 1300] Loss: 0.546 Accuracy: 0.801\n",
      "[Epoch 47, Batch 1400] Loss: 0.545 Accuracy: 0.800\n",
      "[Epoch 47, Batch 1500] Loss: 0.553 Accuracy: 0.794\n",
      "[Epoch 47, Batch 1600] Loss: 0.546 Accuracy: 0.800\n",
      "[Epoch 47, Batch 1700] Loss: 0.548 Accuracy: 0.797\n",
      "[Epoch 47, Batch 1800] Loss: 0.543 Accuracy: 0.804\n",
      "[Epoch 47, Batch 1900] Loss: 0.541 Accuracy: 0.805\n"
     ]
    },
    {
     "name": "stderr",
     "output_type": "stream",
     "text": [
      "/opt/conda/lib/python3.7/site-packages/torch/utils/data/dataloader.py:557: UserWarning: This DataLoader will create 4 worker processes in total. Our suggested max number of worker in current system is 2, which is smaller than what this DataLoader is going to create. Please be aware that excessive worker creation might get DataLoader running slow or even freeze, lower the worker number to avoid potential slowness/freeze if necessary.\n",
      "  cpuset_checked))\n"
     ]
    },
    {
     "name": "stdout",
     "output_type": "stream",
     "text": [
      "Epoch 47 Val Loss: 0.5498169729987301 \t\t Val Accuracy: 0.7955655418485414\n"
     ]
    },
    {
     "name": "stderr",
     "output_type": "stream",
     "text": [
      "/opt/conda/lib/python3.7/site-packages/torch/utils/data/dataloader.py:557: UserWarning: This DataLoader will create 4 worker processes in total. Our suggested max number of worker in current system is 2, which is smaller than what this DataLoader is going to create. Please be aware that excessive worker creation might get DataLoader running slow or even freeze, lower the worker number to avoid potential slowness/freeze if necessary.\n",
      "  cpuset_checked))\n"
     ]
    },
    {
     "name": "stdout",
     "output_type": "stream",
     "text": [
      "[Epoch 48, Batch 100] Loss: 0.544 Accuracy: 0.801\n",
      "[Epoch 48, Batch 200] Loss: 0.548 Accuracy: 0.803\n",
      "[Epoch 48, Batch 300] Loss: 0.541 Accuracy: 0.803\n",
      "[Epoch 48, Batch 400] Loss: 0.540 Accuracy: 0.805\n",
      "[Epoch 48, Batch 500] Loss: 0.547 Accuracy: 0.800\n",
      "[Epoch 48, Batch 600] Loss: 0.544 Accuracy: 0.802\n",
      "[Epoch 48, Batch 700] Loss: 0.545 Accuracy: 0.799\n",
      "[Epoch 48, Batch 800] Loss: 0.536 Accuracy: 0.808\n",
      "[Epoch 48, Batch 900] Loss: 0.540 Accuracy: 0.805\n",
      "[Epoch 48, Batch 1000] Loss: 0.544 Accuracy: 0.801\n",
      "[Epoch 48, Batch 1100] Loss: 0.569 Accuracy: 0.779\n",
      "[Epoch 48, Batch 1200] Loss: 0.564 Accuracy: 0.783\n",
      "[Epoch 48, Batch 1300] Loss: 0.568 Accuracy: 0.780\n",
      "[Epoch 48, Batch 1400] Loss: 0.554 Accuracy: 0.793\n",
      "[Epoch 48, Batch 1500] Loss: 0.546 Accuracy: 0.801\n",
      "[Epoch 48, Batch 1600] Loss: 0.556 Accuracy: 0.791\n",
      "[Epoch 48, Batch 1700] Loss: 0.545 Accuracy: 0.800\n",
      "[Epoch 48, Batch 1800] Loss: 0.549 Accuracy: 0.796\n",
      "[Epoch 48, Batch 1900] Loss: 0.546 Accuracy: 0.800\n"
     ]
    },
    {
     "name": "stderr",
     "output_type": "stream",
     "text": [
      "/opt/conda/lib/python3.7/site-packages/torch/utils/data/dataloader.py:557: UserWarning: This DataLoader will create 4 worker processes in total. Our suggested max number of worker in current system is 2, which is smaller than what this DataLoader is going to create. Please be aware that excessive worker creation might get DataLoader running slow or even freeze, lower the worker number to avoid potential slowness/freeze if necessary.\n",
      "  cpuset_checked))\n"
     ]
    },
    {
     "name": "stdout",
     "output_type": "stream",
     "text": [
      "Epoch 48 Val Loss: 0.5493847732563095 \t\t Val Accuracy: 0.7962653564781577\n"
     ]
    },
    {
     "name": "stderr",
     "output_type": "stream",
     "text": [
      "/opt/conda/lib/python3.7/site-packages/torch/utils/data/dataloader.py:557: UserWarning: This DataLoader will create 4 worker processes in total. Our suggested max number of worker in current system is 2, which is smaller than what this DataLoader is going to create. Please be aware that excessive worker creation might get DataLoader running slow or even freeze, lower the worker number to avoid potential slowness/freeze if necessary.\n",
      "  cpuset_checked))\n"
     ]
    },
    {
     "name": "stdout",
     "output_type": "stream",
     "text": [
      "[Epoch 49, Batch 100] Loss: 0.546 Accuracy: 0.798\n",
      "[Epoch 49, Batch 200] Loss: 0.538 Accuracy: 0.807\n",
      "[Epoch 49, Batch 300] Loss: 0.538 Accuracy: 0.805\n",
      "[Epoch 49, Batch 400] Loss: 0.545 Accuracy: 0.800\n",
      "[Epoch 49, Batch 500] Loss: 0.543 Accuracy: 0.803\n",
      "[Epoch 49, Batch 600] Loss: 0.543 Accuracy: 0.802\n",
      "[Epoch 49, Batch 700] Loss: 0.544 Accuracy: 0.801\n",
      "[Epoch 49, Batch 800] Loss: 0.542 Accuracy: 0.803\n",
      "[Epoch 49, Batch 900] Loss: 0.548 Accuracy: 0.798\n",
      "[Epoch 49, Batch 1000] Loss: 0.546 Accuracy: 0.799\n",
      "[Epoch 49, Batch 1100] Loss: 0.547 Accuracy: 0.799\n",
      "[Epoch 49, Batch 1200] Loss: 0.546 Accuracy: 0.799\n",
      "[Epoch 49, Batch 1300] Loss: 0.546 Accuracy: 0.799\n",
      "[Epoch 49, Batch 1400] Loss: 0.545 Accuracy: 0.800\n",
      "[Epoch 49, Batch 1500] Loss: 0.547 Accuracy: 0.798\n",
      "[Epoch 49, Batch 1600] Loss: 0.540 Accuracy: 0.805\n",
      "[Epoch 49, Batch 1700] Loss: 0.538 Accuracy: 0.806\n",
      "[Epoch 49, Batch 1800] Loss: 0.540 Accuracy: 0.804\n",
      "[Epoch 49, Batch 1900] Loss: 0.555 Accuracy: 0.792\n"
     ]
    },
    {
     "name": "stderr",
     "output_type": "stream",
     "text": [
      "/opt/conda/lib/python3.7/site-packages/torch/utils/data/dataloader.py:557: UserWarning: This DataLoader will create 4 worker processes in total. Our suggested max number of worker in current system is 2, which is smaller than what this DataLoader is going to create. Please be aware that excessive worker creation might get DataLoader running slow or even freeze, lower the worker number to avoid potential slowness/freeze if necessary.\n",
      "  cpuset_checked))\n"
     ]
    },
    {
     "name": "stdout",
     "output_type": "stream",
     "text": [
      "Epoch 49 Val Loss: 0.5679621842491579 \t\t Val Accuracy: 0.7781906201246792\n"
     ]
    },
    {
     "name": "stderr",
     "output_type": "stream",
     "text": [
      "/opt/conda/lib/python3.7/site-packages/torch/utils/data/dataloader.py:557: UserWarning: This DataLoader will create 4 worker processes in total. Our suggested max number of worker in current system is 2, which is smaller than what this DataLoader is going to create. Please be aware that excessive worker creation might get DataLoader running slow or even freeze, lower the worker number to avoid potential slowness/freeze if necessary.\n",
      "  cpuset_checked))\n"
     ]
    },
    {
     "name": "stdout",
     "output_type": "stream",
     "text": [
      "[Epoch 50, Batch 100] Loss: 0.547 Accuracy: 0.800\n",
      "[Epoch 50, Batch 200] Loss: 0.547 Accuracy: 0.798\n",
      "[Epoch 50, Batch 300] Loss: 0.547 Accuracy: 0.799\n",
      "[Epoch 50, Batch 400] Loss: 0.557 Accuracy: 0.793\n",
      "[Epoch 50, Batch 500] Loss: 0.546 Accuracy: 0.802\n",
      "[Epoch 50, Batch 600] Loss: 0.543 Accuracy: 0.801\n",
      "[Epoch 50, Batch 700] Loss: 0.542 Accuracy: 0.803\n",
      "[Epoch 50, Batch 800] Loss: 0.545 Accuracy: 0.800\n",
      "[Epoch 50, Batch 900] Loss: 0.543 Accuracy: 0.803\n",
      "[Epoch 50, Batch 1000] Loss: 0.547 Accuracy: 0.800\n",
      "[Epoch 50, Batch 1100] Loss: 0.544 Accuracy: 0.802\n",
      "[Epoch 50, Batch 1200] Loss: 0.544 Accuracy: 0.800\n",
      "[Epoch 50, Batch 1300] Loss: 0.542 Accuracy: 0.801\n",
      "[Epoch 50, Batch 1400] Loss: 0.544 Accuracy: 0.802\n",
      "[Epoch 50, Batch 1500] Loss: 0.552 Accuracy: 0.795\n",
      "[Epoch 50, Batch 1600] Loss: 0.537 Accuracy: 0.807\n",
      "[Epoch 50, Batch 1700] Loss: 0.547 Accuracy: 0.798\n",
      "[Epoch 50, Batch 1800] Loss: 0.538 Accuracy: 0.805\n",
      "[Epoch 50, Batch 1900] Loss: 0.543 Accuracy: 0.801\n"
     ]
    },
    {
     "name": "stderr",
     "output_type": "stream",
     "text": [
      "/opt/conda/lib/python3.7/site-packages/torch/utils/data/dataloader.py:557: UserWarning: This DataLoader will create 4 worker processes in total. Our suggested max number of worker in current system is 2, which is smaller than what this DataLoader is going to create. Please be aware that excessive worker creation might get DataLoader running slow or even freeze, lower the worker number to avoid potential slowness/freeze if necessary.\n",
      "  cpuset_checked))\n"
     ]
    },
    {
     "name": "stdout",
     "output_type": "stream",
     "text": [
      "Epoch 50 Val Loss: 0.546381798374605 \t\t Val Accuracy: 0.7986357465471945\n",
      "Validation Loss Decreased(136.056586--->136.049068) \t Saving The Model\n"
     ]
    },
    {
     "name": "stderr",
     "output_type": "stream",
     "text": [
      "/opt/conda/lib/python3.7/site-packages/torch/utils/data/dataloader.py:557: UserWarning: This DataLoader will create 4 worker processes in total. Our suggested max number of worker in current system is 2, which is smaller than what this DataLoader is going to create. Please be aware that excessive worker creation might get DataLoader running slow or even freeze, lower the worker number to avoid potential slowness/freeze if necessary.\n",
      "  cpuset_checked))\n"
     ]
    },
    {
     "name": "stdout",
     "output_type": "stream",
     "text": [
      "[Epoch 51, Batch 100] Loss: 0.544 Accuracy: 0.802\n",
      "[Epoch 51, Batch 200] Loss: 0.542 Accuracy: 0.801\n",
      "[Epoch 51, Batch 300] Loss: 0.540 Accuracy: 0.805\n",
      "[Epoch 51, Batch 400] Loss: 0.548 Accuracy: 0.798\n",
      "[Epoch 51, Batch 500] Loss: 0.539 Accuracy: 0.806\n",
      "[Epoch 51, Batch 600] Loss: 0.545 Accuracy: 0.802\n",
      "[Epoch 51, Batch 700] Loss: 0.540 Accuracy: 0.804\n",
      "[Epoch 51, Batch 800] Loss: 0.540 Accuracy: 0.804\n",
      "[Epoch 51, Batch 900] Loss: 0.545 Accuracy: 0.800\n",
      "[Epoch 51, Batch 1000] Loss: 0.539 Accuracy: 0.806\n",
      "[Epoch 51, Batch 1100] Loss: 0.551 Accuracy: 0.794\n",
      "[Epoch 51, Batch 1200] Loss: 0.542 Accuracy: 0.804\n",
      "[Epoch 51, Batch 1300] Loss: 0.543 Accuracy: 0.803\n",
      "[Epoch 51, Batch 1400] Loss: 0.545 Accuracy: 0.800\n",
      "[Epoch 51, Batch 1500] Loss: 0.548 Accuracy: 0.800\n",
      "[Epoch 51, Batch 1600] Loss: 0.548 Accuracy: 0.798\n",
      "[Epoch 51, Batch 1700] Loss: 0.544 Accuracy: 0.802\n",
      "[Epoch 51, Batch 1800] Loss: 0.543 Accuracy: 0.801\n",
      "[Epoch 51, Batch 1900] Loss: 0.547 Accuracy: 0.799\n"
     ]
    },
    {
     "name": "stderr",
     "output_type": "stream",
     "text": [
      "/opt/conda/lib/python3.7/site-packages/torch/utils/data/dataloader.py:557: UserWarning: This DataLoader will create 4 worker processes in total. Our suggested max number of worker in current system is 2, which is smaller than what this DataLoader is going to create. Please be aware that excessive worker creation might get DataLoader running slow or even freeze, lower the worker number to avoid potential slowness/freeze if necessary.\n",
      "  cpuset_checked))\n"
     ]
    },
    {
     "name": "stdout",
     "output_type": "stream",
     "text": [
      "Epoch 51 Val Loss: 0.5481756188304548 \t\t Val Accuracy: 0.7979937542514531\n"
     ]
    },
    {
     "name": "stderr",
     "output_type": "stream",
     "text": [
      "/opt/conda/lib/python3.7/site-packages/torch/utils/data/dataloader.py:557: UserWarning: This DataLoader will create 4 worker processes in total. Our suggested max number of worker in current system is 2, which is smaller than what this DataLoader is going to create. Please be aware that excessive worker creation might get DataLoader running slow or even freeze, lower the worker number to avoid potential slowness/freeze if necessary.\n",
      "  cpuset_checked))\n"
     ]
    },
    {
     "name": "stdout",
     "output_type": "stream",
     "text": [
      "[Epoch 52, Batch 100] Loss: 0.543 Accuracy: 0.802\n",
      "[Epoch 52, Batch 200] Loss: 0.541 Accuracy: 0.803\n",
      "[Epoch 52, Batch 300] Loss: 0.547 Accuracy: 0.797\n",
      "[Epoch 52, Batch 400] Loss: 0.543 Accuracy: 0.803\n",
      "[Epoch 52, Batch 500] Loss: 0.544 Accuracy: 0.801\n",
      "[Epoch 52, Batch 600] Loss: 0.542 Accuracy: 0.804\n",
      "[Epoch 52, Batch 700] Loss: 0.543 Accuracy: 0.803\n",
      "[Epoch 52, Batch 800] Loss: 0.541 Accuracy: 0.804\n",
      "[Epoch 52, Batch 900] Loss: 0.536 Accuracy: 0.807\n",
      "[Epoch 52, Batch 1000] Loss: 0.540 Accuracy: 0.804\n",
      "[Epoch 52, Batch 1100] Loss: 0.540 Accuracy: 0.805\n",
      "[Epoch 52, Batch 1200] Loss: 0.539 Accuracy: 0.807\n",
      "[Epoch 52, Batch 1300] Loss: 0.546 Accuracy: 0.799\n",
      "[Epoch 52, Batch 1400] Loss: 0.538 Accuracy: 0.805\n",
      "[Epoch 52, Batch 1500] Loss: 0.538 Accuracy: 0.807\n",
      "[Epoch 52, Batch 1600] Loss: 0.548 Accuracy: 0.800\n",
      "[Epoch 52, Batch 1700] Loss: 0.541 Accuracy: 0.804\n",
      "[Epoch 52, Batch 1800] Loss: 0.546 Accuracy: 0.800\n",
      "[Epoch 52, Batch 1900] Loss: 0.545 Accuracy: 0.801\n"
     ]
    },
    {
     "name": "stderr",
     "output_type": "stream",
     "text": [
      "/opt/conda/lib/python3.7/site-packages/torch/utils/data/dataloader.py:557: UserWarning: This DataLoader will create 4 worker processes in total. Our suggested max number of worker in current system is 2, which is smaller than what this DataLoader is going to create. Please be aware that excessive worker creation might get DataLoader running slow or even freeze, lower the worker number to avoid potential slowness/freeze if necessary.\n",
      "  cpuset_checked))\n"
     ]
    },
    {
     "name": "stdout",
     "output_type": "stream",
     "text": [
      "Epoch 52 Val Loss: 0.5431160468413648 \t\t Val Accuracy: 0.8013451046473977\n",
      "Validation Loss Decreased(136.049068--->135.235896) \t Saving The Model\n"
     ]
    },
    {
     "name": "stderr",
     "output_type": "stream",
     "text": [
      "/opt/conda/lib/python3.7/site-packages/torch/utils/data/dataloader.py:557: UserWarning: This DataLoader will create 4 worker processes in total. Our suggested max number of worker in current system is 2, which is smaller than what this DataLoader is going to create. Please be aware that excessive worker creation might get DataLoader running slow or even freeze, lower the worker number to avoid potential slowness/freeze if necessary.\n",
      "  cpuset_checked))\n"
     ]
    },
    {
     "name": "stdout",
     "output_type": "stream",
     "text": [
      "[Epoch 53, Batch 100] Loss: 0.544 Accuracy: 0.802\n",
      "[Epoch 53, Batch 200] Loss: 0.541 Accuracy: 0.805\n",
      "[Epoch 53, Batch 300] Loss: 0.539 Accuracy: 0.806\n",
      "[Epoch 53, Batch 400] Loss: 0.543 Accuracy: 0.802\n",
      "[Epoch 53, Batch 500] Loss: 0.544 Accuracy: 0.802\n",
      "[Epoch 53, Batch 600] Loss: 0.548 Accuracy: 0.798\n",
      "[Epoch 53, Batch 700] Loss: 0.541 Accuracy: 0.805\n",
      "[Epoch 53, Batch 800] Loss: 0.546 Accuracy: 0.800\n",
      "[Epoch 53, Batch 900] Loss: 0.543 Accuracy: 0.802\n",
      "[Epoch 53, Batch 1000] Loss: 0.542 Accuracy: 0.803\n",
      "[Epoch 53, Batch 1100] Loss: 0.545 Accuracy: 0.802\n",
      "[Epoch 53, Batch 1200] Loss: 0.539 Accuracy: 0.806\n",
      "[Epoch 53, Batch 1300] Loss: 0.544 Accuracy: 0.801\n",
      "[Epoch 53, Batch 1400] Loss: 0.542 Accuracy: 0.802\n",
      "[Epoch 53, Batch 1500] Loss: 0.538 Accuracy: 0.807\n",
      "[Epoch 53, Batch 1600] Loss: 0.542 Accuracy: 0.802\n",
      "[Epoch 53, Batch 1700] Loss: 0.540 Accuracy: 0.805\n",
      "[Epoch 53, Batch 1800] Loss: 0.541 Accuracy: 0.803\n",
      "[Epoch 53, Batch 1900] Loss: 0.538 Accuracy: 0.806\n"
     ]
    },
    {
     "name": "stderr",
     "output_type": "stream",
     "text": [
      "/opt/conda/lib/python3.7/site-packages/torch/utils/data/dataloader.py:557: UserWarning: This DataLoader will create 4 worker processes in total. Our suggested max number of worker in current system is 2, which is smaller than what this DataLoader is going to create. Please be aware that excessive worker creation might get DataLoader running slow or even freeze, lower the worker number to avoid potential slowness/freeze if necessary.\n",
      "  cpuset_checked))\n"
     ]
    },
    {
     "name": "stdout",
     "output_type": "stream",
     "text": [
      "Epoch 53 Val Loss: 0.5446450165716041 \t\t Val Accuracy: 0.7993974546047543\n"
     ]
    },
    {
     "name": "stderr",
     "output_type": "stream",
     "text": [
      "/opt/conda/lib/python3.7/site-packages/torch/utils/data/dataloader.py:557: UserWarning: This DataLoader will create 4 worker processes in total. Our suggested max number of worker in current system is 2, which is smaller than what this DataLoader is going to create. Please be aware that excessive worker creation might get DataLoader running slow or even freeze, lower the worker number to avoid potential slowness/freeze if necessary.\n",
      "  cpuset_checked))\n"
     ]
    },
    {
     "name": "stdout",
     "output_type": "stream",
     "text": [
      "[Epoch 54, Batch 100] Loss: 0.537 Accuracy: 0.806\n",
      "[Epoch 54, Batch 200] Loss: 0.545 Accuracy: 0.800\n",
      "[Epoch 54, Batch 300] Loss: 0.543 Accuracy: 0.801\n",
      "[Epoch 54, Batch 400] Loss: 0.532 Accuracy: 0.812\n",
      "[Epoch 54, Batch 500] Loss: 0.557 Accuracy: 0.789\n",
      "[Epoch 54, Batch 600] Loss: 0.554 Accuracy: 0.793\n",
      "[Epoch 54, Batch 700] Loss: 0.550 Accuracy: 0.795\n",
      "[Epoch 54, Batch 800] Loss: 0.545 Accuracy: 0.801\n",
      "[Epoch 54, Batch 900] Loss: 0.553 Accuracy: 0.794\n",
      "[Epoch 54, Batch 1000] Loss: 0.545 Accuracy: 0.804\n",
      "[Epoch 54, Batch 1100] Loss: 0.546 Accuracy: 0.800\n",
      "[Epoch 54, Batch 1200] Loss: 0.542 Accuracy: 0.803\n",
      "[Epoch 54, Batch 1300] Loss: 0.542 Accuracy: 0.804\n",
      "[Epoch 54, Batch 1400] Loss: 0.540 Accuracy: 0.805\n",
      "[Epoch 54, Batch 1500] Loss: 0.537 Accuracy: 0.808\n",
      "[Epoch 54, Batch 1600] Loss: 0.540 Accuracy: 0.805\n",
      "[Epoch 54, Batch 1700] Loss: 0.550 Accuracy: 0.796\n",
      "[Epoch 54, Batch 1800] Loss: 0.546 Accuracy: 0.798\n",
      "[Epoch 54, Batch 1900] Loss: 0.548 Accuracy: 0.799\n"
     ]
    },
    {
     "name": "stderr",
     "output_type": "stream",
     "text": [
      "/opt/conda/lib/python3.7/site-packages/torch/utils/data/dataloader.py:557: UserWarning: This DataLoader will create 4 worker processes in total. Our suggested max number of worker in current system is 2, which is smaller than what this DataLoader is going to create. Please be aware that excessive worker creation might get DataLoader running slow or even freeze, lower the worker number to avoid potential slowness/freeze if necessary.\n",
      "  cpuset_checked))\n"
     ]
    },
    {
     "name": "stdout",
     "output_type": "stream",
     "text": [
      "Epoch 54 Val Loss: 0.5489951566041235 \t\t Val Accuracy: 0.7979354101764726\n"
     ]
    },
    {
     "name": "stderr",
     "output_type": "stream",
     "text": [
      "/opt/conda/lib/python3.7/site-packages/torch/utils/data/dataloader.py:557: UserWarning: This DataLoader will create 4 worker processes in total. Our suggested max number of worker in current system is 2, which is smaller than what this DataLoader is going to create. Please be aware that excessive worker creation might get DataLoader running slow or even freeze, lower the worker number to avoid potential slowness/freeze if necessary.\n",
      "  cpuset_checked))\n"
     ]
    },
    {
     "name": "stdout",
     "output_type": "stream",
     "text": [
      "[Epoch 55, Batch 100] Loss: 0.542 Accuracy: 0.803\n",
      "[Epoch 55, Batch 200] Loss: 0.539 Accuracy: 0.805\n",
      "[Epoch 55, Batch 300] Loss: 0.540 Accuracy: 0.804\n",
      "[Epoch 55, Batch 400] Loss: 0.539 Accuracy: 0.807\n",
      "[Epoch 55, Batch 500] Loss: 0.541 Accuracy: 0.805\n",
      "[Epoch 55, Batch 600] Loss: 0.543 Accuracy: 0.802\n",
      "[Epoch 55, Batch 700] Loss: 0.545 Accuracy: 0.800\n",
      "[Epoch 55, Batch 800] Loss: 0.538 Accuracy: 0.806\n",
      "[Epoch 55, Batch 900] Loss: 0.539 Accuracy: 0.806\n",
      "[Epoch 55, Batch 1000] Loss: 0.542 Accuracy: 0.803\n",
      "[Epoch 55, Batch 1100] Loss: 0.542 Accuracy: 0.805\n",
      "[Epoch 55, Batch 1200] Loss: 0.546 Accuracy: 0.800\n",
      "[Epoch 55, Batch 1300] Loss: 0.550 Accuracy: 0.797\n",
      "[Epoch 55, Batch 1400] Loss: 0.539 Accuracy: 0.806\n",
      "[Epoch 55, Batch 1500] Loss: 0.541 Accuracy: 0.803\n",
      "[Epoch 55, Batch 1600] Loss: 0.542 Accuracy: 0.805\n",
      "[Epoch 55, Batch 1700] Loss: 0.546 Accuracy: 0.798\n",
      "[Epoch 55, Batch 1800] Loss: 0.545 Accuracy: 0.801\n",
      "[Epoch 55, Batch 1900] Loss: 0.540 Accuracy: 0.805\n"
     ]
    },
    {
     "name": "stderr",
     "output_type": "stream",
     "text": [
      "/opt/conda/lib/python3.7/site-packages/torch/utils/data/dataloader.py:557: UserWarning: This DataLoader will create 4 worker processes in total. Our suggested max number of worker in current system is 2, which is smaller than what this DataLoader is going to create. Please be aware that excessive worker creation might get DataLoader running slow or even freeze, lower the worker number to avoid potential slowness/freeze if necessary.\n",
      "  cpuset_checked))\n"
     ]
    },
    {
     "name": "stdout",
     "output_type": "stream",
     "text": [
      "Epoch 55 Val Loss: 0.5434864026954375 \t\t Val Accuracy: 0.8003705863418772\n"
     ]
    },
    {
     "name": "stderr",
     "output_type": "stream",
     "text": [
      "/opt/conda/lib/python3.7/site-packages/torch/utils/data/dataloader.py:557: UserWarning: This DataLoader will create 4 worker processes in total. Our suggested max number of worker in current system is 2, which is smaller than what this DataLoader is going to create. Please be aware that excessive worker creation might get DataLoader running slow or even freeze, lower the worker number to avoid potential slowness/freeze if necessary.\n",
      "  cpuset_checked))\n"
     ]
    },
    {
     "name": "stdout",
     "output_type": "stream",
     "text": [
      "[Epoch 56, Batch 100] Loss: 0.541 Accuracy: 0.804\n",
      "[Epoch 56, Batch 200] Loss: 0.541 Accuracy: 0.802\n",
      "[Epoch 56, Batch 300] Loss: 0.537 Accuracy: 0.808\n",
      "[Epoch 56, Batch 400] Loss: 0.535 Accuracy: 0.808\n",
      "[Epoch 56, Batch 500] Loss: 0.543 Accuracy: 0.800\n",
      "[Epoch 56, Batch 600] Loss: 0.541 Accuracy: 0.804\n",
      "[Epoch 56, Batch 700] Loss: 0.536 Accuracy: 0.809\n",
      "[Epoch 56, Batch 800] Loss: 0.542 Accuracy: 0.802\n",
      "[Epoch 56, Batch 900] Loss: 0.540 Accuracy: 0.805\n",
      "[Epoch 56, Batch 1000] Loss: 0.543 Accuracy: 0.802\n",
      "[Epoch 56, Batch 1100] Loss: 0.540 Accuracy: 0.805\n",
      "[Epoch 56, Batch 1200] Loss: 0.543 Accuracy: 0.803\n",
      "[Epoch 56, Batch 1300] Loss: 0.539 Accuracy: 0.806\n",
      "[Epoch 56, Batch 1400] Loss: 0.540 Accuracy: 0.805\n",
      "[Epoch 56, Batch 1500] Loss: 0.539 Accuracy: 0.806\n",
      "[Epoch 56, Batch 1600] Loss: 0.541 Accuracy: 0.804\n",
      "[Epoch 56, Batch 1700] Loss: 0.548 Accuracy: 0.801\n",
      "[Epoch 56, Batch 1800] Loss: 0.553 Accuracy: 0.795\n",
      "[Epoch 56, Batch 1900] Loss: 0.550 Accuracy: 0.796\n"
     ]
    },
    {
     "name": "stderr",
     "output_type": "stream",
     "text": [
      "/opt/conda/lib/python3.7/site-packages/torch/utils/data/dataloader.py:557: UserWarning: This DataLoader will create 4 worker processes in total. Our suggested max number of worker in current system is 2, which is smaller than what this DataLoader is going to create. Please be aware that excessive worker creation might get DataLoader running slow or even freeze, lower the worker number to avoid potential slowness/freeze if necessary.\n",
      "  cpuset_checked))\n"
     ]
    },
    {
     "name": "stdout",
     "output_type": "stream",
     "text": [
      "Epoch 56 Val Loss: 0.5422839038822067 \t\t Val Accuracy: 0.8007887809273522\n",
      "Validation Loss Decreased(135.235896--->135.028692) \t Saving The Model\n"
     ]
    },
    {
     "name": "stderr",
     "output_type": "stream",
     "text": [
      "/opt/conda/lib/python3.7/site-packages/torch/utils/data/dataloader.py:557: UserWarning: This DataLoader will create 4 worker processes in total. Our suggested max number of worker in current system is 2, which is smaller than what this DataLoader is going to create. Please be aware that excessive worker creation might get DataLoader running slow or even freeze, lower the worker number to avoid potential slowness/freeze if necessary.\n",
      "  cpuset_checked))\n"
     ]
    },
    {
     "name": "stdout",
     "output_type": "stream",
     "text": [
      "[Epoch 57, Batch 100] Loss: 0.547 Accuracy: 0.800\n",
      "[Epoch 57, Batch 200] Loss: 0.538 Accuracy: 0.806\n",
      "[Epoch 57, Batch 300] Loss: 0.536 Accuracy: 0.808\n",
      "[Epoch 57, Batch 400] Loss: 0.549 Accuracy: 0.797\n",
      "[Epoch 57, Batch 500] Loss: 0.550 Accuracy: 0.797\n",
      "[Epoch 57, Batch 600] Loss: 0.539 Accuracy: 0.806\n",
      "[Epoch 57, Batch 700] Loss: 0.542 Accuracy: 0.805\n",
      "[Epoch 57, Batch 800] Loss: 0.543 Accuracy: 0.803\n",
      "[Epoch 57, Batch 900] Loss: 0.538 Accuracy: 0.807\n",
      "[Epoch 57, Batch 1000] Loss: 0.539 Accuracy: 0.804\n",
      "[Epoch 57, Batch 1100] Loss: 0.545 Accuracy: 0.800\n",
      "[Epoch 57, Batch 1200] Loss: 0.538 Accuracy: 0.805\n",
      "[Epoch 57, Batch 1300] Loss: 0.533 Accuracy: 0.810\n",
      "[Epoch 57, Batch 1400] Loss: 0.542 Accuracy: 0.804\n",
      "[Epoch 57, Batch 1500] Loss: 0.543 Accuracy: 0.803\n",
      "[Epoch 57, Batch 1600] Loss: 0.543 Accuracy: 0.805\n",
      "[Epoch 57, Batch 1700] Loss: 0.544 Accuracy: 0.801\n",
      "[Epoch 57, Batch 1800] Loss: 0.542 Accuracy: 0.804\n",
      "[Epoch 57, Batch 1900] Loss: 0.543 Accuracy: 0.802\n"
     ]
    },
    {
     "name": "stderr",
     "output_type": "stream",
     "text": [
      "/opt/conda/lib/python3.7/site-packages/torch/utils/data/dataloader.py:557: UserWarning: This DataLoader will create 4 worker processes in total. Our suggested max number of worker in current system is 2, which is smaller than what this DataLoader is going to create. Please be aware that excessive worker creation might get DataLoader running slow or even freeze, lower the worker number to avoid potential slowness/freeze if necessary.\n",
      "  cpuset_checked))\n"
     ]
    },
    {
     "name": "stdout",
     "output_type": "stream",
     "text": [
      "Epoch 57 Val Loss: 0.5406756950430123 \t\t Val Accuracy: 0.8027027441207727\n",
      "Validation Loss Decreased(135.028692--->134.628248) \t Saving The Model\n"
     ]
    },
    {
     "name": "stderr",
     "output_type": "stream",
     "text": [
      "/opt/conda/lib/python3.7/site-packages/torch/utils/data/dataloader.py:557: UserWarning: This DataLoader will create 4 worker processes in total. Our suggested max number of worker in current system is 2, which is smaller than what this DataLoader is going to create. Please be aware that excessive worker creation might get DataLoader running slow or even freeze, lower the worker number to avoid potential slowness/freeze if necessary.\n",
      "  cpuset_checked))\n"
     ]
    },
    {
     "name": "stdout",
     "output_type": "stream",
     "text": [
      "[Epoch 58, Batch 100] Loss: 0.534 Accuracy: 0.810\n",
      "[Epoch 58, Batch 200] Loss: 0.536 Accuracy: 0.808\n",
      "[Epoch 58, Batch 300] Loss: 0.538 Accuracy: 0.806\n",
      "[Epoch 58, Batch 400] Loss: 0.535 Accuracy: 0.809\n",
      "[Epoch 58, Batch 500] Loss: 0.542 Accuracy: 0.802\n",
      "[Epoch 58, Batch 600] Loss: 0.534 Accuracy: 0.810\n",
      "[Epoch 58, Batch 700] Loss: 0.543 Accuracy: 0.802\n",
      "[Epoch 58, Batch 800] Loss: 0.542 Accuracy: 0.803\n",
      "[Epoch 58, Batch 900] Loss: 0.540 Accuracy: 0.805\n",
      "[Epoch 58, Batch 1000] Loss: 0.542 Accuracy: 0.801\n",
      "[Epoch 58, Batch 1100] Loss: 0.543 Accuracy: 0.804\n",
      "[Epoch 58, Batch 1200] Loss: 0.540 Accuracy: 0.807\n",
      "[Epoch 58, Batch 1300] Loss: 0.540 Accuracy: 0.806\n",
      "[Epoch 58, Batch 1400] Loss: 0.540 Accuracy: 0.804\n",
      "[Epoch 58, Batch 1500] Loss: 0.543 Accuracy: 0.801\n",
      "[Epoch 58, Batch 1600] Loss: 0.541 Accuracy: 0.805\n",
      "[Epoch 58, Batch 1700] Loss: 0.543 Accuracy: 0.803\n",
      "[Epoch 58, Batch 1800] Loss: 0.540 Accuracy: 0.805\n",
      "[Epoch 58, Batch 1900] Loss: 0.541 Accuracy: 0.804\n"
     ]
    },
    {
     "name": "stderr",
     "output_type": "stream",
     "text": [
      "/opt/conda/lib/python3.7/site-packages/torch/utils/data/dataloader.py:557: UserWarning: This DataLoader will create 4 worker processes in total. Our suggested max number of worker in current system is 2, which is smaller than what this DataLoader is going to create. Please be aware that excessive worker creation might get DataLoader running slow or even freeze, lower the worker number to avoid potential slowness/freeze if necessary.\n",
      "  cpuset_checked))\n"
     ]
    },
    {
     "name": "stdout",
     "output_type": "stream",
     "text": [
      "Epoch 58 Val Loss: 0.5430290550591955 \t\t Val Accuracy: 0.800824478879192\n"
     ]
    },
    {
     "name": "stderr",
     "output_type": "stream",
     "text": [
      "/opt/conda/lib/python3.7/site-packages/torch/utils/data/dataloader.py:557: UserWarning: This DataLoader will create 4 worker processes in total. Our suggested max number of worker in current system is 2, which is smaller than what this DataLoader is going to create. Please be aware that excessive worker creation might get DataLoader running slow or even freeze, lower the worker number to avoid potential slowness/freeze if necessary.\n",
      "  cpuset_checked))\n"
     ]
    },
    {
     "name": "stdout",
     "output_type": "stream",
     "text": [
      "[Epoch 59, Batch 100] Loss: 0.539 Accuracy: 0.806\n",
      "[Epoch 59, Batch 200] Loss: 0.541 Accuracy: 0.804\n",
      "[Epoch 59, Batch 300] Loss: 0.540 Accuracy: 0.805\n",
      "[Epoch 59, Batch 400] Loss: 0.538 Accuracy: 0.807\n",
      "[Epoch 59, Batch 500] Loss: 0.539 Accuracy: 0.805\n",
      "[Epoch 59, Batch 600] Loss: 0.553 Accuracy: 0.795\n",
      "[Epoch 59, Batch 700] Loss: 0.559 Accuracy: 0.789\n",
      "[Epoch 59, Batch 800] Loss: 0.557 Accuracy: 0.790\n",
      "[Epoch 59, Batch 900] Loss: 0.556 Accuracy: 0.792\n",
      "[Epoch 59, Batch 1000] Loss: 0.574 Accuracy: 0.772\n",
      "[Epoch 59, Batch 1100] Loss: 0.560 Accuracy: 0.787\n",
      "[Epoch 59, Batch 1200] Loss: 0.545 Accuracy: 0.803\n",
      "[Epoch 59, Batch 1300] Loss: 0.546 Accuracy: 0.801\n",
      "[Epoch 59, Batch 1400] Loss: 0.541 Accuracy: 0.805\n",
      "[Epoch 59, Batch 1500] Loss: 0.542 Accuracy: 0.805\n",
      "[Epoch 59, Batch 1600] Loss: 0.540 Accuracy: 0.805\n",
      "[Epoch 59, Batch 1700] Loss: 0.537 Accuracy: 0.808\n",
      "[Epoch 59, Batch 1800] Loss: 0.543 Accuracy: 0.802\n",
      "[Epoch 59, Batch 1900] Loss: 0.543 Accuracy: 0.802\n"
     ]
    },
    {
     "name": "stderr",
     "output_type": "stream",
     "text": [
      "/opt/conda/lib/python3.7/site-packages/torch/utils/data/dataloader.py:557: UserWarning: This DataLoader will create 4 worker processes in total. Our suggested max number of worker in current system is 2, which is smaller than what this DataLoader is going to create. Please be aware that excessive worker creation might get DataLoader running slow or even freeze, lower the worker number to avoid potential slowness/freeze if necessary.\n",
      "  cpuset_checked))\n"
     ]
    },
    {
     "name": "stdout",
     "output_type": "stream",
     "text": [
      "Epoch 59 Val Loss: 0.547325992799667 \t\t Val Accuracy: 0.7970666236171456\n"
     ]
    },
    {
     "name": "stderr",
     "output_type": "stream",
     "text": [
      "/opt/conda/lib/python3.7/site-packages/torch/utils/data/dataloader.py:557: UserWarning: This DataLoader will create 4 worker processes in total. Our suggested max number of worker in current system is 2, which is smaller than what this DataLoader is going to create. Please be aware that excessive worker creation might get DataLoader running slow or even freeze, lower the worker number to avoid potential slowness/freeze if necessary.\n",
      "  cpuset_checked))\n"
     ]
    },
    {
     "name": "stdout",
     "output_type": "stream",
     "text": [
      "[Epoch 60, Batch 100] Loss: 0.538 Accuracy: 0.806\n",
      "[Epoch 60, Batch 200] Loss: 0.537 Accuracy: 0.808\n",
      "[Epoch 60, Batch 300] Loss: 0.540 Accuracy: 0.805\n",
      "[Epoch 60, Batch 400] Loss: 0.540 Accuracy: 0.807\n",
      "[Epoch 60, Batch 500] Loss: 0.540 Accuracy: 0.806\n",
      "[Epoch 60, Batch 600] Loss: 0.540 Accuracy: 0.806\n",
      "[Epoch 60, Batch 700] Loss: 0.533 Accuracy: 0.810\n",
      "[Epoch 60, Batch 800] Loss: 0.538 Accuracy: 0.807\n",
      "[Epoch 60, Batch 900] Loss: 0.542 Accuracy: 0.803\n",
      "[Epoch 60, Batch 1000] Loss: 0.538 Accuracy: 0.806\n",
      "[Epoch 60, Batch 1100] Loss: 0.544 Accuracy: 0.801\n",
      "[Epoch 60, Batch 1200] Loss: 0.542 Accuracy: 0.803\n",
      "[Epoch 60, Batch 1300] Loss: 0.539 Accuracy: 0.805\n",
      "[Epoch 60, Batch 1400] Loss: 0.547 Accuracy: 0.799\n",
      "[Epoch 60, Batch 1500] Loss: 0.538 Accuracy: 0.808\n",
      "[Epoch 60, Batch 1600] Loss: 0.540 Accuracy: 0.805\n",
      "[Epoch 60, Batch 1700] Loss: 0.543 Accuracy: 0.804\n",
      "[Epoch 60, Batch 1800] Loss: 0.539 Accuracy: 0.806\n",
      "[Epoch 60, Batch 1900] Loss: 0.542 Accuracy: 0.804\n"
     ]
    },
    {
     "name": "stderr",
     "output_type": "stream",
     "text": [
      "/opt/conda/lib/python3.7/site-packages/torch/utils/data/dataloader.py:557: UserWarning: This DataLoader will create 4 worker processes in total. Our suggested max number of worker in current system is 2, which is smaller than what this DataLoader is going to create. Please be aware that excessive worker creation might get DataLoader running slow or even freeze, lower the worker number to avoid potential slowness/freeze if necessary.\n",
      "  cpuset_checked))\n"
     ]
    },
    {
     "name": "stdout",
     "output_type": "stream",
     "text": [
      "Epoch 60 Val Loss: 0.5472423194881424 \t\t Val Accuracy: 0.7998744471198903\n"
     ]
    },
    {
     "name": "stderr",
     "output_type": "stream",
     "text": [
      "/opt/conda/lib/python3.7/site-packages/torch/utils/data/dataloader.py:557: UserWarning: This DataLoader will create 4 worker processes in total. Our suggested max number of worker in current system is 2, which is smaller than what this DataLoader is going to create. Please be aware that excessive worker creation might get DataLoader running slow or even freeze, lower the worker number to avoid potential slowness/freeze if necessary.\n",
      "  cpuset_checked))\n"
     ]
    },
    {
     "name": "stdout",
     "output_type": "stream",
     "text": [
      "[Epoch 61, Batch 100] Loss: 0.536 Accuracy: 0.809\n",
      "[Epoch 61, Batch 200] Loss: 0.541 Accuracy: 0.804\n",
      "[Epoch 61, Batch 300] Loss: 0.546 Accuracy: 0.799\n",
      "[Epoch 61, Batch 400] Loss: 0.538 Accuracy: 0.806\n",
      "[Epoch 61, Batch 500] Loss: 0.537 Accuracy: 0.808\n",
      "[Epoch 61, Batch 600] Loss: 0.541 Accuracy: 0.805\n",
      "[Epoch 61, Batch 700] Loss: 0.539 Accuracy: 0.806\n",
      "[Epoch 61, Batch 800] Loss: 0.535 Accuracy: 0.810\n",
      "[Epoch 61, Batch 900] Loss: 0.533 Accuracy: 0.812\n",
      "[Epoch 61, Batch 1000] Loss: 0.538 Accuracy: 0.807\n",
      "[Epoch 61, Batch 1100] Loss: 0.539 Accuracy: 0.806\n",
      "[Epoch 61, Batch 1200] Loss: 0.532 Accuracy: 0.810\n",
      "[Epoch 61, Batch 1300] Loss: 0.534 Accuracy: 0.811\n",
      "[Epoch 61, Batch 1400] Loss: 0.533 Accuracy: 0.812\n",
      "[Epoch 61, Batch 1500] Loss: 0.544 Accuracy: 0.801\n",
      "[Epoch 61, Batch 1600] Loss: 0.538 Accuracy: 0.807\n",
      "[Epoch 61, Batch 1700] Loss: 0.537 Accuracy: 0.807\n",
      "[Epoch 61, Batch 1800] Loss: 0.538 Accuracy: 0.807\n",
      "[Epoch 61, Batch 1900] Loss: 0.537 Accuracy: 0.807\n"
     ]
    },
    {
     "name": "stderr",
     "output_type": "stream",
     "text": [
      "/opt/conda/lib/python3.7/site-packages/torch/utils/data/dataloader.py:557: UserWarning: This DataLoader will create 4 worker processes in total. Our suggested max number of worker in current system is 2, which is smaller than what this DataLoader is going to create. Please be aware that excessive worker creation might get DataLoader running slow or even freeze, lower the worker number to avoid potential slowness/freeze if necessary.\n",
      "  cpuset_checked))\n"
     ]
    },
    {
     "name": "stdout",
     "output_type": "stream",
     "text": [
      "Epoch 61 Val Loss: 0.5442146763025996 \t\t Val Accuracy: 0.8011966111225798\n"
     ]
    },
    {
     "name": "stderr",
     "output_type": "stream",
     "text": [
      "/opt/conda/lib/python3.7/site-packages/torch/utils/data/dataloader.py:557: UserWarning: This DataLoader will create 4 worker processes in total. Our suggested max number of worker in current system is 2, which is smaller than what this DataLoader is going to create. Please be aware that excessive worker creation might get DataLoader running slow or even freeze, lower the worker number to avoid potential slowness/freeze if necessary.\n",
      "  cpuset_checked))\n"
     ]
    },
    {
     "name": "stdout",
     "output_type": "stream",
     "text": [
      "[Epoch 62, Batch 100] Loss: 0.527 Accuracy: 0.816\n",
      "[Epoch 62, Batch 200] Loss: 0.535 Accuracy: 0.810\n",
      "[Epoch 62, Batch 300] Loss: 0.547 Accuracy: 0.801\n",
      "[Epoch 62, Batch 400] Loss: 0.548 Accuracy: 0.798\n",
      "[Epoch 62, Batch 500] Loss: 0.538 Accuracy: 0.806\n",
      "[Epoch 62, Batch 600] Loss: 0.541 Accuracy: 0.805\n",
      "[Epoch 62, Batch 700] Loss: 0.542 Accuracy: 0.802\n",
      "[Epoch 62, Batch 800] Loss: 0.540 Accuracy: 0.805\n",
      "[Epoch 62, Batch 900] Loss: 0.536 Accuracy: 0.807\n",
      "[Epoch 62, Batch 1000] Loss: 0.539 Accuracy: 0.806\n",
      "[Epoch 62, Batch 1100] Loss: 0.541 Accuracy: 0.804\n",
      "[Epoch 62, Batch 1200] Loss: 0.539 Accuracy: 0.805\n",
      "[Epoch 62, Batch 1300] Loss: 0.541 Accuracy: 0.805\n",
      "[Epoch 62, Batch 1400] Loss: 0.533 Accuracy: 0.811\n",
      "[Epoch 62, Batch 1500] Loss: 0.542 Accuracy: 0.804\n",
      "[Epoch 62, Batch 1600] Loss: 0.540 Accuracy: 0.805\n",
      "[Epoch 62, Batch 1700] Loss: 0.543 Accuracy: 0.802\n",
      "[Epoch 62, Batch 1800] Loss: 0.536 Accuracy: 0.810\n",
      "[Epoch 62, Batch 1900] Loss: 0.535 Accuracy: 0.808\n"
     ]
    },
    {
     "name": "stderr",
     "output_type": "stream",
     "text": [
      "/opt/conda/lib/python3.7/site-packages/torch/utils/data/dataloader.py:557: UserWarning: This DataLoader will create 4 worker processes in total. Our suggested max number of worker in current system is 2, which is smaller than what this DataLoader is going to create. Please be aware that excessive worker creation might get DataLoader running slow or even freeze, lower the worker number to avoid potential slowness/freeze if necessary.\n",
      "  cpuset_checked))\n"
     ]
    },
    {
     "name": "stdout",
     "output_type": "stream",
     "text": [
      "Epoch 62 Val Loss: 0.5425569342082763 \t\t Val Accuracy: 0.8023962849603533\n"
     ]
    },
    {
     "name": "stderr",
     "output_type": "stream",
     "text": [
      "/opt/conda/lib/python3.7/site-packages/torch/utils/data/dataloader.py:557: UserWarning: This DataLoader will create 4 worker processes in total. Our suggested max number of worker in current system is 2, which is smaller than what this DataLoader is going to create. Please be aware that excessive worker creation might get DataLoader running slow or even freeze, lower the worker number to avoid potential slowness/freeze if necessary.\n",
      "  cpuset_checked))\n"
     ]
    },
    {
     "name": "stdout",
     "output_type": "stream",
     "text": [
      "[Epoch 63, Batch 100] Loss: 0.534 Accuracy: 0.810\n",
      "[Epoch 63, Batch 200] Loss: 0.540 Accuracy: 0.805\n",
      "[Epoch 63, Batch 300] Loss: 0.538 Accuracy: 0.807\n",
      "[Epoch 63, Batch 400] Loss: 0.552 Accuracy: 0.794\n",
      "[Epoch 63, Batch 500] Loss: 0.552 Accuracy: 0.795\n",
      "[Epoch 63, Batch 600] Loss: 0.549 Accuracy: 0.797\n",
      "[Epoch 63, Batch 700] Loss: 0.546 Accuracy: 0.801\n",
      "[Epoch 63, Batch 800] Loss: 0.562 Accuracy: 0.784\n",
      "[Epoch 63, Batch 900] Loss: 0.548 Accuracy: 0.798\n",
      "[Epoch 63, Batch 1000] Loss: 0.545 Accuracy: 0.798\n",
      "[Epoch 63, Batch 1100] Loss: 0.540 Accuracy: 0.803\n",
      "[Epoch 63, Batch 1200] Loss: 0.544 Accuracy: 0.803\n",
      "[Epoch 63, Batch 1300] Loss: 0.544 Accuracy: 0.801\n",
      "[Epoch 63, Batch 1400] Loss: 0.540 Accuracy: 0.805\n",
      "[Epoch 63, Batch 1500] Loss: 0.546 Accuracy: 0.800\n",
      "[Epoch 63, Batch 1600] Loss: 0.538 Accuracy: 0.807\n",
      "[Epoch 63, Batch 1700] Loss: 0.536 Accuracy: 0.809\n",
      "[Epoch 63, Batch 1800] Loss: 0.540 Accuracy: 0.806\n",
      "[Epoch 63, Batch 1900] Loss: 0.547 Accuracy: 0.800\n"
     ]
    },
    {
     "name": "stderr",
     "output_type": "stream",
     "text": [
      "/opt/conda/lib/python3.7/site-packages/torch/utils/data/dataloader.py:557: UserWarning: This DataLoader will create 4 worker processes in total. Our suggested max number of worker in current system is 2, which is smaller than what this DataLoader is going to create. Please be aware that excessive worker creation might get DataLoader running slow or even freeze, lower the worker number to avoid potential slowness/freeze if necessary.\n",
      "  cpuset_checked))\n"
     ]
    },
    {
     "name": "stdout",
     "output_type": "stream",
     "text": [
      "Epoch 63 Val Loss: 0.543267467653895 \t\t Val Accuracy: 0.8012775069359743\n"
     ]
    },
    {
     "name": "stderr",
     "output_type": "stream",
     "text": [
      "/opt/conda/lib/python3.7/site-packages/torch/utils/data/dataloader.py:557: UserWarning: This DataLoader will create 4 worker processes in total. Our suggested max number of worker in current system is 2, which is smaller than what this DataLoader is going to create. Please be aware that excessive worker creation might get DataLoader running slow or even freeze, lower the worker number to avoid potential slowness/freeze if necessary.\n",
      "  cpuset_checked))\n"
     ]
    },
    {
     "name": "stdout",
     "output_type": "stream",
     "text": [
      "[Epoch 64, Batch 100] Loss: 0.532 Accuracy: 0.810\n",
      "[Epoch 64, Batch 200] Loss: 0.535 Accuracy: 0.809\n",
      "[Epoch 64, Batch 300] Loss: 0.540 Accuracy: 0.804\n",
      "[Epoch 64, Batch 400] Loss: 0.543 Accuracy: 0.803\n",
      "[Epoch 64, Batch 500] Loss: 0.532 Accuracy: 0.811\n",
      "[Epoch 64, Batch 600] Loss: 0.530 Accuracy: 0.813\n",
      "[Epoch 64, Batch 700] Loss: 0.535 Accuracy: 0.809\n",
      "[Epoch 64, Batch 800] Loss: 0.528 Accuracy: 0.815\n",
      "[Epoch 64, Batch 900] Loss: 0.532 Accuracy: 0.813\n",
      "[Epoch 64, Batch 1000] Loss: 0.535 Accuracy: 0.808\n",
      "[Epoch 64, Batch 1100] Loss: 0.540 Accuracy: 0.804\n",
      "[Epoch 64, Batch 1200] Loss: 0.542 Accuracy: 0.804\n",
      "[Epoch 64, Batch 1300] Loss: 0.548 Accuracy: 0.800\n",
      "[Epoch 64, Batch 1400] Loss: 0.549 Accuracy: 0.797\n",
      "[Epoch 64, Batch 1500] Loss: 0.541 Accuracy: 0.804\n",
      "[Epoch 64, Batch 1600] Loss: 0.539 Accuracy: 0.806\n",
      "[Epoch 64, Batch 1700] Loss: 0.539 Accuracy: 0.805\n",
      "[Epoch 64, Batch 1800] Loss: 0.538 Accuracy: 0.806\n",
      "[Epoch 64, Batch 1900] Loss: 0.542 Accuracy: 0.803\n"
     ]
    },
    {
     "name": "stderr",
     "output_type": "stream",
     "text": [
      "/opt/conda/lib/python3.7/site-packages/torch/utils/data/dataloader.py:557: UserWarning: This DataLoader will create 4 worker processes in total. Our suggested max number of worker in current system is 2, which is smaller than what this DataLoader is going to create. Please be aware that excessive worker creation might get DataLoader running slow or even freeze, lower the worker number to avoid potential slowness/freeze if necessary.\n",
      "  cpuset_checked))\n"
     ]
    },
    {
     "name": "stdout",
     "output_type": "stream",
     "text": [
      "Epoch 64 Val Loss: 0.5419615829086687 \t\t Val Accuracy: 0.8022783872876359\n"
     ]
    },
    {
     "name": "stderr",
     "output_type": "stream",
     "text": [
      "/opt/conda/lib/python3.7/site-packages/torch/utils/data/dataloader.py:557: UserWarning: This DataLoader will create 4 worker processes in total. Our suggested max number of worker in current system is 2, which is smaller than what this DataLoader is going to create. Please be aware that excessive worker creation might get DataLoader running slow or even freeze, lower the worker number to avoid potential slowness/freeze if necessary.\n",
      "  cpuset_checked))\n"
     ]
    },
    {
     "name": "stdout",
     "output_type": "stream",
     "text": [
      "[Epoch 65, Batch 100] Loss: 0.533 Accuracy: 0.811\n",
      "[Epoch 65, Batch 200] Loss: 0.536 Accuracy: 0.807\n",
      "[Epoch 65, Batch 300] Loss: 0.539 Accuracy: 0.806\n",
      "[Epoch 65, Batch 400] Loss: 0.537 Accuracy: 0.808\n",
      "[Epoch 65, Batch 500] Loss: 0.537 Accuracy: 0.809\n",
      "[Epoch 65, Batch 600] Loss: 0.542 Accuracy: 0.803\n",
      "[Epoch 65, Batch 700] Loss: 0.536 Accuracy: 0.808\n",
      "[Epoch 65, Batch 800] Loss: 0.537 Accuracy: 0.807\n",
      "[Epoch 65, Batch 900] Loss: 0.535 Accuracy: 0.809\n",
      "[Epoch 65, Batch 1000] Loss: 0.538 Accuracy: 0.805\n",
      "[Epoch 65, Batch 1100] Loss: 0.535 Accuracy: 0.809\n",
      "[Epoch 65, Batch 1200] Loss: 0.539 Accuracy: 0.806\n",
      "[Epoch 65, Batch 1300] Loss: 0.538 Accuracy: 0.807\n",
      "[Epoch 65, Batch 1400] Loss: 0.543 Accuracy: 0.803\n",
      "[Epoch 65, Batch 1500] Loss: 0.534 Accuracy: 0.810\n",
      "[Epoch 65, Batch 1600] Loss: 0.538 Accuracy: 0.807\n",
      "[Epoch 65, Batch 1700] Loss: 0.533 Accuracy: 0.811\n",
      "[Epoch 65, Batch 1800] Loss: 0.535 Accuracy: 0.808\n",
      "[Epoch 65, Batch 1900] Loss: 0.540 Accuracy: 0.805\n"
     ]
    },
    {
     "name": "stderr",
     "output_type": "stream",
     "text": [
      "/opt/conda/lib/python3.7/site-packages/torch/utils/data/dataloader.py:557: UserWarning: This DataLoader will create 4 worker processes in total. Our suggested max number of worker in current system is 2, which is smaller than what this DataLoader is going to create. Please be aware that excessive worker creation might get DataLoader running slow or even freeze, lower the worker number to avoid potential slowness/freeze if necessary.\n",
      "  cpuset_checked))\n"
     ]
    },
    {
     "name": "stdout",
     "output_type": "stream",
     "text": [
      "Epoch 65 Val Loss: 0.5433448288574755 \t\t Val Accuracy: 0.8002661949256001\n"
     ]
    },
    {
     "name": "stderr",
     "output_type": "stream",
     "text": [
      "/opt/conda/lib/python3.7/site-packages/torch/utils/data/dataloader.py:557: UserWarning: This DataLoader will create 4 worker processes in total. Our suggested max number of worker in current system is 2, which is smaller than what this DataLoader is going to create. Please be aware that excessive worker creation might get DataLoader running slow or even freeze, lower the worker number to avoid potential slowness/freeze if necessary.\n",
      "  cpuset_checked))\n"
     ]
    },
    {
     "name": "stdout",
     "output_type": "stream",
     "text": [
      "[Epoch 66, Batch 100] Loss: 0.535 Accuracy: 0.810\n",
      "[Epoch 66, Batch 200] Loss: 0.536 Accuracy: 0.808\n",
      "[Epoch 66, Batch 300] Loss: 0.530 Accuracy: 0.812\n",
      "[Epoch 66, Batch 400] Loss: 0.536 Accuracy: 0.808\n",
      "[Epoch 66, Batch 500] Loss: 0.537 Accuracy: 0.807\n",
      "[Epoch 66, Batch 600] Loss: 0.534 Accuracy: 0.810\n",
      "[Epoch 66, Batch 700] Loss: 0.533 Accuracy: 0.811\n",
      "[Epoch 66, Batch 800] Loss: 0.535 Accuracy: 0.809\n",
      "[Epoch 66, Batch 900] Loss: 0.535 Accuracy: 0.809\n",
      "[Epoch 66, Batch 1000] Loss: 0.546 Accuracy: 0.800\n",
      "[Epoch 66, Batch 1100] Loss: 0.535 Accuracy: 0.809\n",
      "[Epoch 66, Batch 1200] Loss: 0.529 Accuracy: 0.814\n",
      "[Epoch 66, Batch 1300] Loss: 0.536 Accuracy: 0.808\n",
      "[Epoch 66, Batch 1400] Loss: 0.542 Accuracy: 0.804\n",
      "[Epoch 66, Batch 1500] Loss: 0.540 Accuracy: 0.804\n",
      "[Epoch 66, Batch 1600] Loss: 0.537 Accuracy: 0.807\n",
      "[Epoch 66, Batch 1700] Loss: 0.535 Accuracy: 0.809\n",
      "[Epoch 66, Batch 1800] Loss: 0.539 Accuracy: 0.803\n",
      "[Epoch 66, Batch 1900] Loss: 0.534 Accuracy: 0.810\n"
     ]
    },
    {
     "name": "stderr",
     "output_type": "stream",
     "text": [
      "/opt/conda/lib/python3.7/site-packages/torch/utils/data/dataloader.py:557: UserWarning: This DataLoader will create 4 worker processes in total. Our suggested max number of worker in current system is 2, which is smaller than what this DataLoader is going to create. Please be aware that excessive worker creation might get DataLoader running slow or even freeze, lower the worker number to avoid potential slowness/freeze if necessary.\n",
      "  cpuset_checked))\n"
     ]
    },
    {
     "name": "stdout",
     "output_type": "stream",
     "text": [
      "Epoch 66 Val Loss: 0.5499557067591503 \t\t Val Accuracy: 0.7986450267895505\n"
     ]
    },
    {
     "name": "stderr",
     "output_type": "stream",
     "text": [
      "/opt/conda/lib/python3.7/site-packages/torch/utils/data/dataloader.py:557: UserWarning: This DataLoader will create 4 worker processes in total. Our suggested max number of worker in current system is 2, which is smaller than what this DataLoader is going to create. Please be aware that excessive worker creation might get DataLoader running slow or even freeze, lower the worker number to avoid potential slowness/freeze if necessary.\n",
      "  cpuset_checked))\n"
     ]
    },
    {
     "name": "stdout",
     "output_type": "stream",
     "text": [
      "[Epoch 67, Batch 100] Loss: 0.536 Accuracy: 0.808\n",
      "[Epoch 67, Batch 200] Loss: 0.536 Accuracy: 0.809\n",
      "[Epoch 67, Batch 300] Loss: 0.531 Accuracy: 0.812\n",
      "[Epoch 67, Batch 400] Loss: 0.528 Accuracy: 0.815\n",
      "[Epoch 67, Batch 500] Loss: 0.541 Accuracy: 0.805\n",
      "[Epoch 67, Batch 600] Loss: 0.536 Accuracy: 0.807\n",
      "[Epoch 67, Batch 700] Loss: 0.542 Accuracy: 0.803\n",
      "[Epoch 67, Batch 800] Loss: 0.544 Accuracy: 0.802\n",
      "[Epoch 67, Batch 900] Loss: 0.541 Accuracy: 0.805\n",
      "[Epoch 67, Batch 1000] Loss: 0.532 Accuracy: 0.813\n",
      "[Epoch 67, Batch 1100] Loss: 0.536 Accuracy: 0.808\n",
      "[Epoch 67, Batch 1200] Loss: 0.535 Accuracy: 0.810\n",
      "[Epoch 67, Batch 1300] Loss: 0.535 Accuracy: 0.810\n",
      "[Epoch 67, Batch 1400] Loss: 0.538 Accuracy: 0.808\n",
      "[Epoch 67, Batch 1500] Loss: 0.536 Accuracy: 0.808\n",
      "[Epoch 67, Batch 1600] Loss: 0.535 Accuracy: 0.809\n",
      "[Epoch 67, Batch 1700] Loss: 0.537 Accuracy: 0.807\n",
      "[Epoch 67, Batch 1800] Loss: 0.541 Accuracy: 0.805\n",
      "[Epoch 67, Batch 1900] Loss: 0.534 Accuracy: 0.810\n"
     ]
    },
    {
     "name": "stderr",
     "output_type": "stream",
     "text": [
      "/opt/conda/lib/python3.7/site-packages/torch/utils/data/dataloader.py:557: UserWarning: This DataLoader will create 4 worker processes in total. Our suggested max number of worker in current system is 2, which is smaller than what this DataLoader is going to create. Please be aware that excessive worker creation might get DataLoader running slow or even freeze, lower the worker number to avoid potential slowness/freeze if necessary.\n",
      "  cpuset_checked))\n"
     ]
    },
    {
     "name": "stdout",
     "output_type": "stream",
     "text": [
      "Epoch 67 Val Loss: 0.5478886319212166 \t\t Val Accuracy: 0.7989357299918983\n"
     ]
    },
    {
     "name": "stderr",
     "output_type": "stream",
     "text": [
      "/opt/conda/lib/python3.7/site-packages/torch/utils/data/dataloader.py:557: UserWarning: This DataLoader will create 4 worker processes in total. Our suggested max number of worker in current system is 2, which is smaller than what this DataLoader is going to create. Please be aware that excessive worker creation might get DataLoader running slow or even freeze, lower the worker number to avoid potential slowness/freeze if necessary.\n",
      "  cpuset_checked))\n"
     ]
    },
    {
     "name": "stdout",
     "output_type": "stream",
     "text": [
      "[Epoch 68, Batch 100] Loss: 0.531 Accuracy: 0.813\n",
      "[Epoch 68, Batch 200] Loss: 0.539 Accuracy: 0.805\n",
      "[Epoch 68, Batch 300] Loss: 0.539 Accuracy: 0.806\n",
      "[Epoch 68, Batch 400] Loss: 0.540 Accuracy: 0.806\n",
      "[Epoch 68, Batch 500] Loss: 0.545 Accuracy: 0.801\n",
      "[Epoch 68, Batch 600] Loss: 0.545 Accuracy: 0.801\n",
      "[Epoch 68, Batch 700] Loss: 0.546 Accuracy: 0.801\n",
      "[Epoch 68, Batch 800] Loss: 0.540 Accuracy: 0.805\n",
      "[Epoch 68, Batch 900] Loss: 0.539 Accuracy: 0.807\n",
      "[Epoch 68, Batch 1000] Loss: 0.539 Accuracy: 0.805\n",
      "[Epoch 68, Batch 1100] Loss: 0.540 Accuracy: 0.806\n",
      "[Epoch 68, Batch 1200] Loss: 0.536 Accuracy: 0.807\n",
      "[Epoch 68, Batch 1300] Loss: 0.535 Accuracy: 0.809\n",
      "[Epoch 68, Batch 1400] Loss: 0.534 Accuracy: 0.811\n",
      "[Epoch 68, Batch 1500] Loss: 0.535 Accuracy: 0.809\n",
      "[Epoch 68, Batch 1600] Loss: 0.539 Accuracy: 0.805\n",
      "[Epoch 68, Batch 1700] Loss: 0.535 Accuracy: 0.810\n",
      "[Epoch 68, Batch 1800] Loss: 0.535 Accuracy: 0.808\n",
      "[Epoch 68, Batch 1900] Loss: 0.524 Accuracy: 0.818\n"
     ]
    },
    {
     "name": "stderr",
     "output_type": "stream",
     "text": [
      "/opt/conda/lib/python3.7/site-packages/torch/utils/data/dataloader.py:557: UserWarning: This DataLoader will create 4 worker processes in total. Our suggested max number of worker in current system is 2, which is smaller than what this DataLoader is going to create. Please be aware that excessive worker creation might get DataLoader running slow or even freeze, lower the worker number to avoid potential slowness/freeze if necessary.\n",
      "  cpuset_checked))\n"
     ]
    },
    {
     "name": "stdout",
     "output_type": "stream",
     "text": [
      "Epoch 68 Val Loss: 0.5458214245886209 \t\t Val Accuracy: 0.7994031180492781\n"
     ]
    },
    {
     "name": "stderr",
     "output_type": "stream",
     "text": [
      "/opt/conda/lib/python3.7/site-packages/torch/utils/data/dataloader.py:557: UserWarning: This DataLoader will create 4 worker processes in total. Our suggested max number of worker in current system is 2, which is smaller than what this DataLoader is going to create. Please be aware that excessive worker creation might get DataLoader running slow or even freeze, lower the worker number to avoid potential slowness/freeze if necessary.\n",
      "  cpuset_checked))\n"
     ]
    },
    {
     "name": "stdout",
     "output_type": "stream",
     "text": [
      "[Epoch 69, Batch 100] Loss: 0.543 Accuracy: 0.803\n",
      "[Epoch 69, Batch 200] Loss: 0.554 Accuracy: 0.794\n",
      "[Epoch 69, Batch 300] Loss: 0.544 Accuracy: 0.801\n",
      "[Epoch 69, Batch 400] Loss: 0.535 Accuracy: 0.811\n",
      "[Epoch 69, Batch 500] Loss: 0.547 Accuracy: 0.799\n",
      "[Epoch 69, Batch 600] Loss: 0.538 Accuracy: 0.807\n",
      "[Epoch 69, Batch 700] Loss: 0.546 Accuracy: 0.801\n",
      "[Epoch 69, Batch 800] Loss: 0.540 Accuracy: 0.803\n",
      "[Epoch 69, Batch 900] Loss: 0.542 Accuracy: 0.803\n",
      "[Epoch 69, Batch 1000] Loss: 0.536 Accuracy: 0.808\n",
      "[Epoch 69, Batch 1100] Loss: 0.538 Accuracy: 0.807\n",
      "[Epoch 69, Batch 1200] Loss: 0.536 Accuracy: 0.810\n",
      "[Epoch 69, Batch 1300] Loss: 0.537 Accuracy: 0.808\n",
      "[Epoch 69, Batch 1400] Loss: 0.537 Accuracy: 0.806\n",
      "[Epoch 69, Batch 1500] Loss: 0.532 Accuracy: 0.813\n",
      "[Epoch 69, Batch 1600] Loss: 0.533 Accuracy: 0.811\n",
      "[Epoch 69, Batch 1700] Loss: 0.533 Accuracy: 0.811\n",
      "[Epoch 69, Batch 1800] Loss: 0.535 Accuracy: 0.807\n",
      "[Epoch 69, Batch 1900] Loss: 0.539 Accuracy: 0.806\n"
     ]
    },
    {
     "name": "stderr",
     "output_type": "stream",
     "text": [
      "/opt/conda/lib/python3.7/site-packages/torch/utils/data/dataloader.py:557: UserWarning: This DataLoader will create 4 worker processes in total. Our suggested max number of worker in current system is 2, which is smaller than what this DataLoader is going to create. Please be aware that excessive worker creation might get DataLoader running slow or even freeze, lower the worker number to avoid potential slowness/freeze if necessary.\n",
      "  cpuset_checked))\n"
     ]
    },
    {
     "name": "stdout",
     "output_type": "stream",
     "text": [
      "Epoch 69 Val Loss: 0.549270447717613 \t\t Val Accuracy: 0.7983657601861261\n"
     ]
    },
    {
     "name": "stderr",
     "output_type": "stream",
     "text": [
      "/opt/conda/lib/python3.7/site-packages/torch/utils/data/dataloader.py:557: UserWarning: This DataLoader will create 4 worker processes in total. Our suggested max number of worker in current system is 2, which is smaller than what this DataLoader is going to create. Please be aware that excessive worker creation might get DataLoader running slow or even freeze, lower the worker number to avoid potential slowness/freeze if necessary.\n",
      "  cpuset_checked))\n"
     ]
    },
    {
     "name": "stdout",
     "output_type": "stream",
     "text": [
      "[Epoch 70, Batch 100] Loss: 0.536 Accuracy: 0.808\n",
      "[Epoch 70, Batch 200] Loss: 0.537 Accuracy: 0.809\n",
      "[Epoch 70, Batch 300] Loss: 0.537 Accuracy: 0.808\n",
      "[Epoch 70, Batch 400] Loss: 0.529 Accuracy: 0.816\n",
      "[Epoch 70, Batch 500] Loss: 0.533 Accuracy: 0.812\n",
      "[Epoch 70, Batch 600] Loss: 0.538 Accuracy: 0.806\n",
      "[Epoch 70, Batch 700] Loss: 0.540 Accuracy: 0.804\n",
      "[Epoch 70, Batch 800] Loss: 0.539 Accuracy: 0.806\n",
      "[Epoch 70, Batch 900] Loss: 0.532 Accuracy: 0.812\n",
      "[Epoch 70, Batch 1000] Loss: 0.537 Accuracy: 0.808\n",
      "[Epoch 70, Batch 1100] Loss: 0.533 Accuracy: 0.811\n",
      "[Epoch 70, Batch 1200] Loss: 0.537 Accuracy: 0.807\n",
      "[Epoch 70, Batch 1300] Loss: 0.539 Accuracy: 0.805\n",
      "[Epoch 70, Batch 1400] Loss: 0.537 Accuracy: 0.808\n",
      "[Epoch 70, Batch 1500] Loss: 0.537 Accuracy: 0.809\n",
      "[Epoch 70, Batch 1600] Loss: 0.532 Accuracy: 0.811\n",
      "[Epoch 70, Batch 1700] Loss: 0.533 Accuracy: 0.811\n",
      "[Epoch 70, Batch 1800] Loss: 0.532 Accuracy: 0.812\n",
      "[Epoch 70, Batch 1900] Loss: 0.536 Accuracy: 0.809\n"
     ]
    },
    {
     "name": "stderr",
     "output_type": "stream",
     "text": [
      "/opt/conda/lib/python3.7/site-packages/torch/utils/data/dataloader.py:557: UserWarning: This DataLoader will create 4 worker processes in total. Our suggested max number of worker in current system is 2, which is smaller than what this DataLoader is going to create. Please be aware that excessive worker creation might get DataLoader running slow or even freeze, lower the worker number to avoid potential slowness/freeze if necessary.\n",
      "  cpuset_checked))\n"
     ]
    },
    {
     "name": "stdout",
     "output_type": "stream",
     "text": [
      "Epoch 70 Val Loss: 0.543134403516011 \t\t Val Accuracy: 0.8003897394209917\n"
     ]
    },
    {
     "name": "stderr",
     "output_type": "stream",
     "text": [
      "/opt/conda/lib/python3.7/site-packages/torch/utils/data/dataloader.py:557: UserWarning: This DataLoader will create 4 worker processes in total. Our suggested max number of worker in current system is 2, which is smaller than what this DataLoader is going to create. Please be aware that excessive worker creation might get DataLoader running slow or even freeze, lower the worker number to avoid potential slowness/freeze if necessary.\n",
      "  cpuset_checked))\n"
     ]
    },
    {
     "name": "stdout",
     "output_type": "stream",
     "text": [
      "[Epoch 71, Batch 100] Loss: 0.539 Accuracy: 0.807\n",
      "[Epoch 71, Batch 200] Loss: 0.537 Accuracy: 0.809\n",
      "[Epoch 71, Batch 300] Loss: 0.532 Accuracy: 0.811\n",
      "[Epoch 71, Batch 400] Loss: 0.531 Accuracy: 0.812\n",
      "[Epoch 71, Batch 500] Loss: 0.532 Accuracy: 0.811\n",
      "[Epoch 71, Batch 600] Loss: 0.535 Accuracy: 0.808\n",
      "[Epoch 71, Batch 700] Loss: 0.534 Accuracy: 0.811\n",
      "[Epoch 71, Batch 800] Loss: 0.536 Accuracy: 0.809\n",
      "[Epoch 71, Batch 900] Loss: 0.542 Accuracy: 0.804\n",
      "[Epoch 71, Batch 1000] Loss: 0.532 Accuracy: 0.812\n",
      "[Epoch 71, Batch 1100] Loss: 0.534 Accuracy: 0.810\n",
      "[Epoch 71, Batch 1200] Loss: 0.536 Accuracy: 0.809\n",
      "[Epoch 71, Batch 1300] Loss: 0.533 Accuracy: 0.812\n",
      "[Epoch 71, Batch 1400] Loss: 0.529 Accuracy: 0.814\n",
      "[Epoch 71, Batch 1500] Loss: 0.532 Accuracy: 0.813\n",
      "[Epoch 71, Batch 1600] Loss: 0.537 Accuracy: 0.807\n",
      "[Epoch 71, Batch 1700] Loss: 0.540 Accuracy: 0.806\n",
      "[Epoch 71, Batch 1800] Loss: 0.531 Accuracy: 0.812\n",
      "[Epoch 71, Batch 1900] Loss: 0.535 Accuracy: 0.809\n"
     ]
    },
    {
     "name": "stderr",
     "output_type": "stream",
     "text": [
      "/opt/conda/lib/python3.7/site-packages/torch/utils/data/dataloader.py:557: UserWarning: This DataLoader will create 4 worker processes in total. Our suggested max number of worker in current system is 2, which is smaller than what this DataLoader is going to create. Please be aware that excessive worker creation might get DataLoader running slow or even freeze, lower the worker number to avoid potential slowness/freeze if necessary.\n",
      "  cpuset_checked))\n"
     ]
    },
    {
     "name": "stdout",
     "output_type": "stream",
     "text": [
      "Epoch 71 Val Loss: 0.5412805082807579 \t\t Val Accuracy: 0.8022408459783023\n"
     ]
    },
    {
     "name": "stderr",
     "output_type": "stream",
     "text": [
      "/opt/conda/lib/python3.7/site-packages/torch/utils/data/dataloader.py:557: UserWarning: This DataLoader will create 4 worker processes in total. Our suggested max number of worker in current system is 2, which is smaller than what this DataLoader is going to create. Please be aware that excessive worker creation might get DataLoader running slow or even freeze, lower the worker number to avoid potential slowness/freeze if necessary.\n",
      "  cpuset_checked))\n"
     ]
    },
    {
     "name": "stdout",
     "output_type": "stream",
     "text": [
      "[Epoch 72, Batch 100] Loss: 0.549 Accuracy: 0.799\n",
      "[Epoch 72, Batch 200] Loss: 0.547 Accuracy: 0.799\n",
      "[Epoch 72, Batch 300] Loss: 0.540 Accuracy: 0.804\n",
      "[Epoch 72, Batch 400] Loss: 0.538 Accuracy: 0.806\n",
      "[Epoch 72, Batch 500] Loss: 0.534 Accuracy: 0.809\n",
      "[Epoch 72, Batch 600] Loss: 0.539 Accuracy: 0.806\n",
      "[Epoch 72, Batch 700] Loss: 0.532 Accuracy: 0.812\n",
      "[Epoch 72, Batch 800] Loss: 0.535 Accuracy: 0.808\n",
      "[Epoch 72, Batch 900] Loss: 0.527 Accuracy: 0.816\n",
      "[Epoch 72, Batch 1000] Loss: 0.540 Accuracy: 0.804\n",
      "[Epoch 72, Batch 1100] Loss: 0.535 Accuracy: 0.809\n",
      "[Epoch 72, Batch 1200] Loss: 0.531 Accuracy: 0.812\n",
      "[Epoch 72, Batch 1300] Loss: 0.541 Accuracy: 0.804\n",
      "[Epoch 72, Batch 1400] Loss: 0.533 Accuracy: 0.810\n",
      "[Epoch 72, Batch 1500] Loss: 0.529 Accuracy: 0.815\n",
      "[Epoch 72, Batch 1600] Loss: 0.533 Accuracy: 0.812\n",
      "[Epoch 72, Batch 1700] Loss: 0.534 Accuracy: 0.812\n",
      "[Epoch 72, Batch 1800] Loss: 0.537 Accuracy: 0.806\n",
      "[Epoch 72, Batch 1900] Loss: 0.531 Accuracy: 0.812\n"
     ]
    },
    {
     "name": "stderr",
     "output_type": "stream",
     "text": [
      "/opt/conda/lib/python3.7/site-packages/torch/utils/data/dataloader.py:557: UserWarning: This DataLoader will create 4 worker processes in total. Our suggested max number of worker in current system is 2, which is smaller than what this DataLoader is going to create. Please be aware that excessive worker creation might get DataLoader running slow or even freeze, lower the worker number to avoid potential slowness/freeze if necessary.\n",
      "  cpuset_checked))\n"
     ]
    },
    {
     "name": "stdout",
     "output_type": "stream",
     "text": [
      "Epoch 72 Val Loss: 0.5429670947143831 \t\t Val Accuracy: 0.800178819480234\n",
      "Training Stopped : \t\t Loss did not decrease for 15 epochs.\n"
     ]
    }
   ],
   "source": [
    "# Training\n",
    "\n",
    "epochs = 150\n",
    "min_val_loss = np.inf\n",
    "\n",
    "train_losses = []\n",
    "val_losses = []\n",
    "train_aucs = []\n",
    "val_aucs = []\n",
    "counter = 0\n",
    "\n",
    "for e in range(epochs):\n",
    "    train_loss = 0.0\n",
    "    train_auc = 0.0\n",
    "    i = 0\n",
    "    for data in train_loader: # Training Loop\n",
    "        inputs, labels = data\n",
    "        inputs, labels = inputs.to(device), labels.to(device)\n",
    "        optimizer.zero_grad()\n",
    "        #print(inputs.shape)\n",
    "        outputs = model(inputs)\n",
    "        labels , outputs = labels.type(torch.FloatTensor),outputs.type(torch.FloatTensor)\n",
    "        loss = criterion(outputs, labels)\n",
    "        loss.backward()\n",
    "        optimizer.step()\n",
    "        train_loss += loss.item()\n",
    "        with torch.no_grad():\n",
    "            train_auc += roc_auc_score(labels.numpy(), outputs.numpy())\n",
    "        \n",
    "        if i % 100 == 99:    # Print every 100 mini-batches\n",
    "            print('[Epoch %d, Batch %d] Loss: %.3f Accuracy: %.3f' %\n",
    "                  (e + 1, i + 1, train_loss / 100, train_auc / 100))\n",
    "            train_losses.append(train_loss / 100)\n",
    "            train_aucs.append(train_auc / 100)\n",
    "            train_loss = 0.0\n",
    "            train_auc = 0.0\n",
    "        \n",
    "        i += 1\n",
    "    \n",
    "    with torch.no_grad():\n",
    "        val_loss = 0.0\n",
    "        val_auc = 0.0\n",
    "        model.eval()\n",
    "        for data in val_loader: # Validation Loop\n",
    "            inputs, labels = data\n",
    "            inputs, labels = inputs.to(device), labels.to(device)\n",
    "            outputs = model(inputs)\n",
    "            labels , outputs = labels.type(torch.FloatTensor),outputs.type(torch.FloatTensor)\n",
    "            loss = criterion(outputs,labels)\n",
    "            val_loss += loss.item()\n",
    "            val_auc += roc_auc_score(labels.numpy(), outputs.numpy())\n",
    "        \n",
    "    print(f'Epoch {e+1} Val Loss: {val_loss / len(val_loader)} \\t\\t Val Accuracy: {val_auc / len(val_loader)}')\n",
    "    \n",
    "    val_losses.append(val_loss / len(val_loader))\n",
    "    val_aucs.append(val_auc / len(val_loader))\n",
    "     \n",
    "    if min_val_loss > val_loss:\n",
    "        print(f'Validation Loss Decreased({min_val_loss:.6f}--->{val_loss:.6f}) \\t Saving The Model')\n",
    "        min_val_loss = val_loss\n",
    "        counter = 0 \n",
    "            \n",
    "        # Saving State Dict\n",
    "        torch.save(model.state_dict(), 'saved_model.pth')\n",
    "        \n",
    "    else:\n",
    "        # Early Stopping\n",
    "        counter += 1\n",
    "        if counter >= 15:\n",
    "            print('Training Stopped : \\t\\t Loss did not decrease for 15 epochs.')\n",
    "            break\n",
    "        "
   ]
  },
  {
   "cell_type": "code",
   "execution_count": 11,
   "id": "cdfa7ee3",
   "metadata": {
    "execution": {
     "iopub.execute_input": "2023-03-19T03:54:11.811219Z",
     "iopub.status.busy": "2023-03-19T03:54:11.810840Z",
     "iopub.status.idle": "2023-03-19T03:54:12.240861Z",
     "shell.execute_reply": "2023-03-19T03:54:12.239931Z"
    },
    "papermill": {
     "duration": 0.520659,
     "end_time": "2023-03-19T03:54:12.243235",
     "exception": false,
     "start_time": "2023-03-19T03:54:11.722576",
     "status": "completed"
    },
    "tags": []
   },
   "outputs": [
    {
     "data": {
      "text/plain": [
       "<matplotlib.legend.Legend at 0x7f1c900b5f90>"
      ]
     },
     "execution_count": 11,
     "metadata": {},
     "output_type": "execute_result"
    },
    {
     "data": {
      "image/png": "[encoded data removed]",
      "text/plain": [
       "<Figure size 1000x500 with 2 Axes>"
      ]
     },
     "metadata": {},
     "output_type": "display_data"
    }
   ],
   "source": [
    "# Training curve\n",
    "plt.figure(figsize=(10, 5))\n",
    "plt.subplot(1, 2, 1)\n",
    "plt.title('Loss')\n",
    "plt.plot(np.arange(len(train_losses)), train_losses, label='Train Loss')\n",
    "plt.plot(np.arange(0, len(train_losses), int(len(train_losses)/(len(val_losses)))), val_losses, label='Val Loss')\n",
    "plt.xlabel('Mini-Batch')\n",
    "plt.ylabel('BCE Loss')\n",
    "plt.legend()\n",
    "\n",
    "plt.subplot(1, 2, 2)\n",
    "plt.title('Accuracy')\n",
    "plt.plot(train_aucs, label='Train Accuracy')\n",
    "plt.plot(np.arange(0, len(train_aucs), int(len(train_aucs)/(len(val_aucs)))), val_aucs, label='Val Accuracy')\n",
    "plt.xlabel('Mini-Batch')\n",
    "plt.ylabel('ROC-AUC')\n",
    "plt.legend()"
   ]
  },
  {
   "cell_type": "code",
   "execution_count": 12,
   "id": "2286d031",
   "metadata": {
    "execution": {
     "iopub.execute_input": "2023-03-19T03:54:12.418206Z",
     "iopub.status.busy": "2023-03-19T03:54:12.417824Z",
     "iopub.status.idle": "2023-03-19T03:54:15.896627Z",
     "shell.execute_reply": "2023-03-19T03:54:15.895347Z"
    },
    "papermill": {
     "duration": 3.567787,
     "end_time": "2023-03-19T03:54:15.899388",
     "exception": false,
     "start_time": "2023-03-19T03:54:12.331601",
     "status": "completed"
    },
    "tags": []
   },
   "outputs": [
    {
     "name": "stderr",
     "output_type": "stream",
     "text": [
      "/opt/conda/lib/python3.7/site-packages/torch/utils/data/dataloader.py:557: UserWarning: This DataLoader will create 4 worker processes in total. Our suggested max number of worker in current system is 2, which is smaller than what this DataLoader is going to create. Please be aware that excessive worker creation might get DataLoader running slow or even freeze, lower the worker number to avoid potential slowness/freeze if necessary.\n",
      "  cpuset_checked))\n"
     ]
    },
    {
     "name": "stdout",
     "output_type": "stream",
     "text": [
      "The loss on testing data is 0.5401565978325993 and the ROC-AUC is 0.8024273118253595\n"
     ]
    }
   ],
   "source": [
    "# Performance on test set\n",
    "trained_model = Net().to(device)\n",
    "\n",
    "trained_model.load_state_dict(torch.load('/kaggle/working/saved_model.pth'))\n",
    "trained_model.eval()\n",
    "\n",
    "with torch.no_grad():\n",
    "    test_loss = 0.0\n",
    "    test_auc = 0.0\n",
    "    for data in test_loader:\n",
    "        inputs, labels = data\n",
    "        inputs, labels = inputs.to(device), labels.to(device)\n",
    "        outputs = trained_model(inputs)\n",
    "        labels , outputs = labels.type(torch.FloatTensor),outputs.type(torch.FloatTensor)\n",
    "        loss = criterion(outputs,labels)\n",
    "        test_loss += loss.item()\n",
    "        test_auc += roc_auc_score(labels.numpy(), outputs.numpy())\n",
    "\n",
    "print(f\"The loss on testing data is {test_loss/len(test_loader)} and the ROC-AUC is {test_auc/len(test_loader)}\")"
   ]
  },
  {
   "cell_type": "code",
   "execution_count": null,
   "id": "8afa2c08",
   "metadata": {
    "papermill": {
     "duration": 0.125396,
     "end_time": "2023-03-19T03:54:16.235372",
     "exception": false,
     "start_time": "2023-03-19T03:54:16.109976",
     "status": "completed"
    },
    "tags": []
   },
   "outputs": [],
   "source": []
  }
 ],
 "metadata": {
  "kernelspec": {
   "display_name": "Python 3",
   "language": "python",
   "name": "python3"
  },
  "language_info": {
   "codemirror_mode": {
    "name": "ipython",
    "version": 3
   },
   "file_extension": ".py",
   "mimetype": "text/x-python",
   "name": "python",
   "nbconvert_exporter": "python",
   "pygments_lexer": "ipython3",
   "version": "3.7.12"
  },
  "papermill": {
   "default_parameters": {},
   "duration": 4476.940058,
   "end_time": "2023-03-19T03:54:18.202494",
   "environment_variables": {},
   "exception": null,
   "input_path": "__notebook__.ipynb",
   "output_path": "__notebook__.ipynb",
   "parameters": {},
   "start_time": "2023-03-19T02:39:41.262436",
   "version": "2.4.0"
  }
 },
 "nbformat": 4,
 "nbformat_minor": 5
}
